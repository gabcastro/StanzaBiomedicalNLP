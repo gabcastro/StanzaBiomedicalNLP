{
  "nbformat": 4,
  "nbformat_minor": 0,
  "metadata": {
    "colab": {
      "name": "Stanza.ipynb",
      "provenance": [],
      "collapsed_sections": [
        "dYbG-9hWXyrd",
        "9DrXzW7YX1-c",
        "joakqRweX6K3"
      ],
      "toc_visible": true
    },
    "kernelspec": {
      "name": "python3",
      "display_name": "Python 3"
    },
    "language_info": {
      "name": "python"
    },
    "accelerator": "GPU",
    "gpuClass": "standard",
    "widgets": {
      "application/vnd.jupyter.widget-state+json": {
        "ceb0016297094644918c57d1b65cc3ca": {
          "model_module": "@jupyter-widgets/controls",
          "model_name": "HBoxModel",
          "model_module_version": "1.5.0",
          "state": {
            "_dom_classes": [],
            "_model_module": "@jupyter-widgets/controls",
            "_model_module_version": "1.5.0",
            "_model_name": "HBoxModel",
            "_view_count": null,
            "_view_module": "@jupyter-widgets/controls",
            "_view_module_version": "1.5.0",
            "_view_name": "HBoxView",
            "box_style": "",
            "children": [
              "IPY_MODEL_791e682c51f24ef7822745edbc1f74e4",
              "IPY_MODEL_a5f45eb30f024c3d9328aacc2c04b2cd",
              "IPY_MODEL_9911ad321efb4fb59539d3a75f860028"
            ],
            "layout": "IPY_MODEL_a0f91a81c81244d4b35c97e15399df82"
          }
        },
        "791e682c51f24ef7822745edbc1f74e4": {
          "model_module": "@jupyter-widgets/controls",
          "model_name": "HTMLModel",
          "model_module_version": "1.5.0",
          "state": {
            "_dom_classes": [],
            "_model_module": "@jupyter-widgets/controls",
            "_model_module_version": "1.5.0",
            "_model_name": "HTMLModel",
            "_view_count": null,
            "_view_module": "@jupyter-widgets/controls",
            "_view_module_version": "1.5.0",
            "_view_name": "HTMLView",
            "description": "",
            "description_tooltip": null,
            "layout": "IPY_MODEL_795ec8b24d1548ad9acd2028e4c8b401",
            "placeholder": "​",
            "style": "IPY_MODEL_a8392fc8d98144a8bf4a289bb04460bb",
            "value": "Downloading https://raw.githubusercontent.com/stanfordnlp/stanza-resources/main/resources_1.4.0.json: "
          }
        },
        "a5f45eb30f024c3d9328aacc2c04b2cd": {
          "model_module": "@jupyter-widgets/controls",
          "model_name": "FloatProgressModel",
          "model_module_version": "1.5.0",
          "state": {
            "_dom_classes": [],
            "_model_module": "@jupyter-widgets/controls",
            "_model_module_version": "1.5.0",
            "_model_name": "FloatProgressModel",
            "_view_count": null,
            "_view_module": "@jupyter-widgets/controls",
            "_view_module_version": "1.5.0",
            "_view_name": "ProgressView",
            "bar_style": "success",
            "description": "",
            "description_tooltip": null,
            "layout": "IPY_MODEL_de1ffd2831654126a17c27beb2e1f22d",
            "max": 25998,
            "min": 0,
            "orientation": "horizontal",
            "style": "IPY_MODEL_0cf2422339b645519cc93ab6af82966d",
            "value": 25998
          }
        },
        "9911ad321efb4fb59539d3a75f860028": {
          "model_module": "@jupyter-widgets/controls",
          "model_name": "HTMLModel",
          "model_module_version": "1.5.0",
          "state": {
            "_dom_classes": [],
            "_model_module": "@jupyter-widgets/controls",
            "_model_module_version": "1.5.0",
            "_model_name": "HTMLModel",
            "_view_count": null,
            "_view_module": "@jupyter-widgets/controls",
            "_view_module_version": "1.5.0",
            "_view_name": "HTMLView",
            "description": "",
            "description_tooltip": null,
            "layout": "IPY_MODEL_ee3ba54d07b3458aa1ca8c29da1171d4",
            "placeholder": "​",
            "style": "IPY_MODEL_4d4bd773fa6c4675b10610e21100647c",
            "value": " 154k/? [00:00&lt;00:00, 2.26MB/s]"
          }
        },
        "a0f91a81c81244d4b35c97e15399df82": {
          "model_module": "@jupyter-widgets/base",
          "model_name": "LayoutModel",
          "model_module_version": "1.2.0",
          "state": {
            "_model_module": "@jupyter-widgets/base",
            "_model_module_version": "1.2.0",
            "_model_name": "LayoutModel",
            "_view_count": null,
            "_view_module": "@jupyter-widgets/base",
            "_view_module_version": "1.2.0",
            "_view_name": "LayoutView",
            "align_content": null,
            "align_items": null,
            "align_self": null,
            "border": null,
            "bottom": null,
            "display": null,
            "flex": null,
            "flex_flow": null,
            "grid_area": null,
            "grid_auto_columns": null,
            "grid_auto_flow": null,
            "grid_auto_rows": null,
            "grid_column": null,
            "grid_gap": null,
            "grid_row": null,
            "grid_template_areas": null,
            "grid_template_columns": null,
            "grid_template_rows": null,
            "height": null,
            "justify_content": null,
            "justify_items": null,
            "left": null,
            "margin": null,
            "max_height": null,
            "max_width": null,
            "min_height": null,
            "min_width": null,
            "object_fit": null,
            "object_position": null,
            "order": null,
            "overflow": null,
            "overflow_x": null,
            "overflow_y": null,
            "padding": null,
            "right": null,
            "top": null,
            "visibility": null,
            "width": null
          }
        },
        "795ec8b24d1548ad9acd2028e4c8b401": {
          "model_module": "@jupyter-widgets/base",
          "model_name": "LayoutModel",
          "model_module_version": "1.2.0",
          "state": {
            "_model_module": "@jupyter-widgets/base",
            "_model_module_version": "1.2.0",
            "_model_name": "LayoutModel",
            "_view_count": null,
            "_view_module": "@jupyter-widgets/base",
            "_view_module_version": "1.2.0",
            "_view_name": "LayoutView",
            "align_content": null,
            "align_items": null,
            "align_self": null,
            "border": null,
            "bottom": null,
            "display": null,
            "flex": null,
            "flex_flow": null,
            "grid_area": null,
            "grid_auto_columns": null,
            "grid_auto_flow": null,
            "grid_auto_rows": null,
            "grid_column": null,
            "grid_gap": null,
            "grid_row": null,
            "grid_template_areas": null,
            "grid_template_columns": null,
            "grid_template_rows": null,
            "height": null,
            "justify_content": null,
            "justify_items": null,
            "left": null,
            "margin": null,
            "max_height": null,
            "max_width": null,
            "min_height": null,
            "min_width": null,
            "object_fit": null,
            "object_position": null,
            "order": null,
            "overflow": null,
            "overflow_x": null,
            "overflow_y": null,
            "padding": null,
            "right": null,
            "top": null,
            "visibility": null,
            "width": null
          }
        },
        "a8392fc8d98144a8bf4a289bb04460bb": {
          "model_module": "@jupyter-widgets/controls",
          "model_name": "DescriptionStyleModel",
          "model_module_version": "1.5.0",
          "state": {
            "_model_module": "@jupyter-widgets/controls",
            "_model_module_version": "1.5.0",
            "_model_name": "DescriptionStyleModel",
            "_view_count": null,
            "_view_module": "@jupyter-widgets/base",
            "_view_module_version": "1.2.0",
            "_view_name": "StyleView",
            "description_width": ""
          }
        },
        "de1ffd2831654126a17c27beb2e1f22d": {
          "model_module": "@jupyter-widgets/base",
          "model_name": "LayoutModel",
          "model_module_version": "1.2.0",
          "state": {
            "_model_module": "@jupyter-widgets/base",
            "_model_module_version": "1.2.0",
            "_model_name": "LayoutModel",
            "_view_count": null,
            "_view_module": "@jupyter-widgets/base",
            "_view_module_version": "1.2.0",
            "_view_name": "LayoutView",
            "align_content": null,
            "align_items": null,
            "align_self": null,
            "border": null,
            "bottom": null,
            "display": null,
            "flex": null,
            "flex_flow": null,
            "grid_area": null,
            "grid_auto_columns": null,
            "grid_auto_flow": null,
            "grid_auto_rows": null,
            "grid_column": null,
            "grid_gap": null,
            "grid_row": null,
            "grid_template_areas": null,
            "grid_template_columns": null,
            "grid_template_rows": null,
            "height": null,
            "justify_content": null,
            "justify_items": null,
            "left": null,
            "margin": null,
            "max_height": null,
            "max_width": null,
            "min_height": null,
            "min_width": null,
            "object_fit": null,
            "object_position": null,
            "order": null,
            "overflow": null,
            "overflow_x": null,
            "overflow_y": null,
            "padding": null,
            "right": null,
            "top": null,
            "visibility": null,
            "width": null
          }
        },
        "0cf2422339b645519cc93ab6af82966d": {
          "model_module": "@jupyter-widgets/controls",
          "model_name": "ProgressStyleModel",
          "model_module_version": "1.5.0",
          "state": {
            "_model_module": "@jupyter-widgets/controls",
            "_model_module_version": "1.5.0",
            "_model_name": "ProgressStyleModel",
            "_view_count": null,
            "_view_module": "@jupyter-widgets/base",
            "_view_module_version": "1.2.0",
            "_view_name": "StyleView",
            "bar_color": null,
            "description_width": ""
          }
        },
        "ee3ba54d07b3458aa1ca8c29da1171d4": {
          "model_module": "@jupyter-widgets/base",
          "model_name": "LayoutModel",
          "model_module_version": "1.2.0",
          "state": {
            "_model_module": "@jupyter-widgets/base",
            "_model_module_version": "1.2.0",
            "_model_name": "LayoutModel",
            "_view_count": null,
            "_view_module": "@jupyter-widgets/base",
            "_view_module_version": "1.2.0",
            "_view_name": "LayoutView",
            "align_content": null,
            "align_items": null,
            "align_self": null,
            "border": null,
            "bottom": null,
            "display": null,
            "flex": null,
            "flex_flow": null,
            "grid_area": null,
            "grid_auto_columns": null,
            "grid_auto_flow": null,
            "grid_auto_rows": null,
            "grid_column": null,
            "grid_gap": null,
            "grid_row": null,
            "grid_template_areas": null,
            "grid_template_columns": null,
            "grid_template_rows": null,
            "height": null,
            "justify_content": null,
            "justify_items": null,
            "left": null,
            "margin": null,
            "max_height": null,
            "max_width": null,
            "min_height": null,
            "min_width": null,
            "object_fit": null,
            "object_position": null,
            "order": null,
            "overflow": null,
            "overflow_x": null,
            "overflow_y": null,
            "padding": null,
            "right": null,
            "top": null,
            "visibility": null,
            "width": null
          }
        },
        "4d4bd773fa6c4675b10610e21100647c": {
          "model_module": "@jupyter-widgets/controls",
          "model_name": "DescriptionStyleModel",
          "model_module_version": "1.5.0",
          "state": {
            "_model_module": "@jupyter-widgets/controls",
            "_model_module_version": "1.5.0",
            "_model_name": "DescriptionStyleModel",
            "_view_count": null,
            "_view_module": "@jupyter-widgets/base",
            "_view_module_version": "1.2.0",
            "_view_name": "StyleView",
            "description_width": ""
          }
        },
        "8d3ecd893d2e473cb901eda707ebb1c9": {
          "model_module": "@jupyter-widgets/controls",
          "model_name": "HBoxModel",
          "model_module_version": "1.5.0",
          "state": {
            "_dom_classes": [],
            "_model_module": "@jupyter-widgets/controls",
            "_model_module_version": "1.5.0",
            "_model_name": "HBoxModel",
            "_view_count": null,
            "_view_module": "@jupyter-widgets/controls",
            "_view_module_version": "1.5.0",
            "_view_name": "HBoxView",
            "box_style": "",
            "children": [
              "IPY_MODEL_f3284a594ba342f0b287a06bd01e0743",
              "IPY_MODEL_0002c7ddcdaa488d9e0037413e32bfa7",
              "IPY_MODEL_3b892bf9bf204b6396128e3518d7dd65"
            ],
            "layout": "IPY_MODEL_0cd09b119d4447d7ad1059d89ebebc08"
          }
        },
        "f3284a594ba342f0b287a06bd01e0743": {
          "model_module": "@jupyter-widgets/controls",
          "model_name": "HTMLModel",
          "model_module_version": "1.5.0",
          "state": {
            "_dom_classes": [],
            "_model_module": "@jupyter-widgets/controls",
            "_model_module_version": "1.5.0",
            "_model_name": "HTMLModel",
            "_view_count": null,
            "_view_module": "@jupyter-widgets/controls",
            "_view_module_version": "1.5.0",
            "_view_name": "HTMLView",
            "description": "",
            "description_tooltip": null,
            "layout": "IPY_MODEL_aae6ec2eff7e4e09a3b33c26ca4502c3",
            "placeholder": "​",
            "style": "IPY_MODEL_06bdbd9f42104663a24cc2c27e77cab3",
            "value": "Downloading https://raw.githubusercontent.com/stanfordnlp/stanza-resources/main/resources_1.4.0.json: "
          }
        },
        "0002c7ddcdaa488d9e0037413e32bfa7": {
          "model_module": "@jupyter-widgets/controls",
          "model_name": "FloatProgressModel",
          "model_module_version": "1.5.0",
          "state": {
            "_dom_classes": [],
            "_model_module": "@jupyter-widgets/controls",
            "_model_module_version": "1.5.0",
            "_model_name": "FloatProgressModel",
            "_view_count": null,
            "_view_module": "@jupyter-widgets/controls",
            "_view_module_version": "1.5.0",
            "_view_name": "ProgressView",
            "bar_style": "success",
            "description": "",
            "description_tooltip": null,
            "layout": "IPY_MODEL_a4978e6165384715b13b16b9037a9ee0",
            "max": 25998,
            "min": 0,
            "orientation": "horizontal",
            "style": "IPY_MODEL_0a4282d5249641998fb00a2f32e848f5",
            "value": 25998
          }
        },
        "3b892bf9bf204b6396128e3518d7dd65": {
          "model_module": "@jupyter-widgets/controls",
          "model_name": "HTMLModel",
          "model_module_version": "1.5.0",
          "state": {
            "_dom_classes": [],
            "_model_module": "@jupyter-widgets/controls",
            "_model_module_version": "1.5.0",
            "_model_name": "HTMLModel",
            "_view_count": null,
            "_view_module": "@jupyter-widgets/controls",
            "_view_module_version": "1.5.0",
            "_view_name": "HTMLView",
            "description": "",
            "description_tooltip": null,
            "layout": "IPY_MODEL_adb53f4f892347fc8b1940fbeeb74011",
            "placeholder": "​",
            "style": "IPY_MODEL_36bf44246b1e4762a39fffbe44778e4e",
            "value": " 154k/? [00:00&lt;00:00, 3.27MB/s]"
          }
        },
        "0cd09b119d4447d7ad1059d89ebebc08": {
          "model_module": "@jupyter-widgets/base",
          "model_name": "LayoutModel",
          "model_module_version": "1.2.0",
          "state": {
            "_model_module": "@jupyter-widgets/base",
            "_model_module_version": "1.2.0",
            "_model_name": "LayoutModel",
            "_view_count": null,
            "_view_module": "@jupyter-widgets/base",
            "_view_module_version": "1.2.0",
            "_view_name": "LayoutView",
            "align_content": null,
            "align_items": null,
            "align_self": null,
            "border": null,
            "bottom": null,
            "display": null,
            "flex": null,
            "flex_flow": null,
            "grid_area": null,
            "grid_auto_columns": null,
            "grid_auto_flow": null,
            "grid_auto_rows": null,
            "grid_column": null,
            "grid_gap": null,
            "grid_row": null,
            "grid_template_areas": null,
            "grid_template_columns": null,
            "grid_template_rows": null,
            "height": null,
            "justify_content": null,
            "justify_items": null,
            "left": null,
            "margin": null,
            "max_height": null,
            "max_width": null,
            "min_height": null,
            "min_width": null,
            "object_fit": null,
            "object_position": null,
            "order": null,
            "overflow": null,
            "overflow_x": null,
            "overflow_y": null,
            "padding": null,
            "right": null,
            "top": null,
            "visibility": null,
            "width": null
          }
        },
        "aae6ec2eff7e4e09a3b33c26ca4502c3": {
          "model_module": "@jupyter-widgets/base",
          "model_name": "LayoutModel",
          "model_module_version": "1.2.0",
          "state": {
            "_model_module": "@jupyter-widgets/base",
            "_model_module_version": "1.2.0",
            "_model_name": "LayoutModel",
            "_view_count": null,
            "_view_module": "@jupyter-widgets/base",
            "_view_module_version": "1.2.0",
            "_view_name": "LayoutView",
            "align_content": null,
            "align_items": null,
            "align_self": null,
            "border": null,
            "bottom": null,
            "display": null,
            "flex": null,
            "flex_flow": null,
            "grid_area": null,
            "grid_auto_columns": null,
            "grid_auto_flow": null,
            "grid_auto_rows": null,
            "grid_column": null,
            "grid_gap": null,
            "grid_row": null,
            "grid_template_areas": null,
            "grid_template_columns": null,
            "grid_template_rows": null,
            "height": null,
            "justify_content": null,
            "justify_items": null,
            "left": null,
            "margin": null,
            "max_height": null,
            "max_width": null,
            "min_height": null,
            "min_width": null,
            "object_fit": null,
            "object_position": null,
            "order": null,
            "overflow": null,
            "overflow_x": null,
            "overflow_y": null,
            "padding": null,
            "right": null,
            "top": null,
            "visibility": null,
            "width": null
          }
        },
        "06bdbd9f42104663a24cc2c27e77cab3": {
          "model_module": "@jupyter-widgets/controls",
          "model_name": "DescriptionStyleModel",
          "model_module_version": "1.5.0",
          "state": {
            "_model_module": "@jupyter-widgets/controls",
            "_model_module_version": "1.5.0",
            "_model_name": "DescriptionStyleModel",
            "_view_count": null,
            "_view_module": "@jupyter-widgets/base",
            "_view_module_version": "1.2.0",
            "_view_name": "StyleView",
            "description_width": ""
          }
        },
        "a4978e6165384715b13b16b9037a9ee0": {
          "model_module": "@jupyter-widgets/base",
          "model_name": "LayoutModel",
          "model_module_version": "1.2.0",
          "state": {
            "_model_module": "@jupyter-widgets/base",
            "_model_module_version": "1.2.0",
            "_model_name": "LayoutModel",
            "_view_count": null,
            "_view_module": "@jupyter-widgets/base",
            "_view_module_version": "1.2.0",
            "_view_name": "LayoutView",
            "align_content": null,
            "align_items": null,
            "align_self": null,
            "border": null,
            "bottom": null,
            "display": null,
            "flex": null,
            "flex_flow": null,
            "grid_area": null,
            "grid_auto_columns": null,
            "grid_auto_flow": null,
            "grid_auto_rows": null,
            "grid_column": null,
            "grid_gap": null,
            "grid_row": null,
            "grid_template_areas": null,
            "grid_template_columns": null,
            "grid_template_rows": null,
            "height": null,
            "justify_content": null,
            "justify_items": null,
            "left": null,
            "margin": null,
            "max_height": null,
            "max_width": null,
            "min_height": null,
            "min_width": null,
            "object_fit": null,
            "object_position": null,
            "order": null,
            "overflow": null,
            "overflow_x": null,
            "overflow_y": null,
            "padding": null,
            "right": null,
            "top": null,
            "visibility": null,
            "width": null
          }
        },
        "0a4282d5249641998fb00a2f32e848f5": {
          "model_module": "@jupyter-widgets/controls",
          "model_name": "ProgressStyleModel",
          "model_module_version": "1.5.0",
          "state": {
            "_model_module": "@jupyter-widgets/controls",
            "_model_module_version": "1.5.0",
            "_model_name": "ProgressStyleModel",
            "_view_count": null,
            "_view_module": "@jupyter-widgets/base",
            "_view_module_version": "1.2.0",
            "_view_name": "StyleView",
            "bar_color": null,
            "description_width": ""
          }
        },
        "adb53f4f892347fc8b1940fbeeb74011": {
          "model_module": "@jupyter-widgets/base",
          "model_name": "LayoutModel",
          "model_module_version": "1.2.0",
          "state": {
            "_model_module": "@jupyter-widgets/base",
            "_model_module_version": "1.2.0",
            "_model_name": "LayoutModel",
            "_view_count": null,
            "_view_module": "@jupyter-widgets/base",
            "_view_module_version": "1.2.0",
            "_view_name": "LayoutView",
            "align_content": null,
            "align_items": null,
            "align_self": null,
            "border": null,
            "bottom": null,
            "display": null,
            "flex": null,
            "flex_flow": null,
            "grid_area": null,
            "grid_auto_columns": null,
            "grid_auto_flow": null,
            "grid_auto_rows": null,
            "grid_column": null,
            "grid_gap": null,
            "grid_row": null,
            "grid_template_areas": null,
            "grid_template_columns": null,
            "grid_template_rows": null,
            "height": null,
            "justify_content": null,
            "justify_items": null,
            "left": null,
            "margin": null,
            "max_height": null,
            "max_width": null,
            "min_height": null,
            "min_width": null,
            "object_fit": null,
            "object_position": null,
            "order": null,
            "overflow": null,
            "overflow_x": null,
            "overflow_y": null,
            "padding": null,
            "right": null,
            "top": null,
            "visibility": null,
            "width": null
          }
        },
        "36bf44246b1e4762a39fffbe44778e4e": {
          "model_module": "@jupyter-widgets/controls",
          "model_name": "DescriptionStyleModel",
          "model_module_version": "1.5.0",
          "state": {
            "_model_module": "@jupyter-widgets/controls",
            "_model_module_version": "1.5.0",
            "_model_name": "DescriptionStyleModel",
            "_view_count": null,
            "_view_module": "@jupyter-widgets/base",
            "_view_module_version": "1.2.0",
            "_view_name": "StyleView",
            "description_width": ""
          }
        },
        "c387ee19fecc4197910c01c3053564ce": {
          "model_module": "@jupyter-widgets/controls",
          "model_name": "HBoxModel",
          "model_module_version": "1.5.0",
          "state": {
            "_dom_classes": [],
            "_model_module": "@jupyter-widgets/controls",
            "_model_module_version": "1.5.0",
            "_model_name": "HBoxModel",
            "_view_count": null,
            "_view_module": "@jupyter-widgets/controls",
            "_view_module_version": "1.5.0",
            "_view_name": "HBoxView",
            "box_style": "",
            "children": [
              "IPY_MODEL_475e541c6efd4344aced736d46294ea0",
              "IPY_MODEL_8c82a20140b14d11b0f44e1a324b679b",
              "IPY_MODEL_050a6c636f0b4c6ca423ecfe106dfcb2"
            ],
            "layout": "IPY_MODEL_942145c0b18f4bcdb85455c3cee31ea7"
          }
        },
        "475e541c6efd4344aced736d46294ea0": {
          "model_module": "@jupyter-widgets/controls",
          "model_name": "HTMLModel",
          "model_module_version": "1.5.0",
          "state": {
            "_dom_classes": [],
            "_model_module": "@jupyter-widgets/controls",
            "_model_module_version": "1.5.0",
            "_model_name": "HTMLModel",
            "_view_count": null,
            "_view_module": "@jupyter-widgets/controls",
            "_view_module_version": "1.5.0",
            "_view_name": "HTMLView",
            "description": "",
            "description_tooltip": null,
            "layout": "IPY_MODEL_e0f35c38b6054fbaa8417a9ab0f18f39",
            "placeholder": "​",
            "style": "IPY_MODEL_d39a692e5863436aad70832fa3fcbdc0",
            "value": "Downloading https://raw.githubusercontent.com/stanfordnlp/stanza-resources/main/resources_1.4.0.json: "
          }
        },
        "8c82a20140b14d11b0f44e1a324b679b": {
          "model_module": "@jupyter-widgets/controls",
          "model_name": "FloatProgressModel",
          "model_module_version": "1.5.0",
          "state": {
            "_dom_classes": [],
            "_model_module": "@jupyter-widgets/controls",
            "_model_module_version": "1.5.0",
            "_model_name": "FloatProgressModel",
            "_view_count": null,
            "_view_module": "@jupyter-widgets/controls",
            "_view_module_version": "1.5.0",
            "_view_name": "ProgressView",
            "bar_style": "success",
            "description": "",
            "description_tooltip": null,
            "layout": "IPY_MODEL_766054a556fd4e7aa52529c8009ce226",
            "max": 25998,
            "min": 0,
            "orientation": "horizontal",
            "style": "IPY_MODEL_35800c4144c14e049bb75bb846b33d48",
            "value": 25998
          }
        },
        "050a6c636f0b4c6ca423ecfe106dfcb2": {
          "model_module": "@jupyter-widgets/controls",
          "model_name": "HTMLModel",
          "model_module_version": "1.5.0",
          "state": {
            "_dom_classes": [],
            "_model_module": "@jupyter-widgets/controls",
            "_model_module_version": "1.5.0",
            "_model_name": "HTMLModel",
            "_view_count": null,
            "_view_module": "@jupyter-widgets/controls",
            "_view_module_version": "1.5.0",
            "_view_name": "HTMLView",
            "description": "",
            "description_tooltip": null,
            "layout": "IPY_MODEL_47e2cc7f376b4cb8b53e6b15178dd84b",
            "placeholder": "​",
            "style": "IPY_MODEL_b268b248d5a34b03990626895c8bed2d",
            "value": " 154k/? [00:00&lt;00:00, 4.11MB/s]"
          }
        },
        "942145c0b18f4bcdb85455c3cee31ea7": {
          "model_module": "@jupyter-widgets/base",
          "model_name": "LayoutModel",
          "model_module_version": "1.2.0",
          "state": {
            "_model_module": "@jupyter-widgets/base",
            "_model_module_version": "1.2.0",
            "_model_name": "LayoutModel",
            "_view_count": null,
            "_view_module": "@jupyter-widgets/base",
            "_view_module_version": "1.2.0",
            "_view_name": "LayoutView",
            "align_content": null,
            "align_items": null,
            "align_self": null,
            "border": null,
            "bottom": null,
            "display": null,
            "flex": null,
            "flex_flow": null,
            "grid_area": null,
            "grid_auto_columns": null,
            "grid_auto_flow": null,
            "grid_auto_rows": null,
            "grid_column": null,
            "grid_gap": null,
            "grid_row": null,
            "grid_template_areas": null,
            "grid_template_columns": null,
            "grid_template_rows": null,
            "height": null,
            "justify_content": null,
            "justify_items": null,
            "left": null,
            "margin": null,
            "max_height": null,
            "max_width": null,
            "min_height": null,
            "min_width": null,
            "object_fit": null,
            "object_position": null,
            "order": null,
            "overflow": null,
            "overflow_x": null,
            "overflow_y": null,
            "padding": null,
            "right": null,
            "top": null,
            "visibility": null,
            "width": null
          }
        },
        "e0f35c38b6054fbaa8417a9ab0f18f39": {
          "model_module": "@jupyter-widgets/base",
          "model_name": "LayoutModel",
          "model_module_version": "1.2.0",
          "state": {
            "_model_module": "@jupyter-widgets/base",
            "_model_module_version": "1.2.0",
            "_model_name": "LayoutModel",
            "_view_count": null,
            "_view_module": "@jupyter-widgets/base",
            "_view_module_version": "1.2.0",
            "_view_name": "LayoutView",
            "align_content": null,
            "align_items": null,
            "align_self": null,
            "border": null,
            "bottom": null,
            "display": null,
            "flex": null,
            "flex_flow": null,
            "grid_area": null,
            "grid_auto_columns": null,
            "grid_auto_flow": null,
            "grid_auto_rows": null,
            "grid_column": null,
            "grid_gap": null,
            "grid_row": null,
            "grid_template_areas": null,
            "grid_template_columns": null,
            "grid_template_rows": null,
            "height": null,
            "justify_content": null,
            "justify_items": null,
            "left": null,
            "margin": null,
            "max_height": null,
            "max_width": null,
            "min_height": null,
            "min_width": null,
            "object_fit": null,
            "object_position": null,
            "order": null,
            "overflow": null,
            "overflow_x": null,
            "overflow_y": null,
            "padding": null,
            "right": null,
            "top": null,
            "visibility": null,
            "width": null
          }
        },
        "d39a692e5863436aad70832fa3fcbdc0": {
          "model_module": "@jupyter-widgets/controls",
          "model_name": "DescriptionStyleModel",
          "model_module_version": "1.5.0",
          "state": {
            "_model_module": "@jupyter-widgets/controls",
            "_model_module_version": "1.5.0",
            "_model_name": "DescriptionStyleModel",
            "_view_count": null,
            "_view_module": "@jupyter-widgets/base",
            "_view_module_version": "1.2.0",
            "_view_name": "StyleView",
            "description_width": ""
          }
        },
        "766054a556fd4e7aa52529c8009ce226": {
          "model_module": "@jupyter-widgets/base",
          "model_name": "LayoutModel",
          "model_module_version": "1.2.0",
          "state": {
            "_model_module": "@jupyter-widgets/base",
            "_model_module_version": "1.2.0",
            "_model_name": "LayoutModel",
            "_view_count": null,
            "_view_module": "@jupyter-widgets/base",
            "_view_module_version": "1.2.0",
            "_view_name": "LayoutView",
            "align_content": null,
            "align_items": null,
            "align_self": null,
            "border": null,
            "bottom": null,
            "display": null,
            "flex": null,
            "flex_flow": null,
            "grid_area": null,
            "grid_auto_columns": null,
            "grid_auto_flow": null,
            "grid_auto_rows": null,
            "grid_column": null,
            "grid_gap": null,
            "grid_row": null,
            "grid_template_areas": null,
            "grid_template_columns": null,
            "grid_template_rows": null,
            "height": null,
            "justify_content": null,
            "justify_items": null,
            "left": null,
            "margin": null,
            "max_height": null,
            "max_width": null,
            "min_height": null,
            "min_width": null,
            "object_fit": null,
            "object_position": null,
            "order": null,
            "overflow": null,
            "overflow_x": null,
            "overflow_y": null,
            "padding": null,
            "right": null,
            "top": null,
            "visibility": null,
            "width": null
          }
        },
        "35800c4144c14e049bb75bb846b33d48": {
          "model_module": "@jupyter-widgets/controls",
          "model_name": "ProgressStyleModel",
          "model_module_version": "1.5.0",
          "state": {
            "_model_module": "@jupyter-widgets/controls",
            "_model_module_version": "1.5.0",
            "_model_name": "ProgressStyleModel",
            "_view_count": null,
            "_view_module": "@jupyter-widgets/base",
            "_view_module_version": "1.2.0",
            "_view_name": "StyleView",
            "bar_color": null,
            "description_width": ""
          }
        },
        "47e2cc7f376b4cb8b53e6b15178dd84b": {
          "model_module": "@jupyter-widgets/base",
          "model_name": "LayoutModel",
          "model_module_version": "1.2.0",
          "state": {
            "_model_module": "@jupyter-widgets/base",
            "_model_module_version": "1.2.0",
            "_model_name": "LayoutModel",
            "_view_count": null,
            "_view_module": "@jupyter-widgets/base",
            "_view_module_version": "1.2.0",
            "_view_name": "LayoutView",
            "align_content": null,
            "align_items": null,
            "align_self": null,
            "border": null,
            "bottom": null,
            "display": null,
            "flex": null,
            "flex_flow": null,
            "grid_area": null,
            "grid_auto_columns": null,
            "grid_auto_flow": null,
            "grid_auto_rows": null,
            "grid_column": null,
            "grid_gap": null,
            "grid_row": null,
            "grid_template_areas": null,
            "grid_template_columns": null,
            "grid_template_rows": null,
            "height": null,
            "justify_content": null,
            "justify_items": null,
            "left": null,
            "margin": null,
            "max_height": null,
            "max_width": null,
            "min_height": null,
            "min_width": null,
            "object_fit": null,
            "object_position": null,
            "order": null,
            "overflow": null,
            "overflow_x": null,
            "overflow_y": null,
            "padding": null,
            "right": null,
            "top": null,
            "visibility": null,
            "width": null
          }
        },
        "b268b248d5a34b03990626895c8bed2d": {
          "model_module": "@jupyter-widgets/controls",
          "model_name": "DescriptionStyleModel",
          "model_module_version": "1.5.0",
          "state": {
            "_model_module": "@jupyter-widgets/controls",
            "_model_module_version": "1.5.0",
            "_model_name": "DescriptionStyleModel",
            "_view_count": null,
            "_view_module": "@jupyter-widgets/base",
            "_view_module_version": "1.2.0",
            "_view_name": "StyleView",
            "description_width": ""
          }
        },
        "4dbf55709f4b4310afed3da304c87422": {
          "model_module": "@jupyter-widgets/controls",
          "model_name": "HBoxModel",
          "model_module_version": "1.5.0",
          "state": {
            "_dom_classes": [],
            "_model_module": "@jupyter-widgets/controls",
            "_model_module_version": "1.5.0",
            "_model_name": "HBoxModel",
            "_view_count": null,
            "_view_module": "@jupyter-widgets/controls",
            "_view_module_version": "1.5.0",
            "_view_name": "HBoxView",
            "box_style": "",
            "children": [
              "IPY_MODEL_6ba9b0c214f6472193595782f3ee0792",
              "IPY_MODEL_dc270a7adf2043ccb0344d3095dba7a6",
              "IPY_MODEL_3c4122189d0f4c379ffa4927b4bf7ce1"
            ],
            "layout": "IPY_MODEL_73082a4ab4ac46a99fa4ecca610c00e4"
          }
        },
        "6ba9b0c214f6472193595782f3ee0792": {
          "model_module": "@jupyter-widgets/controls",
          "model_name": "HTMLModel",
          "model_module_version": "1.5.0",
          "state": {
            "_dom_classes": [],
            "_model_module": "@jupyter-widgets/controls",
            "_model_module_version": "1.5.0",
            "_model_name": "HTMLModel",
            "_view_count": null,
            "_view_module": "@jupyter-widgets/controls",
            "_view_module_version": "1.5.0",
            "_view_name": "HTMLView",
            "description": "",
            "description_tooltip": null,
            "layout": "IPY_MODEL_47efaadd5173486b8650d9faf741fbcf",
            "placeholder": "​",
            "style": "IPY_MODEL_57e7a6dcafa84bbf8d85c219f0786935",
            "value": "Downloading https://raw.githubusercontent.com/stanfordnlp/stanza-resources/main/resources_1.4.0.json: "
          }
        },
        "dc270a7adf2043ccb0344d3095dba7a6": {
          "model_module": "@jupyter-widgets/controls",
          "model_name": "FloatProgressModel",
          "model_module_version": "1.5.0",
          "state": {
            "_dom_classes": [],
            "_model_module": "@jupyter-widgets/controls",
            "_model_module_version": "1.5.0",
            "_model_name": "FloatProgressModel",
            "_view_count": null,
            "_view_module": "@jupyter-widgets/controls",
            "_view_module_version": "1.5.0",
            "_view_name": "ProgressView",
            "bar_style": "success",
            "description": "",
            "description_tooltip": null,
            "layout": "IPY_MODEL_0b3acbaacc1f43ae9014723a48a39088",
            "max": 25998,
            "min": 0,
            "orientation": "horizontal",
            "style": "IPY_MODEL_e0b3e04f4d38417b926418888078140d",
            "value": 25998
          }
        },
        "3c4122189d0f4c379ffa4927b4bf7ce1": {
          "model_module": "@jupyter-widgets/controls",
          "model_name": "HTMLModel",
          "model_module_version": "1.5.0",
          "state": {
            "_dom_classes": [],
            "_model_module": "@jupyter-widgets/controls",
            "_model_module_version": "1.5.0",
            "_model_name": "HTMLModel",
            "_view_count": null,
            "_view_module": "@jupyter-widgets/controls",
            "_view_module_version": "1.5.0",
            "_view_name": "HTMLView",
            "description": "",
            "description_tooltip": null,
            "layout": "IPY_MODEL_ebd015c01d9c4547b243ae89dd7aa106",
            "placeholder": "​",
            "style": "IPY_MODEL_0c1aee4214194e28bffb3df96f4b7a3a",
            "value": " 154k/? [00:00&lt;00:00, 4.17MB/s]"
          }
        },
        "73082a4ab4ac46a99fa4ecca610c00e4": {
          "model_module": "@jupyter-widgets/base",
          "model_name": "LayoutModel",
          "model_module_version": "1.2.0",
          "state": {
            "_model_module": "@jupyter-widgets/base",
            "_model_module_version": "1.2.0",
            "_model_name": "LayoutModel",
            "_view_count": null,
            "_view_module": "@jupyter-widgets/base",
            "_view_module_version": "1.2.0",
            "_view_name": "LayoutView",
            "align_content": null,
            "align_items": null,
            "align_self": null,
            "border": null,
            "bottom": null,
            "display": null,
            "flex": null,
            "flex_flow": null,
            "grid_area": null,
            "grid_auto_columns": null,
            "grid_auto_flow": null,
            "grid_auto_rows": null,
            "grid_column": null,
            "grid_gap": null,
            "grid_row": null,
            "grid_template_areas": null,
            "grid_template_columns": null,
            "grid_template_rows": null,
            "height": null,
            "justify_content": null,
            "justify_items": null,
            "left": null,
            "margin": null,
            "max_height": null,
            "max_width": null,
            "min_height": null,
            "min_width": null,
            "object_fit": null,
            "object_position": null,
            "order": null,
            "overflow": null,
            "overflow_x": null,
            "overflow_y": null,
            "padding": null,
            "right": null,
            "top": null,
            "visibility": null,
            "width": null
          }
        },
        "47efaadd5173486b8650d9faf741fbcf": {
          "model_module": "@jupyter-widgets/base",
          "model_name": "LayoutModel",
          "model_module_version": "1.2.0",
          "state": {
            "_model_module": "@jupyter-widgets/base",
            "_model_module_version": "1.2.0",
            "_model_name": "LayoutModel",
            "_view_count": null,
            "_view_module": "@jupyter-widgets/base",
            "_view_module_version": "1.2.0",
            "_view_name": "LayoutView",
            "align_content": null,
            "align_items": null,
            "align_self": null,
            "border": null,
            "bottom": null,
            "display": null,
            "flex": null,
            "flex_flow": null,
            "grid_area": null,
            "grid_auto_columns": null,
            "grid_auto_flow": null,
            "grid_auto_rows": null,
            "grid_column": null,
            "grid_gap": null,
            "grid_row": null,
            "grid_template_areas": null,
            "grid_template_columns": null,
            "grid_template_rows": null,
            "height": null,
            "justify_content": null,
            "justify_items": null,
            "left": null,
            "margin": null,
            "max_height": null,
            "max_width": null,
            "min_height": null,
            "min_width": null,
            "object_fit": null,
            "object_position": null,
            "order": null,
            "overflow": null,
            "overflow_x": null,
            "overflow_y": null,
            "padding": null,
            "right": null,
            "top": null,
            "visibility": null,
            "width": null
          }
        },
        "57e7a6dcafa84bbf8d85c219f0786935": {
          "model_module": "@jupyter-widgets/controls",
          "model_name": "DescriptionStyleModel",
          "model_module_version": "1.5.0",
          "state": {
            "_model_module": "@jupyter-widgets/controls",
            "_model_module_version": "1.5.0",
            "_model_name": "DescriptionStyleModel",
            "_view_count": null,
            "_view_module": "@jupyter-widgets/base",
            "_view_module_version": "1.2.0",
            "_view_name": "StyleView",
            "description_width": ""
          }
        },
        "0b3acbaacc1f43ae9014723a48a39088": {
          "model_module": "@jupyter-widgets/base",
          "model_name": "LayoutModel",
          "model_module_version": "1.2.0",
          "state": {
            "_model_module": "@jupyter-widgets/base",
            "_model_module_version": "1.2.0",
            "_model_name": "LayoutModel",
            "_view_count": null,
            "_view_module": "@jupyter-widgets/base",
            "_view_module_version": "1.2.0",
            "_view_name": "LayoutView",
            "align_content": null,
            "align_items": null,
            "align_self": null,
            "border": null,
            "bottom": null,
            "display": null,
            "flex": null,
            "flex_flow": null,
            "grid_area": null,
            "grid_auto_columns": null,
            "grid_auto_flow": null,
            "grid_auto_rows": null,
            "grid_column": null,
            "grid_gap": null,
            "grid_row": null,
            "grid_template_areas": null,
            "grid_template_columns": null,
            "grid_template_rows": null,
            "height": null,
            "justify_content": null,
            "justify_items": null,
            "left": null,
            "margin": null,
            "max_height": null,
            "max_width": null,
            "min_height": null,
            "min_width": null,
            "object_fit": null,
            "object_position": null,
            "order": null,
            "overflow": null,
            "overflow_x": null,
            "overflow_y": null,
            "padding": null,
            "right": null,
            "top": null,
            "visibility": null,
            "width": null
          }
        },
        "e0b3e04f4d38417b926418888078140d": {
          "model_module": "@jupyter-widgets/controls",
          "model_name": "ProgressStyleModel",
          "model_module_version": "1.5.0",
          "state": {
            "_model_module": "@jupyter-widgets/controls",
            "_model_module_version": "1.5.0",
            "_model_name": "ProgressStyleModel",
            "_view_count": null,
            "_view_module": "@jupyter-widgets/base",
            "_view_module_version": "1.2.0",
            "_view_name": "StyleView",
            "bar_color": null,
            "description_width": ""
          }
        },
        "ebd015c01d9c4547b243ae89dd7aa106": {
          "model_module": "@jupyter-widgets/base",
          "model_name": "LayoutModel",
          "model_module_version": "1.2.0",
          "state": {
            "_model_module": "@jupyter-widgets/base",
            "_model_module_version": "1.2.0",
            "_model_name": "LayoutModel",
            "_view_count": null,
            "_view_module": "@jupyter-widgets/base",
            "_view_module_version": "1.2.0",
            "_view_name": "LayoutView",
            "align_content": null,
            "align_items": null,
            "align_self": null,
            "border": null,
            "bottom": null,
            "display": null,
            "flex": null,
            "flex_flow": null,
            "grid_area": null,
            "grid_auto_columns": null,
            "grid_auto_flow": null,
            "grid_auto_rows": null,
            "grid_column": null,
            "grid_gap": null,
            "grid_row": null,
            "grid_template_areas": null,
            "grid_template_columns": null,
            "grid_template_rows": null,
            "height": null,
            "justify_content": null,
            "justify_items": null,
            "left": null,
            "margin": null,
            "max_height": null,
            "max_width": null,
            "min_height": null,
            "min_width": null,
            "object_fit": null,
            "object_position": null,
            "order": null,
            "overflow": null,
            "overflow_x": null,
            "overflow_y": null,
            "padding": null,
            "right": null,
            "top": null,
            "visibility": null,
            "width": null
          }
        },
        "0c1aee4214194e28bffb3df96f4b7a3a": {
          "model_module": "@jupyter-widgets/controls",
          "model_name": "DescriptionStyleModel",
          "model_module_version": "1.5.0",
          "state": {
            "_model_module": "@jupyter-widgets/controls",
            "_model_module_version": "1.5.0",
            "_model_name": "DescriptionStyleModel",
            "_view_count": null,
            "_view_module": "@jupyter-widgets/base",
            "_view_module_version": "1.2.0",
            "_view_name": "StyleView",
            "description_width": ""
          }
        }
      }
    }
  },
  "cells": [
    {
      "cell_type": "markdown",
      "source": [
        "# Arch"
      ],
      "metadata": {
        "id": "LoH_2zR7ys8G"
      }
    },
    {
      "cell_type": "markdown",
      "source": [
        "![image.png](data:image/png;base64,iVBORw0KGgoAAAANSUhEUgAABIgAAAMHCAIAAADdD/sXAAAgAElEQVR4nOzdZ3wUVdcA8DOzLdn0TgoJaZBA6CR0pEhHUKOPAvo+otjFhiJY0McOSlGpNlRUJDTpTVpooaQSSEhPNsmmkLJJts/OvB8ujMvuJtmE9Jz/jw/s7LTNbLln7rnnUhzHAUIIIYQQQgih9iPk/6fW1lzLPFyjLGnHs0EIofZlI3YMD5rk5uTf3ifSdpTqymuZh+vUt9r7RBBCCKFuhwLa1alnRMh0kVBCkR4zlmN3Hl9SWSNr73NDCKF2JhRI/jPla0c7z/Y+kbbAGHTbj75Zqypv7xNBCCGEui//HoNnjFlKkwfVNYUYlSGEEAAwBm2BPLG9z6KNlFVmYVSGEEIIta+CkkQ9o7kdmOkZTfueDUIIdRzd5yux+7xShBBCqCP7NzBDCCGEEEIIIdRehBaXRvb7z8DeD7TxqSCEUHspq8zad+Z/7X0W7eHuwrxjBz/Tp9f49joXhBBCqPs4l/hzet4p4yWWAzOaEgoF4jY5JYQQan8C2vKXYddHUcaPaFqAX/4IIYRQG6Ao09RFTGVECCGEEEIIoXaGgRlCCCGEEEIItTMMzBBCCCGEEEKonWFghhBCCCGEEELtDAMzhBBCCCGEEGpnGJghhBBCCCGEUDvDwAwhhBBCCCGE2hkGZgghhBBCCCHUzjAwQwghhBBCCKF2hoEZQgghhBBCCLUzDMwQQgghhBBCqJ1hYIYQQgghhBBC7QwDM4QQQgghhBBqZxiYIYQQQgghhFA7w8AMIYQQQgghhNoZBmYIIYQQQggh1M4wMEMIIYQQQgihdiZs7xNACCGEEEIINQ3Lce19CsgymqKatyEGZgghhKyi0rLyW3oD297ngSyhafB2E9nZYCIMukt5NZNTrNMbsAXfEdEU+HmI/L3ETd3wVGLdxesqjQ4vawflKKWnRjn0D7Jp6oatEpjlyHUp2Wotvl0QQq1JIKCCfcSDQmyo5t6aQtbLL9X9fqxaq8cv9o5LLKTm3u8U7CNp6obl1UxKjkajxZi7I6IocHUUDu1tKxI2+Ysuu0i79Vg1i5/ajm1qlP3oCDvr188p1p1KVLbe+aB7V6Nid8cqAr1F9raCJm3Y8oFZQanu18NV+CWAEGoDKdkapYYd078JP2moeU4lKjEq6+B0DHciXtnUwKy8mtm4t4IxtNJJoZZxI0/z9AzXpm4Vd0ONUVnHdyFV1aTArLhC33ong1qKgYXSKqapgVnL5zzcyNfilwBCqM3cyNO09yl0C4o6bLl3As24TKm5GozKOr68En1VbZOvkwp7QTsDlaZpl4nFq9pJNGMMYMv3mOnwlipCqA1hNw5C9wKHqXQWGh0L0LS776g76NVDZCvBwaUdQlWtoaSSuZc9YPEPhBBCTWNvS08cgumjHUVssrK6Dm+ho0bYiKn5k53b+yzQbUcv1xaW31MLnjd5mENPT1GL7Ardo8tpqgMXa+9lD60emC1+zN3eFuN4hFBL+nZXRTOyelBLsRFTw/pI2/ss0G3xN9UtGJg9M9PF2Q67ZTqEC9dVF6+rWmpvNA0BTa/+h1oJ9nEhi1o9MBPQIKCxYBpCqCXhdwpCrcRRKnCyx8CsQ7AR41cdQt0LxusIIYQQQggh1M4wMEMIIYQQQgihdoaBGUIIIYQQQgi1MwzMEEIIIYQQQqidYWCGEEIIIYTax86dO9esWVNUVAQADMP88MMPf/31V11dnTXbsiz7008/7d27V6PRtPJpItQWcB4zhBBCnQzDMGVlZQDg5eUlEJiWEFQqlQqFQigUenp6WrnDurq6mpoaqVTq7OwMAMXFxfXt3KKampq6ujqKory9vZvwMhDq9pRKZUxMjFKpnD59OgAcOXLk77//Hjp06COPPGLN5teuXdu9e3dAQMCMGTP4JTdv3jRZTa/Xq1SqZ555BgAUCkVtbS1FUb6+vi36UrqvyspKlUplZ2fn4uJi/mxxcTHLsq6urlKpVZOs1NbWKhQKqVTq6upq/rBRHMeRIN/JycnBwaEpr6NDwMAMIYRQJ5OWlvbZZ5/RNP3LL7+Yx0579uw5cOBAv379PvjgAyt3uG3bthMnTjzwwAPz58+vqqp68803KYrasmWLlYHZli1bLl686OXl9c033zTtlXQzpAHHP6Rp2sbGxsnJycq/c1PJ5XKDweDl5SUSteL0u529Idi+9u3bp1Qqhw8fHhYWptFotm3bBgBPP/20UHhXA5VlWY1GY96yj42NBYDp06fzl3jfvn0XLlyweKygoKAJEyZs3Ljx7NmzPXr0+Omnn1r+9XRLX3zxxY0bNx577LH/+7//M3lKpVI999xzHMetWLEiIiLCmr39+uuvhw8fjo6Ofvrpp80fNqqwsPCFF14AgMWLF0+cOLGJL6X9YWCGEEKok8nOzgYAf39/sdjChLnk2ZCQkKbukGxC/u/r62tjY2Pl5llZWQAQFBRk/RG7p1WrViUlJZksdHZ2Hj9+/FNPPdWy4ZNOp3vuuedYlt26dauV99qbp7M3BNuRSqX6+++/AWD+/PkAsGfPnurqarFY/Oeff5qsWVNTU1ZW9t577wUHB/MLGYY5f/68UCgcP368Tqcj3wYPPfTQfffdx69TWlr6888/A0BYWFhoaCgAZGRkAEDv3r1b/eV1DwaDgXxnWvyTZmVlcRxH07T1X8ikw7NPnz4WHzaKXN/6zqfjw8AMIYRQJ0PaAcZNNB7Lsjk5OdCUMEmn0xUUFPA7bGDnFtXU1JSXl0MTQ8FuiOO4zMxMAPDz8yNdHyzLKhSK8vLyv//+u7Ky8p133mnBw2VnZ7Ms6+bm1qpRGXT+hmA7OnDgQF1d3YgRI4KDg+Vy+a5duwBAp9OdP3/e4voXL14kH8wjR45cvnxZrVbX1tba2tquWbNGJpMFBAS88cYbffv25de/desWicomTJjw2muviUQihUJRWloKeLFaTkFBgVarhXr+pOTT0bNnTyvvc+l0ury8PAAgUbTJQ2uQQE4qlXbSVFUMzBBCCHUyDcRORUVFpJVg8mxFRUVJSQn5tTbpZ8vLy2NZ1snJyd3dvb6dq9XqgoICoVDo5+cnkUiMnyosLCT/waZew4qLi5VKJQB89NFHxoPxjh8/vnbt2tjY2JdeeqkFUwEDAwPXr19vfbdns3X2hmB7KS8vJ5HYqFGjamtrP/roI7VavWDBgnHjxikUitdff93X1/fTTz8FgN27d+/fvz84OHjevHlk2zNnzqSkpJD/q9XqS5cuAYBCoWAYht//xYsXf/rpp9LS0v/+97//+c9/yEJyCwYAwsPD2+qFdnEk9KrvDojF/kmVSiWXy2tqatzd3Xv06GHcVU7upzg7O5MRwiYPCY7jSkpKSktLvb29vby8TI5ILnFYWBhFUS32ItsQBmYIIYQ6k6qqqsrKSqgnMCNhFR9lAUB+fv4vv/ySlpZGHopEoscee2zmzJn8z7ZJJGaSCVlUVLRx40aSrAgANE3PmTMnOjqaHwNDbsBLpVLrO9m6J9JEc3BwMCmRMnny5O+//16lUhUWFho3l1UqVV5enlAo9Pf3N4mv9Hq9wWAQi8U0TWu12szMzICAAJOgjqZpkzafNfsUiUTGA960Wi3HceRALMvqdDqapsVisVqtzs7ODg0NlUgknb0h2C60Wu0nn3xCSi+GhYV9/vnnhYWFM2bMIDU/ZDIZAPTp08fT07O0tPTYsWMA8NJLL9H07Vriy5YtKysre+2111xcXL755psLFy5s2rRpxIgRTk5O/CH2798vl8vffvvt8ePH8wvlcjkA2NnZWd8DgxrWcGqoybMGg2Hz5s3Hjh3T6/VkibOz8xNPPEFKv/Dr81fH5CHLsjt27NixY4darSZLAgIC3nzzTeNsBXKJBw8e3IKvsS116MCsrq6uoqLCmjVpmu7Zs6c1a8rlcp1O5+TkREpvtZl2OW57vVhjKpUqLS2tqKjI3t4+ODg4ICCgefspKyvLz88vLi52c3MLCAjw8fFppcHi3YRGo5HJZPn5+TqdrmfPngEBAY6Ojveyw6KiIoZhXFxcyH7UajUpmtfsK45QfUjgJBaLLX7tm0RZN2/e/Pzzz7Vaba9evSIjI7OzsxMTE3///XcbG5v777/feBOS+lhSUqJUKknDHQCuXbv21Vdf6XS6oKCgwYMHazSaY8eO7dmzx2Aw8DfvS0pKACAiIoJvNSKLTNpYvOrqarVaLZFI+Ksmk8nWrFnD19ajafrRRx+dO3cuH2UtWbIkIyNj1apVBw4cOHv2LMMwAoEgMjLy3Xff5X8ann/++bKysi+++GLAgAHW7POdd965efPmkiVL+BFKLMvOmzdPo9Fs2LAhICAgISHhww8/nDhxoo+Pz44dO7Rabf/+/b/88svO3hBsF9988w353Lm5ueXm5qakpAwZMoQM1QMAkvJKWtsxMTFarXbKlClhYWH85o6OjqS3bcqUKW5ubsnJyQAwZswY40NkZ2eLRKKxY8caLyQFVwcOHIhNiJbSQGBWXV1N0rz5Z7du3Xrw4EGJRDJs2DBvb+/U1NTc3Nx169a5ublFRUXBnUvPr2/8kOO4jz76KD4+3sbGZtKkST179rx06VJaWtq77767adMm0l+n0+lu3boFAEOGDGn9l94qOnRgtmfPnoMHD1qzpoODww8//GDNmm+99ZbBYIiOjn700Ufv7eyapg2OW1xcfOrUKTKCts0O2rD4+Pjvv/9eoVDwS+67777nnnuuSV+IJ0+e/OOPP0gCDE8oFI4cOXLhwoUmOUWtgWXZY8eO9ezZs1+/fq19rDZQWVm5adOma9eucRxnvNzNze2FF17o379/M/ap1WoXL14MAE8++eTMmTMB4MiRI9u3bweAv/76i1/N/C2KUDOQ9pxOp3vqqafMnyU3YkkTX6vVrl+/XqvVTpw4ceHChSRwOnfu3Lp162JiYkwCM+MBZgEBAUKhUK/X//jjjzqdbsKECc8++yzZPDg4+Ntvvz1w4MCsWbPIbQjSY0Za/6gBJCgyacDl5ORs2LCB47jIyEiSYpqUlPTxxx9rtdqQkJDIyEiNRnPw4MHt27cbDIYFCxYAgF6vJ8MI16xZU1FRMW7cOKFQeObMmbi4uPj4eNK8q66uJveGSOO+0X0yDGNewEAmk2k0GolEQm4BkAbozZs3T5486enpqVarp02b1gUagm1v165dZ86cIf8PCQkZM2bMc889FxUVFR8fHxYW5ujoSDqoQ0JCamtrw8LCevbsaVJVRaVSHTp0iKKoadOmqVSqq1evSqXSkJAQEiQDQEVFRV1dnY+PD3kbAIBIJHJ3dycr4MVqKVqtlowB27p1q/HPPcGyLACIRKJevXoBQGJi4o4dO0Qi0erVq8kSAPjoo4+uXLmSnJxMPrkm3xLGD48fPx4fH+/o6Pjxxx+T+zsPP/zwyy+/LJPJduzY8fzzz8Od22QuLi78/judDh2YkSva8ffZEY576tSpH3/80dnZ2bjV214vlsjLy1uzZg3DMBRFBQcHy2QyrVZ75swZV1fXxx57zJo9sCy7bt0647q3UqlUrVZzHMcwzNmzZwsKCt566y0PD49WexGg0Wg+/PDD/Px8/k5ep5aWlrZ69era2lryUCAQiEQiMi9nRUXF559/Pn/+/FmzZjV1tyYxnsUlFt+iCDUDaUBTFGX+FcePMCHN8djY2LKyMg8Pj6effprvzho2bJhIJKqpqamurnZ2dlYqlaStZhyYkc0PHTpUWlrao0cPPioDgKFDh4rFYp1OJ5PJyM0a0hTAwKxhDMOQaOrkyZMJCQkAoNVqq6qqampqAGD06NEvvfQSAOj1+nXr1pEekkWLFpE/e2ho6MqVK3fv3v3www87OTnl5eWRCy0Wizdt2kRyVsVi8YEDB65evWp8351UGbFmn7m5uQzD2NvbG6dZ8l18ZBPysKio6Jlnnnn44YcNBgNN0yTprlM3BNtYQUHBL7/8AgBubm4VFRWkhT1nzpw///zzjz/+mDhx4uLFi7OyskjL4eDBgz///HN0dLRJTseRI0dUKtXw4cM9PT0PHDig1+vHjh37448/8vEeUVxcvHDhQvJ/Nze33377DQOzlpWTk0O+h2maNhgMJs+Sz2lQUBBJ/HZ0dHzzzTfd3NyMPyxk6jM7OzsAqKurI12a5F1h/FClUm3ZsgUAnn32Wb7XXSAQjB079s8//yTfLXAnj7FTX98OHZjNnDlz1KhRxku2b9+empoKAJ988onxcpP5LjqgcePGsSzbemldWVlZ5h+J1j5oww4fPkw+k+Tehlqtfv311xUKxcmTJ60MzNLT00lU5u3tPW/evIEDB4rFYpZl8/Pzd+zYkZCQkJ+fv2nTJuunKmoGjUaTn5/fevtvYzt27CBR2fTp06dPn+7h4UFRlFKpPH/+fExMTF1d3e+//x4cHHzvo6L9/f3Hjh1r/MG0+BZFqKk4jiOx08svv2ySuQQAmZmZ5AuBRFmkthtN07/++qvxajY2Nnq9XqFQODs7k190Dw8P0vIz7j1LTEwEgJkzZxrnKEokkoCAgMzMTBJRAAAJ3qyfzLp7ysvLI52ZZWVlfCcGIRAIoqKiyOigv//+Wy6X+/j48BEUAAwfPlwikZB78wMHDiQBkkgkWrJkCT+SUKfTwZ1GHtydXmX9Pk168ywOd7nvvvsefvhhctrQJRqCbczX19fPzy8qKqqqqurEiRPkJojBYDh8+LBAIHjqqadIoU5Sx4+04EnDj8cwDCmyP3HiRIZhdu7cCQCzZ8++cuXKuHHjyDqpqamVlZV9+/bl3yFkV8XFxT4+PuYVI1DzkA+Fj4+PxbS15cuXx8fH8x+r4OBgR0fHCxcuxMXFKZVKMgUCGaJJrgjpKfXy8iLfBsYPk5OTa2pq3NzcjOdCgDtFXPjMLBLIderPY4eOZ9zd3flPFGFvb0/+0+lGbb744ovd5KA8Es94eXmRi2VraztkyJBTp04pFAqtVmtNCmJ8fDwAiESi9957j38n0DQdGBj41ltvff7556mpqWlpaXV1dfwbAzWgrq4uPT0dAKZMmfLf//6XX25nZzdlyhRfX19yv+Pq1av3HpgNGzZs2LBh97gThMyRMWBQT216ElZ5eXmR7wTyk19aWnr8+HHzlUmtCOMuMpZlc3Nz4U5gRmYNNs9hJqMmSDuvpqZGrVbzzUFUH9KAc3d3/+yzz8gSUis/NTX1zz//XLNmjUajmTVr1tWrVwHgoYceMg6GbWxsAgMD09PTSfOL7Gr48OHGgwzJhePrIhoHWtbv02JgRhaWlpaSNY2/PKFLNATbmEAg+Pzzz11cXEgfKfnonT9/vrKycvz48W5ubuSnnywPDAwEgKysLI1GwxdrOX36NClAsGHDhkuXLpWXl0dGRoaGhhq3DN99993KysqXXnqJ7IFQKBRqtXrSpElt92q7Oov5yTyTj9WWLVt27dpFEmoEAoGbmxtfAYFcbpP1jR+Srul+/fqZjIUhmeT85ChdYMBnhw7MmophmPT09MLCwurq6h49egQEBPTq1cuaKkn5+fmkNJCbm1uPHj345VVVVTk5Ofn5+TRNBwQEkFjfeMOamhqZTCaVSgMDA2trazMyMnJychwcHAIDA0NCQozfPdnZ2RqNxsPDw9PTU6PRkKZAfezt7Y27uZRKZUFBgVwuLy0tpWna29vb+CYQy7JpaWkkl0av11+/fh0A+vTpIxQKjQ9qvP+ysrKsrKzi4mKRSOTv738vr6sB3t7eeXl55eXl+fn5AQEBHMeRH86QkBArB4bduHEDABwdHU3icwCgaXr69OmpqaksyyYmJpqM7m2pC1dSUsL3jxcVFV2/ft3FxcXHx8f6A2VlZWm12oCAAKlUKpPJbt68WV1d7e/vHxoa6ubmZvFVV1ZW3rhxQyaTubm5BQYGWrwH0ehxLbp58yZJObCYctOvX79evXrl5eVdvXr1ySefND5/Mo1vZmZmZmYmx3G+vr5Dhw5tuJua/IXJbht4izZ6zgiZIF+ednZ2xt/VJs+SH2mGYVQqFQCsWLHCYsIzmUrLuItMJpPpdDpbW1sfHx8yRRIAmBRPKioqqq6utrOzIzlvOMDMSnwby8/Pz3h5//79c3JyLly4cPbs2VmzZpFY2vzvSf7O5DKRXY0cOZJ/Vq/Xk98Xi8XcrN+ncftSo9GQ73+ykORG9urVy6SzpQs0BNuei4sLKUDl5ubm4uLCcdzu3bsB4MEHH4Q7f2py7VxdXR0cHGprawsKCvirQyK3sLCw9PT0kydP8hsaI5U/SAkfHnZvtjiTWh3G5HI5+Qolz54/f37nzp0ikejJJ58cM2aMh4cHTdOxsbErVqyQSqXkSjUQmJFrZ97UIbMm8NNPy+Xy4OBg4+KcnU7XaRglJSX9+uuv/LhPIjw8/MUXX2w4w+TChQvfffcdx3FOTk58UhzLsvv27duxY4dx8pVEInnqqacmTJjALzl27NjOnTt79+49ZcqUjRs3Gq/cu3fvV199lY8o3n//fY7jSB2O8vJyk1RMEwMHDly2bBkAMAyzb9++vXv3kml5eAKB4KGHHoqOjqYoKjc3l99bTU0N+f+mTZucnZ2ND0pWUCqV27dvP378uPEQILFYPH/+/ClTpvBBrPWvqwFDhgy5ePEiy7LffvvtBx98sH37djJC1CQ9tQH+/v65ubkVFRVJSUmDBg0yeTYiImLJkiUODg7GP5Mte+F+/fVXkssEAPv379+/f//9999PEtatPND7778PAK+99trhw4f5SUgBQCgU/t///d+UKVOMX1FhYeHq1avJ/Vfjl/nKK6/wTUMrj1vf35P85/Tp0+PHjzevIPf888+rVCrjktPk/J966qnDhw+TRgzh4uKydOnSBrJk//nnn5iYGAD466+/GniLNnzCCJlrePZn42eFQqGXl1dpaWlWVhb/XtXr9StWrKiqqnr44YdHjx4Nd7JljAeYBQYGUhQlkUhsbGw0Gk1aWtrQoUP5Q+zfvx+MAgA/P7+PPvrI+smsuy3yBci3n4wFBwdfuHChsrJSpVKRBFGTCZFkMllVVZW9vb2vr69arSY3fQYOHMivkJOTwzCMo6MjHy3X1NQIBILg4GBr9kmCBLg7GefKlSssyzo6OpJbAOT8IyMjTU6+CzQE20Vubi7LsqSf5PDhw5mZmQMGDCB/f77yB1nTw8Ojtra2uLiYb6+/8847DzzwQFBQ0EsvvUR+mH7//ffevXuTWy0AIJfL6+rq+vTpY3If2d/ff+XKlZ0u5arDItcF6gnMSMzGz+9HOq5nzZoVHR3Nr3P27FkACA0NJe3PBmrlkyxlftYTQi6Xk3x1vmLnM888YzJDRqfTRWr7Xrt2bcWKFSQqCwkJGTVqFHkfpKWlLVmyhNyqtyguLm7dunUcx7m6un744Yf8nbzvvvvur7/+MhgMDg4Ow4cPHzZsmJ2dnVar3bx5844dO0x2kpGRsW7dOoPBEBAQEBYWRt4TGRkZGzdutHhQOzu7gIAA/7sZtzP434/du3eTQrH29vYjRowYP348efMZDIadO3eSm0a2trZ9+/Ylb1mhUNi3b9++ffta7ItgWXbVqlXHjh0jUWhkZOTAgQMlEolOp9uyZcvPP/98j6/LxOjRo8nZFhUVvfDCC6dOnQKAyMjIqVOnWrM5APDB2FdfffXDDz+kpKSQUQSERCIZMmRIaGio8R2Ulr1w/v7+/NeNj49P3759+e6yJh3om2++ycjIsLe3j4iIIHfuGYb5+eefjb9iKisrv/jiC36c64gRI8hvTGpq6tdff82XNGjScU14eHiQz0VGRsaSJUuOHTtmMtIjMDCwX79+JrcYAeCXX34hMzlOnTp12LBhFEVVVVWtWrWK9DM3yvq3KEKNaiAwU6lU5BPEN+n4LCny1cGy7I8//piamnrr1i2SoFhVVVVVVUVRFMl3Mk5rpGmafPzPnTvHVxk5efLk6dOnbW1t586dCwAGgyElJUWhUBh/NSFzFiMfQq/Xk7HEkZGREonE1tYWAK5du2a8DimMToK6rKwsjuPc3d354WRwdx8L/zAwMFAkElmzT5lMxnGco6Mj/+PLMMzWrVvBrI1onub9zDPPvPPOO836q3Rr/CWrrKz85ZdfhEIhyWwEAL7yB3lILrTJLUtfX99ly5aVlpaSpOW0tLSPPvqIf9YktCMMBkNiYmJ1dbXJnW7UbOTvTNO0xS9kPqwiQRdpxpASpkRMTAz57JOWSWVlZUVFBU3T5ENn8jAiIgIAsrOz+SnCFQrF559/bjAY7r//fvJBzsvLKyoqMq4E3hl1hbZRXV0dCa5sbW1fffVVPqPg0KFDv/32m0aj+eWXX5YuXWq+4aVLl7799luWZd3d3ZcvX853rF27du3ixYsAMHjw4FdeeYXUiqmpqVm9enV6evrevXvHjRtnksxga2v79ttv9+3bl6z5wQcflJaWXr9+vaSkxDzfxtXVdcWKFeYns3btWo7jevXqRVLYdTodGRcRFBS0fPlyPrv6woUL3377LQCcOXNm2LBhPj4+y5cv/+GHH06cOOHk5LR8+fL6/lD79u0jyYFRUVEvvvgi+a0qKytbvXp1Xl7e8ePHx40bZ/Kr2aTXZYKm6YceeuiLL77glzzxxBMzZsywfqqf4cOHT5069ejRowaD4cSJEydOnBCJRH369AkPDx84cGBwcLBJnmqLX7i5c+dWV1eTeoyzZ8/mJ6lsxoHGjBmzcOFCchHJOxMATpw4QX7mOY778ssvKyoqxGLxq6++SkZn6fX69evXx8XFZWVlXb16dcSIEc04rolXXnll5cqVVVVVhYWFJBT38vLq27dvv379Bg4caDI9q7GoqKhXXnmFFLOOj49fvXp1WVnZ+vXrrWmRWP8WRahhBoOBz4g2f5YknvFRFgDMnj07KSnpxo0bL7/8ckRERGpqam1trUAgeP3110mHLYnEfH19yWfTJOqbM2dOenr6xYsXs7KyRuDSVHsAACAASURBVIwYkZ+fn5KSQtP0G2+8QbrgCgsL16xZAwArVqzAka4NyMrKYlmWoijjnxiWZa9duxYTE5OdnU3T9NixYwUCQXh4eEJCwqlTpyIjI8mPxdGjR48fP25ra0vq2lsc02Ky0PhGuzX7rKqqgjt1Pmma1mg0a9asISMMSYOPZVnSBjU5LmkIuri48GPbkJX42KmgoICiqEceeYSMGDSu/EHWHDdu3IQJE4wHLcfFxW3YsKGioqJPnz7/+9//YmJidu/ebZzaajEwy8/P//zzzwFg3bp1DfzYIeuRz11gYCBpG5gwyUscOnToyZMnz5079/777wcGBqampvJpRKTDmTzkL73Jw9DQ0KioqMuXL7/88sujRo1yc3M7depUTU3NoEGDFi1aRPazdevWuLi4kSNHkkZdJ9UVArPk5GQSH0dHRxvnec+YMSM7O/v8+fNJSUnZ2dkmAf2VK1dIVObl5fXBBx8Y5+aR+ZecnJz4ti8AODo6vvrqq6+99pper9+/fz9fgJWIjo7m3weOjo7R0dEbNmwAALlc3mgAAwCZmZkktnRxcVmyZAl5F+bm5trZ2alUqscee4z/hgKA4cOH29vb19XVNfWuACkj6+Tk9PLLL/OjvDw9PRctWvTWW29xHLdr1y6TCLbZr4tl2d9///3w4cPGC93d3Zs0AStN0wsWLOjRo8fOnTvJcH+9Xp+ampqamrpjxw43N7fo6OgJEybw4VmbXbimHsjZ2ZmPygBgxowZhw8fLi8v528BlpaWkptA06ZN439+RCLR/Pnzr169yjDMjRs3RowY0YwXaCIwMPCTTz7ZsGEDCdHJoUtLS0+dOkVRVFRU1Pz5881Tf6VS6QsvvMB/8w4dOnTcuHGnTp1KTExUq9UkwkeoDRQXFxtPU2aCJEv7+fnx328BAQFLly794YcfCgoKyE2NkJCQBQsW8JuTTchDg8FAenX4Z/v167ds2bItW7bIZDKSwejn5zd37lx+tBKJEuub6hrxSBuL4zgSCAEAy7IajYZ0RQqFwiVLlpC7VI888sj169fPnj2bkZExZsyY3NzchIQEmqbfe+89Em9bHNPSwNAUa/YZERFha2urUCiWLVvm6emZlJRESufX1dWR6K6wsFCtVnt4eBh300FXaQi2Cz52cnFx+fnnn8VicXl5eWlpKenYNI6p+PkGAYDEzOfOnQOAyMjId955x9bW9umnnw4JCSHF+s6ePXvjxg3S2jG50Uxuu0gkEvOsENQ8xoMw63uWvwrjx4/Py8vbtWtXYmJiYmKii4vL66+/XlJS8tdff5FSLibrmzwUCATvvffehg0bzp8/T94AIpFo6tSpCxcu5BNwGj6fzqIrBGak0JxAIDAZsQMAM2fOJOmnBQUFxj/k8fHxf//9t8FgsLe3//DDD41TzzmOI03k/v3729jYGI/kcXJyCg4OTk9PJz/exkxGQPFNW2vyW0pKSlauXKnX6yUSyZIlS/iT6dOnz9q1a8kNPH5lhUJx8+ZNOzu7uro6Pr3NGtXV1STVc9KkSSa1N3x9fQcPHpyQkNBSr4tl2dWrV5N8Yg8PjyFDhhw9ehQANm7c6Ofn5+fnt2/fPoVCERwcPGLEiEZDtenTp0+ePDktLS0pKSk5ObmwsJAsr6io+P7775OSkl5//XWaptvswjXjQGFhYcahNQB4eXmVl5eTJibcaR3C3b9AAODh4bF27VpHR0exWNy8F2iO9A+XlZUlJSUlJSWlpaWp1Wryui5dupSUlLRs2TI+XZsYN24cn7tPTJgwgeSm5uXl3XsJR4Ss1LNnT/M5THmzZs0yn4WPTFdVV1dXUVHh5uZm0q/1yCOPPPLII+T/AoHgjz/+MNk8PDx85cqVKpWqqKjI1dXVpGbP+PHj+Y501AC+ipJJ/nNAQEBERMT48eP5wGbgwIH/+9//Nm3alJ+fT7INAwIC/vvf//J3Xc3bXlqtlvRukYXmvVuN7lMqlT799NN//fVXamqqQCDo37//q6+++vbbb5NxShYPWt/JIGsYV/6AO3NY/fPPP7///jtZob5qOkKhMDc318bGZuHChdOnTycLKYriS6hfv36d3EPx8fExKXM1efLkyZMnt84L6qbefffdBp4l0xgYe+qppx599FHSycwXZOKLjc2bN2/evHn8yiYPAUAoFL766quLFi2SyWQGg8Hb29ukZUUmOuvsukJgRu5Zuru7m/el8iOCTLKT+XawUqksLy83DsyqqqpIo/zcuXMkKDdnPmjNpOSX9TkttbW1X375ZW1tLUVRixYtMq7rSqhUqnPnzmVnZ8vlcrlcTjqOmoGfjMt49kweWVhRUWFSyL55r+vEiRMkKuvdu/fSpUulUinDMCdOnNBqtatWrfr444/37t2rVCpdXFyMcw8aIBQK+/fv379//yeffFKhUFy7du306dNkYpPLly/HxsaOHz++zS5cMw5kXhGOHIgvwULekDRNm1dV4Zc07wXWx9PTc8qUKVOmTGFZNicnJz4+/siRI2q1WqvVrlu3bt26dcYrGxei5Dcn/8nPz8fADHV89vb295JqKJVKsWDAvXjrrbfeeustK1fu37//+vXrlUqlTCYznzXHfLokiURy4MAB/mFOTg7pyTfuxmx4nwAwY8aMadOm5ebm+vj4kCwAknBO1BeBd42GYNsjd2ZNfjuCg4NJwoifn199tayEQuHbb7/t4OBQX0rLyJEjSW7OyJEjrSnKjdqYnZ3dPd7IoCiqa/d5doXAjHz2TOJmQiKRCAQCg8FgHs94eHhUVlYaDIaNGzeuXLmSD+oqKysbPaJCoeA4jv/Mk/pd5qfUKJ1O99VXX5HG9BNPPGE+79O5c+d++OEH44GqZERsSUmJlXUXzFn8Q/F5cUqlkn8tzX5dhw4dIiu/8cYbpKdlwYIFMpksIyNDLpcvXbqUXI6oqKgGdqjT6aqrq2tqaoKCgox71ZycnMaMGTNmzJjTp09v2rQJABISEsaPH99mF64ZBzL/m5sciBThsLW1baD/sBnHNVFTU6NQKCQSiXGyIk3TISEhISEhkydPXrt2bUZGxq1bt2QymXGbxqS7jJwqf8RGzwohhJrKzs7OpOveSiRntX///uYzuzS8z/pqGKAW5+XltXbtWpOFUVFRUVFRjW7b8C2SgQMHGpfrRKjT6QqBGekKJ/VwTSgUCpLxZTL1QUBAwPvvv3/kyJFdu3aVlJRs27aNnzKSz1R58MEHZ8yYUd9B7/1ODMdxGzZsIKnwkydPnjlzpskKmZmZpJK7QCCIjIzs3bt3YGAgmRFr2bJlTQ3M+F5BMq2ECb7Rb810WA3T6/Uk1AwLC+PT8YVC4ZtvvkkmfCTJxADQcArQkSNH/vzzTwBYvny5xfT98ePHnzhxIjMzMyUlheO4NrtwrXEgsk+lUskwjEm5Qj6X9d6Pu2jRIq1W27dvX4vlN1xdXaOjo0mxluTkZOPAzPzNxr9hGqiYjxBCbWnlypUkpQIATCa3RAihTqErBGYkDa+6urq6utpkZiSS5QhmE5gMGzbMwcHhoYceiouLKyoqOnLkyPDhw8mNNBcXF4lEQnLWzaOUuLg4vV7v6el57wHMn3/+GRcXBwADBgzgx0Mbu3TpEokqFy9ebDwfIsdxJDOTr+BsDb5YH/83MUYS5R0cHO69iDlN0wKBgGEY40FQAODs7Lx48WIytRoA9OvXzzxv0+IJX7x4sb5x1fz88RRFtdmFa40D8VkZRUVFJqHO2rVrr1271qdPn6VLl97jcT09PWUyWVpamvknxYTJnWZ+XB+PTwZu+CIihFDbqKurIyUfAGD48OH8oCOEEOpEusI8ZqRfm5853hgZ5gtmNR4IoVD4/PPPUxTFcdzGjRv5jEGyw6tXr5IaPryUlJS1a9euX7+e9OTci2PHjvE1vkjtCvN1+NawST5ubGwsOVXjyIe0pDUaTX1HFIvFZCDs6dOn+T4rIjk5mQRmxjUtm00gEJDp4DIyMkgpVV5paSk/qurGjRukLkt9+vfvT/LlTpw4cfDgQfMVrly5QkZ484kNrXHh+Etj/Ldt8QPx+TPGIyUAQKFQpKSkqNVq0vd4j8cdPnw4AHAct2LFCpMZzABAqVTu27fP+AXyYmNjTVIW9+7dCwB2dnYNV+c31uhbFCGEmk0qlW7evPnDDz/87rvvPvjgA/M8RoQQ6vi6QmA2bNgwMoT02LFj27ZtIwUSyOROpOF+3333mVcAJ3r37k3mOy4tLd22bRtZOH/+fBKtff3110lJSRzHMQyTnJy8efNmsgJfC6h5EhISyIhhkUi0cOHCioqK/LuRkIyv0rFnzx7SnNVoNCdPniQDqwBApVLx+yRjpZRKZWxsbHZ2tsWCjaT0jV6v/+STT0jLnmVZMm0AANja2pqnUzbP7NmzyX+++uqr+Ph4nU6Xm5u7bdu27777jl+H47h169aRSd8tkkqljz32GDnJrVu3fvrpp/v377927VpOTs7Zs2fXr1+/atUqABAIBA8++CDZpDUuHD8I7cqVKxkZGSSeafED9erVi9RBOXv2bExMjF6vZ1k2OTl51apV5NKPGzfu3o87bdo08qbKzc1dtmzZ1q1bz507l5eXl5ycfODAgSVLlly/fh0ABgwYYDL9i06n++KLL0pLSwFApVKtXbuW9JiRC2Qla96iCCHUPDRN+/n5RUVFBQUFYdUHhFAn1RVSGQHg6aef/vTTTxUKxd69e/fv3+/k5ETmiwSAkSNHPv/88w1s+/jjj1+9evXWrVskoTE8PDwwMDA6Onrnzp1VVVVffvmlra0ty7J8f9rkyZNHjBhxL2d79uxZ0nGk1+uN56o3tmHDhokTJ/7zzz96vf7gwYNHjx718vKSy+Vkjk4PD4/y8vKqqqra2loyTyLppCIbAsCnn35qPgFrv379yHzNJSUl7733nr29PcMwpN1vY2Pz7rvvttR4oVGjRiUnJ585c6auru6rr74yfsrOzu7FF1+MjY29fPkyGWUXGhpaX3mladOmOTs7b9iwQafTkenLTFawt7dfvHgxP5i7NS6cRCIhf+3r168vX7580KBBS5cubY0DzZ8/PzMz89atW7t37967d6+NjQ1fseahhx4itx7u8bj29vaffvrpN998k5KSolQqLfZDjh492uLnJS8v77XXXnN2dib1RQBg+vTp5hNUNMCatyhCCCGEmiQhQ51VpG18PdT6isr197iHLhKY9ezZc9WqVVu2bLl8+bJer6+qqqIoqlevXoMHD46Ojm54piwbG5tnn32W1DzYvHkzqRT0yCOPhIWFbdmypaioiMzyBACurq4PPvigyUxTYDYgp1FWjuPq2bPn22+/vWXLFrlczjBMUVERRVG9e/desGCBVqv96KOPWJaNj48nJTTGjh1748aN2NhY0mguLi622OpdsGBBRETEb7/9Vl5eTio6ODg4hIeHP/DAA+aVju4lFeTFF18MDw/ftm0bnwJna2sbHh6+YMECDw+PQYMGbdy48fz58zNnzmx4ouoRI0Z4eXnt2rUrNzfXOAPT3d09JCRk7ty5Jql0rXHhXn311VWrVlVXV4PRvAtNOpA13N3dV65c+euvv164cEGv15OozMnJae7cucaDJe7xuHZ2dkuXLt29e3diYmJBQQE/kZpIJCK9dhbLisycObOsrOzq1avkjyCRSKZMmTJ37txGD2f8F7byLYo6hapaw+a9FY2vh9pEaXVL9j9r9axGhz1OHQJj4FpwbyoN98mvpS24Q3QvGEPj61gpPkPdYvtC7Y0ijaTSiow9pz7glw6PmDc4bE7z9rjvfM3Vm/++RZbMdbe3bbtUb5Zl5XJ5ZWVlUFAQXwL+XpBpEHU6naenp5ubW6OzIbc4lmVv3bpVVlYmlUr9/PzM52ozplKpKisrHR0dG608UVdXJ5PJpFKpv79/q2Z9VFVVyWQyFxcXX19fk79eQkLCoEGDrP+T1tTUFBQUcBwXEBDQ6Ats2QvHcRxJ5HNzcxOJRK13IABgWba4uLiqqsrT09PDw6O+Hd77cQ0GQ1FRUXl5ubu7u5+fn8Uw9fHHHweARx99NDo6WqPR5OTkSCQSX19fi5MuWMP6t2jD1u64VVl7+2fNw1mw6GHTWYmaqgW/AzuXfHnC4fMr+If3DX0uPHCSxTVXx5RX1zWh4BBqF3YS6p35llP363P4Uu3F66rG10Pt7cU5rt5uosbXM7Lh74qSSswb7+hoCj5aYO2AbQA4fKnm4nUMxjqBuZOcwgMaai+dif8+LfcE//D/Zm3uIj1mPJqmfX19fX19W2qHNjY27TuvKE3Tnp6e9Y2RMyGVSs2nnLLI3t6+beYFdnFx4YvmmzAuNWkNR0fHiIgIK1du2QtHUVR9PXst/g4hIyX4xL/63PtxBQKBv7+/9RM12tjY1Fce03rWv0VRR6PWtuTNe9RKtEyTL1PLdsugDqVOjTdTOgGuiR9BtQ4/s51DM/pFu0LxD4QQQq0N6yl0Cs24SpU1LZdThVqToekhtBCLU3ZFbo54XTsHW0mTv5IxMEMIIdQ4qQR/LzoBibjJl8nOFmPuzqEZmfIOUmzBdwJUE68s1Zw7MKhz6GqpjAihFkQG1OGMQAiwx6yTaMZVsrPBD3jngNMAdFV4XREPAzOEUL22bt3a3qeAEEKoWwjzF7g7NdR5dC2HUSi5gcFCBymVIzcU3zIdQdfDlQ7xFQBAfIZejQXkO4YhoUKpzb+xJ8cBw3JqLcjKDFW1ptm5g0KE9g324SdnM7WqrjzEDgMzhBBCXY2Vv+6ezlTvnkKOg8vper1Z7Tp/L9rfU1BWxWYU4iisjsLRjhoQ1FDTJe6GnjFAH3+Bh1kTn+NAq+dUGk5Wznbttl1nRFHwwChJw+sUlBk4gCmRYgBQ6zjzwMzLhR7ZTwQAafkM1ivqCDydqUlDLZcT5zguQ2aITdFX192+Ui4O1ORhDdUeB4BcuaFrf3gxMEMIIdSlWP/rPnaAOMhHAAC2Evgn3nRi0CnDxC4O9PVcBgOzjiMqTDg4tKGS8VfS9YwBevsJwvzrbeHoGe5QnA4va0dTWWOhhqSNhJLeqaDAcZj111nVqTmdngMAgQBsxZRYRFEU1cdf6OFM/3pUY1K9UKnhtPVUntR39SqyGJghhBDqmqz/dR8UIswoNBSUYm3xjo4fZmWxEQ8AxtfVwHKFZf+uJhaBiwNtI6ZEQmr2aPH2U1pZGV7xjoLj4KdDGpOFAhr+M0Ei9RAAQK7cUFjOOkoxNOuUzqboUnP/Db+8XenJkWIvF9rVkR4/SGRyX+xiqj4xq5vOv4eBGUIIoa7J+l93iqKmRYm3HNaYJzSiDohlOfNGvDmNDmJO3zXSSEDDpKHigcFCiqJC/QQYmHVwUyLFfh4CAKiqZfdf0DZ1vi/UYckr2ZhTmv+bYuNkTw8OFSVkMJVm4826Jyx/jBBCCIGTHT1+UEM5cqgLMLBwLkVH/t/TE8tRdmhDQoURgUIA0Om5PWe1WtNcY9S5aXRwOf32nTBPF4xHbsMeM4QQQt1adR0rFlFSCTUoRJQhM+RjQmOXxnLAcRxFUSxe5w7Mz4OeMFgEABzHHYzTVdSYdqf4uNK6INPQ2tcD2/edSWYhQ8YDuznSAP8mOtpLKQ9nCzmrlTWcoat/bDEwQwgh1DVZ+euu0nCxyfrZoyUAMC1K/DMmNHYGTnYWrqxC2VA2lFgI7k705GFiMiFYSSUW/+igHKTUnNESmqYA4EKqPqvIwpUKCxCGBWAjtnNTaoBlOZqm3Jzu+jiP6Csa0ddC/kJipt68SlMX0+rv6X/ilWL84CCEWpRS09VvmqGWYP2v+02Z4aaM6dNT6GhHTxgsPnZF11bniJqDpqnnHrA1Wciy3KoYtfESqQQWPXx7NYoCiejfxp9ay11Ixfi7IxLQ8OAYMZn5KqOQuXDd8mViWY41C8OFAiwN0pnwtXxEQqsunPF8aF1Vq8dMCRnqxldCCCGE2orFX/fjV3U9PQRSG2pgsDBDxuSVYPDf6VEUZWNp3oT4DP2FVL0Go+8OaUqkuIerAABuKdhDcfVepNPJ+vibpjHbwGAhmeUMdQoOUor0i9be3dd98br+Rr6FgFzXxXvLAFojMFPhnWyEUBvSaPE7B1nWpF93tRb+ideRhMapkeIthxsv+ofaC8ty205oTRaaZzFq9dzJBB0A2IipfoFCT2caAGqUbNx1jMo6KL7gh0bH7TmrxaTirs3N4fY9smrlXb/jSjVXaTaqsJto+cBMU8+kMQgh1BoYjMtQPZr6635TZrhZwPTxv53Q2Honhu5dcUXjn3zGAPzUSYmZzINjJUHeAkc7es4YyfZTWiz+0dHwBT9Yltt/QVtdh+3JLi4q/HaqeXk1fhpva/nyNc4OWBIHIdR2pBL8zkEt5ni8TqXhAGBAsNAFf866EAML+y9oa5QsAPh5CCbg1AgdjIOUmn2n4MeZZD3mEnd5g0OF/l4CAKisYXPleLlva/keM5rq+iPzEEIdB42NZ9Ry1Fo4flU3Z4ykvU8EtTydHg5d0j02QUJR1OBQYXqBoegWNgc7ipkjxHY2FACwLKfScH0DTEvhcwCZhVhIs7MK9hWQPmqJmHKUUn4etI/77Ut84bppcnkPN7qv3vI0g1lFBl2XTnDFgokIIYS6pub9umcUGtLzGazE3SXJytjkbGZQiIiiqKmR4l+OajChsYPg5z+gaWrmSMt3RmJTdOn5GJt1Sr39hL39LHypnknSpZld04jA20MNzV1J159O6so1QPCHByGEUNfU7F/3f+J1Pb0Edt2gNHM3dCZZH+IrsLel3ZzokX1F51O7ciOvE1FpOUe7RtYR0o18JEkeMurg1FquVs2VVrIpOUxxE3utBV09RwYDM4QQQt1Ow7/uah38gwmNnZlSw0E9zXSdHv65qn9wrAQABocKMTDrILYeMy2zWZ+v/lLV91RmkaGBZ1HbK6vmrL8iVbVNWLmrwsAMIYRQl2L9r/uu2HrbghmF2MLriI5f1R+/2ngodTJBfzKh3tWw+Y4Q6pgwMOtq3J2oUD/LYyrMXUlnGKPMXooCf0/aw5n2dKZdHSmDARRK7paCTc1lVJZaL8E+Ak8XCgAuXrcwVoOmYGgfofDOuVy9yTjYUn38rTq3azmGOjUHAAFetI87DQDpBYaqWsspCuEBAmd7SqmBlOzbpyERweBQIUWBrIwtLGfJSxsSKhRbUYUrMZPR6MDVocmnihBCCCGEULNhYNbV3DdQHORjbWCWmPlvYObqQM0YIfZ2u2tbPwAAGNNfdD3PcCJBx9w9PvOBUWKR0HJgRlMwe7Q49M5Az5sFDGMANyd6TH+rpgbKk2tItDN9uNhBSgNAsI/hj3+0nFkEJBHBrJESACitZPnAbGCwcOwAMQCcT9WTwMzPg544xKpDpxcYNDquGaeKEELtD4fFISONjclCHUJTy5nj8NfOws6myUPiuvoYOmSdAcHC/5tqYxyV6fScnrkdbwgE1IBg4fz7bRykd30X1PdVYhKVXc9j9l/UmcdU9WFZTqvnTA7h7SaIDLP6PgJ/YpzpflqW8aki1LW5O1l7xwe1I3fHJl+mLj+YvssQND3M8nHH6do6gaZepr69bJzt8XPb0QV5i71cm9wBhj1mXc3JRN2F1Lu+u2eOFJNpUved19Yo74oitHoAAA9navJQEZnVUafnzl7TZxYaalUcAHi50MP7Cvv0FAKApwv9wEjxnycaGZ5L0zB71L9RWUo2c/SKzmSdXLnh/LV6s/+1eq7SUtbi6AhRdpGhoqY5gVBJBfv7MY3Fp5zsqQdG3R7iX1XLmnR/Ne9UEep6Jg9zKKmsUiixuHjH5WBLT41yaOpWAT3E567hgKuOzt6Wdm161D1+kF1ljSGrSGvAD26HRAH4uAvnjHZs0la2EvrFOW7pBVqlBq9rR0QBONkLwgMkzZjbGQOzrqaqlgO4K1TQ38k/LKtmLQ7Tun+omERlZdXsnlhtjerfdUqr2H3ndbNGQniAEAB8PQRD+wjjb9Y7tx9Nw5zR4hDf2++rhAz9CUvDr9VaTl7Z5G8ToYCaPlxsMaGxUToGLB7RRgwzRtjcXkfP7Tmr1d/94pp3qgh1PZ4uwjceda+sNWALr2MS0ODiIGhGp0qfnpJpUfbxGWqNDm8zdUQUgKujYGqUg1DQ5ItrK6HnT3bmuGb8bKK2QAFQzUrpsZXQg0NtW/x8ULvDwKy7C/MX+HkIAIDjuKOXdcZRGe/wJZ2DlCKrDQmtNzAzicoup+nPJLdYGWKO4yiK8nYTRIUJL6W1zKzvFAUPjJK4OtJk/wfjdM3rjkOom6Bpyt0JfzW6oFERdqMiGptDCnVaVPPa/gihNocpqt1dgNft1IjUXENJPV1DBhYOxd1OR3S2p3u4WnjbmERlF1JbMiozGLjErNvB2OgIkZtjy/zEjBsg6tXj9su/kKrPKjKdex4hhBBCCKG2gYFZd+d6J8jJbjAsUSg5fqZOb7PAzCQqi03WtfiUnbFJ+uo6FgAEAmrGCMm93/3r4y+ICr893DajkLlgqeI/QgghhBBCbQOTUro7UhcEABod019axQZ6CwDA3tY0KjKOygAgu7iRrqfePQX+XvXmRidl6c3r7+sNcOSy7rEJEoqierjSw8OFcTeaH0p5OFHTo25Xw7+lYPn+wBY5VYQQQgghhJoKe8y6NQENNndqtFbXNTK86pbiduQmNZtAwzgqA4AHRkmEDdaOEgooe9t6/4mFlrvDZGVsYubtKGhUP5G7UzN7zWzE8OBYCZmBTaOzUPDj3k8VIYQQQgihJsEes26Nov6d4KvR5EC+1hdjsBDCsSx3U2YI8xdQFOXuRE8aIjavks9Ta7kGOuhq65+vOTZZH+QjcLanBQJqxnDJ1uOWK+A3gBT8IBOAsCy3/4K24Yi02aeKEEIIIYSQ9TAw69YYAzAsiGkAAFcHuuG68M53kh7roJgy/wAAIABJREFUzKIRluUOxunSCwxqrWhIbxEADAgW5pca0gss5zTmyg0H688ebIDeAIcv6R6fKKEoysuVHtFXmJDRtEzCsUYFP84k6/NKGkngbPapIoQQQgghZD1MZezuFHf6izxcGnozUBR43EkdVChNA7P9F3QkBjuTrK+4k/E4JVLsbN/ymX6F5WzCnYTGkf1EHs5NeA/38RcMv1Pw40Yec7X+CdkQQgghhBBqSxiYdXeZhbc7tUaECxsYGDYgSOhoRwOAwcDlyk37wTLu7IQxwIGLWoOBAwCJiHpglJhuhbdYbLK+qpYFAAFNzRgutnIrDydq2p2CHyWVbAOZlgghhBBCCLUxDMy6uxv5DMdxAOBkT4/oK7K4jo0YxvS//VSO3KBtsBJ+WTV37k6t/B6ugnEDLO/zXjAGOHJZx5+2NZuQgh+kVodSw/19TsvgpGUIIYQQQqjDwMCsu6uq5fhhWiP7iaZGikV395v5etD/nWpDKjEyBu5sSuMTlF1OY2Rlt+OeYX2EQd4t/zYrLGetH11GUTBr5O2CHwYDt/ectlaFRTsQQgghhFAHgsU/EMSm6Ht6CTydaQAYECzs1YPOL2X1Bo5hwMOZDvCi6TsFGU8n6StqrAppDsbpFkyzkYgpiqKmj5D8ekRjXDLE34uOHidpYPP8UkOjA8BiU/RBPgJ+HrYG9PKiyQxsACAQUPV1DBIp2Uym0VzbLXKqCCGEEEIINQwDMwSMAbb9o5k1ShLsIwAARzu6f5BptKNnuONXddfzrM3/q1Vxx+N1s0ZKAEAqoWaNFP91Uss/a29L29c7aTMAgErbePjHGODwZd3ciRKqsUr/1N2vJsinoUnW8kvveo0tcqoIIYQQQgg1DAMzBACgY2B3rDbUTzC0t7Cn511xi1rLXc9jEjOZRmegNpGWbwj2YcIDhADQ01PQqwet0li7ByvXLCpn4zOYYX1afhhbi58qQl2ARsfKKxgDi+/5jkhAUz1chbaS5qSOG1hOXsFodI1MH4Lai5uj0MWhoVuKDdDqWXkFY3ECUtTuaIrychHa2Tb5Y8tyXEkFo9LiZ7aDcrYXuDs1J8jCwKzr+/WItbMwZxYaMgsNYiE42VH2UooxQI2Sq1GRKhsWrNmhbniHBy7qDly8q/jhV3+prDwZYuPeRk7+VKL+VKLpsLfLaczltH/TC3OK2aYet+hWkzdBqGuTlem2HqvW6LB513FJRNS8+50Dva2tVUto9exPB6tKKjElu0ObMNhuwmD7pm5VVsVsOVyl1GDzveMSCuDR8U7hATbWb8IYuN+OVuWVND7mH7Wj4eG2M0c6NnUrLP6BTOkYKFdwuXJWVsYqlPVGZQihbuVkghKjsg5Oq+f+uVrX1K0SMtQYlXV8pxKVqqbHV2eSlRiVdXCMAY5eadrH9kaeBqOyju9SmvqWoslfrRiYIYQQalx1HU4x0Qk04zJV12HDvXNQKJtxcfFj2wkomniZ8DPbWTTjA4iBGUIIIYQQQgi1MxxjhhBCqGnsben7Btm191mg286lKBXKFruDPnGwna0N3rTtEDJl2oxCXePrWUcspCZHNnmUGmoll9NU5dUt0585OkLq3NzaMKhl5ZfoUnO1ja9Xv5YPzBorXY4QQi2p0fkSUIuzEVPDw6XtfRbotqRMdQsGZgNDbJtdABC1LJWGbcHATCgE/Nh2HBkybUsFZn172fT0bPny1KgZKIB7DMxa/q5YD1fshUMItR38zkEIIYRQF9DygdmQ3rYDg21ovIWNEGp9/l6iKcMwOQchhBBCnV7L32kW0FT0fU4PjnXE2QwRQq2KpiiREG8CIYQQQqgraK0UIAFNCbDXDCGEEEIIIYSsgJWXEEIIIYQQQqidYWCGEEIIobZQWFjY7G05jsvJyeG4Zo6SqKioqKmpaepWer2+oKCA/L+2tra8vLx5R0cIIWtgNTOEEEKdD8dx586dGzt2bNsfuqKiQq1W29raurm5tf3RO7KsrKyEhITc3FypVNq7d+9JkyYJhf82M2JjY1esWLFz505bW1vjreRy+dq1a999910nJ6cGdn7lypX//e9/P/zwg4+Pj/mz27dvP3HihPESDw+Pzz77jH/49ttvjxo1auHChfXtn2XZr7/+evr06f379+cX7tixY+/evdu3bweAr7/+WiAQLF++3OLmDMPExcVlZGTcunWroqJCr9dLpdKgoKCIiIjIyEh+Vg+O44qKigDAycnJwcGhgdfbHTAMU1JSAgDe3t4CgekkDXV1ddXV1SKRyMvLy8odFhUVcRxncW8W4eVAHQ0GZgghhDqfgwcPnjhxol0Csw8++CA/P3/kyJHvv/9+2x+9Y9Lr9Vu2bNm3b5+fn1+vXr1yc3OPHDly7ty5999/XyKRkHVSUlJcXFxMojIAiIuLS01NFYnumohJLpfn5OQYLzl37pxQKPT09LR4An369LGxsTFeEhQUxP+/qqqqtLTU19e3gZeQmZl55syZ8ePHGy9MT0/38/Pj/z916lTzDQ0GQ0xMzMGDBxUKRXh4uIeHR3h4uEqlqqioOH369K5du0JCQpYsWUKOXlhY+MILLwDA4sWLJ06c2MD5dAepqanvvfceTdO7du0yD6W2b9++e/fuAQMGfPHFF9bsrbKy8rnnnqMoaseOHeZvM4vwcqCOBgMzhBBCnc+hQ4eKi4sNBoOVt8ZbULOz6bqw9evXnzlz5o033pg0aRJZsnfv3u+//z42Nnby5MlkSVZWVmhoqPm2WVlZPj4+Uuldcx/v2rXr5MmTxku0Wm3v3r2Nu+CMDRo0aNCgQfWdXlZWFgBYPDovMTFRIBAYd5cBQGZm5n333QcAJSUldXV1ISEhJltptdpPP/00JSVl7ty5U6ZMcXV1NX6WYZgzZ86sX79+xYoVq1evFgqFGRkZ5KnevXs3cDLdBPlr9OrVSywW1/dsnz59mrQ3f39/K6MyfhPAy4E6DAzMEEIIdT5PPPHEZ599VlZW5u3t3d7n0t1dvnz5+PHjjz76KB+VAcDs2bP37Nlz9epVEpgxDJObmxsZGWm+ucWA7ZVXXnnllVeMl8ydO9c8Ljp9+vSaNWvqC5Vpmn788ccff/zxzMxMoVAYEBDQwKtITEwMDw83btOXl5fX1NSQg2ZmZoKl0C4mJiY1NfWTTz4ZMGCA+T6FQuGkSZMYhvn222/T09MjIiJu3rwJAFKptOHuu26CxEUWgyKWZa0Jp43Vd40agJejPrdu3TIYDNYnkbY7hUKh0+k8PDyUSmV1dbX1F1Sv15PE41Y9PethYIYQQqjzGTp0KAAolcq2PzRN0wDQ9j11Hdbx48dtbW2jo6ONF1IU5eXlxf+V8vPzGYYxbzSr1eqioiLzFMHy8nKWZfmHVVVVfIxkbMCAAR988EF9J0ZRFGn0Z2Vl9erVyyRb0uQ00tLSnn32WeOFpKFPDpqVlWVnZ2dyF0Cj0ezevXvSpEkWozJeeHg4AGi1WgAgpUTCwsL4UWfdh1ar5ThOJBLx74oGAjOZTKbRaMyfValUeXl5QqHQ39/fJHmVRFnm68vl8pqaGnd39x49epi8B7rz5ajP0aNH9+7dS4be+fj4vPTSSybdyB1TbW3td9999+CDDx49ejQ6Otr6wGzr1q3JycnffPNNq56e9TAwQwgh1PlIJBJHR0fSdGtj9vb2ANBx7rC2u2vXrk2ePNmkdoJKpcrPzw8ODiYPSe+Hu7t7dXW1VCrlU9eys7M5jjMJ2Pbs2fPjjz+aH8g8MHN1dSXZg6R8olwud3V1DQoKMmmyZ2VlWeys4507d47juDFjxphsJZFIevbsSf5vfvSqqiqdTkfuETSABHiOjo4AIJfLAWDw4MENb9L1sCw7f/58tVr9yiuvTJ8+HQAqKysrKiqgnsCMxGwuLi4eHh5kiUwmW7NmDYm+AICm6UcffXTu3Ll8rEX+zvzeDAbD5s2bjx07ptfryRJnZ+cnnniCHJ3otpejPhUVFZs2bVqwYMGUKVMAYPXq1Vu2bFm9enV7n1fj/Pz85syZk5qaOnv27CZFkjdv3uxQiawYmCGEEOqUnJyc+CYX7/Lly66urnwbWqPRMAxDQilr1NbWNlqcjayANdx4Go3G/K/x999/19bW8qEOaTQvWrQIAObNmzd//nyynARsfPxGzJw506StHBMTc/78eYu5iCzLHjp06JdfflGr1WSJWCx+6623Ro8eTR5WVVVVVFSYh1XG9u/fHx4e7ujoeOnSJdK1BQAJCQmBgYGkeycrK8u8W4/UNSGN+/ooFIrt27eHh4eHhITodLpbt24BwJAhQxrYpEsqLCwkF4i/ECT0kkgk/v7+5uuTZ/mIPSkp6eOPP9ZqtSEhIZGRkRqN5uDBg9u3bzcYDAsWLAAAuVxeV1cnFAoDAwPJJlu3bj148KBEIhk2bJi3t3dqampubu66devc3NyioqIAoDtfjvqkp6dPmzZt9uzZ5OGgQYO2bt3KsixN0zdu3Dh+/Di/5owZM5ycnHbs2BEWFhYXF9ejR4/JkyeTS1lYWHjmzJn09HR3d/dHHnnE19f31q1bf/zxB9nQ29t74sSJ7u7uAHD+/Pm4uDi9Xj98+PBx48Zt3rzZ+CvdwcFh9uzZJhsCwB9//PH000+T75xdu3Y5Ojra29uXlZXNmTNn1KhRMTExFy5cmDVr1t69e41f2pAhQwYMGLBjx47i4uKhQ4eOGTPGycmJZMzef//9rfcnbSoMzBBCCHVKUqlUp9OZLPztt99EItGaNWsYhtmwYUNsbKxarR4wYMCzzz5rXKavPm+//fabb75pcgO1vLw8JiZm6NChI0aMgDshmfXBXpfn6OiYnJw8b948fkl1dfXu3bsjIiJIFh8AZGVlDRgwgFSr79Wrl8keYmNjHRwcGIZhGEav19fW1lZXVxcWFhYUFCxevDgiIqK2tjYoKMhi5Y+vv/767Nmz//nPf2bMmOHq6ir7f/bOOzyKav3j78xsT6+bXjaNBCItlBh6F7lKvxYURDFXbChiRUT0isLPcpEigiJSBEMThNDB0AIkBNJ7TzY92U2y2TYzvz8ODMtmUwmwSc7n4eHZnDlz5uycmdnznbecoqL/+7//++qrrzZs2IAOhLQfy7Lp6en29vbN8zqmpqbm5OTY2tqWlJSgKweVNzU1/etf/4KWM3/Y2toGBwfv2LHD09OzuUWOZdmbN2+uX79eq9WuWLGCIAiUGt7Ozq75GejxODk5ff755wDACSckvTQazZw5c5rXRxN0dCfqdLr169drNJpJkya9+eabyJc4ICBgzZo1Bw4cmDlzpo2NDbKkcRdJQkJCVFQUn8//7rvvuLO9cuXK69ev37p1Cwmz3jwcLREREREREaFUKrOzsysqKnbv3j1jxgx0wi9cuJCbmxsREdHY2Lhv376nn346KSnp2LFj6enpkyZNSk1NXbJkye7du/V6/YcfftivX7/w8PAzZ85s2bJl5cqVycnJ169fnzt3Lk3TMTExmZmZy5cv3717959//jlr1iyRSLRhwwaRSITU2p9//jlo0CB/f387O7vmOy5duvTkyZMTJ04MCQnJy8v77bff1q1bt2vXLhQOd+LEie3bt/v6+j755JOurq4VFRXR0dHPPfccn8+XSCRLlixxdnYePnx4TEzMhQsXvv7666qqKrVa3b9//0d83g3AwgyDwWAw3RILC4uGhgajQisrq8TERIVCcenSJaTKACAxMfGdd95ZvHixyXTnHOXl5UVFRWvXrt2yZQtXmJOT8/HHHzc0NMTFxQ0aNEggEGBhZsSECRP27t27efPm6dOni0SipKSkn3/+2cLC4oMPPkChOyjzx9y5c40sYwAwbNiwxMTEX375hSRJgiB4PJ5AIBCJRDY2NnZ2dk888QQX4mXkZ4g4fPjwP//88/rrr0+dOhWVeHl5rVixYsGCBWfOnHn55ZfhjjDbsGEDAEydOvX1119v3oilpWVdXV1GRsaePXtQYWVl5YIFC1rP/EGS5NKlS1euXLly5Upvb+/+/fs7ODhIJBKFQlFdXR0fH19VVTV06NDFixejJe+Qba132mcoiiIIIiAggFPXSJiRJEnTtFFlThsjYXbo0CG5XO7m5sapMgAYNmyYUCjUaDT5+fn9+/c38mO0trZ+9913HRwcDEWXnZ0dAFhYWKA/e/NwtE5qaurPP/9cXl7u7+/PWZPi4uJmzJgxderUmzdvHjlyxMvLKzo62sbG5ptvvpFIJNOmTZs/f35sbKyPj8/06dNnzpyp1+uLiooSEhIAICsrq1+/fk899ZROp6uoqMjOzi4rK9uzZ8+bb76JkgPZ2NhoNJq5c+eq1eodO3bMnj0bDeWWLVuMdhSLxVKptLS0NCQkZPv27RMmTPD19c3MzBw1alR+fv6vv/4qk8n8/f19fX19fX3PnDkTHx+P7PNbt24VCoVffvkln88fNWrUggULFAqFXC739vZuaRGORwIWZhgMBoPpljg6OhYXFxsVvvfeey+++GJtbe3UqVOnTp2qUChiY2P37NlTUVGxbt06uVw+f/78lgL9pVLpk08+efTo0YqKCvRTnZ+f/8knnwQEBMyePfuTTz75559/Jk6ciCQZFmYczz//vFKpPHz48OHDhwGAJMmxY8cuWrSI829sKfMHALi6ura0ZDNHVVWVycwfLMsePHjQ3d3dSG87Ojp6eHhwiWGysrL8/PxQnExzm1tWVtbFixc/+uijw4cP//XXX1xy/zYzf3D937hx46ZNm3Q6XWJiYn19PUEQDg4Ojo6Ovr6+SLBxlUtLS6G3KoHExMTPPvvs66+/RvE/LMuiM7x06VKjteMAID09fenSpXBHaMXFxQEAZ7pBiEQiX1/f9PR0hUIBzfKI+Pn5WVtbX758OTY2trGxUalUVlRUoFQfXKbB3jwcJuHyEw4fPnz48OFVVVXvvPPO3r17X3vtteLiYuQBCACZmZn+/v4kSWZmZkZERKBoW5ZlGYZpbGxsaGhIS0t79dVX6+rqGIZBHsUZGRlpaWmXLl1iWZYgiNWrV6emppIkyfkbo5A2AMjOziZJkjOrNt8RAHx8fEpKSlJTU5OTk7ds2YKCFb28vL766qv58+cfOXKEW2IhMzOT+5yQkFBUVDR9+nTu+5aUlMjl8tajTx8+WJhhMBgMplvi7Ox89uzZGTNmoLQKCAcHBwcHBy5QwcbGZvLkyePGjfv1118PHz4cFRWVk5Pz3nvv2djYmGxzwYIFx48fz8/PFwqF8fHxW7Zsqa+vz8zMLCgocHV1vXbtGpflAseYcVAU9cYbbyxcuDAnJ0cgEPj4+HCLSiOQzar1KC8AKC0traurUyqVWq1WJBJZW1s7Ozvb29tbWlrOmzdv1KhRRvVzcnIqKio++OADowyZOp1OoVBwie9R5g+TbpAsy/700099+vSJiIjQ6XRr165NTU0NCQmBdmT+4Lh8+XJ0dPTvv/+OzGKIsrKyRYsWjRs3zlCY9eZUEzdu3AAANzc39GdpaSkyd7eS+cPFxQXdZUhQNU99WV5eDgB+fn40Tefk5Bi2tm3btv3796N1FCiKcnBwsLW1RZu4oezNw2GSEydO/Pbbbzt37kS5cxwdHb28vNDLr+jo6ODgYKRpMzMzAwMDdTpdbm4u8vUFgLS0tNraWk9Pz//+97+jR49euHChVCpduHBh3759aZrOzc398ssv0cLrX3zxxbVr11xcXJydnZGoYxgmOTnZ19fXysoqIyPDz88PJXQxuWO/fv2QMPvtt9/mzp1rZ2d35coVa2vrP//809/ff8yYMRs3buTeAWVmZo4cORJ9VigUb7311rBhwwCgvr5eqVQGBQVVVFSYNMU/QrAww2AwGEy3JDQ0dOfOnc8++yxFUUbeUEuWLGlprxs3bjz33HNbtmzh5oiGSCQSqVSKgmEQAoGgsbHx559/BgA0XcCujIawLLts2bKnnnpq1KhRLSVDy8vL49InNqe8vDwqKuratWsoRx/yeeOc2YKCgiZPnvzss8823xHN7JsHCB07dkypVCJLSOuZP06fPp2RkbF27VoAiIiIWL9+/bVr1zhh1nrmD47U1FSxWGz07TIzMxmGQbqOQy6X+/n5tfRSoGdz48YNoVDInSVkLrO0tDR5Gxr6JapUKqVSCQBGZ7ioqKi2ttbS0tLd3T0vL0+j0YjFYg8PDwC4dOnSvn37+Hz+Cy+8MGLECCcnJ5IkY2JikNMdl2ukNw+HSfr06dPU1LRz587p06cLBIIrV67cvHnzs88+y83NPXz48NKlSznj5MCBA/Py8vR6/fnz5wcOHKhWq3/++echQ4a4ubkplcrw8HB7e/u9e/dWV1cHBgYWFBRotVpkZKuurq6qqvL09Bw4cODGjRuR0Prjjz+uXLmCnI2R6kP9MbkjAPj4+Ozfv9/e3h6Zv7KyslBQ3P/+97+srCw+n4+eCUg6In9mABg+fPj58+fDwsL0ev3q1auHDx/u7u6en59vbkvYYWGGwWAwmG5Jv379xo0bd+7cuZbWF26F5mEtCGRsgTvLcEVERMybNy86OvrUqVMFBQWoTmho6GeffYamgJjS0tK0tDTuxblJxo8f39zehYiPj//6669dXV2ff/559EoeWdtomlYoFGlpaUePHl23bh1BEJyzEwdSTVlZWYZp/VQq1Z49e9zc3AYMGAB3jHUmvSgLCgo2b96MjgsAfD5/wIAB169fX7BgAWoW9bmlzB8cyJ5m5B+LDG5GF8nLL7/cylpqPZjKysqioiJvb2/uLKFcHS0tBm3olygUCsVicVNTU1JSEjJ3IPbv3w8AyFGNS+GI2keuj9OmTTNcW+/ChQuGdaAXD0dL+Pv7L1my5OTJkyjRZVBQUGRkpLe398KFCwEAvb9A7Ny58/nnn5fJZCqVat68eSRJPv7442+//bZEIpkwYcLy5ctZlg0PDxeLxQcPHgwNDWVZ9plnngEAa2vrkSNHjh49WiAQzJs3b/369TU1Nf7+/u+++y668bOysubNm4eOkp2d3XxHAPDy8tLr9QsWLECrbmRnZwsEgo8//lgsFmdmZvr5+aEnQ35+PsMw3J07Y8aMX375ZeHChRRFDR069Nlnn7127VpUVBTKBGM+YGGGwWAwmO7K0qVLlyxZQtO0oTMbTdMok0QrO7a0PPSePXsaGxu//fbbwMBALqDl6aeffvrppxmGQQqwsLBQp9NVVlaaTPPd22iPm2JL828A2LhxY1BQ0KpVqwzDhwCAoih7e/uIiIjw8PAXXnghNTW1uTALCQmxs7Pbvn17QEAAl6f7u+++02g0q1ev5oxdPB6veZ79+vr6VatW9e/fH037EIMHD16/fn1VVRXLskqlEnW7pcwfCIZhcnJyuNQjHFlZWTKZzPAyy8/PLykpsbOzM7c39A8B5MdoGKSHzioX/2OISqVC7nNImFEUFRwcfOPGjXPnzg0ZMgRdJydOnEDLmiMJYRRghsytKBU+AqVQBwDu5Pfm4WiFiRMnTpw4saGhgWVZ5BoQExPj7Oy8bds2rs6uXbsyMjIyMjL69esXGRlZV1cnEom4lQPfeeedV155haIoiUTS0NBAkqREIml+8wLAM888M3fu3MbGRkO38F9//ZX7PGnSJJM7Xrt2rU+fPkikAcCqVau4TbNnz549ezb6HBAQcOTIEW6Tu7v7ihUrGhoahEIhEuQRERFHjx7t8Dl6wGBhhsFgMJhuDEVRaPrLsuyePXvGjx/fuRRbLMtu3749KirK09MzICDASCcAAFeya9eupKSkKVOmoFW5ejlFRUU8Hs+kQ1p7qKqqakW2AcDFixfr6ur69u3bfBNFUR988MGXX365ePFid3d3vV5fVlbm5+e3du1azr8xKyvLx8enuWFk06ZNPB5v6dKlhgIe5TYoKioyXHGreeaPlJSU6OhohmEAQKvVajSapKSkNWvWGLafkZFhY2PDFfbr1y8+Pj42NjY8PBy5SvYqUGo+7iJpHhJmCNJsJElyOTxnz56dkpJy4cKFzMzMESNG5OXl3bhxgyTJTz75BGWJMBJmgwcPPnv27MWLF5cvX+7r65ucnIwqAADnuLhjx45eOxxtYuinnZWVZTRMyNvw4sWLSAJxwXscnNBq09+bJMkOBetmZmZeuHDh+PHjX3/9dfv3MsT8XdCxMMNgMBhMT+Dy5cs7d+78888/t2/fbpgOpD1UV1dv3bo1JibG0tJy6dKlLdnTEM01W2/GyclJr9cvWbKk9RnPtGnTwsPDm5dPnTr18OHDJSUlQ4cOlclkFhYWBEHQNN3Q0JCbm5uQkJCTkzNnzhy0sGxzQkNDN2zYkJiYmJ+fb2trK5PJQkNDDYcPZf5ovuPkyZM9PT1R7gEOZ2fn//3vf76+vrt27TLM/GGU5b+pqQkFwgGAWCw22Tcu3RzC0tIyNzcXWpAiPRuGYZAw48RtcXExWoHQpCZHJ8rT05MzwvTv3//zzz//6aefCgoKkAejt7f3/PnzUd4OmqaRmzHX2pgxY/Lz8/fv35+QkJCQkGBnZ7dkyRKUnx3FMXJH6YXD0VFeeOEFI++Djz76CC1rgbyFHyYNDQ06ne7LL79svvBGj+GBCLMapT61QKPRdtjpH4PBYNoPRYHMTeDlLHjUHcGYBf7+/mPHjuXz+e1RZampqT/88INUKrW1ta2urk5OTqZpWiqVrlq1qs3gsa+++qqLutwTGDdunIWFRXp6eit1CIJoaXXvyMjIoUOHxsTEnD179uDBgxqNBu68R3dxcRk+fPi7777b3BHREEdHx5Zkm16vb2hoMJkPvaUlZZGVDOUOQQJPqVQatR8WFhYWFtZKl0zSUpRdjycnJwelaeGEmbe3dysuZDNmzJgxY4ZRIVLgjY2NRUVFjo6OaCViBEVRaJ0GQxYsWDBnzhzkrOjk5IQKX3jhBa6CoW8ephVQHJchSDDPnTv34Xdm0KBBPX55g65bQgKcAAAgAElEQVQXZpV1+p8OV+v0Xd4wBoPBGHP2RuPs0daP+YkfdUcwjx6pVPree++1s3JISMi6deuuXbsWGxurVCq9vb3Hjh3LpcLHtB8+nz9ixIj7STk9cOBALmW5VqtFKym1HiLYTng8XlRUVOv2T5MsXryY68APP/zQiRYwHJxob11gtwcLC4s+ffq0vzI2iGG6HV0vzG5mN2FVhsFgHhrX05uwMMN0ApFINGrUqF5rxzBPBAJB8zf090PnNJWhtypWZfcJiu9ycHBoab0EDAbD0fWO8k0a7MGIwWAeHioN86i7gMFgMBjTtJ7WEoPBGIKTf2AwGAwGg8FgHgjffPONTqfjMnlgMJhWeODC7KUn7CTCLvAUx2AwGI6dp+oUjdhQhsFgMOYOl6Eeg8G0yQMXZk62lKUY+2djMJiuhCLx6x4MBoPBYDA9CrwYCwaDwWAwGAwGg8E8YnCMGQaDwWA6Rl09veXv6kfdC8xtKmq7MhXy3rO1FIUt0maBooHuwtaa1Cy+bc2HLrxtD19SCPj4njULGlT3G2SBhRkGg8Fg2oZm7mbc1TNQVIHXRTFHGKbDiZFZ9p5dSqu7UgxgHi2Gty0L+LY1U9j7S2deXovv2Z4DdmXEYDAYTNvgpVC6BRp9h4epRolndd0DpuPv4utxkqTuQEeFWW09FtjdA7Wuww9kLMwwGAwGg+khdMKficQTge5Cx0eXwA5uPRESp7/qJnTi4YqfxxgMBoNpGwsR/r3oBggFHR4mOysc1NA96MRs3NoCp8XuBhAdvGtt8LB2EzoR+4d/aDEYDAbTNvjVe7cAjxLGEHzbdgvwKGE4sDDDYDAYDAaDwWAwmEcMdmDAYDAYTI/FQkQMDOABQG09k5JvnOUiyItysjF+QcmyoNGxKjVbVMnUq3DKEzPC1YH0c6Mamtib2cbJD4I8KSdbEgDUWjYu4+5WPg/83CgnW9LZlhTwQKliqxRMcp6+Uf1Qe45pD/ZWRIhPa/PSugYmOe/uXWwtIXxdKWc7wt6K1OjYijq2so7JLaVpnPHEbOjQMxZV1urZa2kmspv086VsLclKBZNR2JPzFWFhhsFgMJgey2N+VHhfPgDoaTantEmtvWdroAfVx6vF30Gdnj0Wq80s7smTgO7F2AF8dyeqrIYxEmYD/HkTwwTo87mEu2Ps7khOHS6wtTSeF0aE8s8n6G5k4dR25sXj/fjB3q3NS/PLaE6YyVzJaeFCoeCuG2CABwBAaTV96IK2UY1fqZgFHXrGosqNatPCbFR/gYWIyCjUY2GGwWAwGEy3pJ/v7Z85HkX08+UZ2lI4aIYtrrj7jl3ABzsrUiQg+DziqQjB3nOaogr8Bt48MBWLM8CfN2EwHwBYlj1zQ5dwR2719aGeGCYgCAIAGtVsWTVDkuDuRAp4BEUS4wbx1Vo2taAnz/C6KQzD1jWYllWcdcXVnpw5SogGt7yWqVEyPAo8nCixkHBzoF6cLPz5iBrbzcwH/IxtP1iYYTAYDKZn4uVMGlpL+vuZFmZqLfx5XmNYQpEwfrCgvx+PIIgADwpPGswWzlbGsuyJ69qk3NtCSySAsQMFBEEwDHs9Q38pSYem6RQJQV7UE0MFJEk8MUyg1mpy5XhwzQu1Dn451oanaYAnRRAEy7JHrmg5+wmfB3PHCN0cKUsx6SUl8/DImg34Gdt+urcwq66ubmhoQJ89PDwoqsX8oUVFRQzDAICVlZW9vX2HjtLY2FhVVUWSpKenZyvV5HK5Vqu1sbGxtbXtUPuPnNraWqVSKRQKXVxcTFZoaGiorq5uT1NtniUOszpdCoWirq6uzWqduHjMnKampoqKCgDw9vZ+1H3pUeSXxqXmnp78+HsU2b2fsd2dUBkPAHR6NjZVN/Ixgb016SUlC8vbngHQDFxM1Pb34wGApzMFoHvgfcV0HE6VMQwbfVVraP4a+RhfLCQA4Hq6Pibx7vDRDKTm0yK+bvxgAUkSE8MEm4/gaLPuh4cTCQBNWjD0atPp4XKybvYYCgD83CgszMwZ/Ixtie49afj++++zs7PR5/fff3/QoEEmq5WVlS1btgx9njRp0sKFCzt0lEOHDh05ckQsFm/bto0rLC0tPXfu3PPPP8+VvPfeezRNz5o1a86cOR37Go+ajRs3JiUlhYSErFixwmSFgwcPHj16tD1NWVlZbdmypT01zep0bdu2LTY2ts1qTzzxxPz58x9Cfx4ax48f37t3LwDs2bPnUfel55BXcu1k7Pcsy6jUdVYSx0fdnd6LkA+BnhQAFJYzKfn0iFCWIIgB/rzCcm2b+wIAwwLLsgRBMHh2Z5YM9OdNCBMAAM2wR69oM4rucUr0d6cAoKGJvZJqYsJ3I0vv40r5uVHWFqSbI1lahce4m1HXwLo7gkRIDArgGcYK5pUxJ65rGYatrMMxZuYOfsaapHsLM8ZgMGNjY1sSZleuXLmfo7Cs8e197ty5rVu32traGgozptteWc2/oBEP4qt139PVk2hz6DEdhVNlj7ojGAj25vEoAgBS8vX1KraogvGSUgHulIUIWs/IJ+CBow05Mex2eFJZDQ5DMjs4VQYAf13U5pTeM0Z8HliKSQAoKKd1LST4KK6g/dwoAJDaYmFmXkiEhJOtiWhCjRaUd2LMckrovj48ABg/WDA0mJdfxuSX0UUVTKOaTczBOV3MHfyMbYXuLcwMiYuL0+v1PJ6Jb3T58uWuPVZ2djZNG19Go0aNYhimR7qEPfnkk48//rhhyd69e5OTkwHgiy++MCw3ef67EUZfxwipVPrQevJw8PLyGjlyZHcfNfPhjirDctcsCJVRAKDWstklNAAk5+m9pBRJEo/58a6k3DN1kwjhzZli9JkgQMi/Oyls0rCXk/E8z7xwsSdd7AXcn7xmQQx2VrdHUNFCDgkAKK+9LcYsxXh1X7NjwRRx80I9zW49qkb5PzKK6Jhb2pGP8QmCsJKQoTIS+S1X1jFJufr4THzPmhf4Gdt+es6ETKVS3bp1a/DgwUblxcXFRUVFD6EDr7322kM4yiPB0dHR0fEejyxLS0v0ISAg4FH06IFAEERP+jrtISwsLCws7FH3oodgoMqwMHv0ONkQLvYUAKQV6FHWh4wiesJgVsAn+vvxYlP1hvKZIAiRwEQj8Zm6y8k6dbs8HzGPjMlDBWU1akWjifuObFlzcenU8Yup7gKPIgQGg3U1TV9SxYTKeL6ulIXo9kg72ZLjBgm8XaijVzQaHLVkNuBnbPvpCQ8kmUxWXV2tUChiY2ObCzNkLvP39+ei0RB1dXUlJSUkSQYHBxuW6/X6jIwMAPDx8bGwsDBqjWGYtLS0srIyANDpdCkpKQAQFBTE4/FycnLUarWTk5Ozs3NLXa2pqZHL5QAQEhKCDLiIvLw8lUolEAiMhEFaWhrDMIZt6vX69PT04uLiuro6FxcXb29vHx8fw6YAICsrS6vV+vj41NfXX79+XSQShYWF2dnZoa0NDQ1xcXHl5eU2NjbBwcFeXl4t9bbTtKeTJikoKEDZXBwcHAwzkdTW1ubm5hYUFJAk6e3t7efnZ21tbbijUqksKiqSSCS+vr719fWZmZm5ublWVla+vr7+/v6tZIXpHOnp6chkajSOtbW1paWlAGBra+vu7o56JRaLZTJZWVlZRkZGaWmpg4ND37593d3dmzfb2NhYWFgol8vLy8tJknR1dQ0JCTGSxNnZ2RqNxtvbWyKRFBUVZWRk1NXVeXl5BQQEODg4GDWo1+uTkpJKS0uVSqVUKnV3d/f19RUI7j4dUQ8BoG/fvkY7tjmCHepJjwerMnMDvT4HgD5ePC4xo4BPAICVhPRzo5AZDaHRsWdvaAFAJCD6+vKcbUkAUDYysSl4xmCmaLTsvn80j/nxQmU8IZ/41+OC3ac1zJ2bj7zzsCKNFzC7i9UdQ5kKL3hlZqi17K7Tpr2NjUygxZVMcaUWAJxtCS8pJXOjvKW3M3+MGSA4cR3fveZCe5+xLAAA1cJty+/iqZyZ0hOEGUmSw4cPP3HihElvRiTMHn/8cSNh9vfff//9999GKT0AICcnB/mzffrpp0azVQDIy8vjvN2USiX6/NNPP9na2i5fvpxl2dazWVy7du23334DgNWrV/v6+qJChmG+/PLLxsZGHo/366+/cvNmuVz++eefA8Abb7yBhNnNmze3b9+OpB1HcHDwa6+9ZqjcPv30UwCYPXv2oUOH9Ho9APzyyy9ffPFFQEDAxYsXt2zZotHcTVo6bNgwrbYrH17t6aRJLl++/OOPP7Isa2Njg74CADAMc/jw4aioKEPfUaFQuGDBgrFjx3IlJ0+e3LdvX2Bg4KRJkzZt2mRYOTAw8K233jKSN/cDwzC7d+/OzMwEgAULFkyZMgWV6/X6b775Jj8/HwA+/PBDd3d31CuZTDZo0KB9+/YZNmKUhEav1x8+fPivv/4yHBoAoChqxowZs2bN4kTR8uXLAeDtt9+Ojo5GfUDweLwXX3xx0qRJXElOTs6aNWsUCoVhg05OTm+88UZQUBD68/Tp03/++Sfcm/yjnSPY/p70eLAqMzdIEkJ8bv8QiIWEr6vx7/kAf56hMNPTwK1am5Clnz5SKHOlrC3Ip0cI957T4HhYc0OrY/88rymrYSoVWk9n0taSdHWgRvXnn79520SiaLw9Zs52LSozZ/vbm7iwJYyZwLBQo2xtUMQCCPXjiQVEfKa+oYkFgIo6tqJOH5eh95aS0x4XSoSEzK13zOK7Ce18xmr1AAACU9KET91+s6bt6W6PLb9N6laEh4cDQFNT061btwzL8/LyysrKCIJAFe4fsVgcEhKCrE88Hi8kJCQkJKT9ITpcehLDfubm5jY2NoKBsQ5x48YNAKAoauDAgQCQlJT0zTffoOmyv7//448/jqwuaWlp77//PjLiGbJv3z6kygDAxsZGJpPl5uZu3rxZo9Hw+fz+/fsPGjRIJBJdvXrVcFZ9n3S0kxyxsbHr169nWdbe3v6zzz7z8PBA5T/++OOePXtomraysho2bFhYWJiFhYVGo9m8eXNUVJRRI5mZmevXr6dp2tvbu0+fPnw+HxVu2rSpq74gAJAk+cYbb4hEIgD4448/KisrUfmePXuQKps2bdqAAQO4+rm5ufv27aMoaujQoRMnTnRycgKAkydPRkdHc3UOHDjw559/ajQaS0vL4cOHjxkzpk+fPgBA0/S+ffvi4+ON+vC///0vMzPT0tKyX79+qEG9Xv/rr7+mpaWhCvX19UiVURQ1aNCg0aNHIwtkZWXlypUra2pqWvp2HR3BNnvS48GqzAwJcKdQqvTsEv2FRK3hPzRl93EhbSxM2/BpBo5c1igbGQDwcKLGDuA/zJ5j2kNNPVtWwwCATg9HY7UMwwJAWBDP1/X2lKZJA6VVNAD4uFCezibmOUI+DAniAwDNsHlynHigm+FgQ47uLxgazO/jZay+CsqZnBIaACzFhIXoUXQO0xatPGObtCwAkCThYG38fLa35u7uHv5T2xMsZgAQFBRkZ2dXW1tr5M2IzGWclLp/3NzcVqxYsWXLljNnztjY2LSUX74lnJ2dvby8CgsLExMTp0+fjgoTExO5CsnJyaGhoegzEmbBwcEWFhYNDQ1It4jF4rfeegtJNQA4duzY77//rlarf/vttw8//NDocEOGDJk9e7ZSqdRoNBqN5ttvv9XpdHZ2dh9++CFKUlJRUfHNN9+UlJR06mQY07lOAsDVq1fXrVvHMIyjo+OKFSs4s0xSUhLKqDlw4MA33ngDeZYqlcrvvvsuPT39r7/+GjVqlFFCDrFYvGzZspCQEFTz008/LS8vT0lJKSsra2mVNg6WZbdu3drSVgsLi2effRZ9dnZ2fumllzZt2qTRaH7++edPPvkkKSnp77//BgCZTPbMM88Y7SsSiZYtW4YMsE1NTd99911SUtKOHTv8/f0DAgK0Wu2pU6fQvitWrECSDwAuX768bt06APjnn3+aR4KNGDHilVdeQZXRGQaAM2fOINfcpKQkZCt75513uH1Pnz69detWlmVjYmK4y8+Qzo1g6z3p2WBVZp70u+PHeC5BV3ev7xPLwqj+AoIg+vvzYm6ZjkHR6uDYVe2/xwoJghgYwEsvpEtw1j5zpbSKiU3VP96PTxDE1GHC346rUfDYrRy9myMFAJPCBPv+0RhGoPEomDxUcEe609hbtdtRWs1odKyQTwwK4OWW0jX19wwuMpPWq5jWk69iHiEtPWO5lDzjBgn2/3PXORkAhvS5/VTn6vRUeojFjLOJxcXF6XS3f2tZlkXCLCIi4lF27l7QLDkjI0Otvv3MMBRmKGgNAFQqVXp6OgAMGTIEAG7duoXm2bNmzeKmywAwdepU9O1u3ryZk5NjeCBra+vXXnvN29s7NDQ0LCwsIyMDLRI9d+5cLnWks7PzK6+80lVfrROdBIDr168jVSaVSleuXGnoLIeW2LKxseFUGfpeb731Fp/P1+v1R44cMWpt1qxZSJWhmrNmzUKfjRzzWuJ0y8TExBjWHD169LBhwwAgKSnp+PHjGzduBACxWPz22283t6BOmzaNc4sVi8WLFi0iSZJhGLR4Wl5enoWFBUVR//73vzlVBgDDhg1DSVaM3BEBwNbWltNCADB16lRkrUIRbgDA2fFcXV25vcaNGzd+/Php06a1FFjYiRFssyc9GKzKzBNLMeHrQgJASSVd1ywpX3KeHhlYQmW8liIZAKCogrmVowcAgiAmDxG0EqqEeeRcTtHJq2kAkIiIaeG3YwGS8+iCMhoA7K3JBVNEQ/rwXO1JJxsixJuaP1kU5MkDgCYNe/YGThBhdkiERIg3ZfKfuyMJAAwDeaU0ANhYki9MEo0I5fu7U+5OZKiMenGySGpHAoChrzLGDDH5jC0oo5Fvqo8LNWu08DEZ5e5IBrhTs0YJg715AKDWsvllPXxke4jFDADCw8OPHTvW1NSUmJiIjGaZmZnV1dXIhexR9+4ugwcPPnDgAE3TKSkpgwcPVqvVWVlZADBlypTjx4/n5OSoVCqJRJKYmIgCpZCQQyKNoqjmoTtPPvnkpUuXAKCwsNDPz48rl8lkEomE+7OgoAC1MHLkSMPdg4ODPTw8iouL7/+rdaKT8fHxhw4domna0tLys88+s7e35zaxLFtYWAgAoaGhIpHIMGzMxsbGz88vPT29eb5NQx9CAOBkXjvj6GQyWUubjNKNAMCiRYsyMzNra2tR3CAqMZlSn4tD43rVr1+/xMRE5PoYFBT0ww8/MAxDGsz+FApFRkYGMpZyLqkcffr0MZRwACCVSisrK7m3EsgTEgCWL18+ZsyYAQMGBAcHCwSCRYsWtfztOzOCbfakp9IeVRabuIvPEz7MXnUUawupg21PW+Gjny+FYjJT8k38fjeqIU/O+LlTEiGBlp9uiX9u6fzdKUsx6WBDhofwLyX38Eu6+8KycDRW++JkkYBHeEmp8L63l0M4fFnzdITQS0oJ+MSYAcYp4Rqa2MOXNGgWiDE3ngw3/eRkGPbHg01aHZyM04qFhLcLJeAT4X2N/Y1Lq+krKfiGNXeaP2PVWtj/j/qZ8SIhn/BxoXxc7nlEMwx7Jl7b403cPUeY+fv7Ozo6VlVVXblyBQkzZC7r378/l9v9oREXF7d9+3ajwscee2zRokUymQx5XSIBmZKSQtO0WCyeOnXq8ePHWZZNS0sbPHgw8mOUyWQowV1eXh4AODo6GqbUQ7i5uaEPRjYKI889JMzs7e2b23NcXFy6RJh1opNImQBAY2NjZWWloTCrra1FaurixYsXL140ecTmIU/IXMPRoaEnCOKrr75qf31LS8vFixf/97//RX+OHj3aaLU3hJWVVfNuoH5yXx8AVCrVxYsXc3Jy5HK5XC5HYYctYfQ14c435VbQCggIGDZs2NWrV5uamqKjo6OjowUCQWho6ODBgx9//HEjKcXRiRFssyc9kvbZyoic4vta2v7BwwLAlMeXPepudDHujhQA0DSbUWQ6SDwxV+/nTgGApzOF3N5M5uXT6uB0nG76SCEADAzgYWFmztTWs+cSdJOHCABgeAj/erpeT4NaC3+e1wzw4w0K5HEBKgDQpGFT8vVXU3UqTcstYswSkiTQEggaHUT9oxkRyg/woOytCC4/Vl0Dk1tKn7+po3u4v1u3oaPP2Io6dv8/mrAgnqsDaSW5e9sWV9CXUnSF5T1/XHuOMEPejEeOHImPj9fpdBRFIT8xk3PlVmC6IgOXWq3mfMk4kJMYQRCDBg06c+YM8mBMSkoCgL59+zo7O7u6usrl8pSUlIEDByYkJMAdcxnaCwBMzqeFQiFFUTRNG03lbW1tDf9E+R6EQhNvoWxsbDr5Pe+lE50EACcnp5qaGpqmN23atGbNGk4StJKggkOhULAsyz2RCYIw+oLtydF/Pzg5OaHvBQAtJeVvvugCAIjFYgBQqVQoj2jzbJkEQfj5+ZWVlaH1A4xofpKNvilJkkuWLDly5MjZs2eRfNVqtfHx8fHx8UeOHHnvvfdM5uvvxAi22ZOeR7s9GLuJNO0m3Ww/+2PamG5nl9Br96i4P1txZsu6tybmkbP7dIuDm5ijT8wxluIsCwnZ+oRsvVgINhYkRUK9iq1v6tkvjroxf1/R/n2lvQYRloULiboLiTo+BY42JElCtZLp8eaUbsfZG7qOPmNLqpiSKi0AWIjAzorU6Nh6Fdt7RrbnCDMAQMIM5WYUCoUKhUIgELS+fm5zGdYePdAmUql01KhRRoX+/v7oQ1hY2JkzZ+RyeUVFBRJm/fr1Q//L5fLk5OScnJz6+nq4E2AGACh5iVKpbH4shUKBhIGRr53R/NjDwyMjIwM1a4TJwk7QiU56e3svX778+PHj+/fvLysr++OPP+bPn482cWthTZ8+ferUqS0d9BHKAJqmURJI9OfZs2cHDx7cfCU9k8qqtrYWANzc3Hg8XlZWFkrxT1HUkCFDAgMDfX190fpgH330kcnd2wNBEE899dRTTz0ll8sTEhJu3ryZmpqq1+vlcvmGDRtM2gY7MYK9DRxXhsF0R5o00KTp+e/aeyc6GuQ1eHB7II1qaFT3upHtUcJMJpNJpdLy8vKrV68iw8vgwYNb8tpCudS1Wq1RbE8rKd3bT0BAgNFS0Yb069dPKBRqNJqYmBiUEREJs9DQ0FOnThUWFp4/fx4ApFKpp6cn2gWlcKirq6urqzMyhSH3MwAw9ANsjp+f35kzZxQKRW1trVGOyq7KytiJToaFhVlZWc2YMSM2NrakpOT48ePDhg1D8VF2dnboLJWUlDQXA7GxsTqdztnZ+RHqhAMHDqDF8Z544omLFy/W19dv3rx57dq1RhbIhoaG5icEOTGikLarV68izbN06VJuQQUAYFkW+Q12woqbn5+fn5/P5/MjIiJcXV1dXV2nTp3KpanMy8urr6+3srIy2uv+L7OeDVZlmG5Ax19V9XAbdw+iEyOFB7dH0tMdU3o1PS3VFMrNeP36dZRmvRU/RuRghmK6uEK1Wn3t2rU2j4Kc1ri0ih0FLSMGAGjRYVtbW7RsV9++fZH958yZM2BgLgMAJPNYlj1w4IBRa/v370cfjPJeGMGltTh06JBh+Y0bN7pKmHW6kzweLzIykiAIlmVRDnrDBuPi4owyASYmJv7www8bNmzYvXt3l/S8E2RlZaGv6ePjM2/ePLRatFKp3Lx5c/PKKJM+R1xcHDrnaJFxLsAvMDDQsFpMTAw6FYaJT9rJjh07fvrpp40bNxq61FpbW6OUlSzLmhR793+Z9WCwKnOwxgu2dgM6MUz2NnhkuwEkAbZWHR9cfNt2Bzp62+Jh7S44WHfYANYzhZlarUa5DQ1TfhuB5sQAsHXr1qysLJqmc3JyvvvuO5Qko3VQIFNjY2NMTExOTk7zpHltYuhgicxlAGBhYWGYFdBQmIWFhaFVoU6ePPnHH3+grBhoRS9ktBk9erRhovnmeHl5oYOePHny4MGDqM9JSUlduPjy/XQyMDBw8uTJAFBeXv7HH3+gwueffx6ptf/7v/+7efMmy7J6vf7WrVuc+HniiSe6qvMAwLJsK+nyT58+ffbsWVRTrVaj9b4oilq8eDFFUeHh4Sj5540bN9CiZIYcO3bs2LFjSAslJCSgc+7q6or8XbmM9gcPHkRqX61Wnz179qeffkLlKlWHo1xQKn+aprdu3ZqRkcEwjEqlunbtGkqjEhAQYDKw8P4vs54KVmUAMDHM0lrS034yehgWInLyUGNLeJsM9Bf7uuJ1tM0akoApw6xEgg7fgGMHWtp3XM5hHiYiATF1eMd8f4K9hcHeZp3yFwMAYwda2HX87utRrowA4O3t7ebmhhzAhg4d2jwDIUffvn19fHzy8/Plcvmnn36KBAAA+Pv7ozloKyADFwCg1au+/PJLLn6snQwcOJA7IifMACA0NBRZh6ytrY2cIRcuXPjll18qFIq//vrryJEjNjY2KE4JAMLDwyMjI1s/IkmSb7zxxmeffVZQULB3794DBw4IhUIUv8Tj8TqhLU1yP5185pln4uLiqqqqkENjcHCwr6/vrFmz9u3bV1tb+/XXX4vFYoZhOHvaxIkThw8f3iXd5mhlgWkAoChq3LhxALB9+/by8nIAmDlzJrcm2MKFC1NTUxsaGnbs2NG3b18ujSEAMAzz+++/7927l8fjoeQZlpaWH3zwAUpgOG7cuNOnT+t0uqNHj544cUIqlcrlcoZhCIJwcnKqrKysra016XnYCmPHjr1w4UJWVtatW7du3bolFos1Gg1ShkKhcMaMGS3teJ+XWY8EqzKE1J7/zlzHagVNM736PJgtFEnYW1M8qsNOTnwe8dIT9rX1tFrb68I5ugu2lpRY2JnXInZW1FuzHKqVtJ7Gt605QhJgb83j8zp225IE8ex4W0UDrcKRk+aKjQUlEXXmnu1pwgwAwsPDkdtVm+tKr1ixYsuWLdeuXaNpmmVZgUAwePDgyMjIBcfQ+E8AACAASURBVAsWNK9sqPFGjhyZmpoaExODlFVpaWlHhZmVlVVQUBBaNspImCFXw8GDB5P3rmnq6en57bffbtu27dq1azqdrra2liAIHx+fgQMHzpo1i2zHAqgikej999//5Zdfbty4odPpdDqdUCj817/+pVAomht5Osf9dFIkEi1atGj16tUAsHnz5h9++AEAZs+e3adPn23btpWUlDQ1NaGa9vb206dPnzBhglELLeVF7CrQNZCUlHTu3DkA8PHxmT59OrfV1tZ2wYIF69ev12q1mzdv/vzzz1E5QRDvvPPOL7/8olAokKqUyWQLFy7k1jPw9PRctmzZtm3b5HK5Xq8vKSkhCCIwMPCll17SaDQrV65kGCY+Pn7MmDHt7yqfz1+2bNn+/fvPnj2r0+nQqePxeDKZbNGiRVzsIsLwvN3/ZdbDwKrMEIoknO164K8GBgDsrCgAbFrpgZAk4WSLb9seiI0lZWOJ79mexm2jTXl15sFzn3Klw/o9N7DP051r8fAlZVxGE/fn+886WorN+rrR6XTIfdHHx6cVC1tzVCpVTU2NtbX1Q84/wTCMXC6vqamRyWQmU7G3SV1dXWlpqVgs9vb2fkBT7fvvpBFqtbqoqEir1To7Ozs4OHQLhbBv3759+/YRBIGcM0tLS6urq6VSqUlvQIZhqqqqKioqJBKJh4dH85XEOodWq62qqqqurraysvLw8Gj/Fd7lI9i1/BBVVVN/O/TOyZZ6c6bjfTZo8hnYG1TZlPBlx6+s5f4cPfjVYN/xj7A/GAwGg8H0Ev6J/zkt7wz354vTNuOXKMDn8ztq70JIJBKJRNLl/WkTkiTd3d1NrkPVTmxtbY1y7nU5999JI0QiUSuJLrsFbm5uhv6NRpAk6ezs3OURXAKBoPXjttKfrh3BbkdeyfUer8owGAwGg8GYD1iYYTAYjAluZR5hWey+j8FgMBgM5iHRDfzBMBgM5uEzdshiscgWrwOEwWAwGAzm4YCFGQbzoCBJks/nt7TEOcbMsbF0mT7mc7HIBmszDAaDwWAwDwHsyojBPChmzpw5c+bMR90LTOdB2uzQ+c+a1AocaYbBYDAYDOaBgi1mGAwG0yLYbobBYDAYDObhgIUZBoPBtAbWZhgMBoPBYB4CWJhhMBhMG2BthsFgMBgM5kGDhRkGg8G0DdZmGAwGg8FgHihYmGEwGEy7wNoMg8FgMBjMgwMLMwwGg2kvWJthMBgMBoN5QDzwdPkJWWohH89gMBhMV6LWMY/q0D0phz5BkFhgYjAYDAZjJjxwYXYqruFBHwKDwWAeJjaWLk+PXvnXPytb12YRAxaIBNYPs2MdxVLioNWp2l8/s0iTJ9fSj0wUY1qDIsHbhd/HqzMr2lfW6ZNy1Wpt937R0INxsKYGBYr5vM68R8mTa7OKNXq6yzuF6QJIAtyd+P18hQTRscGta6BvZjWpNPieNVNsLclBgWKRoMOeiV0vzDSP7k02BoPphWh0j+CXydbKtU27mY/bECuJ40PuWEcpkN9oZ81r6aq/L9c/0M5g7pNLyTBpCD0i1KJDe1Up9Jv+qsYTdzMnJV+9cKp9R/dKzlP/eU7xIPqD6ULk1ZJJQ6zaX79eRW86VN2E36SYNwnZ6v88ZU+RHZPcXR9j1qDCwgyDwTw8dPpH8+PU2+LNEjKbHnUXMG2TkNXhYUrKVWNVZv7kl+lq6zs8Tp24HjAPn44OU1qhBqsy86e8Ri+v1nd0r64XZjaWVJe3icFgMC0h4j+yJEa9SpthP7dugbrjrk14ZLsLam2HX3zjwe0WdHSYOnGbYx4Jnbhnu35Cw6N6/gQFg8GYD7wHHirbGr1Km2EwGAwGg3lwPNIZDQaDwXR/elKexnZib0UteMLuUfcCc5tdp+rKazvsMNMSL0+1w54vZsKVFNWVlA6k52kdsYB4bbpDV7WGuU8OxCjyy3Rd0tSz421cHfhd0hTmPrmZ3XT2RuP9tICFGQaDwdwvvU2bkSTY4rm72cDr0qGwtqDw4JoJIkFX2uEJfNuaE53LsWkSSzG+Z80FifB+XRHxAtMYDAbTBWCfRgwGg8FgMPcDFmYYDAbTNRhoMwwGg8FgMJiOgV0ZMZ1B5kpK7W+r+vRCurbetO+WkA+DAm9fY4pGNjWfFglgYAAPAMprmFy5cbIaVwfSx+V2swlZerXWuMEhfXjIaSdfTvu4ttdwfz1dj5NBYx4OBj6NdQQ2nWEwGAwGg2k3WJhhOsO0cKHwju+7kK87f9N0AGuQJzUiVIA+55fRqfm0v/vtkuJKOleuMaofFsjr432PkDPcaikmxgwQAICeZt0dKd92C7OELCzMMA8PG0uXGWNW5ZVet5TgOHsMBoPBYDDtBbsyYjqFgSUgyLNFgcSpLI7CittWMhd7kmp29Xm73G3K18W4WU/n2zsUVzJsz0+vgOnGWFtK+wdOe9S9wGAwGAwG053AFjPM/WJtQbo6kPJqY79ECxF4ORtrL2UjW1vP2FmRPIqQ2pOlVXf3cnUgxcK7gq+5p6KH0+3W8svo7BL6cvI9fmJPhgvsrEgAOHxJo2y8R7dpuiYhLQaDwWAwGAwG86DAwgzTBfTxopoLsyBPHkGYiLEpKKeRgvJwvEeYca6JeprlUYRESLjYk2U1dyt4Ot+ukF+GotruUV+6O86KFXVMSzFvGAymu6PT6fj8rl+xh2GYvLw8mUxm8qnVJjRNAwBF4YzVXUBNTY1KpbKwsLCzM7FWXmlpKcMw9vb2EomkPa3V19crFAqJRGJvbw8AJSUlLMu6urq2c7BYli0pKQEAGxsbKyurjnwPDACAXC6naVoqlT6I2xYAVCpVTU2NQCBwdnZuvSa6rkQikaOjYycOpFAo6uvrCYJwd3fvVE8x5oXZDih2ZcTcFwzDAkCgh4lfuD5epn/2Cspuay13p3suP19XEgBohr2YpDMsQUiE4GBNAkBDE1tZh3UXBtMbYRhm+fLl//3vf9VqdUt1cnNzY2JiWqlgkqSkpLfeemvbtm2tV0tISDh//rxWa5yY6JVXXnnppZd0Omyd7wJWr14dGRl55MiR5ptUKtWrr74aGRmZm5vbzta2b98eGRl56NAhAKipqXn11Vf/85//NB/BliguLo6MjIyMjLx+/Xo7d8FwaLVaNF4KheIBHSI6OjoyMvLnn39us+bRo0cjIyPffPPNzt2nmzZtioyMXLFiRSf2xZghZjug2GKG6TwaLSuvYXxcKGsL0s2BLDUwmllLCDdHEgAKymlv6T0KrbCCZlmWIAg3x7vlIgG42pMAUFrFZBbRYwYAAMhcqSspelTBw+l25YIynMcDg+kJxMXFpaSkmNw0e/ZsCwuL5uUHDhxITk5+7LHHGMbYRM9x8ODBs2fPfv/994GBge3vzPnz50mSfOqpp1qvtmXLFqVSOWTIEIFAwBXSNF1VVTVixIg2bQJXr15NT0/39vYeM2ZM+/vWq6BpOicnBwBMDl92djbLsiRJ+vv7t7PBjIwMAAgKCgKAzMxMAPDy8hKLxe3cHe3SUn8wrZOTk8MwjJ2dXeeMVO0hKysL2jc6zz33XHx8fFZWVkxMzPjx4zt6IHQl9KrLICYm5uLFi+2pWVVVpdfrXVxc2lO5srJSo9F4eHi0XoeiKGTlbg8MwxQXF3t5eRm2wOPxTFrdEenp6WCWA4qFGea+SC/U+7hQABDkRRkKsyAvCnkEpRXojYSZWgvltayLPSEREvZWRE09CwA+Lrfr58lpxZ04NFcHUiQAlDTfw/lugNlD+m4YDOZBEh0dHRsb27ycoqjnnnuueXl+fv6OHTvc3Nw++eSTltzYtFrtlStXgoKC0M9tTk5OSkqKQqFQKpUNDQ1arVaj0dA0vWrVKj6fr9Pp1Gq1Wq1WKpWXL1+2s7M7depUZWVlSUmJvb39Bx98YNR4Xl5eQUHBzJkzjURjbW0twzDcPAO9eDLZvePHj1+7dm327NlYmLVEYWGhRqOBFiZMaHLs6ekpEona05pWq83PzweAgIAAuDOJR5/bCdJ1EonE3PydugW+vr4bNmwQCoUP7hBogNozvaYoatmyZStWrIiPj++oMFMoFOXl5e08UI/h4sWLly5dan999EqlnRQUFHS8R21QVFTU0V3McECxMMPcF1nF9MQwliKJIE/qXMJd94BgLx4A1KuYkkoTL7YLymgXexIA3J3ImnoaDALM8uQ0AOSV0XZWJEEQPi5UeiENdwLMWJbFwgyD6Rm89dZbixcvbl5OkmRz05NOp1u7dq1AIFi5cqWlpWVLbcbFxTU1NY0ePRr9GRUVdeHCBQDg8XgikUgkEonFYicnJ9T+Rx99lJaWxu3b0NCwZ88ee3t7R0dHT0/P5o2fO3cOACZMmMCy7I4dOxoaGlQqFQpxAYBDhw5FR0erVConJ6fNmzeb7F5xcTEAhIaGtnZeejdIejk4OJh8WW7SaqFSqeRyuVKpdHR0dHFxMbx4kMXG1tYWBSCZnMSzLFtWVlZeXu7q6iqVSo2OWFhYCAB9+vTpXPBhzwY5DAuFQu7kMAyD3ET5fD5FUSRJciOCNpEkiazNcrm8oaGhnSJZo9GUlJQolUoXFxepVModTqFQVFRUAACyoBYXF6tUqoCAgOaDxV0kK1eubMmwo1Kp8vPzeTyel5eXkfJHlwEABAcHt6fDPYOXX355zpw5LW1dsmQJAKxYscLe3r6mpkYkEqH3Zd9//31BQcH8+fMHDhzIVV6xYoVSqVyyZImPj091dbVQKESP8YsXL+7bty84ODgyMtKw8erqamtra6Mfgi1btqSkpMyaNWvkyJFGndHr9YWFhevWrROJRF9//TVqwcbGhsfjmTxKTk7Ojz/+CGY5oFiYYe4LtRYKyhiZG2UlId3uJPOwsyLQ8tPphbTJaLCCcnpYCB8A3B2ppFwaAJDZrVHNVtSxAJAvZwYFACpPL6SFfHCyIQCgso5VGS9+hsFguiU2Njbtr/zrr7/m5+cvX768dcPF5cuXCYIYMWIE+vOll156+eWXbW1tTToZTps2bdy4cRYWFj/99JOlpeWaNWtsbW1bmX9funRJJpN5e3uXlZXt3bsXzS0sLS0bGxsBICgoyMHBQSgU+vn5mdxdr9eXlZWRJBkSEtL+L97baN1hzGgrTdObN28+efIkFzVka2s7b968J554wrA+N/s3cntjGCYqKioqKqqpqQmVeHt7v/vuu4Z+knK5HAAMp5gYhFarnT9/fkNDw1tvvTV58mRUuHHjxujoaEtLy3Xr1kml0sWLF8vl8i+++GLQoEE3btz47LPPIiIiJk2atGHDBiSonJ2d//Of/wwbNqylo9A0vWfPnr/++gvdZQDQt2/fpUuXIgmNBtTNzS0lJeXHH3+sra0FACcnp0WLFkVERHAttH6RAEBRUdH333+PdDsAkCQ5Z86cZ599lntuoMvAwsKiQ+bW7o5UKm3+qgJRVlYGAGKxeOjQoUbPTDQKw4cP5xwL1Wp1fX09AEREREgkEsNzeP78eQDo16+f0Yk1eZ6VSiUADBkyxORWdFyZTIa2tn6UvLw8MNcBxcIMc7+kF+plbhQABHlSSJhxaT/SCkxbt0qqGJR6EWXAd7YlLMUEGLgpFlbQNMNSJOHuSAKAh9NtR0dsLsNgeiHXr18/fPjwjBkzwsPDW69569Ytf39/B4fbS3u3NKtAIH/CtLQ0pVL5/PPPtxKNAABVVVVlZWXTp08HABcXl0OHDnGTtt9++y0qKur999+3trZupQW5XM4wjL+/fzvTCfZOWhFmdXV1lZWVhlt37Nhx9OhRoVAYFhbm6uqanJycl5e3fv16BweHoUOHwr1KDJloeDyer68vALAsu3Llyvj4eJFINH78eE9Pz6tXr6alpX388cc//fQTstdptdqqqioAGDRo0MP5+t0IgUAwffr0nTt37tu3b+LEiSRJnjp1Kjo6miTJjz/+WCqV1tfXIz2D5r5oZJOSki5fvhwYGBgeHp6WlpaZmbl79+6WhBnLsmvXrkVG7+DgYGdn59jY2JSUlDVr1nz77bdwxwRaWlq6atUqNze34cOH5+bmZmRk7Nq1ixNmbV4kN2/eXLVqlUaj8ff3HzJkiFqtPnr06N69e2mafumll1AjpaWlANC/f3+ceRWRnZ0NAP7+/kaqrKKiQqlUikQiwxCy3NxclmXd3NyaP/pQOybVUXl5+f79+zMzM+vr66VS6dChQ5GnYktvvlppqvkmcx5QLMww90tWCU3TLEXd9WZEfoy19Ux5LWNnZeL1s56GkkrG24WysyIlQmM/RgDQ6aGkkvGSUvbWpEhwd2npPCzMMJheRk1NzXfffUcQBEEQa9eunTx58mOPPcZtLS8vT0tLGz16NEEQxcXFNTU1HY0e2b9/v4WFxYQJExoaGoqLi8vKyvh8/qBBg4zyQ6A8JX379kV/GprgsrOznZ2dW1dlgP0Y24FGo0EhYTt27NizZ4/RVpTxhc/n+/j4AEBCQkJUVBSfz//uu+9QCQCsXLny+vXrt27dQnNuQ99F9FkmkyHvplOnTsXHx1tbW69atQrN2GbOnPn6668XFRVFRUUhlydkFrCzs+Paxxjy9NNPHzp0qLS09MqVKy4uLhs3bgSA1157rX///nBHFbu6uqJlBpAwUyqVixcvfvLJJ9HnZ599Njs7W6FQmLSf//PPPxcuXCAI4ptvvkG3Xnp6+tKlS9PT08vLy6VSKToEALz44ov//ve/AUClUs2ZM6egoKCqqsrR0bHNi0Sn061fv16j0UyaNOnNN98kSRIAAgIC1qxZc+DAgZkzZ6KOIYXZC/V5fX19bm5udXU1y97j/3TlyhW440FqCJJAfn5+6EwiWort1Ol06KpAuXkMSU5OXrFiBQo3BYCysrJbt24BgJub2/nz50+fPl1TU+Pm5jZv3jzOAYHTikZNaTQatMnwKOY8oFiYYe4XrQ7yymh/dx7yZtTpWAcbElo2lyEKymlvFwoA3BwpJMxYljXMuJhfRntJKQBwdSCRYU2nZ01GrGEwmO6FVqvl8/ntCdqhaXrNmjXIg+XcuXO1tbXZ2dmGEVxRUVHR0dE2NjYDBw5MSkoCADQpbCclJSWxsbEeHh5ff/11fHw8l+zR0tJy5syZaKqHSE5OBgNhZkh2dnZ75BYWZm2Sm5uLhoAkSbQ0nCF6vR4MlJW1tfW7777r4OBgqJqQ2RNlZ2loaEDvxQ0zfyCRplKp0NIIixYt4uaLFEWNHDly9+7dXC5+c569mQMSiWTWrFnbt2/fvXt3U1OTVqudNm3a1KlT0VYj4yf6c8KECUiVAQCKRuPxeC0tEHfgwAEAmDJlCnff9enTZ+rUqQRBoOsEtfnkk09ytyoKeyNJEr0oafMiOXTokFwud3Nz41QZAAwbNkwoFKLXBOh50juvhAMHDuzcuZNTR80xVEElJSWpqanIvNnU1LRv3z5u0+XLl8FAmKlUKoVC4erqGhcXp9VqCYJAroYcUql069atGo3m3//+95QpU0QiUVxc3O+//15ZWVlaWrphwwYAIAiisrIyIyNj586d6CUausG5Lp04cSIzM/PNN99Eq6e4uLgYpgY15wHFwgzTBaQX0v7uPAAI8qT0t/PbQ1qBvpVd8suYUf0BADycSDcHEgAqau+JH8sro1EFL2fK2Y4EgKJKhsa6DIPp/qxevTopKem3335rJY0HYteuXUlJSaGhoW+//barq+urr76q1999sFRXV586dUomkw0YMAAA0Hza29sbbWUYxvCtrUn27NnDsmxRUZFQKJw9e3ZgYKBMJqurq/v+++9///33wYMHcz/zycnJHh4ehu/1dTpdVVUVTdP19fXtCVTg8XjBwcE4wKwV0Dzbzc1ty5YtzbeifHrcRN/Pz8/a2vry5cuxsbGNjY1KpbKiogIlaUAurOg1uVQqRaNmqBOysrKUSqWDgwOXJwaBMgFwi24hXWeeszcz4V//+tfBgweRnXPAgAGvvvoqt8nwhJeXl6OzOmvWLK4CivNxdXU1eZ9yGTWNcrS+/vrr6APX5syZM7mtKDGgu7s7SjHS5kUSFxcHADNmzDDsg0gk8vX1TU9PN7wS3NzcWneN7mFcuXLll19+IQjCy8ursLDQ3t5+ypQp3Nbdu3eDgdbatWvXnj17uBdbubm5zVcaRM/SrKys1atXi0Sizz//fPv27QDAsqzRApJhYWFVVVV2dnYvvPACen83dOjQEydOIE/mmTNnzpkzR6/XL126tKKiAr0XM3KhvHz58rp16wBAqVTGx8cDwIQJEwwPYc4DioUZpgvILqFRzFigB4W0U0Utg/Lgt0R5LaPWsiIBMSiAR1EENHNTrKhlG9WshYgYHMijSBxghsH0EJqamuLj44cMGdKmKrt+/frevXuHDBny8ccfo2kWRVGGIQG7d+/W6/XPPffc7cU28vIkEgmKDqqpqfn444/HjRs3Z86clkxzZ86cOXv2rLW1dWRkpGH+eqlUOmHChG3btqFocgDQ6XRFRUVjx45Ff2ZkZBw8eBBlgEQlCoWCpunWwxVmzJgxY8aM1r9yL6f11OdGFpht27bt378feVhRFOXg4GBra4s2oSmgYX2j5dFQsErfvn2NhgylRJfJZOhPnPmjTcRisY+PT2JiIkVRH374oeH5NFLCAODm5ma40pRRahYj8vLyaJq2sbFpaTEr1KaHh4dhlsWOXiRIpBl6RyPQlYDCmRQKRVNTUyeWPuvWHDt2DADeeeed0aNHz5w5UyQSPf/882hTWVnZ7t27xWKxm5sbANy6dWv37t1WVlZjx449fPgwAMyfP597vGs0mq1bt4LByUTndsGCBajQUO9xxMXFKRSKa9eueXl5Xbx48cCBA8hvYsmSJRMnTkR1ZDJZRUUFWowBvYWRyWRIYA8bNszf3z87OxsZ64YNG2aYXtLMBxQLM0wXoNNDbikd6Mmztrj9zimtsDVzGaKwnA70vK3KwCDAjKOgjA7xuVshv1kFDAbT7WhoaKBpura2VqlUthKXVVJSsnbtWkdHx2XLlnGrOWs0Gm6XM2fOHD9+vF+/flxGkIKCAi7ivKKior6+fvv27efPn+/bt6+Xlxc3ZRw+fDia6o0ZM6aurm78+PHcXI0DrT3q5OSE/iwvL2dZFs0pUeJ+iUTy2muviUSi7du3l5SUHDp06ObNm4sXLzbp6wgACoUiJyfHxsampch1DLS6WLBcLkeJ3dDWS5cu7du3j8/nv/DCCyNGjHByciJJMiYm5ptvvpFIJGikDOfoaHk0sViMrhCkuJpffomJiWAQiyKXy/38/DqUPrS3sWvXLnTSaJpOSEgYNWoUKq+qqqqtrSVJEl3waCyM3Ixb1+FISBstXKFUKnU6nZ2dHUmSqE0j32DDQW/zIlGpVGi6b6T9ioqKamtrLS0tUQ5Yc3Z7e3AgyTp06ND09HSapg29Fo0yfyCT1AsvvBAQEHD48GHn/2fvvuOjqNY+gD9bs5u2pPfeExJCrwJSRb14FcurXl8RvV65AiqC5SKKqFwrlheVCyrXi6IiiCKIFEWkJHgpgZBOetkkpNft8/5xwjjubnrCpvy+H/6YnT0zc3aG7M4z55zneHreeeedfOH09HQi4jN/jBs3bubMmazv4rhx41auXGn596XRaD799NOmpqb169ebvcXndKmtrT1//rydnR3rpGo2wEwikTzxxBMrVqwwGo0TJ058/vnnhTsZ4BcUgRn0jcwiY2RA238njuMyOxxgxhRWmCKvfuXq9BzL6CiUX26MDW7bZ2OLqbqhoyY4ABgUXF1dPT09s7Ky7r77brlcbtmL6Z577vnTn/700ksvNTc3P/vss8LZnGUyWVVVVXp6+rlz53bt2uXm5vbMM8+wt2pqalpaWvjALDo6etOmTZs3b05NTWWPfnksLQQRSSQSYccqpqqqat++fUlJSTExMfy4FPZDzh4PV1VVqdXqJ598ctasWVVVVVVVVaNHjw4KCvr222+feuopPrGBmRMnTnzwwQczZ85cvXp1j07b0NfY2Mi6Dlq9U2cxGz/RM+uBdvPNNwuvIBvfwk9jJWyQ4ZfZW2yUkXAWOyJSq9VsOt3o6Gi25sEHH7Q60QIwP//8844dO8Ri8YQJE5KTk3fs2DFt2jT2F81OeFBQEGvQsJpss4M4nIjYhtXV1fwanU73xBNPlJeXs1QfVvcpXNnpfxI7OzulUtna2pqamirMDLl7924SxOeBgYGvv/76AMyr3q8cHByqqqqefvpplphUOODWapqNPXv2sEGD/CBDxjLzx9/+9rdz5841NDQ0NTVZHV6oUCjefPPNzz//PD8/39HRMTExMSgo6LXXXvPz82PRndFofPfdd7Va7W233cYe21nmXQwODr7rrrt27Nhx+vTp3377jf/apwF/QRGYQd/ILTPqDJxcKiKisipTQ0vnQZSwa2JhhdFksUVhuZHjuKuJ8jG8DGAokEgkGzduPHDgQHl5Od8VUCgmJkYul99///0FBQVmvcji4+MPHDjAYpuYmJjHHnuMz3FfWlpKRMIczS4uLs8++ywR1dTUsEmTGOEQcObdd99tbGysr6+vr69nSe2jo6P/8Y9/8AVYwMA653h7eyuVyrfeemvnzp2lpaVisXjp0qV+fn4TJ07ctWuXsEukUHNzc2hoKDrFdYDdWvFtLGbMIis21JDdMjI7d+5k3ZZY5FZTU1NdXS0Wi4WBGX8TP3LkSCLKzc0tKipizWv19fUbNmwwGo1z5sxhd+QFBQWlpaUuLi4dT503bKWmpr777rtE9OCDD86fP3/x4sXFxcXHjh1jPX6FJ9xkMrGLKwyiysvLGxoapFIp33HUDBssqlar+Wu0Y8eO8vJyhUJx4403drxPNiNCp/9JJBJJTEzMuXPnjh49On78eBZSHjx48PDhw0qlkuXKZy2BRKTVavmm++HgL3/5y2uvvVZYWOjh4XHnnXcKs6eYXI8+dQAAIABJREFUpdmYNWvWgQMH2NOrBQsWmD3tsgyZnJ2dH3nkkddffz0zM3Pfvn0LFy60PHpAQAD/0I2IvvvuO+FOqqurz58/7+vry48/NKsSc9ddd508ebKwsHDTpk0ffvghe8Y38C8oAjPoGwYj5ZUao4OkRJRR1KU+h3VNXEOzifV+tBp3NWvoSh3n6YIBZgBDiouLi9mAfkuTJ0+2nLXs4YcfHjVqVEVFRUREREJCgnDwmJub2/Lly61GPq6uru0NU2EuXrzY0tLi4uLi4eERFxc3f/58vs2EGTVq1D//+U+2UiQSbd68ef/+/WVlZYsWLZo0aRJ76JuQkGA5UoV35513Crv3gCXWsS0kJMTq3ZJZZDV27Niff/75xIkTzz33XEhIyKVLl1gBujpxOXsZEBCgUCgsN4+IiJgwYcJvv/326KOPTpkyxc3N7ejRow0NDYmJicuXL2dltm/fnpycPHnyZORrsVRaWvryyy8bDIY5c+awyf0WLly4Y8eOHTt2TJ8+XSKRCE94SUlJa2urnZ2dsF8iKxAcHNxem2R4eDiblnrlypXTp0/Pyclh+SQee+wxJyenoqKiTvfZ6X8SIrr99tvT0tKOHz+enZ09bdq0/Pz8c+fOicXiNWvWsOiusLBww4YNRLRp06b2skcOSVOmTPniiy8qKyuDgoLMhumaxVrBwcHbt28vLS319PS0PEVWQ6YZM2b88ssvv/3226effjpx4sROk3CYtdF5enr+9a9/HTt2LMvHaHXyNCKSSqVPPPHEypUrq6urP/744xUrVtBguKAIzKAn3ttt5Tn390m675N0ZitrG7k3vmxpbz//+l7T8YE+PdhJgd9L/tjVkgAwSMnl8uuuu87qW76+vqyrYQ98/PHHHRcwm8bK3d39/vvv79mxoD3stru9jm3sXf5ecObMmQUFBbt37z5//vz58+ddXFwef/zx8vLyL7/8knV+E5Y3Go2FhYXCzSUSyZo1az744IOTJ0+eOHGCiGQy2fz58x966CGWi7/T+gxnWq123bp1TU1NUVFRy5YtYysXLly4Z8+esrKy48ePz5w5U3j22HJ4eLgwNQhbaTmBldCqVavee++95OTkgwcPEpGPj8+DDz7Intd0ZZ+d/icholGjRr344oubN28uLCxkPRiDgoLuv/9+/hEPG+pmZ2cnTFsyTNjb21vO4FdVVdXU1MRn/mAUCoXVhm69Xs/6Mli+++ijj6ampra2tm7evPmFF17ouCYsgacwurv55pv5ZZa9k8/8IRQREbFo0aKvv/764MGDs2fPjouLG/gXVMSS1VRUZ+85upZfO3HkPaOjb+nZHveebDiTZeWuHQCgP3iMkCy/zbxzWnf14Xfg4FKoPnfg5Gv8yxljH44JsZ6r6t1dVdUNbQ3X7irJikW9PefQV/61t7q0qi3fkpNSvPpuj25tfuB0Y1La74/PnrjD3cWpo/SSA0dzczPrbcinaekuNlmC0Wj08fFhbWsDytHzTUfPN/Mvl97i6uPWvTFvW/fVFFfq2bK9QvTMPZ59Wb9rorGxsbKy0tHR0dPTsyuTH5rp4n+S5ubm4uJid3d3y67O/WT7odqckrZn2RIxvbC4G6nbf73QfORsE//yrze7BngOvsGQP/zww5dffrl69ep+nd1Rr9cvW7YsKipq6dKlrIWtX/2W0bIvqZF/+b/zR4T72XVQ/tjZLRn5P/1e/uZ/ocUMAAAABh8HB4detmixaZr6qj7QH5ycnHrT5ayL/0kcHBzMOjBDf1uwYMH111/f38GSTCZ7++23WdaQQaGTyTcBAAAAAAD6kEgkugZNWEQ0iKIyQmAGAAAAAABgc30fmHW7/y8AAAAAAMDw1veBmYvz4Bg0DABDg5szxsoCAADAoNf3gdn4aKW/x+BLDgMAg5GTvXj2WEdb1wIAAACgt/r+SbOdTPzXm12qG4waHdfnOwcA4Ekl5K6SSiXoQH2tcRxp9VYmhQebMPXpj61Ob9Lq8Tc1IBiMfXpp8Wc7kJj67lLojRyu7ADR+7/ZfukCJBKJ3FXoXAQAMDRVNxhf2X7F1rWAfvH+tzW2rgL0ixYthz/bIenfB2ptXQXoM8jKCAAAndMb0AliEOjB89o+bpaBgUSnx8UdBLrb6G3s21ZyGEgQmAEAQOfQO31Q6EH8XNNg7I+aQJ/rwe14swY93AaDbl5Y/M0OFj34A0RgBgAAnZMi4e5gIBZ3e3iYgxIjygaH7l9bkktxcYcgJ3vcvQ8OClm3/wBxaQEAoHNKO/xeDAJ23b8PcFAg5h4cRKIeRN34sx0ExN28Sgo5LuvgIOl+cjJcWgAAAAAAABtD7kQAABgWpsRJxWKRutqUW2Y+QiM2SOLqLCaiC7mGxhaMphvQPEeIIgOkHEe/Zer1BvN3A73EgZ6SylpTdomRiHzcxGG+kqZWLuWyRVEYqMZESu3tRBU1ppxS64OpogMl7ioxEZ28pHd3FkUFSoko5bKhqRV/vAPaqDCpk70oT20sqzIffOXtKg73kxDR2Wx9q5aIyEM1HK8sAjMAABgWJsXKJBLRhcsGs8BMJqG54+RymYiIxGL69YLeRhWELrkuQR7qKyEipR0dOWt+seaNk7s4idPyDSwwuz5R5uchKa8xITAbLBRymjFKJpWIGpqtB2YSMc0dJ1fIRXVNphOpevcR4slxMiLKLTUOn9v3wcjZQTRvvJyIWnWcZWDm5dJ2HTMKDa1ajoiG55VFV0YAABjWogIl8qtDs+JDpRL8MA4SieHSQK/OrhaSXww2Gh1dLjESkbOD2N/DyvUN85Uo5CIiupiHYHswwd9iV+D3BwAAhrX4kN87j9jbiSIDkAxjcBCJRDdMkMvQ9WfI4SOuuGArV3dkiJSITCbuUh6yxsNQg8AMAACGrxGOIn9PCRElpenZXG2J4bjTHzRUDuKZiTJb1wL6WGGFqb7ZRESRARKzFmx7OwrxERNRntrYrBku3dtg+EBgBgAAw1d8aFsYllNizC42EpG/h8RdhU43A11dk6lFywJpWVCnHRphsLmUZyAihVzExhPyYoOlbLK+i7loLoMhCN9lAAAwTIlENDJEQkRV9aaKWlNaQVsHKjSaDXwtGu7IGR1bRofGoedSvpHjOCKKDfpDYBYXIiWiplZTnhqB2WDl6yqOD5WY/fOzNp5wGMI3GQAADFMh3mJHpZiI0vINRFRyxVTbaHJxEscGS49dsJKKHQaUrGJjVrEhKkDq7CC+frT80H91tq4R9JmGFq6g3BTiIwn1ldjJSKsnIvIcIfIcISaiS3lGDt0YB63oIGl0EAIQ6xCeAgDAMBUf1pZFgG8rYwt2MlEM7hsGg8NndC0ajohGhUmDvXFLM6Sk5hmISCr5PR8Pay7jOA75GAc1k4kzGM3/2bpSAwV+eAAAYDiyt6MwXwkRicWiBRPt2EqVQ9vossRw6cVc3PwNdK1aOnJWt3CqHRHNHy/fdkBj6xpBn8kpNbZqOaWdKC5YmppnFImIPS4pqjTVN+M+fhD75YL+bJb5t+uoMCmb5WyYw+MlAAAYmmRSEgmzePwxo0dssFQiblsV4iNh/1yd234WvVzEPm74iRwEsoqNWUUGImIdGm1dHegzJlNbC7a/h9jJXhTqI3FQsLQfeGICQxZazAAAYKixt6MHFijtFaKvftYUVZqISC4lFobxY1NYPkadgTudrhduO8JRzN5KDJeqqzFsaRA4fFYX4CmxV4gSwnBXM6Sk5hnGRclEIlF0oMTHVUxErVoupwRpP2DIwlcYAAAMNRKJyF4hIiJvNzELzPimMK2OiMjHVeyuEhNRTrExOf0PD+AlYorwlyjkouhAydHzpEFoNuC1aunwGd0t0+xsXRHoY1X1nLra6OMmiQuWjnAUEVF6gcFosnW1APpNfwVmrVpTRqG2WYO/HgDoR2IxBXjIAr3Qfwn+oKmVMxg5qUQ0IVomIqpt5KbGt01DXFlrIsH0ZXzaD57RRBmFhtERMqlENDJEesZiLAQMQNklxsxCQ3up3rxdxWZZ15mcUiNybw5wF/OMPm4SjxHiqy9xwWAo65fArEVr+vDbajZrOwBAf1sw0WlynL2tawEDCMfRuWzDhBiZ0k40fdTvcXtZtTFPbZRKKDpIQkRNrabCCis/Val5xtERMiJKDEdgNmgcOasL8GobhmTppslW2tO27muta0IaiQEts9Awa7RMJhURUVm1saoe1wuGsn4Z2ZxeoEFUBgDXTFJas62rAAPOyUv68zl67uqIMoORKyg37j6mNRjJXSW2k7FuUdYHq1TUmljD2ghHkaPS+o0+DDStOuKnnO4Ko5HT6nCXP9DpDJRV3PZ3ajXtB5svgeO4Fi2u5iDGrqPlmuF2Zfunxczi5AIA9B9854Alg5GOnNUfS9G7OotFIrpSZ+KHppTXmN74sqXjzT89iMTrA9TuX7XtvZVdYjS7sjuOtFsYBosDp3UHTrcbchdWdP7nDANBfTPXwZXKKTX/4x2eVxbJPwAAYMjSG6miFj04AABgELgWgdktU509XKwMugUA6LEfkhrLqjH4BwAAAIaIaxGYeblK/T1k1+BAADB8KOSY/PeaEuN8DwY9uEwSXNlBgp8PvTub9EdFoI9198risg4W4u7/zeLaAgBA54IxJ8FgEOTd7csUhCs7GDgoxK7O3e58hIs7KAR6da/1AjPEDApyqcjHtdsNYBhjBgAAnZs73tFg4vLVOqP1RIZgY2IxBXnLb5zk1N0NowLt5o93PJfTqhlOqc8GFzeVZP4EJ6mk20/fp49yaNWZckp0BgMu7kAkEpO/u+zGyd37sw3wlN0y1TkpvaUV0wUPVCpHyZxxjkq7bjeAITADAIDOKeTiW69T2boW0C+mxjtMjXewdS2g78mkopsnO9u6FtD3xkYpx0YpbV0L6HvoyggAAAAAAGBjCMwAAAAAAABsDIEZAAAAAACAjSEwAwAAAAAAsDEEZgAAAAAAADaGwAwAAAAAAMDGEJgBAAAAAADYGAIzAAAAAAAAG8ME0wAAAMNFRUVFc3Mz/1ImkwUEBAgLcByXn58vXGNvb+/t7d2bY0ml0sDAwB4U7vrKQUev1xcXF7NlDw8PJyenXu6wqampqKhoxIgRXl5eEomkT0oyJpNJp9OxZYlEIpPJellVAGgPArMBzWAwlJaWEpG7u7uDg4Otq2N7arVap9OpVKoRI0YM7YMCAPSHZ599tqKign8plUp37txpZ2fHr8nLy1uxYoVwk/Hjx69bt64Hx1q7di37CfPy8vrkk0+Eb6nV6s8///zxxx+XSqUdFO76ykHn1KlTr7/+OlteuXLl7Nmze7yrb7755sCBA2VlZeylUqm88847b731VssIquslhTIzM1evXs2Wp0yZsmbNmh5XFQA6hq6MA9r58+effvrpp59++sKFC7auiw2UlZV9/vnnwjWrVq16+umnDx8+PMQOCgBwbXAcJ3xpMBjS09OFa1JSUvrpWIxGo/n0008feeSRo0ePGgyGjgt3feWg0yefoqWl5ZVXXvn444/5WIuIWltbP/300w8++KBnJQHAhhCYwQB19OjR1atXnzp1SrjSZDINvYMCANjQ+fPnhS/7+zng22+/vXPnTmFIBj32xRdfCH+whA1fhw4dEl7ZrpcEABtCV0YYoC5fvmw0Gs1WTp8+3WQyBQUFDaWDAgDYkLCJTK/XX7p0qV8Pp9frra5//PHHNRoNEQn7Vfay5NDW2Nj4ww8/sGUXF5d169YFBwd/++2327ZtYyt//fXX0aNHd6skANgWAjMYTJYuXTpMDgoAcG3k5uY2NDQ4OzsTUWZmplarba9kY2NjXl4eWw4JCWGbMOnp6SzicnFxaS8hh16vz8jIuHLlCr/m4sWLdnZ2bFcODg6sGY0fddYeqyXz8/MbGhqIyM3Nzd/fv7GxMSMjIzs7W6VShYeHR0dHi0Qis/20tLRkZmZevnxZLBaPHDkyPDxcLBanpaWxXhLBwcEqlapnn9poNKakpJSVldXU1IjFYmdnZ39//4SEhK6kzVCr1ZWVlWw5ISHBstq8ffv2sQCViO64447w8HAiuuWWW06dOmVnZ+fu7h4WFtbdkn2lK2egpaUlJyeHLcfGxkokkqKiorS0tNra2pCQkJiYGFdXV8s9d/Gq5ebmNjU1EZG9vX1ERAS/eU1NDZ9zJSoqSqFQdKvO3aoDr7y8PCcnp6CgwNnZOTQ0NCwszN7e3vKj1dfXX7p0qbKysq6uzsHBwcXFJT4+vmd5d2DwQmA21NTW1ubl5RUWForF4qCgoLCwMOGvCBE1NDQUFxfb29uHhIQ0Njamp6cXFBQEBATExsbyyS3KysrS09Orq6t9fHwSExOFe+jl5kxzc3NRUZFara6oqBCLxT4+PrGxse7u7uxdk8mUkZFRXl5ORHq9Pi0tjYiioqKkUmlubq5Go/Hw8PD09NRoNLm5uR2cCkdHR2EzV58cVLj/ysrKy5cvl5WVyWSywMDATk91dnZ2Xl6ek5NTSEhIeHh4V3JhAQD0Ezc3t+rqarZ84cKF6667jgT9GB0dHfV6vVmQ9ssvv2zevJktv/DCCxMmTGDLzc3NfHKI66677plnnrF6xEuXLj333HPCNS+++CIRPfbYY/PmzXvllVfY8KdOU3pYLbl+/XoWz8yfPz82Nva9994Tdn9ITExcvXq1MIFTamrqG2+8wZ8BIgoJCVm8ePELL7zAXq5Zs2bKlCk9+NQXLlx4++23hfEn4+Pjs379el9f3w4+GhF99NFHycnJbPnbb7/tIJbLysril2fMmMEWZDLZxo0be1yyT3TxDJw6dertt99my5s2bXr//fczMjL4wgqF4tFHH501a5ZwD12/amvWrGlsbCSi8PDwd999ly+/a9eu7777ji1v3ryZT0na9avW9ToQkV6v37ZtG39ExtHRccWKFVOnTuXXcBz3+eef79mzh4+feZMmTVq1apVSqSQYHhCYDR0mk2nv3r1ff/218NfIzs5u8eLF119/Pb/m0KFDu3btio6OnjJlyrZt24Tjjx966KHrr7/+/fffF/ZEd3Jyevzxx+Pi4vpkc4PBsHfv3u+++87s914ikdx6662LFi0SiUT5+fkvvfQSW9/Q0MCWN2/ePGLEiOeee47juEWLFt1xxx1Xrlzhi1k1atSoZ599tm8Pygo0Nzd/9dVXhw8fFn58uVx+7733zps3j3/Ayc5VZGTkvHnzPvzwQ+F1iYyMXLFiBR8WAgBcY56enlKplGVoTElJYYEZ361x5MiRgzTp1OHDhw8ePGi2MiUlZcuWLU899RR7mZ6e/o9//MNs/HB+fj5/b91jRUVFL774otVWR7Va/eSTT3700Ucd51juelKQqqoqtmBvb19WVrZ58+acnBxHR8eIiIjbbrtNGEt0vWTvdf0MCD/pqlWrzGISjUbz1ltvRUZG+vv7szUD4ap1qw4cx61Zs4Y95xVqamrasGHDAw88cPvtt7M1X3/99RdffGG1bsnJyf/85z/Xr1/fg88FgxECs6Hj//7v/5KSkojIyckpNjbWaDRmZGQ0Nzf/61//qqqq4oMKJjMzMzMzk4h8fHx0Oh179vPvf//7+PHjWVlZDg4OwcHBZWVltbW1jY2NW7Zseeutt4SdRnq8+TfffPPNN98QkaOj48iRIxUKRXl5eWZmptFo3LVrV3Bw8Lhx45RKZWxsrFqtrq2tlUqlkZGRZK1zi4ODQ1BQkNlvmEwm45vR+F4QfXhQIjKZTG+99RbLY6ZSqSIjI3U6Hev/s23btpKSkgcffFBYPjs7Ozs7m4iCgoKUSmVubq5er8/Ozv7www/Xrl3bnSsMANCXEhISWL5ZFo+1trbyTSvx8fF9Hpg5OjrGxMQUFxezPmZEFBUVJRaL+3YmEnbTnJiYOHLkyJSUFH7I3PHjx5cvX65UKjmO27p1K39v7e3tPWfOHI1Gs3///tbW1l4efffu3fz9fUJCwrhx43Q63f79+2tra4mooaEhNTV10qRJvTwKwzfatLS0PPPMM/yzv8uXLx89evSxxx6bPn16d0v2Xs/OgEajcXFxmTp1qkwm+/HHH/kLcfjw4QceeICIBsJV624djhw5wkdlLi4uN954Y35+fnJyMtvDF198MXfuXJVKxXHc3r17WTEfH5+bbrrJz8+vsLBwz5499fX1RHT27NnMzMzo6OhefkwYFBCYDRGpqaksKhs9evSyZcvYo52GhoaNGzdmZmZ+991306dP9/LyEm4ikUiee+65mJgYk8l04MCB7du3GwyGrKysxMTEFStW2Nvbcxz31ltvnTlzpqKiorS01Cz7RQ821+l07CYgNDT0+eef5/t2nzp16r333iOiY8eOjRs3ztfX9/nnn9+6detPP/2kUqmef/55qx/Z1dX1tddeM1t5+vTpd955h+O44ODg+++/n4j69qBEtHfvXhaVTZgwYenSpayDQWVl5caNGwsKCg4fPjx9+nRhj3YiUiqVq1evjo2NZRdl7dq1FRUVaWlp5eXl6D4OALYSHx/Pvh7Ly8vLy8uLior4m86EhIQ+P1xERMSbb765fv3606dPszUbNmwQDvLpKwsWLFi2bBkR3X777cuXL2djikwmU11dnVKpTEtLYw/LiMjT0/Pdd991dHQkotmzZy9fvryX6SIDAwMnT56cn5+vUqlefvll1mVdqVRu3bqVFaipqel4D7Nnz46JiWHLYnG7qbN1Oh0bU8eYpa3SaDQbN26MiIhgD0+7WLJLn7AzPTsDSqXytdde8/PzI6KQkBC+jyUfUg6Eq9bdOmzfvp1ffvXVV1nTX1JS0ssvv0xEGo1mz549ixcvbmpqYhEgEXl4eMyYMcPV1XXChAlBQUH79+8PCQkJDQ3tq6sDAx8CsyHiq6++IiKVSsVHZUTk7Oy8YsWKxx57TK/Xf//99w899JBwk7vvvpt9+4vF4hkzZnz22Wccx0ml0ocffpgNSxWJRPPnzz9z5gwRVVZWmgVmPdg8Pz/fwcGhpaXlrrvuEv4YT5w40dHRsampiT0c6rGcnJxNmzZxHOfi4vLUU0+xQ/T5QY8dO0ZEKpXq0Ucf5XOCeXp6Ll++fNWqVRzH7d6922yIxaJFi1hURkTOzs6LFi1i88ao1WoEZgBgK8Lo6/z58yUlJWzZ0dExJCTERpXqA0uWLGELMpls1KhRfLKHhoYGHx8fNjk1s3DhQnZvTUSBgYEzZ848cuRIbw69aNEi4cuKioqMjAxh3stOm3eEQ486YBYGuLu7P/zww+PHj9+zZ89//vMfItLr9Z988smaNWu6XrIrx+1Uz87A/PnzWVRGROPHj+fX8yHlQLhq3apDfX09H1WGhobyHTLHjRvH7j2IiD3kdXJycnFxYbHZxYsX77///vDw8ISEhDFjxqxdu7bTXDgwxOB6DwUcxxUVFRFRfHy8QqEQPg9TqVRhYWGZmZn8LxNP+N3n6Ojo6+tbWlrq6+srzIPk5ubGFiz7Xvdg86ioqHfeecdkMgmfAtbX17Pej01NTb156FVeXv7666/r9Xo7O7unnnqKr0bfHrSurk6tVhPR7NmzzTI1+/n5jR49+ty5c5anOjExUfiSTyKi0+m6fmgAgL7l4eHh7e3Nkh6lpKTwgVl8fHwHyQAtDajJHkeMGCFMeScc0MV+HNl3OGP2wLFb4Wh7n1qj0Rw/fjw5OTkjI6OXTxs7YG9vb2dnx/8033DDDSyiu+uuu06dOnX58mUiYt04u16yr/TgDPBRGVm7ZDQwrlq36iCM4vLz81kXHobvystHbrNmzdq9ezdfQzYCYteuXUqlcs6cOf/zP//Tt919YSBDYDYU1NbWslv8EydOnDhxwmoZ9tMr5OLiInzJwgyz7LRyuby9g/Z485aWlhMnTuTm5qrVarVa3dzc3N4huq6xsfHVV19tbGwUiUTLly+3/Irsq4MWFhayBav9CtjK6upqrVYrDNs8PDyExfjHbAAAtpWQkMB+HYS/HfHx8Z1uKHwC2N7UZDZh9sjMMqshS9bHmMWfHfzkMZ1+6qqqqueff57/peCPwg+H7qB3Yne5ubmx7JREJJyFLDo6moVbDQ0N9fX1KpWq6yV7X6uenQHhVZNIJMLyTI+vmlnXzd5ctW7VQZi2keM4Pv+K2XHZwuLFi1taWg4ePGgWN7a2tn7//fdHjx597733zEajwFCFwGwo6LTPOhHV19dzHCf8KrH6Xdb1HO492/zEiRNbt24Vtr+JRKKwsLDy8nL+GVJ36XS6N954g91b/OUvfxk3btw1OKjVcRH8c77m5mb+Z0YkEpndKHTrUTQAQP+Jj48/dOiQ2cpRo0Z1uqGwr4Fljm8b6rTrlzAdrtmvp+UTTDOdfupXXnmFv78fOXLk1KlT4+LiNBoNnxCyDwMzd3d3PtwSjiITxqIsDul6yd7r2Rnov6tm1immN1etW3UQPqcOCAiYNm1ae9WTSqVisXjZsmV33333Tz/9dP78+YyMDOHlaGpq+uKLLx5//PEOPiYMGQjMhgK+x+Cf//znG2+8sb1iwnigl7FBzzbPyclhWeMlEsn48eMjIyNDQkKCgoLs7e2fffbZnsVIHMd98MEHbDzu3Llzb7rppn49KP9VK3xyxuO/qS2nbgMAGIAsk3w4OzubddPiCR9ICbt7mTU1dEz482GTPpDCkb2HDh2aPXs2W25paWGpUMx0/VPX19fzySFCQ0NfffVV9mFZaq4+FxgYePHiRbb822+/8ROssaENRKRUKlks0fWSvdR/Z6C7V02pVLKfabN+ifxH7kGdu1UHYQNXS0vLPffcw6I7juOOHTvm7u4eFBTk5OREREajsby8vKSkpKSkZNKkSXfeeadOp0tPTz9y5MjRo0fZHvLz89s7MzDEIDAbClxcXFgP8tLSUsuQIDk5Wa/Xe3p62jxaOH36NOtU8OSTT44ZM4Zfz3Ece5jXgx/pHTs4bWRWAAAgAElEQVR2sLk4ExISWFLdfj0o/1Vr9VsyLy+PiJycnDBaFwAGBXd3dx8fH+HgmZEjR7b36I2fjZeIfv755wULFkgkkvr6+i1btnT9iMIGk6qqKk9PT4PBcC07eI8fP16hULCWk0uXLr377ru33HJLY2PjRx99JGxN4nX9UwtPo0KhYKfRYDDs3LmTX9/pqObdu3fzaSdeeOGFDn5NFi5cuH//ftbd7vjx43PmzAkLCzt8+PDZs2dZgeDg4O6W7FRNTQ0//7UZNzc3Yb/BHp8Bq7p71fz9/dmE4w0NDadPn544cSIR7d69m/1MC3X9qnWrDm5ubkFBQSx6r66uPnHiBJuT4MiRI++88w4rM3bs2PXr1+/fv/9f//oXW5OcnPzGG2/I5fLExER/f38+MOuTXqYwKOD2cYiIiIi4dOnSmTNncnNzw8LC+PUXL15kXwFRUVEvvvii7SpIRMSPLGezhPF+/fVX1s9Q+J3OekV23EPm0KFD33//PRH5+/s//vjjVjtI9O1B5XJ5cHBwQUHBL7/88uc//5lvqySiCxcusG98YQ9+AIABLj4+Xnhv2kGifGGIkpWV9dBDD3l5eWVkZHTrVlsYgz3++ONGo3Hx4sW33nprN2vdc46OjjfeeCOb3JKIDh06ZNmZU6jrn1pYMj09/ZlnngkICEhOThZ2e7MaRQilpaWdO3eOLXc82bSfn9/UqVPZ4MCmpqYnn3xSmOSDiP7yl790t2SnMjMzX3rpJatvXXfddcuXL+df9vgMWNWDq8afxg0bNkRHR1+5coVNp25Zsot17lYdRCLRnXfe+cYbb7CXr7322pEjR/R6vTDPyvz584no+uuv//TTT9mNR3p6+gMPPJCYmNjY2CgsifuK4aPP+jpDv0pNTT3SDpbH4t5772UDVd98882UlBSO4wwGw4ULF/jHMAsWLLDpJyASJMzYs2cP+w7SaDQ///zz5s2b2fqWlha+MBuX1dzc/Ouvv+bm5lr+BJ47d27btm1EJJPJHnrooerq6sI/YiFZ3x6UiO677z4i0uv1L730EpvM2mQy/fe//2WzoimVSsvulAAAA5ZZJNZBYObg4CD8KamsrExNTTUYDP7+/l1v8hJmqdVqtQaDwWpehH61ePHiWbNmma1UKBRTpkzhX/LNhl3/1A4ODjfccAP/MjU19YcffqipqWHZLPiVffhBlixZIux3Koy1brrpJuGp7nrJ3ujXM9Ctq3bDDTfwV8dgMFy6dIlFZZbTNHerzt2qw/Tp04WJ+M+ePXvx4kW+k878+fPZVk5OTs888wzfNFpZWXno0KGkpCR+xERCQsLChQs7PDcwdKDFbHA4evQo36JtJiYmxsHBISQkZNGiRbt27aqtrX311VeVSqXJZOK/eefOnTtp0qRrWF/rZs2axZ4Y7d+//+DBg15eXmq12mQyiUQiDw+PK1eu1NbWNjY2sl7X/KQfbMqvl19+OTw8XLi348ePs6eJer1+3bp1Vo/4wQcf9O1BiSguLm7+/PkHDx4sLy9fs2aNo6OjwWBgIZ9CofjHP/7R3vAMAIABSJiDUaVSBQYGdlD473//u0gkOnr0KJvZSaFQjBkzZsWKFc8880wXh+xOmTJlzpw5/KRPwtvf/sb3qpBIJCtXroyIiDhz5kxGRoaDg0N8fPwtt9ySmZl56tQpVkaY4Krrn/qvf/2rXC7ft28ff/8dHh6+YsWKPXv2sB/xrKysmpoaswzGPebl5bVx48YPP/zwxIkTfF8PFxeXhx56aObMmT0raalbnfP79gwIO8J066oFBgauX7/+nXfe4QeV+fn53XPPPXK5/JVXXulxnbtVB7FYvGTJkrCwsC+++KK0tJTfuYeHx2233fanP/2J/58/fvz4N95446uvvjp9+rSwmdTZ2fn222+/+eabu56YDQY7BGZDx+233x4dHb1t27bS0lJ+AkdXV9c///nPc+bMMSvcyz/ynm0eEBCwevXqbdu2qdVqg8FQWloqEokiIyMfeOABrVa7bt06k8l09uxZ9iNx3XXXpaen//rrr+xLqqyszCxG6uJPRd8elHnggQdGjhz5n//858qVK+xX2cnJKSYm5k9/+lNERESfnCsAgP7AOhoIubu779+/37Lkrl27LFeKxeJHH330kUceyc/PN5lMYWFh7Cvu/ffftyy8detWy5UymeyJJ5548MEHCwoKHBwcAgMDWW5Aq4W7vtLyczF333333XffLVzT1NSUlJTk7u4+duzYBQsWCDMTCkdPCWfT6vqnVigUf/vb3+67776SkhKtVhsSEsLabVatWrVq1SphyZkzZ1qNiJ5//nmrH6Q9CoXiiSeeeOyxx4qKimprawMCAtpL49H1kmYiIyOt/g9p7yhdPANz586dO3eu1Z3s27fPbE0PrlpUVNSHH35YX1+fn58fFBTEz/Fj+Vm6WOce1IGIZsyYMWPGDK1WW1hY2Nra6unp6enpaXljEBkZuXbtWo1GU1lZWVVVpVQqvby8XFxckMZ5uGmbpaGiOnvP0bX82okj7xkdfUuPd/rrheYjZ39/hvTwn1z9PcwnEoH+o9FoiouLdTqdp6enm5tbHybn7RMmk6mqqqqystLe3t7f37/jGUhaWlpqamqcnZ17mbmknw7a1NRUXFxsb28fGBiIb89r7N8HavPUbTN0y6Wi5/7Xszd769vvwEGkUH3uwMnX+Jczxj4cEzLbhvUB6G8VFRVLlizhX27YsIFND9Dc3PzEE0/w8wLv3LnT7A4bbGggXLWBUAcYYo6d3ZKR/xP/8n9v/hdazIYghUJh2W4zcIjFYvbEqCuF7e3t7e3tB+xBHR0dY2Jielc1AAC4dlhDRG1tLXu5du3asLAwg8FQWFjI54KaMGEC7q0HlIFw1QZCHWDIG1htKQAAAAD96u9//zu/bDQas7Oz8/Ly+HtruVz+8MMP26hq0K6BcNUGQh1gaENgBgAAAMPIlClTXn311WnTppkN9ZHL5VOnTn3nnXf4dL4wcAyEqzYQ6gBDG7oyAgAAwPASHx8fHx/f0tJSW1tbX18vFotZRzVb1ws6MhCu2kCoAwxhCMwAAABgOGIjiv38/GxdEeiGgXDVBkIdYEhCV0YAAAAAAAAbQ2AGAAAAAABgYwjMAAAAAAAAbAyBGQAAAAAAgI0hMAMAAAAAALAxBGYAAAAAAAA2di3S5eeUaKvqDdfgQAAwfDS2Gm1dhSFIp29p0dTZuhYAAABDn8GgNVtzLQKzo+ebr8FRAACg2zhO+Crp4mdJFz+zVV0AAACGs37pymgwcp0XAgDoI0YTvnN6SiSydQ0AAACAquoK+iUwa2hGFyMAuHYQlgEAAMCgVt+o7pfATOUo6Y/dAgBYJUarT0852rvbugoAAABAEqm8XwIzCe6SAOAaEqM/Xk+5qQJtXQUAAAAgMYmRLh8AAAAAAMDGEJgBAAAAAADYGAIzAAAAAAAAG0NgBgAAAAAAYGPXYoJpGCzsZDQ6QioSUXGlqeSKqYOSrk6iqMAu5d5MzTM2tXJEFOoj9nJtexCQWWSsbbSe4dxORmMi2/5b1jdz6QVtUy/0cnOhYG+xj5uYiJpaudQ8TO0AAAAAALaHwAx+NypMel2CnIhOpuo6DszcVOJp8fKu7LNArWGB2c2T7ezkbanz7GT6X1L0VstHBUj4PReUG/nIqpebC80eI3d1FhORycTlX60eAAAAAIANoSsj/K7PU46bTJxWfzXsEew8KqDd1rbooHYeFvRy86v83MUsKiMisVg0KgzPJgAAAADA9nBXCr2SrzaeTLXeeEVEWj1XY63PobOD2MdNrK42b5RzUFCgZ+cPC3qzeXzoH/7PJ4RJTqXpObSZAQAAAIBNITCDXmnVcuqajjo9tic6UGIZWUUFSEVda7br2eYyaVtrW4uWq2kw+XtIHJXicD9JTglGmgEAAACALaErI1xrJhNHRJH+VrojRnchoUhvNo8KkMhlIiIqUP8+/CwxHI8nAAAAAMDGEJjBNaXVcUWVJiJydhD7uv3hv5+zvcjXXUxEhRXttl/1cnO+H2NumTGr2GA0ckQU5CUe4djXo+sAAAAAALoDgRlca5lFBrZglnA/KlDCOiJmFBr6Y3MXJ5G/h4SItHrucqlRo6PLZUYiEolEaDQDAAAAANvC/Sj0SmSAJNBL2d67KZf1SWnmYVJOiXHuOE4iFkUFSI6e/z1xSEyglIgaW0ylHWbq7/HmfHNZVpHRYCQiupRniAqQEtHIEOnxi3pjT8bKAQDAoBEXdmMH7xqMWp2uWatvqqrL1+mbO92bq3OQj0ccWy6uON/QpDYrIJXYRQZdLxKJiSg97yDHWenQEeg9zsnBky2XVKTUN5VZOZAq2Mc9li2n5f5gWUAmVUQGzeq0wmbS837kOFPH58RMY3NlUfkZIlI5+vp7JbKVxeXnG5rNPzvP0d4jyGc8W66syZFJFS7OAd2qZ1VtbkVNVrc2ARikEJhBr0glIsd24zKSS610EdToqLDcFOorcbIX+7qLy6pMROTiJGLzR2cWGTtOkdizzUUiigtu+99+Kb8tVswvNzW1co5KkdJOFB0oSbM26RkAAAwZiVG3daUYx3HF5efOZHzZqqntoFh8xEJ/r1FseYST/8mULWYFfD3iR0ffzpbLqzKq6/MtdzIu7m6lnYotK+1UZ9K/sCwTGTgzLGAaEbVo6toJzJRd/GhCGfmHOM40KvLWLqbdIqLSyossMPN2j+GPGOw78cDJl0wmK91VxGLp9DF/Z5GYyWQ8nPx6oPdY9lm6Li33AAIzGCbQlRF6pVXLldcY2/vX2M7czb93R7w6IxmftyOjsPPoqAebh/pIHJUiIqptNJVWtTWNcRylF7TtCr0ZAQCAEYlEgT5j505cLZc5tFdGYafy9YznXwZ4j7GTO5mVqajJ5K7Ox+LpGmG5ExfnQD4qIyIfj5FWj8Vvq65K69on6HdZBT+pr7RVZoST35joO6wWGx97D98+diH726q63GtUP4DBCTej0Cv5auP+ZF13t8opNRqNnETye3dE1hGxttFUUWtycerk0V0PNo8PbYvcXJzEjy36vY2PJWkkIl93iecIUWUdZjQDABj68kpOVdcXCNdIxFJ7haurKtDTNZKtcXLwTIy67bdL263uIdRvslgkFm4e5j8tPe+AsIxW11TbWOzqHEhEHi7hGfmHzHbi+8dIzNnBy9Heo6nlinCl0k7l5ODFlvlYyIzBoM0uPGq2Umk3IsB7NFsurbzY3FotfLe+SW3WxlVeldHQXG51/7yCstP8ctLFT2667kU7uSMRRQXPLq1MVVddEhYO8Z0UHjidLZdducROTnl1ptFkPv2pv1eivcKFLVt+kMtFxzquFcCQgcAMbECnp/xyY7iflHVH1Os5N5WYutZc1oPN7e0ozPf3TCF8MGZmVLj08Jl2J8sGAIAhQ12VJowxhLzdY2eOXS6RyIgoxG/y2YyvjEYrzx/D/Nv647W01tgrXYkoInB6et6PRH94wFdelcEHZpY78bVoIvP1GGkWmfCBIsdx5VXpVuusM7T8N+1zs5UeLuF8YPbftM/NAjNLeaWn8kuTOi4j1KqtT07994yxy9jLyaMe2P/rC1p9E3vp7OgzYeR9bLlFU3fqwkdsuaAsuaAs2WxXzg7eLDDLKzlp+UEAhg90ZQTbyCxqC6KiAiTRgW0PCDrOx9jjzeNCpGJxWz/Gczl6s3+5ZW27ig2SyvCkAgBgeCuvSr90eR9blkrkzvZelmU8XMKdHb2JiOO45NT/sJWO9h6WgRYfSinsnJ3sPYVvyaRK9xFhbDm/tC1W8fWIpz/ydI1iCzUNhXzYM0CUVKTkXG3OUtqpJiUsZssSiXz6mKVSqR0RmTjTyZQtWt3AqjnAwIT7ULCNy6VGg5GTSkSR/hKWDrGy1lTT2NWehN3aPD6k7f/5fzMNF3LNgze5jP5+i1ImFcllorhgacrlrgaHAAAwJNUL8isq7Jyp0bwA31xW21CkrrpU31imcvIloojAGWVXUoUlK2tzjCaDRCwlIg+X8MaWSv4tb7cYsVhCRHWNpXmlp0L8JhGRl1uUWCwVdjL0utpi1l4/Rts6m/6Vl2sUC1P9vRJD/CbnlyaNi71b5ejLCqTm7K2sybZpHQEGDbSYgW3oDZRXZiQiZwexi5OYiDKKuhERdX1zHzcx6+hoNHJZxVbK6PSUXdzWaIYUIAAA4O4Sxi83a2rM3pVK7Pj87yUVKUSUd7UHoJ9ngr3CVVjYaNRV1bZlvPD4Y/4PPtWH+kpaZU22wahjO+f7LhKRndyRhXxEpG6nH6NtGU26Eylb+EhybOz/hAdMDw+4jr0sr8q4dHm/7WoHMMjgNhSsiA2W+rhJrL6VlKYvq/59wq9AL/Gi6XYd7Kqwwngmy3rIlFlkjAxo+x/IcVxm1waYdXfzhKvTl+WpjZp20pRczDPEhUiJyGOE2M9dzKdtBACA4cbfMzEioC1lhdGob2yuMCsQ5DOeddLjOI6FZPmlSYlRt4pEYpFIHBE4/UL2t8Ly5VXpXm5RZDHMjO/3WFZ1yWQyVNZkszW+7iP5DpCeLm1BmsGgraq93KcftM/UNhRdyP6WTQxgJ3OYGP+/bH2rtv5kylazQXcA0AEEZmCFi5PYxTzrbxuzroCOSnEH85gRUYu23W/k3DKjzsCxuc7KqkwNLd377u7K5jLJ75n0O5imrOSKqbbRxFreEsOlpVXdzjMJAACDiKdrZKu2nn8pIpFUYqewc/ZyiwrymcDP68Vm+jLblp+Gq7Imu7m1iohatXXqqnQWVoUFXHcx53vhXNLq6oxRdCsRqRx95DIHNnW1ytHXQelKRAajjvX0U19JawvMPEaey9zZVk+3tsCsoibLZG1+6j4UHnCd19XxbFYZjFqr06wRUXreQR+Pkd5u0fwajjOdTNmq0TX0cS0BhjQEZtATLZquBlEdlDQYKa/UGB0kJaKMom7/3nRlc3eVmOVg1Og4PsmHVan5hukJciIK8ET/XgCAIS4icEZE4IyOy1TX5ade/t5spbODN9/wlVdykl+fV3KShVVKO1WA12g2CzNTU5ev07fIZfZE5OESXlp5gQTNZZU1WawfID9HmcrJ117h2qKpIUFKxrIrf8hE3x88XSOFvSgtaXSN7QVmRNypCx/fNusN/nWh+kxFdWafVhBg6ENgBr87nWE4ndGlgV6lVaY3vmzp1s7f291qufL7JN33SebNU7WNnOXOe7x5F+t5Ot1wOh1pPwAAgLS6psvFxy/mfGc20xcJmssMBm1R+Vl+fXHFeT76igiaKQzMOOIqarICvEaTIDDjB5iVXU3pUd9Uxmfe93aLzis9JZMqXZz82bsDYWppy8ZDIfcRocKXXq6RdjLHgZZGEmCAQ2AGAAAAw4vRZKisziIiiURur3BxtHfn3yqpSDlx/l+WkyATkUgkDvGbzJYbmssdlG7Cd6vq8lg7mLdbtLODt3Cy5vKqDD4wIyKJWO7p0pYIRJhrUV2VzgI/d5fQvNJTnq4RIpGYiJpbqy2HuvW5/NLkqrq8DgrU1Be295aD0n1S/P3CNUrFiEkJi4+d3dRn9QMYBhCYAQAAwPCSfHGbcIJpX4+RU0Y9ZCd3JCJ/r8T4iD+lZH1juZWfR4LSTsWWXVVBN09f397+IwJnns34kn/JJ/NwUwWLxVIvtyg2gXVza3VD8++p+cuuXGoLzEaEkWAGs2uTKF9dldatCaZ5IpFk2uiHWWuhkL9XYkTgzJyiX/qidgDDAobTAAAAwLBWduXST7+9pdO3dX2PC7sx2HeiZTG+H2OnQv2nSMQy/mVDc3mLppaIJBKZq3Ogr0U/Rqa8OoN1F1Q5+Ukldp5XB7MNzET5vNFRi/h+jHklJw8nvcZ3ehwTc6ezo4/tqgYwyCAwAwAAgOGutqE46eIn/MtJ8YtdVUHCAgq5s69HPF+4qPys5T++K6BcZh/kO0G4eXlVBltwU4V4Xc1eqK76Q0oPnb65ur6AiMQisadrhIsqiIg4zlQ+gAMzP8+E6JC5bLmp5cqZ9C8qa3PS8w6yNVKJfFriw2Ix+mcBdAn+VAAAAACopCIlt/gEaxaTSGRTRj34w/EX+ST1of5TxOK2+VdOXfi4rrHEcg92cqfbZr3B4pDIwJnCtI3lVemh/lOIyNczXuXoS0QmzsRHazz1lTTW+hQZNFsilhJRdX2BztC9bFvXjFLhMjlhCZtdwGQynkzZqjdoiOhi9rc+7nGuqkAicnEOGB216GzGVzauK8Bg0C8tZiMc0RAHANcOvnMAoE+czfiK9TkkIpWjb1z4Tfxbof5T2UJtQ4nVqIyItLrG0spUtuw2IsTV+fc2t/LqthjM12Mki2SqanP1BvOEw3z2RT/Ptta5azPArAdEJJqW+DAbmEdEqTl7+QZDE2c8mbLVYGxLmxwVPMfHPc42tQQYVPrlbiYuRBHiI+u8HABAr8mkNG98OxOiAwB0h97Q+tulz/iXcWE3siFS7iPCVFfHSnWcISO35Di/LJwqrVVbX99YJixpNQN+VV0eP9Stg2L9QS6zl0mVHf+TiOV8+YTIWzxd23JLVtRkX8r9Qbi3hmb1+cyv2bJIJJo8agkfwgFAe/qlK6NELFp8g0tFraHr0xADAPSAWExeLlKlHVrMAKBvlFZeKFKfDfQZS0QSsXRS/P2Hkl7l035wnEmYztFSWWVqq6ZOqRhBRMF+E89lfs03i6mr01VOvnxJq01hHGcqr84I9B7LXur1rR2nsO9D42LvHhd7d8dldPqWfb+ubdXWe7vHxoXdyFZq9c2nUrYSmd/yZRce9fWI9/NMICKlnWpywpJfzrzXHzUHGDL6a4yZSCTydkWjGQAAAAwy/03f4e0ew/K/e7iERwXNDvIZz96qqM5q1dZ1sC1HXF7pKRa0SCV2IX6Tswt/Zm+VV2VEB89hy1pdE8vzYUl9JY0PzMprMjue1vkak8vs7eROHMdNGfUgm2ONiE6nfsr3/zSTfPHfN133osLOiYj8PBMig2bxZwMALOExMwAAAAwLGm2D2UI7xerPZ+7iX8aEzpdJFWw5rwszfeUWn+CXva7ORUZElTVZJlNbKhF1VbplE9PVtwRTTvdigJlG18hxHBEZjXqz7pF/LNbRqbAqKng2P5/b5aJfi8vPdbDz5NR/8y/jw28mElkWa9XWX13odmUAhhIR+6OtqM7ec3Qtv3biyHtGR99iu1oBAFxTw/k7cPOuu2xdBQAAgOFu5thH0GIGAAAAAABgYwjMAAAAAAAAbAyBGQAAAAAAgI0hMAMAAAAAALAxBGYAAAAAAAA2hsAMAAAAAADAxhCYAQAAAAAA2BgCMwAAAAAAABtDYAYAAAAAAGBjCMwAAAAAAABsDIEZAAAAAACAjSEwAwAAAAAAsDEEZgAAw5pUIrd1FQAAAIY7qdQOgRkAwLAW4jfB1lUAAAAY1uQyez+POKmtqwEAALY0Y+zfXJz8r9TlcZzJ1nUBAAAYduztRoyMWKBUqBCYAQAMa1KJfEzMrbauBQAAwHDXX4GZ0cSVXNG3avH8FQD6kVgk8naTOttLbF0RAAAAgF7pl8BMb+C2HagtuaLvj50DAAhJxHTHTFVssMLWFQEAAADouX5J/pFWoEFUBgDXhtFER8422boWAAAAAL3SL4FZQzN6MALAtYPvHAAAABjskC4fAAAAAADAxq5FVsYZiQ4ujhiaDwB96URqc1W90da1AAAAAOgb1yIwiwqw8/eQXYMDAcDwcTFXg8AMAAAAhgx0ZQQAAAAAALAxBGYAAAAAAAA2hsAMAAAAAADAxhCYAQAAAAAA2BgCMwAAAAAAABtDYAYAAAAAAGBjCMwAAAAAAABsDIEZAAAAAACAjSEwAwAAAAAAsDEEZgAAAAAAADaGwAwAAAAAAMDGEJgBAAAAAADYmNTWFeiEVqstLy+3XC+TyRQKhZOTk0wm63gPOp2uuLi4sLCwrq7O3d3d09MzMjJSLO4kItVoNGwrnU4XEBAQFBTk7Ozcg/oXFhbm5eU1Njb6+vrGxcUplcoubmg0GktKStiyo6Ojm5tbeyUbGhpqa2vZckBAQKcfrc+1tLRcuXKFiIKCgvpqn83NzVVVVWKxOCAgoK/2aUmtVut0OpVKNWLEiD7feVc+QmlpqcFg6MreXF1dnZyc+q523dCvZwkAAAAAmIEemBUVFa1du7a9d2Uy2bhx4+bMmRMXF2f5bnV19datWy9cuMBxnHC9q6vrnDlzbr75ZrlcbrlVTU3N5s2bU1NTzbZyc3N75JFH4uPju1jz1tbWrVu3njp1SnjcZcuWxcbGdmXz1NTUV199lS2HhoZu2LChvZLbt28/fvw4W96yZUvPAsjeOHDgwNdffy0Sib744ou+2ue33377/fffK5XKbdu29dU+La1atcpoNC5atOiOO+7o8513+hFaWlqefPLJLu5tyZIl8+bN67vadUO/niUAAAAAYAZ3V0a9Xp+UlPTSSy+dPn3a7K0TJ06sXr06JSWFxVcSicTFxUUkEhFRTU3Nzp07161bV11dbbZVRkbG008/ffHiRX4rhULB3qqurt6wYcO+ffu6WLctW7awqGzEiBGBgYHsuG+//XZdXV1XNheGhXl5eZWVlVaL6XS6//73v12sUj8xi2AH7D4tmUym/tv5tfkI10C/niUAAAAAYAZ6ixlv7ty506dP518aDIampqb9+/dnZmYS0fvvvx8SEuLp6cneTU5O3rRpE1ueOnXqwoUL/fz8pFKpwWA4ffr0rl271Gp1Xl7eiy+++Prrr/OhFxF9/fXXjY2NRLRgwYIFCxZ4eHiIRKLm5uaTJ0/u3Lmzqanps88+CwsLi4mJ6bi2VVVVSUlJRDRmzJhVq1aJxeK9e/fu2LGjsbHxzJkzc+bM6e7HT05OXrhwoeX68+fPazSa7u4NmOnTp5tMpj7sgdktCoXipUKpNFsAACAASURBVJdeEq65cuXKe++9R0SzZs26/vrrhW95eHhc08oJ2PYsAQAAAAwTgyYw8/b2joiIMFs5duzYDz744MSJEzqd7uLFiyzg0Wg027dvJyKJRLJy5cqxY8fy5aVS6dSpU2NiYtasWVNbW1tZWbl9+/a//vWv7N2mpiYW5s2bN+/+++/nt3JwcJg3b56fnx+7jT5z5kyngVlBQQFbmDJlChv0NW3atB07dhBRRUVFDz5+UlKS1cCMhX/QM0uXLrXh0cVisdl/aX4Ioqurq+X/dlux7VkCAAAAGCYGTWBmlVgsvv7660+cOEFEOTk5LDDbs2cP66N4ww03CKMynqur69NPP/3CCy9otdqffvrptttuY6k1srKyWK+t4OBgy63i4uKCg4MLCgrOnDlz3333dVwxX19ftnDmzJlp06YRUW5uLlszcuTIbn3GMWPGnDt3Lj8/v6KiwsvLS/iWRqM5e/YsEUVEROTk5FjdvLKy8vLly2VlZTKZLDAwMCwszGwQWl1dXWlpqYODg7+///nz5wsKCmJjY2NiYpqamoqLi5VKZWhoaHl5eVZWVllZmZubW1xcnJ+fX3u1raury8rKKiwsdHV1jYyM9Pf3t5qMpNNatcdgMGRmZpaUlNTV1Xl7ewcFBQUHB7MeqmaamprOnj1bWVmpVCojIiLCwsI0Gk1hYaFMJouMjGRlcnNzNRqNh4cH39bKHyU3Nzc9PZ3jOG9v78TERHt7e7P9Nzc3FxUVqdXqiooKsVjs4+MTGxvr7u7elU/RY6WlpWVlZaWlpS0tLY6OjqGhobGxsZZnuCufveslzc5SQ0NDcXGxvb19SEhIY2NjdnZ2Xl6ek5NTSEhIeHi4RCKxrHZGRgZLgRMYGBgdHe3q6pqfn9/S0uLn54eEIgAAAADM4A7MiIgPEpqbm9nC0aNHiUilUi1atKi9rYKDg2+99dYvv/ySiJKSkm6++WYiYiPBiOiXX36ZOXOm5f3u3/72t5aWlq4kx/P19fXy8qqoqEhOTv7555/9/Py2bt1KRE5OTlbzlHRg4sSJ58+f5zguOTn5lltuEb515swZvV7v5OQUHx9vGZg1Nzd/9dVXhw8fFg52ksvl995777x58/hg5scff/z2229jYmLs7OxSUlKIaPfu3aNGjYqIiNi1a1doaOiYMWN27dol3PO8efOWLFliWdVffvnl448/1uv1/Jrw8PA1a9YIc1F2sVZWpaSkfPrpp2q1WrgyJiZm6dKlZpHViRMntm7dqtVq+TURERExMTF79+51d3fnu7k+99xzHMeZpbX47LPPDh8+LNzWwcHh3nvvnTVrFntpMBj27t373XffCcsQkUQiufXWWxctWtTxp+iZgoKCTz75JDs722x9cHDwo48+Kkz82MXP3vWSZmfp0KFDu3btioyMnDdv3ocffmg0GvnNIyMjV6xYIYxONRrNP//5z6ysLH6NRCJ58MEHt2/f3tra+sgjj8ycObOXZwYAAABgaBjcyT+IiHU+JCJ/f38iamlpaWhoIKKYmBjLVg6h8PBwtnDx4kW24OHhwcK87Ozsp5566tChQ2YpN0JCQuLi4vj4rWNLlixhN+hbtmxZt25dQ0ODXC5fuXKlVNq9YFilUrFYLjk52ewtllxk0qRJljGkyWR66623Dh06xHGcSqUaP378qFGj7OzsdDrdtm3bPvnkE7PyGRkZLCpjRo8ezRby8vJ27dolkUgmTJgwd+5cNtLp0KFDBw4cMNsDx3GbN2/W6/Wurq4hISFs5eXLl994440e10ooNTX1tddeY1FZeHj4lClT2MXKyMh46qmnhHMq5Obmbt68WavVymSyhISEsWPH2tvb5+Tk7N27t4P9M998882+ffu0Wq2zs/OECRPCwsKIqLm5ecuWLb/99htfZufOnVqt1tHRcdKkSTNnzoyOjiYio9G4a9cu1obZt5qbm1988UUWlUVGRs6cOXPixIkqlYqICgoK3n///R589t6cJSLKzs7etGmT0WgMCgqKjo5ms1ZkZ2d/+OGHfBmO4z744AMWlXl5eU2ePDk4ONhoNG7ZsqW1tbXXZwUAAABgSBncLWapqal8LnIWvZSVlbGXZk0olvj+isLcjMuWLXv99ddra2tLSkpYnODl5RUbGxsXFzdq1KhuTSQVFxcXERHBbqY5jgsODl6+fHkHnQA7MHny5EuXLpn1Zmxqarpw4QIRTZkyJS0tzWyTvXv3pqenE9GECROWLl3K2qwqKys3btxYUFBw+PDh6dOnm41ikslkS5cuDQ4OTk9PnzRp0o8//sjWKxSK1atXs9Pb2tq6cePG1NTU7du3h4eHm+1BLBavXLly3LhxRKRWq9977738/Pz09HS1Wu3j49OzWvEfdtOmTRzHKZXKFStW8HHjDz/88J///Eej0fz73/9+5plnWMk333zTYDC4uLg8/fTT7CrX1ta++eabfG/S9pw+fXrnzp1ENHr06OXLl7PAPjc3d+3atSaTaefOnRMmTNDpdIcPHyai0NDQ559/ns8cc+rUKZa349ixY+wM9KGff/6ZRTIrVqyYMmUKW6nRaNavX5+Xl1dQUFBYWBgUFNT1z96bs8RTKpWrV69m0z80NDSsXbu2oqIiLS2tvLzc29ubiL7//nsWzS5YsOC+++5jjw9++umnjz76aMikrAQAAADoK4OmxezYsWMbr3rrrbfWrVu3bNmyV155pb6+nojGjx/PZhjj+7l1Gpg5OjqyPlf87MxEFBIS8tJLLwmnGquoqDh69OimTZsefvjht99+u7209WZyc/+fvTsPa+LqGgB+JwshEPYQZF8FUURREEVRi1vV1lqx9XV9bdXWurfWal2qtdbl06qt2qrVWqtW29dq3asiLqCigIALiAhhD0tYErasM98f106nSQgRQUTP7+nTJ5lMZu5MYpgz99xzsxctWsRMPGOxWE02qTG9evXCF7XMTrPbt29rtVp7e3vcXaPj6tWrCCEbG5vZs2fTmYQikWju3Lm4H++PP/7QecvYsWMjIiJcXFwGDx4sEAjo5W+88Qadfsnn82fMmMFisUiS1O/BGz9+PB2TODs7jx49Gj+m6500o1VYWloa/qCjo6PpqAwhNGLEiL59+yKEUlNTcUSRnp6OP9DJkyfTsbednd3s2bObzDDEUQSPx/voo4/o7lZfX1+cxFheXl5eXi4Wiy0tLdls9rhx45j1PMPDw/FJw+1sWbm5uVZWVrifkF5obm6Ohy/SOzX92J/lLNGio6PpfynW1tZ05jD9bxAP/nR1daWjMoTQoEGD6GYDAAAAAABau+kxy8/Pz8/P119OEERUVNT48ePxU3qAk8GaE/rv1V9TKBR+8cUXZWVlqampqampGRkZuLOCoqhbt26lpqZ+/vnnBmMh2oMHD/7v//4PD92JiorKyMjA1fl/+umnDz/8sKKiAtfc79GjB10jxDgrK6ugoKC7d+/evHmTHmaG8xgjIiL0r6Srq6vxxfGgQYN4PB7zJVdX15CQkDt37hQUFOi8q7GqJK+//jrzqUgkwo2hK0/SdObOpo+uvr6+2a3CcMIqm83Wn2R55MiR169fRwjl5+f7+vqKxWKEkIWFRZ8+fXQa061bN2a6pj58ROHh4TqVSCZNmjRmzBh7e3uEkKOj49atW0mSZH5tZDJZZmampaVlbW2tRqMxsovmmTt3Lvr3fGIajaagoIDu7MUDvUw/9mc5S7Tu3bszn9L3HVQqFf5/YWEhQigqKkrnn9iwYcPoKdEBAAAAAADWbgIzZ2dn5lROFhYWQqHQ0dExMDCQOegLD7xBCJWXlxvfoEajkUqlCCF8wa1DJBINHTp06NChJEnm5OQkJyf/9ddfDQ0NSqVy+/btzAoKOlQq1Q8//KBUKgmCmDt3bkRERHFx8bJlyxoaGi5fvuzn59fQ0HDz5s2bN2/y+XwTAzOEUEREBI6FcJ6YTCbD6YvMLhRaXl4efoATCHXghRUVFUqlkhkg6ZR8xKysrJi9Zxj+IPQDM53DMTMzww9wRNG8VmE4kBAKhfQ29XeKs1jxmiKRSD9eNXiANJVKhbeg37Fpbm7O7BxDCNXX18fHx2dnZ0skEolEQheeaVWZmZk4dpVIJGVlZfrZgKYfe7PPEpPO1Go635P8/Hz8uetvECc6AgAAAAAApnYTmA0ePHjkyJFNrkZfVevU7tNHX9rS15dyuVwmk/F4POalOYvF8vPz8/PzGzJkyNatWx89eiSVSgsKCph18JiSkpJwvDd48GAcNbm4uMyZM2fTpk0URe3btw/nyBEE8VQjkcLCwn788UetVpuQkDB69OiEhASKopydnX18fIy8SyecwCwtLfGDuro6OgTicDj6ARhzZSachVhfX6/RaOhaJgRBMKsvtkiraDh+MPhGHo/HZrO1Wi2OjiorK1Ej/aUG306TSqX4+2DwPDDpFzMkCMLX17ekpKS2ttb4e5unoaFhw4YNdJ0bzNraWiQSPX78mF5i+rE3+yzRCILQ+Zh0Yjw6Q1h/LybuAgAAAADgldJuxpiZyN3dHd+Pv3PnDg6QGnP+/Hn8gJ7rbO7cuYsWLdq5c6fB9e3t7elRNLjqhkF0vmXv3r3phT179sSlxjUaDS4a2bNnT7pzzxSWlpbdunVDfw8zo/MYG2sqflBTU6P/Kr4oRwgxE/YaG1lkMNLA19wuLi5PVWGyGa2i2dnZIYTwqdMhk8lwIh9+Iw6qDQ70ondhEJ7LDiFUXV2t/yrdPZWVlYV7RNlsdu/evadMmbJy5cq9e/euWbNGpwepBW3btg1HZS4uLiNHjlywYMHmzZt37dr19ttvM5tn+rE3+yyZjr67of+pMcvtAAAAAAAA7GULzBBCkZGRCCGVSnXw4MHG1iksLMS19bhcLh1B4UvJjIwMg5fmTAZn0cVw3XD07xFBCKG3336b2UX25ptvGt+FPjwcKDc3NyMjA5cgbywwo5PHcMaajpycHISQlZWVKWFVbW2t/tnASYzGO+tatlU40bG6ulq/MfTWcOCH16ysrNQp00KSpP4kYEw8Hg+Hf3hkFFNeXt6kSZPmzJmTkpJy69YtHAcuXLhwwYIFI0aMwBMzUBSFMyF1PvdnV19fn5KSghAKCAhYv3795MmTe/fu7eLiQhBEUVERfXToaY692WfJdPTHnZGRofMSc1ozAAAAAACAvYSB2ciRI3GIlZCQcOjQIf1iDGKx+JtvvsHXsmPGjKHr74WHhyOEKIrasGGDfvXFuro6eoongyXdMbrGnc58UA0NDcyg4uDBg7gkhulCQ0Nx1IdHuHl6ejZWfN/MzAw348qVKzq9E2lpaTgEYtY2NO706dPMp0lJSTgeoCcrM9GztAqfcIqijh07pvMSXcgR16LAwSpFUb/99htztdjYWLo4ZGPwrGXJycnMWdEQQvHx8VqtViqVenh40GGbv78/c51r167h5EbmhMstori4GHeIeXt7M4fY4XFu+DHeqenH/ixnyUTm5ub4TkRcXBwz1lUoFI3V3gQAAAAAeJW9hIGZubn5Rx99hGOYU6dOLV++/MqVK3l5eZWVlWlpaYcPH16+fDkegdapUye6yCFC6PXXX8c9CWKx+PPPPz9w4EB8fHxubm5aWtrp06c/++wzXG8jODiYnpxaX/fu3fFU1/fu3du+fbtUKq2vr79x48aXX37JHA6UlZX19ddfP1XRCD6fj2MPHNXgMvGNmTx5MkJIrVZ/9dVXuI48SZKJiYl4ri0+n2/KgD3s7NmzZ8+exXFsSkoKnkHY2dm5f//+pjf+GVsVGhoaGBiIELpw4cLhw4dx3T+5XL5582Z8VgcMGICjcW9vbxxgX79+fdOmTffu3cvMzDx06NDevXubbN64ceMIgsCROe4VrKys/PPPP3FoGhQU5ODgQFcuOX78uEKhQAgpFIrY2Fg6A/Zp4+0m0aUy4uLi6KqVRUVF69evp/NmceFQ04/9Wc6S6d59912EEEmSX3zxxYULF8RicUJCwrJly1oq9gMAAAAAeJm0m+IfTyUwMHDVqlWbNm2qqqrKzc01OGwsMjJy+vTpzMoEAoFgzZo133777d27d+vq6s6cOaP/rr59+3744YdGds1msz/66KMNGzbI5fL4+Hi6TwMLDw9/7bXXtmzZolQqs7Oz9+/fP2vWLNOPq0+fPomJifhxY3mMWJcuXYYNG3b+/PmSkpJly5YJBAKNRoMDCXNz86VLl3p6epq4U5Ikf/nll99++43D4eBIUiAQLF68uMkiGS3bqvfff3/NmjUymezEiROnTp2ysbGhy0v06dOH+aFMmzaturo6MzMzKSkpKSkJL2Sz2SwWS61WG0lDdXd3j46OPnr0qEQiWbJkiZWVVW1tLe6tsrGxwZ9UVFRUTEyMWq0+c+bM+fPnnZycJBIJSZIEQTg6OpaXl1dVVdXU1DzVXOTGCQSCyMjIuLi4urq6RYsWOTg4aDQaPDzM2dkZ32KgK16afuzNPkum8/DwmDlz5p49e+rr6/F07ZilpSX+IrXIXsCzoygquzBBWpVDoRZOxAUAAABAkyzMbQM8B5rzrF70wOypyksw+fr6bty4MSYm5uLFi8zEOYIgQkJChgwZYjBrztLScsmSJceOHUtJScnPz6dnReNyuV5eXn369BkxYoQpu96wYcOuXbvu3btHJ7Y5OzsPHTp0+PDhCKHFixdv2bIFITR27NinOqgePXqYmZmpVCp/f388O7YR7733XlBQ0C+//FJeXo5reFhZWQUGBr755pv6qZiNnWeCID7++OO9e/fKZDKcqufj4/P+++/rVzw38SK72a1yd3f/5ptv9u3bd/v2bbVaXVVVRRCEl5dXSEhIdHQ0M8C2trZesWLFn3/+mZ6eLhaLzczMOnbsOGrUqNOnT9++fdt46cixY8f6+vr+/PPPpaWldJGS8PDwSZMm4TFs7u7uixYt2rdvn0Qi0Wg0RUVFBEH4+/u/9957SqVy1apVJEkmJycPHDhQ/xCabdq0aebm5pcuXSJJEn+ZLS0thw8fPnr06PXr19+/fz8xMfG///3vUx37s5wlZPLHPXDgQFdX17/++isnJ6e8vNzDw6Nbt26hoaHLli1DCNFZxKBt3Ujbf+/xubZuBQAAAPDqup994d0hGwncIVBa8ej45RX0a+FBE0I6vdX4e5twLa0uJvmfan4fvGnv5sh9lrY+C4qiqqury8vL6+vrHRwcHB0dTazWrdVqi4qKysvLhUKhm5tbM+7u41mAa2trvb29dfqXpFJpXV2d6d1Wz6K2tragoMDCwsLDw6Ox6ov6jh49evToUYIgDh8+jBAqLi6uqKhwcnLSn+brebYKIUSSpEQiqays9PHx0a/mr1Ao5HK5UCjUr9K+YsWKrKysLl26rFixAjUFN4/D4bi6uurHDyRJSqXSsrIyCwsLNzc3/dnVWkN9fX1paWltba2zs7PBsNz0Y2+ps2RcWVmZlZWVfoyXlpa2bt06hNDKlStxhmrz/HyuKkeiwo/NOMTyKc/0zWzZ38B2hKKovX/+V6NVNr0qAAAAAFrN6xGLXvQes2dHEISdnR0uuPdU2Gy2h4cHc/bqp8XhcBqrkCEUCpvs8mopAoHgWS5/MRcXF9OnwzZFs1vFYrFcXV0bK3ySlpa2ZcsWLpe7fPnygIAAevmDBw+ysrKQycUkjTePxWKJRKKWilFNZGFhYbzgiunH3lJnybiNGzcWFBT06NHjs88+oxdSFIXr4rBYrOdzYwIYR1EkRGUAAABAm1Oq617C4h/gVYYn/lar1fv3779//75ara6rq0tMTNy1axdCiM1m46IXLyXTj/35nCW8lzt37pw6daq8vJyiqLy8vIMHD+IiOiEhIZDKCAAAAABAe/l7zMArxcXFZdCgQZcuXcrJyVmzZg2Hw9FqtThflyCIuXPnGqmo2d6ZfuzP5yxFR0enpKQ0NDQcOnTo0KFDeHgkfsnf33/u3LnPvgvQ4tyduvULeb+tWwEAAAC8/ApK0+JTfmIugcAMGMZisbhcbovUrnjO3nvvPScnpzNnzshkMjyLnaWlZceOHQcNGhQWFtbWrWtdph/7czhLrq6uX3zxxf/+9787d+4ghFQqFUEQ7u7uAQEBEyZMMHGoJ3jOuBxzG4FuaR8AAAAAtLgKWb7OkvZ32Q2ejzFjxowZM6atW9EcHA5n1KhRb7zxBi76YmVl5ezs/FT1Rdov04/9+Zwlb2/vzz77TKFQ4Oo7Hh4eTdZ7BAAAAAB4NUFgBl5OLBbL3t4e17h/1Zh+7M/nLJmbm+PxZgAAAAAAoDFQ/AMAAAAAAAAA2hgEZgAAAAAAAADQxiAwAwAAAAAAAIA2BoEZAAAAAAAAALQxCMwAAAAAAAAAoI09j6qM5dWa57AXAMArRakm27oJAAAAAAAt5nkEZsfj5M9hLwAAAAAAAADQTrVKKiNJUa2xWQAAMIgk4TcHAAAAAO1bqwRmslpta2wWAAAMgrgMAAAAAO1dqwRmAj67NTYLAAAGEURbtwAAAAAA4Nm0SmDG5cBVEgDg+WGz4DcHAAAAAO0blMsHAAAAAAAAgDYGgRkAAAAAAAAAtDEIzAAAAAAAAACgjUFgBgAAAAAAAABt7HlMMA1ebo62hJ+rgTqcJIlUGlSvpMQSrUrd6NutLQlXIUtky3K0ZVnwiJoGUlZH5RRrc0tIIzu1FRCuQpbIjuVoy2KzUIWMKq8my6rJIqmxdwEAAAAAAPBigsAMPCuRLatfVzMjK6g1VFah9mKySj8869WJ068rl83+p6SeE2IhhHr6c6tqyJhklcHwrGcAZ0Dwv97l5vjkwaNCzdkElVrTzGMBAAAAAACgTUBgBlodl0N09uKY84hj15TU3xMBW5qjUX15bo7/dLVRFKVQIXMzRBAEQsjOihXdn3clTZ2c+a8wa0got7sfl35KkhRJIc7fQZq/G8d+COt/V5S1DTDlMABtgKSo2xkNjwuVai38GwQAAPASsrJg9w2ycHbgNr3qU4LADLSYwnLtlZS/O8UIxGYhAZ+ICOI6WLMQQj7O7C5e7PtiLX59UE8zOirLL9XG3VOXVZEaLeJyUJAXp08Q19KcYLGIqBCzShkp/rvfjMNGXbyefGkf5mlupqulMgohZMFD3fw4vTtzOWxCaMPq6sO++QB6zQBoAwkP6v+6XdvWrQAAAABaj/pRgXJetFDAb+FqHVD8A7QYqYyUVP79XwVZWE4+zNf+cl5RWP4kGHMXPYnEPJ1YAe5P4qtLd1S/XVYWS0mNFiGE1BqU8lhz9KpCpXlyu/31cDPu3zcQPJ3YePry3BLtqZsqHJUhhOqV6OYDTeydJ2FhRze44wBA28jMV7Z1EwAAAIDWpVBR+aWqFt8sBGagdWm0KCPvSWDmbP/k+zao55MxadnF2juPDHRtlVVRp2+oKIpCCAn4rI5uTyI6R9snKYsKpYEsqbs5GqWaQgg52bEseC15FAAAE6m1bd0CAAAAoPW1RsY+dCyAVldT/+SLSxAIISTgEzi5UUtSsXcavdmQXax9kKsN8uYghAI9OOm5WoRQSeWTnEY/N7arkKVTg5Gi0LFrSjYLNSgpRcvfxQAAPDUzDtH0SgAAAMALj6QoTSvffITADLS6zp5P+rukMhIhZG/95EKtQk5V1xq72SCpIIO8EUKog8OTrraCMlKtobgcgsMmJgw2LyrX5ki0uSVkaRWJy4oUlkO5fABeFJbmrMUTHJteDwAAAHjhPRArfrssa9VdQGAGWgufh+wErJ7+nE6eT75m+WUkQsje6kmUJattIogqrXqyggWPYLEQSSItiU5cV46K4JlxCYSQqyPb1ZEdGYxUaqqwnMwp1mYWaOphhAsAAAAAAGhvIDADLaabLyfY58k3iiCeVL2nlVWTqY81CCFL8yfLm4ygyqv/idwseASugC+WkIdjFcPDeSLbf0ZImnEJHxe2jwt7QHfurQx1QrqGgkrdAAAAAACg/YDADLQYgtCJxf6RVaiJvaPGwRLr73XYTZWeYa6gYYywLKui9v+lcLAmfFzY3h3Yro4seh4zLofo19XMVsA6dwsGmQEAAAAAgHYDAjPQYmrqSbp+PUJIo6XkdZSsjiqpJJlVOhTqJ+tYmDdRFcBWwKI3pV/Mo0JOVcg1iQ81bBZyEbL83djdfDlsNoEQCvLm3LivltVBrxkAAAAAAGgfIDADLSa7WHsxSd3kanTBD0ebJgIzJ7snK8jrKIQQQaCu3mwBn6hToLTsf4rsa0lUUEYWlJFp2ZrR/Xh2Vk/ms055DHNMAwAAAACA9gHmMQPPW26JVq2hEEJWFqzufo3eGmCzUO/OXPz4cZEWIWTBI4b14vXtavZaCJfLNvAWqYy6+3fA5uoI320AAAAAANBuwMUreN7UGpRV+GQaiH5duY3NBN0rkGPzdypjep4GIVSnoPBIMy6HCPQyHNGZm/09A7UK8hgBAAAAAEC7AYEZaAPX7qpVagohxOcRU4aZu4v+9T3ksNHgntx+Xc3w0wdiTXn1kyiLjuiGhnJ7d9aNzbp4sUM6PlkoqYAJzQAAAAAAQLsBY8xAG6ippy4mq0aEmxEEYWXBGvcaD08SbW6G2CzCQ8Si+8qqa8mY5H/qfty4r/Z0YluYEwRBRAabhXTklFSSlXKKzyNEtiwn+yfvqqohM/JbeW52AAAAAAAAWg4EZqBtpOdqVWrVyN5mZlyCIAhvZ7a3s+64sbxS7ekbShWjhEdlDXXgomJMJM/RloUQEvBZfq4s5PqvdxWUaU/EK0noMAMAAAAAAO0HBGbgWdUrmjma63GR9qdzipCOnGAfDp/3rwqNhWXatGxNep6BXi95HXUoRtE/mOvmyBbaEKy/p0XTkpRURokl2uv31CSMLwMAAAAAAO0KBGbgWYlLyI1H6pv33pp66lqaOu6uWsAnbCwJMw6qbaBkdZTSaNV9tQZduqNGSM1mIaENS8AnorlhKgAAIABJREFU6hRUeTWphV4yAAAAAADQPkFgBtoeRaGaeqqm/qn7ubQkKq0iS6tao1EAAAAAAAA8P1CVEQAAAAAAAADaGARmAAAAAAAAANDGIDADAAAAAAAAgDYGgRkAAAAAAAAAtLFWCcwszSHeAwA8P5Z8+M0BAAAAQPvWKlczXbx59ta6kwUDAEAr6R9s0dZNAAAAAAB4Jq1SLt/cjPXRW/ZZBap6JUwsBQBoRSwWchNyOzhw27ohAAAAAADPpLXmMeNxWUE+5q20cQAAAAAAAAB4mcAE0wAAAF5mtSUVVVn5pEbT1g0BoCkslo1HB1tv17ZuBwCgbUBgBgAA4KVVdjfrzs6jlBby6kG7ETAmymdYn7ZuBQCgDUApMwAAAC8t8YUEiMpA+5L91422bgIAoG1AYAYAAOClpaqtb+smAPB0NPUKEu4mAPBKgsAMAAAAAAAAANoYjDEDAADwSuDZWgVPfbOtWwGAAY/PxFVlFbR1KwAAbQwCMwAAAK8EthlHGOjd1q0AwICCa3faugkAgLYHqYwAAAAAAAAA0MYgMAMAAAAAAACANgaBGQAAAAAAAAC0MQjMAAAAAAAAAKCNQWAGAAAAAAAAAG0MAjMAAAAAAAAAaGMQmAEAAAAAAABAG4PADAAAAAAAAADaGARmAAAAAAAAANDGIDADAAAAAAAAgDYGgRkAAAAAAAAAtDFO6226qkZbryRbb/sAAMAikNCGw+UQbd0QAAAAAIBn0iqBGUlShy/JMguUrbFxAABgMjcjxg+y9XY2a+uGANA2pFKpQqGwtbUVCATM5TU1NTKZDCEkEonMzMz032JlZWVjY8NcXl9fn5ubW1BQIBAIOnTo4OPjQxC6dz3kcrlcLtdZyGKxLC0tBQIBm81mLpfJZDU1NcwlZmZmFhYWOk3VoVar8/Ly8vLyrKysfHx8hEKhseMHAICXRasEZul5SojKAADPh0JFnbtVM2u0Q1s3BIC2sXHjxvv3748ePXrGjBnM5Xv27ImJiUEIffzxx4MHD2a+tHz58oKCgg8++OCtt97CSyQSydatW+/fv89czdXVdcKECQMHDmQuPHv27IEDBwy2hMfjRUZGzp49m44DT548eeTIEf017ezsRo8ePXLkSD6fz1yu0Wh279597tw5kvwn48ba2nrevHl9+vQxehoAAKDda5XArFKubY3NAgCAQfCbA15l3bt3v3//fkZGhs7yO3fu4AdJSUnMwEwmkxUUFCCEQkJC8JLY2Njt27crlUoul+vv7+/q6ioWix8/flxUVLRx40aEkE5shhASCAS+vr70U5VKVVJSUlVVFRMTU1BQsG7dOh6PR7/K4/FwrxdFUUqlsrq6uqqqat++fadOndq+fbuVlRVeTavVfv755+np6QihoKAgJycnpVKZmZlZXl6+Zs2aqVOnvvPOOy1wvgAA4EXVimPMAAAAANDaunfvfvDgwcePHyuVSjocEovFlZWVAoGgtrY2JSWFJEkW60m5L9wt5uDg4OHhgRCSSCTffvutRqMJDg6eN2+es7MzXk0mk/30008xMTGbN28WCAShoaHMnfr5+X399dfMJRRF/fnnn3v27MnMzLx7925YWBj9UnBw8KpVq+inKpXq6tWru3fvlkqlO3bsWLJkCV7+4MGD9PR0Pp+/bt26jh074oVarXbr1q2xsbGHDx8eNWoUM94DAICXzPMIzMIC+NaWUP4RANCS7mQpqmqgowyghkrZ3X0nLZ0cOr0zmMN7FYca+vv78/n8hoaGR48ede3aFS9MTk5GCA0dOvTGjRslJSWZmZmBgYH4JRyY9ejRAz/dtWuXRqNxd3dfs2YNc4SYjY3NvHnzpFJpamrq2rVr9+zZY29vb6QZBEGMGjXq5MmTZWVld+7cYQZmOszMzIYMGSIUCpcvXx4XFxcZGdm3b1+EUFJSEkKoV69edFSGEGKz2ZMmTbp69apSqbxz5w4kNAIAXmLPIzAL8ee7OXKfw44AAK8OsUQNgRkoSriXfuS8pkFZ+Si/IjO32/tv2Xq7tnWjnjc2mx0cHHzr1q309HSdwKxHjx4KheLs2bPJyckGA7PCwsLExESE0IcffqhTtwNveenSpZMmTVIqlfHx8aNGjWqyJfb29mVlZfX19U02OyQkpFu3bmlpaUlJSTgws7a2RgilpaUxu/4QQk5OTosXL1YqlbiLDwAAXlbQkQUAAKD9Udc1pPx47O6+k5qGJ7Wm6suqEv5vf9bpOIp85WZq6datG0LowYMH+GlDQ8ODBw94PF5QUBAOwHCchhCqra0Vi8UEQXTv3h0hhAeb8Xg8eryZDktLS29vb4RQSkpKk824fPlyZmYmQsjf39+UZkdERNBtQAj16tWLIIjq6uoPPvjg8OHDjx49okuA9O3bNyoqytX1lYu6AQCvFBhjBgAAoJ2RZojv/nxKWV2js5wiqcenrknvZwe/P8pSZCzv7iWDw6qHDx9SFEUQRGpqqlar7d69O5fL7datG5vNzsrKkslkNjY26enpFEV17NgRd08VFRUhhJycnIxs3MfHJzMzUyqVMhcWFhbu3LkTP6YoqrKyUiKRiMVihJCnp+fQoUNNaTauCJKfn4+fenh4fP7555s2bZJKpQcPHjx48KClpWWXLl3CwsIiIyPpGiEAAPCygsAMAABAu6FVax4dv5x76baRdarFRde/2hM4boh7P8O9QC8fDw8Pe3v7ysrKvLw8Ly8v3D/Ws2dPhJCFhUVgYOD9+/dTU1MHDBhw7949xBhgVl5ejhBydHQ0snEXFxeEUG1tLXOhVCo9deqUzpp8Pv/dd98dPXo0l2vS+AWcr1hXV6dSqXCF/b59+7q7u585cyYpKamkpKSuru727du3b9/+9ddfly5d2rlzZ5NOBwAAtE8QmAEAAHhBVTzMrS2RVmYVmFnyzW2tFLLa8vuPG6TVTb5Rq1LfP3C2LC2L0r4qaY3du3ePjY1NT0/XCcwQQiEhIffv33/48OGAAQPwADM6cRFPI1ZVVWVkyxUVFQghnamo3d3do6OjEUINDQ0JCQlpaWkIoRkzZgwbNsz0NpeWliKErK2tmfNfe3h4fPTRRwihoqKitLS0O3fuJCYmVlVVLVmyZPXq1TgDEwAAXkoQmAEAAHhBFd68W5xwr9lvL7ubRbCIFmzPi4wOzIKDg8vKykQikZubG36pZ8+eBw4cePjwoUKhePz4MZ/PpwuB4CTGoqIinANpcMs43VGnV83BwWHIkCH48ahRo3bt2nXy5MnvvvtOIBDgSh6mkEgkCKEOHToghCiKqq6urqmpoSt8uLq6urq6jhgxIjc3d/369QUFBZcvX4bADADwEoPADAAAwEuLIqm2bsJzgut/ZGZmpqamIkayIkLI19fX2to6Jyfn3r17JEkGBwdzOE/++oeFhREEoVQqr1y58tprr+lvViKR4LIfvXr1MrL3GTNm5OTk3L9//5tvvnF1dfXy8mqywRqN5ubNmwghvLJcLp80aRJCaPfu3TpFPry8vKKjo7du3Xr37t0mN/vS02q1eXl5+LG1tTUep8fU0NCAI16EkKurawvO/FZaWlpXV4cQ4nA4z7lCplqtpovE0NhsNofDMTc3t7W11a8p+uyYZ9LZ2Rl3L7+w1Gp1Xl6eWCyWyWQeHh6enp4ikcjg3Zb6+vqSkhL82MXFxdzc3PiWJRJJQ0MDQojH40EBntYGgRkAAIAXncDV0cpV1FApryks1SpUpr7LWahVa0xJfXwJCIVCd3f3goKChIQE9O/AjMVihYSEXL16FY8KY74kFApDQ0MTExP37t0bGhqqU2CDJMkff/xRo9FYWFgY7wdjsViffPLJ7NmzGxoaNm/evGXLliYvlE+dOoX74nAVfhsbm44dO2ZlZZ07d2769Ok6K1dWViKE3N3dTTgTL7mUlJSVK1fixw4ODrt27dIJGP766689e/bgx99++62fn18z9kKS5IULFwiCYOamrlixgq4W89NPPzXzAJrl9u3ba9eubexV/A2fMGFCp06dmr0LiURy6NChBQsW0Lctbt68+c033+DHixYtGjhwYLM33qpSUlL27t2bl5dH/rsgLZ/Pf+utt/7zn//ojPk8ceLEwYMH8eNNmzbR/eeN+eSTT+RyOULIz8/v22+/bdG26zL4xXulQLl8AAAALzrnnoHdp43us2hK/9UzhZ19THmL16BeEcumsbmv0P1HnOaXkpLCYrF0Uv6YRfN1KuPPmjWLz+dXVVXNmTMHDxXDysrKli5deuvWLbyOhYWF8b07OTm99957CKHs7Ozjx48bXIckyYqKiocPH+7YsQNf2UdEROBy/AghPHn08ePHv/32W7oIpFarPXfu3G+//YYQ6t27t6nn4uVFUf90AldUVBw6dMjICs3z4MGDBQsWbNu2DYdhLbjlVkKSZHJy8uLFi/HX9WkpFIr9+/fPnDnz8uXLGo3G4Dov5rGr1eqdO3cuX75cLBaTetOENDQ0HDlyZP78+Y8fP2Yu11/TuOd27I198V4pr9BfLAAAAO2duY1V6Lz/5F1OyjwWS6oNX0LxbK2Cp74pDPR+zm1rc926dcN9Yp06dbK0tGS+RPeSiUQinWQkkUi0evXqNWvWSKXSpUuXWltbe3h4lJeX48ocLBZr8uTJBrMc9Y0YMeLy5csZGRmHDh3q27evs7MzXp6YmDhy5Ej99YODgxcuXEg/jY6OLi0tPX/+/IULFy5cuGBtbW1jY1NcXKzVahFCkZGRgwYNMv1svCJOnDgxePBgU3JHTZSXl/fZZ5+11NaeJ41Gs3Xr1p9++ulpcw63bNkSHx/fSq1qVYcOHdIvjsrlctVqNf00Ly9vyZIlu3fvtrd/oWcQab9fvJYFgRkAAID2hCAIr6gwYaB32k8n5PklOq926BkYNHE41/KFHg3SSoKDg1ksFkmSzGRFzN7e3tPTMy8vT/8lhFDnzp2/++67Y8eOXbx4US6X48qNLBYrPDx8zJgxOkXqWSwWQshgpiJBEPPmzZs7d65Kpdq1a9eqVavwykw8Hs/BwcHZ2XngwIGRkZHMJCsOhzNv3jwfH5/z58/n5+fL5XK5XE4QhIeHR1RU1DvvvNOss/KSI0ly+/btGzdubKx2y9NqrMsIIbRgwQKFQoH+nuegrURFRU2cOJGiKLVaXVFRcfToUTyuEiEkl8uvXLkyfPjwp9ogM4xpRx4+fPjHH3/QT52cnGbOnNm5c2dLS8vi4uKLFy8ePXoUd3Y1NDTs2bOn2WHP559/jr8VOrd7WpaRL94rBQIzAAAA7Y/AWdhnydSsk9dyzt9AFEIIcfi8zv8Z5tq7a1s3rc1YWlrq3z6nff/990beKxQKP/jgg2nTpkml0oqKCoFAIBKJDFYFePfdd999993GtuPh4XHixAn66cSJEydOnGha859444033njjDbVanZ+fr1arvby8mixO8IrLyMi4cOGCKWNytFptampqcXFxZWUli8WytrZ2c3MLDg6mw+PCwsKsrCx6fYlEkpaWZmZmhochWVpa4qtnPAqrurqaLkPi6uqqU4akoKAAjwxECPn5+dHX9Eql8vHjx48fP5bL5Z6ent7e3k87dNDCwgJX8kQIeXh4hISELF68GN9NQAjl5+fLZLLc3Fz81MnJiV4Zy87Opifl8/X1zcnJwbP5YXfv3uXxeN7e3ngGdiaSJLOzszMyMmpqanx9fQMDA3XmkMAoinrw4EFOTk5lZaW9vb23t7ePj49+SCMWi/HALQcHBzc3t5qamoyMjEePHtnY2Pj5+XXq1KnJSHvnzp10UqKfn9+6devofGNXV9epU6cGBgauXr0aL7l69eqwYcNwiSAdDQ0N6enpmZmZfD4f71pnTJq5uXljAXlJSUlWVlZubq61tbWPj4+vr29jOc+1tbXZ2dm5ublVVVUODg6urq7du3enb9wY/+Jh6enphYWF5eXlarVaIBAEBgZ27ty5pe5HvDggMAMAANAusdjsgLdfc+zqd/enE3x7m+D3RvEdDFwnAdOx2WwnJydcQ79tcblcX1/ftm5Fu7Fv374+ffroxxJMaWlpW7ZsYQYhmLOz8+rVq/E04lu3bs3IyKBfunHjxo0bN4RC4f79+xFCX3/9dXFxMfq7+MeDBw/oghyRkZFLlixhbnb16tV4ZQ6H88svv+CFDx8+3LhxI10SEOvdu/eCBQt0Cs88lR49etCBmUwmy8zM/PLLL+mXvvrqK3pNrVa7dOlSHJhZWFh89tlnq1atYm4Kv3H+/PlDhw5lLpfL5cuXL2cOwrS0tPz00091qpXm5OSsXbuWruWI8fn8adOm6fTjrV69uqysDCE0bNgw3GWNU3ax7t27L1q0yNbWtrFDrqioYEYy06dP14+IwsPDw8LCEhMT8dP4+Hj9wOzRo0fr16+nh3QihDw9PZcsWcKsurly5cqamhr07+IfarV63759zLswCCGBQDBv3jz9QkGXLl3atWsXLulJc3Z2nj17Nh7yavyLJxaLt23blpmZqbNZoVD44YcfRkREGDhB7RYU/2gmfKNIR0lJiUwme1l7Y0mSxIeJb5y0UwY/uIKCgrKyMvy701YaGhpwY9qwDQC0R/Z+7v1WftDrk0kQlYFXVk1Nzb59+4yskJ+f/+WXX+pHZQghiUSycOFCnYtmU/Tu3dvOzg4/TkhIYG4hPT0dR2UIoT59+uCepaSkpEWLFulEZfi9s2fPfpY/wcxrek9Pz549e9INS01NxR1TWFpaGt1d1q9fP7oAY5N2797NjMoQQnV1dV999RUOrrDc3Nxly5bpRGUIoYaGhu3bt3/99dcGt3zx4sUtW7YwozLc7N27dxtpz717/0zw6Ofn17Wr4UyBt956i35cWFiov8Lu3buZURlCKC8vb8GCBczj0kdR1LJly3SiMoRQbW3t2rVrjx49ylz4008/bd68Wf8LJpFIvvrqq4cPHxrZEUJILpd/8cUX+lEZQkgqla5bt+7BgwfGt9C+QI9ZM+3cuZPOadbBZrN79+799ttv05N7vhyysrJwid6VK1c2WVz1hWXkg0MIubi4DBw4MCoqSiAQPM9WIYT++usvXHbsyJEjz3nXALR3HJ5ZWzcBgDbwxhtvnDlzBo8junDhwpAhQ3QGBNL++OMPpVKJHwcHB4eGhqpUqjNnzlRVVSGE5HL5vXv3evfu7eXlJZPJ6JjK3t7eycmpsX4bNps9dOhQ/JdLrVbHxcW9/vrr+KVLly7Rq+GFarV6165ddOpd37593d3dY2NjcQBQUVHxxx9/TJ061ZSjVqlUMpmMJEmlUimVSk+fPk13CiGEAgIC2Gx2VFQUHn9FkuTNmzfpPE9mkY9BgwbxeLzAwMCCggI6WgsICGCxWAYP2cHBITIyksPhXLhwAQd7uLY7nn9PIpEsXbqUDgJFIlFQUFBZWRndlXfjxo0LFy7odMShv2skdu/ePSgoKDU1lV4/Li5u7ty5jRUywR8cZmRuMdwRijVW6lAkEg0ZMkSlUp09exaHT0qlcv/+/YsWLWpsszExMXQ4ZGdnN2LECLFYnJCQgI/l8OHDQ4YMwdF4bm4us0ZrRESEUChMTEzE4atSqdy7d+/GjRuNfPHi4+PpnNihQ4fiTr/r16/fuHEDn70jR44wO0XbOwjMmslI8VCtVnv9+vXr168PGzYM1w4GLw7jVV+Li4t//fXXW7durVy50szsuV7qvZileAEAALywOnXqhKcTwE+3b9++bds2g2t6eHj06dNHLBbb2NisWbMG127h8/k//vgjXgFf+86ZMyc7O3vevHl44Wuvvfb+++8bacCwYcN+//13/Pfr0qVLOAZTqVTXrl3DK3To0AFfScfGxtKX3QMGDMCFKCZMmPDxxx9nZ2cjhE6ePDlmzBjj2ZgYLtpp8CWRSBQQEIAQGjx4MF0Y49q1azgw02q1eE5zhJCTk1OXLl0Igti0adPq1avpOvtr1641OKbRwsJi3bp1OATq0qULnSqZn5+PHxw9elQmk+HHvXr1Wrx4Md5ObGwsPRnanj17IiMj9WOt4cOHz5kzByE0duzYuXPn4qm0SZKsrq5uLDBjdgMaKbcoFAoJgsAfUEVFhUKh0Dk6e3v77777DueRDho0aPbs2bjv7sqVKzNmzGgsJj9w4AD9eP369bgf4ubNm2vWrEEIKRSK48eP4zD78OHDdDT+wQcf4B689957b/r06RUVFQihzMzM0tJSI1885sTiYWFhffr0IQgiMjJy48aNPB7Px8enY8eOjR1+ewSB2TNhs9l0djJFUQqForq6Oi0t7fr16wih8+fPBwQEvGTJry8H5geHEKIoSqlUZmdn//HHH2q1Ojs7+8CBA9OmTXueTfLw8MC34p7nTgEAALRrU6dOvXnzZnV1NUIoLy9PP7sMi46OZj4tLS3NyMhg5o80NDQ0Y+9OTk49evTA8+Olp6dLJBJnZ+ebN2/W19fjFYYNG4bLM+DoC4uMjMQP2Gz2gAED8EtKpVIsFhusTmEiCwuLVatW4UjGw8MjICAA57/dvXtXJpPZ2Njcv3+fjmeioqKeqm5Ev3796I6poKAgejk9uIPui+NyuXPmzKHjn6ioqLi4uNu3byOE6urqxGKxfq8mHYRwudxu3brRoYhcLqfnnNDBvHds5MauWq2mXyUIQr9K6ltvvUWP7nN3d+/Xr9/Vq1fx0+LiYoOBmUwmwzEVQsjHx4fODgsNDRUIBLjvMT09HS/MycnBDwQCAT1nhpmZ2SeffFJRUYFLv+jUGtHBrA3z9ddf29jYBAcHd+vWbdq0aY6Ojkbe2E7BVeAzMTMz04/U+/fvHxUVtX79erVavXfv3k6dOr3gc0e8ggx+cF27dg0NDf3ss89IkkxMTHzOgVloaGhoaOjz3CMAAID2TiAQzJgxY+PGjfjpoUOHGivPqFAo4uLiEhISMjIy6L6dZzd8+HAcmCGEYmNjJ06cSOcxstnsIUOG4MfMPLrvvvtu586d+DGdQ4gQ0hnsZDoOhzNw4MCxY8cyL+KHDBmCAzOSJK9fvz5ixAhmHmNUVNRT7YJZEYfZ6YT7l+RyOX0gnp6eDg4OzPeGhITgwAwhlJubqxOY2draMut2MOs36gw8Y2IGbPrD9mjMoWKOjo76qUA6M+B5e3vTgZlEIjGYGcv8KMVi8X//+1/6KX0ScOSm1WrxdIgIoQ4dOjBvPXfv3r2xNusICwuj4z2EkEwmi4uLi4uLQwj5+vpOmDDhJZt3HgKzVtGlS5f//ve/e/bsqaur+/XXX3EPNU2r1ebm5ubl5ZWVlXXo0MHT09PLy0vnzs3jx4+VSqWHh4eZmVlWVlZWVhZFUa6urj179jTYqdLkNuVyeUFBgYWFhbe3d01NzaNHj3JycqysrLy9vf38/AzOSJORkZGdnV1XV+fr69upUycjx1tVVZWTk5OXl8disTw9PX19fXWyEZqxd41Gk52dnZ6eTlFUhw4dunfvjn+5NBoN/ql1cnLSKc6LECouLq6qqmKz2cYb3Bg3N7eAgICMjIzq6ury8nLmzZi6urr8/HyJRFJaWspisZydnTt37qzTgKysLJVK5eXlVVNTk5iYaG5uHhoaiocgazSae/fuFRcXy+VyJycnV1dXb29v5k8kPkUIoS5duuAl+Dvg6elpYWFRUFCQmZlZXV3t4eHRsWNHnR99rLa2Njk5uaysjM/nd+zY0dfXV6FQ5OXlcblcf3//ZpwNAAAAL76BAwdeuHABl6ZQKBQGO82kUukXX3yhU1+KTnJDf09P1wy9evVycHDAF+KxsbHDhw9PSUnBL4WHh9NFOOg+FvTvNDwm5jpG9OnTB2fEsdlsLpcrEAiEQqF+r0v//v13796tUqkQQnj8Gx6VhBDq1KkTc/CVKZh/7lksFvPUoX/PwaVfHZF5RcQcG4bp1KA33n1EY1YxyMnJ0Wq1Bi+lmB2VBgsf6LyLOcCe7vbUwfyYKIoyGE7jhTU1NXRs2ezhIY6Ojl9++eXatWv1vx7Z2dlfffXV22+/PX369OZt/AUEgVlrGThw4JEjR/C8DczlRUVF27Zto2fYwIKCgmbNmsXsWFu+fDlCaOrUqefOnaPvNyCE7OzslixZ4unp+bTbvHDhwtGjR/39/YcOHfrDDz8wb8P4+/vPmzeP+aOjUCjWrVvHrIHD5/PpPmgmkiRPnjz5v//9j7lBHo83derU1157jV7yVHtHCB08ePDixYv0SGWEkKWl5cSJE6Oiourq6tauXavVakNDQz/99FOd9nzzzTdFRUWBgYG4TkkzuLi44PpOdXV1ODDTaDQnT548ceIEsz0IITab/fbbb0dHR+MAWKPRrFixAiE0duzYP//8E/9M792796uvvmKxWP/3f/+nc4fS0dFxzpw5OBseIRQTE/P7778jRvEP/B2YP3/+uXPnHj16RL+Rw+FMmTJFZwBxfHz8jz/+yGxhx44dAwMDT548KRQKt2/f3ryzAQAA4MU3e/bsWbNmGSkK/fXXX9NRWVBQUN++fbt06aJQKOhJh5sdmLHZ7GHDhv36668IoZKSkoMHD9JjiuhaIAghe3t7OkNv5MiRBseS+fn5mbJHBweHxooQMllaWkZERFy5cgUhdP/+/fj4eJzwiRAaNGiQKTtiMhj20Ji1/vVDL2YxTP3oqHlDGJgFP8rKymJiYvR7SrVaLbOcmMHATOfKhD5FCCGRSGRw18yLVZz9aHA1jUZjY2PD4/HwlYnOaZHJZJWVlW5ubqYEop06ddq7d29KSkp8fHxqaqpOhHb8+PFRo0Y11tp2BwKz1sLhcEJDQ69cuVJSUqLRaPA/PLFY/MUXX+A55v39/Z2cnIqKinJycu7fv7948eJvvvlG56fq559/Rgg5OzsHBwdXVFQkJydXVVV98803a9eupe9qPNU2Hz16hC/xPT09+Xx+dna2Wq1+9OjRDz/8gIMKbOfOnTgqc3Z29vLyKiz2lHCQAAAgAElEQVQsLCgo0Kl/im3btg0PpbWysurcubNWq83IyKirq9u1a5dUKn3nnXeYK5u492PHjp0+fRohZG1t3alTp4qKCtxxt3v3boFA0KtXr5CQkKSkpJSUlNraWubdnezsbNzDPmDAgOZ8ZgiRJIknBiEIgr6dduzYsWPHjiGEBAJBUFCQubl5SUnJw4cPtVrt0aNHvby8dFIQmSfKxsbG0dFx8eLFMpmMzWZ369bNysoqMzOzpKSkvLx81apVO3bsMJ7piucMEQgEXl5epaWl5eXlGo3mp59+cnd3p2tjZmdn79y5U6PRcLncwMBALpebkZGBO1qbdx4AAAC0I66uru+++y6OjvTJZDL67p6Pj8/69evx/US6EkZjjKTSMQ0dOvTIkSM4Hjt//jxeKBKJ8BRVGDMV0MvLa8SIEfhxbm5uUVGRp6ens7Oz8eCnGYYMGYIDM5Ik6QocHA6HHuSGMdOL6KjyqXC5XJFIhPMGCwoKHj16RCeqkCR5+fJlek2d1MFm4/P5AwYMoNMOf/nlF19fX2ZkS5Lk/v376RL5LBbLYI7rjRs3Bg4cSD+lezvRv7MlmZgfZX19/YQJE3BUT1HU1atXhUKhp6cnHam6uLiIxWKEkEQiKSwspIPDAwcOnDt3jsViubi4zJw5k/lVQf/+4snl8sLCwqKiIpVK9cknn+BNJSYmHj9+nE7UFIvFEJiBpuFeIIqiiouL8VR9P//8s1qt5nA4H3/8cc+ePfFq165d27VrV01NzZEjRz744AOdjfTq1WvOnDm4Czg5OXnz5s1lZWU7duxYvHgxXuFpt8nn8xctWoTzhuVy+YoVK0pLSx88eFBSUtKhQweE0JkzZxISEhBCr7/++pQpU/C/t5MnT+r/4t+7dw//rIeEhMyZMwcnRsvl8s2bNz98+PDEiRP9+/fXmai0yb3funULdxyFhITMnTsXpwRkZ2evWLGCJMnff/+9V69eAwYMSEpK0mq1CQkJgwcPpjeOy0DxeLzmJRzX1tYePnwYV1jq2LEjPucqlerixYsIIR8fny+++ILOLL9x48Z3332HELp69ar+2LCwsLCxY8fK5XKlUpmeno7vSH388cf0mjExMXv27KEo6tq1a6NHjzbesH79+k2fPh3v+uzZs3imzkuXLuHArLa2dtOmTRqNxs7ObvHixfhHv6qqatOmTTq9tQAAAF5W77777pUrV+jKh0zMmbXMzc3pLA/81xaje9uY0RFOSKuoqDCYP09zdHQMDQ2lh1Fhw4YNY/bC9ezZky6leP78+aioKHNzc7VaTU9azeFwvv76a2ZdjWfXrVs3Ol6iD7BXr146k1kz2ymVSkUikUajedpZcwYMGPC///0PP960adOyZcs8PT2VSuXOnTvpvkpvb+8WnEhp+vTpt2/fxlVbqqurFy5cOHbs2ODgYDs7O7FYfO7cOeZcZ6NGjTIYE16/fv306dNvvPEGQujs2bN0EXxbW9vGAjMHBwdPT098UBUVFfHx8f3790cIxcTEbN26Fa/Ts2fP1atXI4SCgoJwYIYQ2rZt27Jly6ytrdPT02NiYhBCJEkWFxfjhhn84tnZ2X344Yd07quLi0tISIizs/OoUaNycnLw5RnSSwdt1yAwa0V0VxUOzNLS0nA31NixY+kICiHUv3//nJycv/766/Lly2PHjmX2n1hYWMycOZNOzO3Zs2f//v0vX76ckpLS0NDA5/Obsc3o6Gh6NKe1tXV0dPT333+PEJJIJDg0wknYjo6OkydPpn+tRo0alZqaSpfZwfDsJTY2NnRUhrc5b968+fPnq9XqU6dO6ST+Nrl3/MvO4/E++ugjOlHb19c3KioqJiamvLy8vLy8R48e1tbWcrk8Li6ODsw0Gg1uea9evQzWumVSKpWbN2+mn6rV6srKSolEgpPRCYKg5zkQi8WWlpb19fXjxo1jbjY8PByPRtUfQm1tbc1sPJ3uz/yNi4qKEovFfD4fR+xG2Nra0lEZQmjEiBHnzp0rLy+n//qmp6fjDIHJkyfTP7t2dnazZ89euHAhVOEHAIBXAZfLnTVrFs6B18EsiZGenr5kyRJ3d/eEhAR6eijEGPfFDEji4+PHjRuH00OM73348OHMwIzFYtFlP7CIiAg3NzfcgfP48eOZM2d26tQpPT2dTktzc3Ojh1i3FIIgBg0adPjwYeZC/TxG5iEvWLBAq9VOnTr17bfffqp9vf3227dv38bhSlFR0axZs4RCYXV1NR0Qslis+fPnt2CvoL29/dSpU3/44Qf8VKPRHDlyxOBUqA4ODhMnTmxsOz/88MPvv/9OEARztNj48eMbSzIkCOLdd9+l681s2LAhJiZGrVbTM7AhhOjeufHjx1++fBmX7rh///6kSZMEAgHzwqlPnz54IGJjX7zhw4fjq02E0KpVq7p06eLi4oJLFeCFAoGgxb85baiZKcXAFHQNGRxZ0bdMevfurf03HFNRFKUz/V///v11RpHSA7fwiLJmbFOnEg7d+YtjEpIkcRb4gAEDdH4+dDrBKYrCnUtdu3Y1Nzdn7trGxsbX1xf9e/YJU/ZOH1d4eLhOVuekSZO+//77/fv3Ozo6stlsnIeQmZlJd2SnpqbW1NQghJid8o0hSfI2Q0pKSl5eHm6Dk5PTokWLvL298ZoBAQFbt249cOAAs4avTCZLTk7Gsah+Tr+Pjw/zU6PLkCxfvnz//v1paWkqlYrFYs2YMWPSpEk9evQw3tROnTrpxJm4ExInryKE8L0oCwuLPn36MFdzcXF5lrrDAAAA2peQkBCDmfyWlpbM4V737t07e/ZsZWUlm82ms/jo3hWhUMjs1amtrW1oaGisDgQtNDSUWS4LVwRhrsBisZYsWUIn0ZSXl8fFxdFRmbW19cKFC5+qfr2JdMIwa2tr/SQX5pWJUqnUaDTNqA9pY2OzYcMGZjKhVCqlrxBw2NziM2698cYbS5YsMT75W58+fb799lv9kiQYvkSpqKhgHnJQUNDw4cONbLN///7MCRiSk5Pv3r1LZ4EOGzaMninKxsZm9uzZdIyn1WqZUZmLi8vcuXPx48a+eOPGjaM/II1Gk5aWdu7cuezsbHzfmSCITz/91MSKKe0C9Ji1IrpoBw4/6FyCBQsWNPaWkpIS5pBW/apBdCSTl5cXGBjYjG3qTPug01lfUlKC4xP92SFwjxatqqoKrxkfH88sQauzNZ0lxveuUqlwR5B+rrC5uTkzPhk4cOCZM2fw3seMGYP+zmN0dHQ0WN1VB4vFYuZLsFgse3t7oVDYoUOHsLAw/X/h9fX18fHx2dnZEolEIpHU1dUZ2bjOierYsWN4ePitW7caGhrOnTt37tw5MzOzrl279uzZMyIiosnOPf0PAp80uisMB2YikUj/T5pOHikAryCKMWKkvrzq4sfftGFjAGiMVqlqke3MmDEjKSlJ/4/UjBkzzMzMTp8+TV89+/n5zZs37/jx43gEVGZmZmVlJc6vmTNnzoYNG+hqDba2trW1tY1d2WN4CNPBgwfxU2YcSPP29v7222+3b9+emppK37kmCCIiImLKlCktmOPHhEso0/k+AwYM0C+2ERERMXjwYJxchxBixqtPxcrKau3atXv37r127Ro9LxyHw+ncufPs2bObcYCmVGSJjIwMDg7++eef7927V1JSQl8b8Pl8T0/PN99808jdajabvXbt2u3bt1+/fh2X6DAzMxs5cuR7773HvDWvn3rDYrHef/99X1/fw4cPFxUV0V8qR0fHMWPGvPnmm8wT2L9/f29v7+3bt6enp9NrcjicESNGjBs3jplWavCLJxKJVq5cefLkyZMnT+qU/ejZs+eUKVNMrBnTXkBg1op0AjP9Qj36mPVwkKGiq/Qc8PiWw9NukyAInUxcnV8f+kuvn7Crc0uGmQLRGJlMRlEUvYsm9y6VSvG//yZzu93d3X18fHJycnBgVltbe+fOHYRQ//79Tfk95fF4S5cubXI1TL/gIUEQvr6+JSUlzAlYaDoTMrJYrAULFpw6dSo2NhZHqiqVKjk5OTk5+dSpU59++imztpI+/chN5wDxB2Hw57vJqA+Al56yhnGnn0KaekXbtQWAFhAWFobvSxpkZ2fHHDlGMzc3//DDDydPnlxYWKhUKr29vfHf2U8//VS/vnHXrl1x3YiqqioPDw96NMSPP/5opGHjx48fP3688cZbWVl9/vnnCKGysrKioiIrK6sOHTqYMpqrb9++Ro7aCLVazSxtbXD6Mi6X+/HHH0+bNi03N9fS0tLDwwPfn42KimpsujNcokyfpaXlvHnzPvroo+Li4srKSjs7O3d3d4Ppi/v27TO4BVNOow4bG5v58+cjhJRKZUFBgVwud3V1NXJnduLEiczMxoULF86fPz8rK8vMzMzLy0untRRF0ZNo65S8HzBgwIABA5RKZV5eXkNDg0gkEolEBg/W3d19w4YNarW6oKBAJpPhNfVvgjf2xTMzMxs7dmx0dHRlZWVpaalCoRAKhU5OTi/T0DIaBGatRSqV4tIL9Ix+uFufw+Fs3769sbsgOl8y/et+OhzCFfObsU3j6Ex0nBbIpLOEzlIYPXo0XV5J31PddqK3qROgYswYDyE0cODAnJyc4uLi3NzcnJwcnDCgU2rp2WVlZeH6/mw2OywszN/f39vbG88t9vnnnxsMzPQPmSCIUaNGjRo1SiKRpKSk4NF6Go1GIpHs2LFj7dq1z9JCkUiUn59vcLZQU4JnAF5upLrRAuIAvLhaZ3SwhYWFidNastlsT09Pnbl5WhC+NG+ljdNwCTT6jrOrq6uRw7e2tg4ODm6R/XK53FY9e43h8XjN6z7icDh0nWcannU2NTWVTsik+wZ0dmril4rL5fr4+Bhfx8gXjyAIBwcH43VoXgIQmLWWQ4cO4VFA9HxTuPaDRqORyWQ637ny8vLU1FR7e3tfX19mHEXXOaXRk5XhQVDN2KZxtra2dnZ2VVVVOrOi6TfGzs4OT09RVFSkn9+ckJCgVqtFIpHx1GcdPB4P713/wPPy8pYuXWpnZzdt2jRcVjUiIuKXX37RaDSJiYk4na9Tp046aYTP7tatW7hs68KFC5njwXCxTWRCad3c3Nzc3Fwul9u3b19nZ2dnZ+cRI0bQFSnFYnFNTY1Ohaingr8DlZWVZWVlzL9zJEkyZz8D4NXE5nEhNgPtT8sPtnq17N+//+bNmyUlJfR4bIQQc1gUaFJiYiI9xwDWWJ1G0IKg+EfL02g0J06cwHXkLSws6LKB9KBPurwMRpLkjh079u7du3HjRp1qGdeuXdPpCcEl/iwtLXEndTO22SRct+PatWs6/S36Hfd470lJSTpl2e/evbt169YdO3Y0NqdKk3tPTk7WGZ8WHx+v1WqlUildxlAgEISFheGX8KjlZk9fZgQdIurcELp27RpObmxympcDBw7s3Lnz+++/Z04xaW1tjcfCURTVvFlTaHiILUVROt+B2NhYZv4GAK8mM4GxgTEAgJcSQRAFBQXMqMzb27sZ80q/ynSmQuVwOMwJikArgcDsmWg0mpi/nT9//vDhw9u2bfvkk09wbVaCIKZNm0b3/AYEBOBA4s6dOz/88APOgisrKztw4MDDhw8RQm5ubjqT2atUqnXr1uHL6/r6+q1bt+KOrHHjxjV7m0168803ORyOWq1eu3YtDksaGhp27NhBVyalTZw4kSAIiqI2bdqUmppKURQumLNr1y68gvGqPgaNGzcOb3PDhg34YCsrK//8808cFgYFBTF7sfGQ1tLSUrVabWZm1rzpy4yj7w8dP34cp1krFIrY2NidO3fi5U3WqgoPD0cIabXaPXv2ZGZmkiRZX19/+/ZtXDGlY8eONjY2z9JCb29vvIvr169v2rTp3r17mZmZhw4d2rt377NsFoCXQ2vUeQMAvOCYdbMIgggPD1+zZo1+2Q9gBK68jXXo0OHjjz9u8aqSQB98R5+JWq3es2ePwZfYbPZHH33Ut29f5sIpU6bk5uaWl5dfvXr16tWrNjY2dIeYQCAwWFkxNzd3/vz5tra2uJAGQmj48OF0emTztmlcQEDAzJkzt2/fXlhY+Omnn9rY2NTU1JAkiRMXmWt6e3tHR0cfPXq0qqpq/fr1fD6fJEl6nSFDhjQjUnJ3d8fblEgkS5YssbKyqq2txQduY2Mza9Ys5spdu3a1t7fHPXu9evUymP38jPD8aWq1+syZM+fPn3dycpJIJCRJEgTh6OhYXl5eVVVlPBfxtddei4uLy8rKSktLS0tL4/P5SqUS95LxeLynnSnFoGnTplVXV2dmZiYlJSUlJeGFbDabxWKp1eoWnDUFAAAAePENHjy4W7dulZWVfD7fycnpaWeLBgihr776qri4uKqqytnZWSgUtnVzXhXQY9aSeDyes7NzUFDQ+PHjd+zY0a9fP50VHB0dN27cOGTIEDzoi46gevfuvXr1av1SqiNHjgwLCyMIorq6mqIoHo/35ptvTp48udnbNPEavV+/ftOnT8c9OTKZjCRJDw8Pg9NWjh07dvny5biuYENDA47K7O3t33//fXqO5qfd+9ixYxcvXoxzNWtqanBUhm93MWfKRgixWCw69G2NPEaEkLu7+6JFi+ixfEVFRRRF+fv7r127dvbs2QghkiSTk5ONbIHL5S5atGjYsGG4AFFDQwNJkhwOx9/ff82aNTrzmDUviLK2tl6xYsXYsWM7d+7M5/NtbGxCQ0NXrlyJB+O1RrwKAAAAvLC4XK6Li0tQUJCvry9EZc3DYrFw1hVEZc8Tga96SyseHb+8gl4aHjQhpNNbzd7otbS6mOR/qtV98Ka9m+PLM/Vbi6Aoqry8vKSkxNraWiQS6ZfF/89//oMQeuedd6KjoxUKRU5ODo/Hc3V1NVIAvcltPi0ch8jlck9PzyZreCgUioKCApVKJRKJHBwcTJl8o0m1tbUFBQUcDsfV1bWxw9m9e3dsbKxQKPzuu+9aZKcGkSQplUrLysosLCzc3Nx0KsaaSKVSSaXSiooKKysrNze3lsqpUCgUcrlcKBTqH/6KFSuysrK6dOmyYsUKg+9t134+V5UjeTLzjxmHWD7lmQp8texvYDtCktrdxybQT31cw4f2+eRZNrj7VGVh+ZNxHZbmrMUTdCfieypp+04WJ9xDCHUc1d9vZHNqrsat2lUreeq5YgFoW8O+/5zFhlvnALxYHogVv13+p/RD9ADrbr7PdO87p+j2hZv/VFh5LWwWpDK2DYIgTK8Va25ubsqkyU+1TVNwOBzTi72am5u3ePKxQCDQr9/KVF9fj4usDBw4sPWiMoQQi8V69nNrZmbm4uKiP2n4M0pLS9uyZQuXy12+fHlAQAC9/MGDB3jkbpPVaQEA7ZGFs4NDV18TVy66nEyqGZWKWIStn5uli9DSRch3sifVGmWlvK6koux2hrq2Qee9HD7PuV8wIghZdpE8u0h/41Zezrb+T6ZaqS0sq0rP5YvshN1N+otQeuuBSlaHELL1d7fyckYIlac8UpQbmDEFIeTYw99caKuuqS+5ed+UjQMAQPsCgRlof/6fvTuPb6LMHwf+mZncSdP7Su8CLZSzUMpdbhBcXQS++hN0V1fXG1Zdr1VXd13W44uoX28QDxZdDzwQEJVToNxQWsrRFnrRI72TtM2dmfn98ZQhJGmaQtv0+LxfvnxNJs/MPJkOkE+fz/N5mpubS0tLOY7bvHmz2Wwe4JWCyNJzdrt9w4YNy5YtS01Ntdls586d27hxIwAwDENKgyCE+pnE300JSUv0sbE2O08IzOQRwSnL5wXEX73+7KAYAEhYMKnu+PmSH/Y7rzEQOWl4wsJJAFD+yxH3wCxwcGzan29iJGIAcFhsZ9f9CACKyJCEBT7NMdYVlJPAbMjtc6VBKgAISUvM+79NwLuu5MXIJKl33gAArRV1GJghhPolDMxQ31NWVvbKK68IL5cuXRoUFOTH/viXRqOZPXv27t27S0pKSNUplmVJijJFUStWrLi25SYRQr3dNdWbjJo0ImlRFiO58q8/a7UBRZHIihYxUZNGqOIjz63fatO3TUnwUtnyqqjMbD3z4ebWS51YpYPnONbSlpAsfJyAhKjYmWMr97jO3cUCmwihfg8Ds16KFIrAenoeCfNQRSLRrFmzFi1a5N/++N3dd98dGRn5008/GQwGh8MBAEqlcsiQIbNnzyarKSCE+p/SH/Zf+uWo857UO+bLw4MAoOCz7RZdi/NbDrMNAJSasEFLZ1A0DQCs1Va+/XDj6WKrvhUAVLERsXMywkYPBgBVTPjQP9xw+p1vwXXU6irOUZndaD7zwWZjVb1LG11BefnPR9o7A2uxmet07vvjF0xoPFtqrm1yfwshhPoxDMx6KZKHhjzSaDRkvebExERSi3KAE4lEN9988+9+9zu9Xl9fXx8QEBAdHY2/XUaofzO7TcQS8g9bqxs8TtNKXtIWlRmrG86t32p1Ct5aK+sKPtueeuf88LGpAKBO0miyxlTvy23v6s5Rma3FdOb97001HuIou9HSqTE0ghaJUpbNzXvrG/eERoQQ6sew5g/qk0JCQlJTUzEqc0bTNLktGo0GozKEkIuw9JTAZA0A8Dx/4evd1quH1Iii/+5qLqkm25qpo9s7lXNUZtW35r/zrceo7NqQTOyA+MjYWeO66pwIIdQnYGCGEEII9X9C4cS6Y+fbG8XiWbbwix1kWxYWqHIpEAIAAIFDrkRllqbm/He/dR+7u2acg9Vmnybb8TdMUESFeG+PEEL9CQZmCCGEUP8njwgmG01nS7w0szY121tNZNu1ciOJyu69HJXpWvLf+dbS2Ny1/SzbdtDSYAAAWsSkLJsHNI7/I4QGCpxjhhBCCPV/pC4IAHQYSrVW1gcPTQAAiVrpvD9oSFzsrHEkKgMAU3WD9XLlxvaEjRoU9M972ntXezC/Yscxl52czXHhq10jHl5MUZQqLiJ2VkblruPer4IQQv0DjpghhBBC/RwlYkTytkm5HQZmRm0j2RAHKJz3Bw6KEaIyAAgZnhQxfqj3U9FikUStbO8/Rir2eJShuOpKQuP8TEV0qPerIIRQ/4AjZgghhFA/R1GUUBOI6ig5kFRuBKcyj85aK+poMaOICgWAQUtmtpTVeJljZjdaLI2G9t61GdodcCvbdjBkWKIsLJAWMSm3z81962vvfUYIoX6gJwIzo5lrNrI9cCGE0MDh4LCONkK+4uwOzsEyDA0AsvAg7yXs5WGBZMM9cGou05798EeRUpb+5DKRTMJIxal/XJD35jc86/lfeV1BedHnv15Lh22Ooq92jbyc0Bg3J0N74PQ1nAchhPqQngjMvtjVZfWaEEIIIXQNLI0GpSYMAFQx4d4CM4pSaMLaDmm6qqR+c5n2zAebOZudtdpKvv8tZdk8crbkRdOKv/utyzvcXFylPZCnyRoDAHHzMg3F1V1+CYQQ6lW6ZY4ZjytCIoR6EId/5yDUkcb8tmKMsXMyaDHTXrOoScNlwQEAwDlYfUG581u6gnLOZifbdccLGnIvkO3oqaNCRyZ3R5/Lth0yN+gBgGaYlGVzu+MSCCHUe3RLYGYwct1xWoQQ8gizGhHqUP3JAvJrU1mIOnbOeI9tRApZwoKJZFt3vsxhtno54cVNe4SqjEP+3xxpcECX9hcAgLM7Lny5S+h2l58fIYR6lW4JzORSXHUEIdRz8G8chDpkrtdX788j2/HzMgffOouWXDWdQZ2sGfPE7WKVAgA4u6N8+2HvJ3SYrBe+3EmiJpFClnrn/O5Yc6y5pFroNkII9W/dMsdMKsYq/AihnsPgErQI+aD8p0NBQ2LJTLOoSSOChiYYLlSwVjtndyg1YUEpcUI9xtIt2aaapg5PqC+qqN6XGzMjHQDUSZqEBRPLf7oqnAscHJN2381ezmAoqqj67VSH3Q5JSxTWYUMIof4Ky+UjhBBCAwJnd5x++9vUO+eHDE8CAFlwgCwzzaUNa7MXb9pbd6LAx3OWbTsUlBqvjA4FgNjZGYYLlfqiCuFdaaBKGqjycri91exLty98tWvkw0s6LPSPEEJ9Gg5tIYQQQgMFa7Wd+3jr+U9+MlysdHnLbrRU7Tt1avV/fY/KAIBn2cKNv3AOBwBQFBW/YCIA2FpNPh5ub/GpZXNJdfWBXN97hRBCfRGOmCGEEEL9wanV//WpHQ+N+cWN+cWMVCINCZAGqTibw6JrsepbPBbSqdx9snL3SS/nM2kbDz35vvOellJt9mNvd6bvcPwfn3hvULr5QOnmA506J0II9S0YmCGEEEIDEWu1mbSNJm2jvzuCEEIIAAOz/iQugo4Nd81NZVmw2sFi4y/Vsmabh6Niwuj4yI4zWvWt/PlyFgDCg6jBMR4WwOE4sDnAZOVLtezldW68dQwA7A6wOaBOx9U0eV5fgaEhc1jbI3q+nNW3evhVbqiaSonzvCAPx4HFBmYrX9XAGi2eP1eQiooJoyOC6fAgmqGh0cDX67k6PVfV4NqlkAAqNb7dlX+c5ZewrWYs344QQgghhDoBA7P+44ZMSZCq3RDL5uBzLziOF9hNVy9LMydDEhHUcWBWomVJYBYRRE8dKfHS0u7gL1SyO0/ahPDMe8cAoMHAHcy3F1WyLvuHxDLCtVRy+84TdrdDISywg/4AAM/zv+XaTxQ6XPaPSxVNHyVmmCuzyWPD2zaKKh3bj9jsTkeE+nAhokxrwcAMIYQQQgh1Chb/6D+8F6uSiKjMYeI/LZQrZZ04SmCx+hppiEVUWqLopslS6vKpO7xEWCD9u8mSuAjXp3Fk8pVfHKQliMTX+msEiqJmpktmpYudd87NEM9KlwhRGcfxDvbKZ0yJFd0xV6aSd7oCGMfxVjtGZQghhBBCqHNwxKwf+uGA1WjmAYCiQSICtZIeEsskRzMAIJdSN2RKv9tvdT/qx2xri6ndiKKh2TW1r7Ke/e3U5SEsChgaVHJq8ghxqJoGgORoZngic6b0qkiPyToAACAASURBVEEwoWNC3xKjmIxUEUVRDE0tnCBZu/VKxqFaQSU45VhKxNTwRFHuRddRL0FxNfvz0SufiwJQyKiIIHri8LYupQ8RHTxjt9oBAEQMDE9se/gLyh2Hz9kbDDwAKKQwerBoYppYxFBhgfTIZObwWdcrlmrZg/kexu4Iq51vasHADKHegpaIO26EUG9CixhcGAChgQkDs35I2+gypYo7XewYkcQsmCAFgGQNM3qQKK/YNd6o03MeJ3G1p8HAad3mhl2sYv9nhjQ2nAGAuAjXwMytY1BWw1XUcYuzpACgVtJqJdVsbOvDiCSGoigAuFDpGBIrAoAxg70FZhYrb7463jRZ+QYDW1zN3nWDTK2kaZpKiGRIwmRCJCMWUQBQVsNuPWxzOgQOn3WYLDBvvAQAhsSK3AMzs5V3/+AIod4pcnRKc7nW371AqBMiRg2hKAzMEBqIMDAbKM6UsuFB9oxUMQBMTPMQmHUJBwvny1kSmEWH+JQoW1zNtpp5kjQYHUI3G9tiuRGX8xj359mjQ2mVnA4PomPCaPeyHN5Z7VBey41MpgFAE0aTwCw8qO3fPI8pmqdLHNPHiKViKjKYVkjB5GF8ESHUNwxaMFkklzYWlHEO11msCPU2FE0FxkclzZ/k744ghPwDA7MB5HiBY1yKiKIotZKWiMDWLaEZCPmQvv++z3g5MBMOSYikA5U0ADQ1c00t/LkyNnMYDQBjBouqGjwVl/Qq/HJ1E4utrW9CHcjBsYx7sMfz8P1+K0OD2cpbOn01hFAvQtF04qzxibPG+7sjCCGEUAew+McA0mrmqy9HIGTaVXdIS2irKd9g8GloKzyQCrs8fiUcIpT9OFvmAIAzpW1BZEocI/epMmIbmobZ48RRl8fuanVt56+o4+wOHgBEDLVsjmzZbOnENFFUCC1EhpX1XHktV6fnPa22ihBCCCGEUBfDEbOBpdnExwAAQGggpW266q3lc2RegpCPtpm95wHJpRCsoseliIYmtD1Ul+q8BWYMDQEKKiGSmTxCxNAUALSa+aZmHgCkYhgSywAAz/Nny1gAaGzma5rYqBBGxFAjkkXHCzwM9mnC6HkZV4I2iRgClVRwAC2XtgVbVQ1sqbatSywHPx603jxZKhFTABATzsSEM9NGgc3OV9ZzJdVsYYWjvQzGlDgmPlLe3ufKvWh3n5aGEEIIIYSQdxiYDSxCLl+Qiga4KtJSyLylHrq/N3qQaNTlcS2KApeZynV6zr1Qx4O/l/OXYz/areTUnhwbiQzTEkQihgKA8lpOSIzML2GjQhhyXY+BWXAAHRzQ7jBgwSXH3lNXlVIs1XJf7rEsmCB1XsZNIqaSNUyyhpk+Rnz0vP3IOQfvFqyKGErVblwGEhHO2EYIIYQQQp2GgdnAorwcfQkRmqBez7HtD5m5v0FR7VaNulDp2JNjdw9p2jvEZOEPnLYVVrQFikIeo5DBCADnyx0z08UihgoOoBOj6LIaX0uA1Ou5X4/ZPNZRrNPxG36xhKqpZA2TFMXEhNOiy8uaiUXU1JGSIBX981HXSWZmK28wtnv1FlxaGiGEEEIIdR4GZgNLkKptdMjgVhl/c7a1U+XyW0wcWfuLcLB8s5E3GPmaJq69wokVdayQD8kDGM18s4lvNnJFlazt8mhWeBAVeXlK2MIJknkZVw4XoqYxg0VlNa7x0vlyx6/HbRSAWASaUCZrtDhETQNASAAl9rqOUWMz39jsOF7gYGjQhNEpsczoQSKy8PSIJNGhM3aD8arbUqplfzqCJUEQQgghhFBXwsBsAKEoCFK1xTZexnx8VFzN7jzR7jrLHm09ZHVZx8ydMFwGADRNSTwlJw7SMCo51Xr12BTHgd0BAGBzwIUqtrqRvW2WLFRNMwz1+ynSjTssQthJUTAyiVHJKaMFnJcNYDmoqOMq6ri8YseiqVKSGJkczZxqf/E0hBBCCCGEugRWZRxARg8SkVoXLMvrOjM41mMYGtIu1w45X+7IuWB3+c9o4QGApqnRgzr4nYLRAlsOWh0sDwAyCbU4SypqqxYJCik1P1M6ZaRkZrpYzHg4tsHAn74csMWE458RhBBCCCHU7XDEbKCQimHqyLaUvrNlrL1XDgINjmFIEcVWM7/tsId0QasNJg0XA8CoQcyhsx6msTlrMPAHTttnpksAIFRNTxkh3pdnBwCjhXewvIihxCJqWKLotKe1tmWSdifjIYQQQggh1OVwNGBASIyil8+RkZiH5/ljBZ1LQewxQh7j+XLPgeOZUgfP8wCgktODYzyNdl3tRKGjsr5tWltGqigiuC3culDZtnNehnhimuuvJ4YnMulD2nZqG6835xMhhBBCCKEO4YhZP3TjJCnLAgAwDKgVVICCEspmAMDBM3Zdi4dRoBsyJd6H0X451vEMsesRoKASo9p+U0DWlXanb+Ur6rj4SAYAxgwWCfGVF78es911g4xhKJqmbsiUbtxh4Xk4dMaeEMkoZBRFUdNGSdKHiGqauKZmXi6lIoJoofqIroU7f8n1EvGR9JIsqZcrlteyJwp75YgkQgghhBDqrTAw64cSIj0PJfE8f/BMu8sfx0V0MAAlYihPZfO7zIgkhlTTr9dz9fp2L5Rf6iCBWUIkLdQy8aKphT9yzj5lpAQAIoPp8amiYwWOphZ+407L4mnS8CAa2sbfaIi56sCKOvbHbCvnNmCmktNe1jEDAJMVsx8RQgghhFDnYGDWzzlYvsXEt5r5qgYuv8TRqYL4Luex2nkAMFm6K+rQhLVFhu0NlxFFFeycsbxUQlEUFRdBexz9c3HkvCM1XhQWSAPA2BTRsQIHADQb+S92WbJGiWPDmbBASljwmuX4BgNfqmUP5tud13Xz/YN33y1CCCGEEEL9FQZm/ce6bdeSaPjZL507qrSGW/2VqVOH+Nix7/ZZfWnmYOHt783OezrsD8fBpz976IPdAbtz7AB2hoawQFolp4wWvl7PsZ6mlVU1dPqDI4QQQggh5CMMzBACloNaHVer83c/EEIIIYTQQIVVGRFCCCGEEELIzzAwQwghhBBCCCE/w8AMIYQQQgghhPwMAzOEEEIIIYQQ8rNuCczk0o5Xl0IIoa6Cf+cghBBCqK/rlsBsWIJMKcOxOIRQDxk/VOHvLiCEEEIIXZduKZevktMPLQrJL7GYrbjSLkKoG9E0xIaLh8RK/d0RhBBCCKHr0l3rmAUomMkjlN10coQQQgghhBDqTzDhECGEEEIIIYT8DAMzhBBCCCGEEPKz7kplRAghhPoB1u5oKiyztZr93ZFezdZiNNXreY67soumFGFBUrXKf53qvUwNetZmV0WFUjT+frwDnN3RWtMoVkjloUH+7ksfYKrX2Y0WZVSISIZTr31AUQEx4erYSH/34woMzBBCCCHPWJv98GsbWipr/d0RhBBC3SJl0YxBC6b4uxdt8Fc1CCGEkGc1pwoxKkMIoX7s4k/ZHMt13K5HYGCGEEIIeWY1tPq7CwghhLoRZ3c4zBZ/96INBmYIIYQQQggh5Gc4xwwhhPoqB2tjaDFFUf7uyECR8vsZyqhQf/eit7uwZV+rtoFs0xLR6Lt/79/+9Cp1Zy5WHcwTXkaMGhIzaZQf+9PLFXy7y9xoEF6m/b/50kAsJ+OZRd9y/usdwsuIMSkxE0b6sT+93KV9JxsLyvzdCw8wMEMIob7qmx1PqlURN0x+UsRI/N2XASEkJT54cJy/e9Hble89Dtq2bZphosYO9Wt3eheLvrnK6aUiMgTvjxcXtx1wfhk2PFkZEeKvzvRyxtrG804vlRH4aHlTf+aiv7vgGaYyIoRQX2Wy6CprT/988H8drM3ffUEIIYTQdcHADCGE+raqunyMzRBCCKG+DgMzhBDq8zA2QwghhPo6DMwQQqg/wNgMIYQQ6tMwMEMIoX4CYzOEEEKo78LADCGE+g+MzRBCCKE+CgMzhBDqVzA2QwghhPoiDMwQQqi/wdgMIYQQ6nMwMEMIoX4IYzOEEEKobxH5uwMIIdQb7T3+frk2x9+96ICDtXp5l8RmC6Y8JWIkPdYlhBBCCF0bDMwQQsiDmsZCi63F3724XhibIYQQQn1FdwVmZ0otR8+ZTFaum86PEEIAQFNUXIR4boZKLsXEbM8wNkMIIYT6hG4JzKob7Jv2GvjuODVCCF2tVucw27jbZgb5uyO9F8ZmPaylpcVgMCgUipCQkPba1NbW2u12LyfRaDQ0TQNAdXU1x3EAEBkZKRaL3VsaDIaWlhYACA4OViqVAKDX61tbWwFALpeHhoa6H8LzfFVVFQAwDBMdHe2x/xRFxcTEdPRZe0JNTY3D4XDeIxaL5XK5Wq32cpTJZCorK6uoqFCpVFFRUcnJyRRFtde4oaGhtLTUYDAkJCQkJCRIJH3jTwp5isLCwmQymctbVqu1vr4eAGJjY50bezmb8MgJvD8JwoMnkEgkCoVCpVJdw2e5Zp3qhtlsbmxs9HK2gICAwMBAj6elKEoul6tUKpfHo7m5ubm52eU8NE0rlUqVSsUwzLV1wJe/RlD/0y2BWWmNDaMyhFCPKanGEhcdwNisJ23YsOHnn3+eM2fOY4891l6b++67zyXYcLFp0yaFQtHS0vLnP/+Z7HniiSdmzpzp3nL16tWnTp0CgEceeWTBggUA8OWXX27btg0ANBrNRx995H5IQUHBE088AQDBwcGff/65y7tvv/32oUOHAOCNN95ITU31+lm7Hcuy99xzj8e3oqKi5syZs3TpUpd4VavVvvXWW2fOnHHeGRMTs2zZshkzZricJC8v76233qqrqxP20DSdmZn5+OOPkyi3N3v44YfNZvO///3vMWPGuLxVXFz85JNP0jS9detWssfHR855j/cnYcuWLV999ZX7eYKDgxctWnTjjTfK5fLOfqJr0KlubN26dcOGDV7OtmjRIvInrr3TMgyTmZm5ePHitLQ0smf79u0bN270eDapVDpt2rSHH35YiOV874Avf42g/qdbAjOW7Y6zIoSQZ/h3ji8wNuuFwsLCpFKpx7fI2AXPX/k9Z3Z2tntgZjAY8vLy2jt/dXV1cXHxoEGDXPbv37+/vUMMBsPRo0fJ9vbt2/0emAkiIiJIAMbzPMuyer2+pqbm888/r6qqIkEmsWfPnnfffddqtYrF4pSUlJiYmNLS0osXL1ZVVa1evRoAnGOz33777fXXX+d5Pjg4eNiwYQqFoq6u7syZM0eOHHnsscf+/e9/h4eH9/wn9Z3z4+GjDh85gY9PglQqDQsLI52xWq16vV6n03366adbt2599913AwICOtvDa9OpbgiN3QUFBbXXkud5s9ms0+kOHz6ck5Pz+uuvJycnCy1VKpXzHzSbzVZTU6PT6Xbt2lVRUfHKK68433bfO4AGmp4o/qFW0iKm3fwBhBC6Bs1G1oHxWCdhbNbbPPHEEyNHjvSx8YkTJ0wmk8uYRnZ2Nkl0bM+BAwdcAjOO4w4cONBe+z179rAsO27cuJMnT+7fv//ee+/tse/W3j377LNDhgwRXloslg8//HDnzp179+5dsGDB8OHDAUCr1f7f//2fw+EYNWrUypUrhSxNg8HwySef7Nq164033lCpVBkZGWT/zz//zPP87NmzV6xYIQy7lZWV/eUvf6mqqtqxY8fy5ct79lN2O98fOR+fhFGjRv3jH/8QXtpstn379q1bt66hoeG999575plnuqzrXnWqG6mpqa+88so1nBYA8vLyVq9erdPp1q9f//LLLwv7Bw8e/O9//9u5Jc/zmzdvXr9+fWFh4enTp8ePH38NHUADTU8EZv9vVlBsuIe0eIQQumaf/awr0WIGY6dhbNZHxcXFVVRUHD161GXQjIx9BQcH63Q6j4dkZ2ffddddzvvz8/N1Op3HQwBg586dALBgwQKj0VhQULB79+5FixZ18YfpCjKZbMWKFYcPH25tbT1//jwJzNauXetwOOLi4latWuU8tycwMHDlypUNDQ25ubkvv/zy+vXrQ0JCTCbTuXPnAOC2225zToZMTEycPXv2r7/+euTIkf4XmPnu2p4EiUQyd+7csLCw559//sCBA9OmTZsyZUr3d7bnujF69OglS5aQcItlWZcpZM4oirr55pu3bNlSV1eXk5PjHJgh1B6sY4YQQgMLrj3dF2VlZQGAy0hXQ0PDmTNnkpOT4+Li3A8ZNWpUYGCgVqstLi523k9iuenTp7sfUlhYWF5eLhaLR48eTa64ffv2LvwUXYthmMTERAAgVS4qKyuPHz8OAPfff7/712WGYZ599lmJRGK1WrOzswFAKpWSmhnHjh1zabxs2bJHHnnk9ttv74FP0Ttd55OQnp4+evRoADhx4kR3ddF/3SBD0BaLxWg0em/JMAwp3WEymbqwA6gfw8AMIYQGHIzN+pypU6dSFHXy5Ennb3gkTvMYYgEAwzBklMA5nHM4HAcPHlQqlUI6nzMySDJx4kSFQjFjxgyGYaqqqrzMYfOvlpaWsrIyACBxaUVFBQBIpdL09HSP7ZVKZVJSEgCQWikMw4wbNw4APv7445dffnnfvn0Gg4G0DAsLW7BgweTJk3vkc1wvh8Nhd+O9zkeHrv9JIHeP/FD8qDu6QerKqNVq73VBAWDv3r2FhYUAkJKS0oUdQP0YLjCNEEIDUVVd/q+HXl8w5Wl/d2RAe/PNN90LnQPALbfcMnfuXOc9wcHBI0aMyM/PP3LkyKxZs8hOMvaVlZV18uRJj+fPysravn37gQMHhGzG3NzclpaWuXPnikSuXwAsFstvv/0GAHPmzAGAwMDA8ePHHzlyZPv27WTYwb/MZjNZA4Dn+dbW1vLy8i+//LK1tVUikZAkMbIAQGRkpJeTJCcnFxYWNjQ0kJcrV65saWnJzc09ePDgwYMHASAhIWHMmDFTpkwhuZF9wosvvuh7Y18euS55Ekhxi0uXLvnet+7gsRtnzpx56KGH3BtLJJK33nrLeQ/LsuSpAwC73d7U1HTo0KFvv/0WAFxyIysrKz/88EOyzfN8U1OTVqstLS0FgISEhHnz5l1bB9BAg4EZQggNUEZzk7+7MNDV1tZ63E9y81xkZWXl5+cfOHCABGZarbaoqGjYsGERERHtnX/48OEhISE1NTUXL14cPHgwAOzbtw/aGWQ7ePCg2WwOCQkRRpzmzJlz5MiRw4cPNzU1+X0xpb/97W/uO2mavueee0gwRm6a9zqKGo0GAISv2gqF4p///OeuXbuys7Pz8/MdDkd5eXl5efmPP/44b968hx56yOPCcb0NwzDuS7S1N2LmyyPXJU8CKUJoNBptNpsf14Xz2A2O48rLy305PCcn57bbbnPfHx8f7zJ1s6GhQViZQCCXy2+99dZFixa5PEi+dwANNBiYIYTQQBQUEHPT9Bf83YuB7vHHH3euNCggK8y6mDJlygcffJCTk0NqM5IERfeFuZzRND116tQtW7ZkZ2cPHjzYZrMdPnw4KCho1KhRpO6FM5K9FhYWRkZLAIBlWfL/X3/91e8TrmQymTBzTKFQREZGajSaW265JT4+nuwky1V5rGgiIGv7Ot9ekUh0ww033HDDDRaL5dy5c3l5eYcOHaqurt6xY0dNTU2fKJ330ksvua9jdu7cuSeffNK9sS+PXJc8CSQCVKvV/l2t22M3UlNTH330UR/PICxnR9N0aGhoZGRkenr6woULXeYxxsXFLVmyBADMZvORI0dI2uef//zn+fPnu5+zUx1AAwoGZgghNOAEBcT8fsY/5FI1x+GaA/4UEREhxBUdCgwMHDVqVG5u7uHDh2fPnr1v3z4Sd3k/atq0aVu2bCHZjCdOnDCbzXPmzHGvjaHVavPz8wGgqKjojTfecHn3119/vfXWW70UoOsBr776qseIQkDGzaqqqniedx9BIki6IxlVs1gsOp1OLpeTlaNkMtnYsWPHjh37hz/84euvv/7iiy9Onz5dW1vrPTeyz+nwkeuqJ0Gr1QJAVFTUdXS2C3jshlQq9fHP3fjx413K5bcnNDRUyAW9+eab165du2XLlrffflulUrkXhPS9A2igwcAMIYQGFiEq83dHUKdlZWXl5uZmZ2cPGTKkrKwsPT29w+Vohw0bFhYWRrIZvdRj3LVrFwBERUW5zG2zWCybNm2qr68/ceLEhAkTuu6jdL3x48dTFGW1Wn/77Tf3lbgBQKvVkrIfmZmZAPDpp59u27Zt+vTpTz31lHMzhmGWLVu2Y8eO+vr606dPu9yQfq9LngSHw3H48GEAIGUz/cWP3fjzn/9cUlJy5syZNWvWxMTE+Pc+oD4EAzOEEBpAMCrr0yZPnvzee+/l5OTExsZC+/UYnVEUNW3atB9++GHPnj3Hjh2LiIgYNmyYSxuO40j22sKFC0k6lrPc3NwLFy789NNPvTwwCwsLy8jIOH78+Mcff5yRkeGyGjLHcR999JHD4VAoFGQEIyMjY9u2bUePHnWfN2W328k8tIE2rNFVT8LWrVvJ4OTNN9/cTV31hR+7QdP0448//vDDD5vN5jfeeOPNN9/074BzDzMYDCzLCn+sXF5arVaj0SiXy0n6MXKG5fIRQmigwKisrwsICEhPT3c4HN9//71IJPKxnjtZh+rHH3+0Wq0eY7mcnJzGxkaKojzOWCMF5XJycmpqaq6v+93uoYceksvlOp3ukUceca7tXldX9+yzzx49epS0USgUADB69Gi5XG6xWFauXHn8+HGbrW31iJqamhdeeMFsNgcHBw+0KufX8yRwHNfY2FhQUPDee+998sknADB58mSyPkFP6iXdAIDIyMi7774bAIqLi3/44Yee74AfPfzww3feeScpSun+cvfu3XfeeeeaNWv818HeC0fMEEJoQMCorIft2rWLZIU5E4vFmzdvFl4+88wz7R3++OOPz549231/VlYWWS03IyNDKEvgXUpKSmRkJKmCQII0F2SQZPTo0aGhoe7vTp8+/aOPPrLZbD///DP5otlrRUREvPTSS6tWrWpoaHj22WfVanV8fHx9fT357DRN33nnnUKWo0QiWbVq1apVq3Q63T/+8Q+apmNiYpqbm8lqZiqV6q9//Wt7c9X6Lu+PHFlru1NPwvHjx2+88Ub3xqNGjfrrX//aRb3uWKe6cfr0aY+NASAyMpKEc11i4cKFe/fuPX/+/BdffDFlypTo6OjOdsCXv0Z6LY7jvLzkeb5nu9M3YGCGEEL9H0ZlvYTv6Ux2u93j/okTJ4pEIofD4SWP0f0qWVlZmzZtiouLS05OdnnLZDIdOXIEAITl0VwolcqpU6fu2bNn165dd911Vy+PVdLS0t5+++3vv/9+586dzc3NZC1gmqYnTJiwePHitLQ058ZDhw598803165dW1BQoNPpyDLEKpUqNTX1/vvvj4mJ8c9n6ArXkDhnNBo79STQtGvWlVQqDQ0NjY6OnjFjxrRp03pmsYGu7Ybw546c1pfb6KUlRVErV65csWKFzWZbu3atL3VE2vuD76z3Z0V+/vnnXl4uXLhw4cKFPdujPoMiAWttY9EPe/8u7J0wYln60N9f80n35xl3nWwVXt53U0hseB9YCQQh1Id89rOuRNuWeiQRUc//od2lnHzh/ndgQdkeQ2tvT9zykZeojOPYdd8vE14mx0yYN+nx67nWuq1NlfVtXyyUMvrpZd4WlepQ3qdbqo/kA8CQm7MG3zjtek51bUp2HCn8brfwcuKTfwgeHNfz3ehbjq7Z2FTUtp6vSC6d+9YTfukGy7INDQ2NjY0qlSoiIsLjqsrOmpqaqqqqwsLChGGN7lC259j5r3cKLxPnThi2dE73Xa6vy37po5aqOuFl1r8eVEb4eT29XstY27j/hQ+Fl0nzJg5d4mHIHRH5/9lWefBKtvPsNY9JVIoOjzpbavl6r0F4uWS6evSg65omV1J1bMfhKymdM8c/1P9HzCwWi7CKRXBwsMc2VquVJExrNJo+sZqkM51O19zcLJVKvRelNRgMer2+w7MFBAR0ySqiZrO5rq4OABISEq7/bO5sNhupgetOLBYrlUqVStX7f6V0PXy8w1qt1mazBQYGdli6DfVXOFaGBiaGYSIjI30vdh8SEuL3RbQRQgNc/w/MSktL//nPfwJAaGjo6tWryZRfF/v37//4448B4I033tBoND3dxevz/vvv5+fnp6WlvfCCt7ViP/30U5Ki4N2CBQv++Mc/drYPHMft2LEjLi5u+PDhZM8vv/zy9ddfA8BXX30lNKuurt67d+/y5cs7e353Wq326aef9tJAJBKlpaU98MAD/fUfWh/v8BNPPMGy7JIlS/7nf/7HD73sy5Ty0H4wYoZRGUIIIdRX9P/ATNDY2Lhx48b777/f/S1hAmIvT533yO+zJy0Wy4svvlheXv7AAw8IO917tXfv3vXr1wcFBXVJYNYhh8Nx+vTp55577qmnnvJLOabu5uMddplri3x3U9bzdofF373owH+2PeBgre29i1EZQggh1IcMoMAMAPbu3Ttx4sTRo0f7uyP+9K9//cvLu75nfQgsFkt5ebnLzvj4+GnTpolEVx6wixcvsizb2ZN36Kabbrrpppuc97S0tFRXV2/durWoqEin03344YevvfZal1/X73y8w1lZWRzHdVNCaf9GUbRE3HHGea+FURlCCCHUtwyswAwA1q1b115C40BAUdSQIUN64EIZGRkZGRk9cCGFQqFWX/XVU61Wx8TEjB079sUXX7x48WJ5ebler+9/M6x8vMMPPvhgD3QG9TYYlSGEEEJ9zgAKzNRqdXNzs5eERvCUHlZVVVVdXV1VVWUymVQqVXJyclpamnNt1ubm5oqKCoVCkZSU1NLScu7cubKysri4uLS0NCEYqK6uPnfuXGNjY3R09JgxY1wCCQBgWbasrKy8vLyuri4qKiohISExMdFjXmVra+uJEydqa2sDAwOHDRsWHx9/7XfEK5fPVVRUVFJSEhAQkJSUNHjwYKGuRk1NTUlJCdmuqqo6e/ZsT4rI9gAAIABJREFUcHCwRqMhhwPA8OHDOY47f/48Ka9it9vPnj0LAIMGDSouLgaAyMjIsLAwl6tXV1frdDqGYYYOHXpt/WcYZurUqRcvXgSAs2fPTpkyxfldnU5XUlJSXl5O03RCQsKgQYPcfyiEw+EoLi4+d+4cz/NRUVFjxoxxj+odDkdBQUFlZaVer/f+4zt//nxJSUlLS0t8fPzQoUNDQkJKS0tNJlNMTAx5Wny87UJLaP8Op6amikSi4uJii8USHh4eEXFV0cK6urqLFy9WV1eLxeL4+Hj3O+B7T1Bvg1EZQggh1BcNoMDsjjvu2LRpU319/d69eydMmDBmzBjv7cvKyj755JOioiKX/YmJiQ8//HBcXFvF5B07dnz77bdDhw6dPHnyp59+6hza3XvvvTNnznzvvfcOHTok7AwICHj00UeFIhkAUFVV9c4775SVlTlfZcSIEQ899JBL4Yrs7OyPPvrIar0ypWTChAk2m82nz99J5HOlpKTMmzfvgw8+cM6RS0lJWblyJYmmNmzYcOrUKbJ/69atW7dunTNnzr333rtr165vvvkGAL766qvS0lIhf7K5uZls/+///u/LL7/MsmxGRsYTT7gWU16zZk1VVdWwYcNefPHFa/4I9fX1ZMM534/juC1btmzatMn5E0ml0rvuuktYdVTw+eef79y50/mGK5XK5cuXO6/xkpubu2HDBpcSkcOGDXvwwQedYyGLxfLKK68UFhYKexiGueeeezZu3Gg2mx944IEZM2aAz7cdADq8wx9++GFQUNDzzz/P87xz8Q+j0fj111/v3LnT+VmVSCTLly+fN2+eEE/63hPUq2BUhhBCCPVRrqvy9WMymey+++4j2+vWrTOZTF4aG43Gf/7znyQqS0lJmTFjxoQJEwIDAwGgrKzsvffec2lfUFDwySef8DwfHR0dGhpKdn722WcvvfTSoUOHlErl8OHDSbH+lpaWdevWORwO0qa0tPSZZ54hUVlKSsq0adPI6p9nzpx5+umnm5ubhUuUlJSsXbvWarWKxeLRo0ePHTtWJpMdPXrUPXTsQkVFRe+++y7LsgkJCUOHDiVrCRQVFX3wwQekQXx8fEpKCtnWaDRpaWnuZS3lcnlaWhr5+KRYYlpaWkhISHp6OgCcOnWqtbXVuX1xcXFVVRUAeFk+tUPl5eXZ2dlk23mG1TvvvPPVV1+xLBsQEDBhwoSMjAylUmm1WteuXbtp0ybnM3z//ffbtm2zWq1qtTozM3PQoEEAYDQa161bd+zYMdImPz//tddeI1HZ4MGDJ0+eTBYkPX/+/FNPPUWGsACA5/n333+fRGWRkZGTJk1KTExkWXbdunVms9m98x3edhce77BzOCrgOG7NmjU7duzgeT4wMHD8+PGjR4+WSqU2m+3TTz/95JNPrrMnyL8wKkMIIYT6rgE0YgYAI0eOnDt37s6dO5uamjZs2OBl+s2ePXvIN+aVK1dOnjyZ7LRYLC+99FJJSQlJO3QpqMAwzPPPPz9s2DCO437++eeNGzc6HI7CwsIxY8asXLlSoVDwPL9mzRqSiFhVVUUO/+yzz+x2u0gkeuyxx8aNG0dOtX///rVr17a0tHz11VckmDSZTGvWrLHb7cHBwc888ww5tq6u7rXXXiMxjI94nl+/fn177yqVyttvv91lp1wuf/LJJ9PS0gCgubn573//e21t7dmzZ2tqaqKiom6//Xa9Xk/qMd58881k2MeFRqN54YUXPvroo927dwcGBgpl/adPn37ixAmWZY8cOTJnzpUVNvfv3w8AUql04sSJHX4irVYrDNkBgM1mq6+vr6mp2bdvn91uB4CsrCxhhbf8/PzDhw8DQHp6+iOPPKJUKsmHeuONNwoKCn788cesrCxS/uTo0aNkPCo9PX3FihUkfbG4uPjvf/87x3HffPNNZmZma2vru+++y/O8XC5fuXIliTMBYPv27f/5z38sFstnn332zDPPAMDWrVtJLLdgwYI777yTpMLu3r17/fr17RXV9H7bfbzD7rZs2XLu3DkAyMzMfPDBB+VyOQDU1dW98cYbZWVlO3fuzMrKcpmF2KmeID/CqAwhhBDq0wbQiBmxfPny8PBwANi3b5/zF3oXZWVlAQEBZAxE2CmTyaZOnUq2DQaDyyG33377sGHDAICm6enTp5OUMJFIdN9995Gv9RRFzZ8/nzQmSwPn5eWRUZSlS5cKURkAZGVlzZ07FwD27t3b1NQEAIWFhY2NjQBw6623CgFhRETEvffe29k7sKt9JCJysWTJEvKlHADUavWSJUvIdnvrO/tu7NixZF7TgQMHhJ0Oh4NkfmZmZspksg5Psn///tecvPnmm59//vmuXbvsdjvDMPPnz7/rrruExmThr8DAQCEqIx9q5cqVYrHY4XBs3bqV7CRxlFQqffDBB4VJZYMGDSJJjPX19fX19Xl5eeQxWLJkiRCVAcDChQvJlLbc3Fwyj46M3cXExAhRGQDMnj1beJzcddNt37dvH7kDDz/8MInKACAiImLFihXkif3uu+96pieoa2FUhhBCCPV1A2vEDABkMtn999+/atUqAFi3bt3rr78ufEF3tmLFCrh6DSiHw1FRUUGiIwBwr0s+fvx4YVulUmk0mqqqKo1G4zxPTMhyJNOWhCrzEydOdDnhuHHjfvnlF57nq6qqQkJCSEuGYaZNm+bcbNiwYbGxsZWVlb7fAZIq6ZHHAhguk/GEeVPXP7eNfJyffvqpsLCwrq6OnDk3N7elpQUAPA6++W7mzJk33XSTc14lz/OXLl0CgJEjR8pkMucbHhgYOGjQoIKCAlJOAwBIcumECRNc7skdd9yxePFi8jPdsmUL+RTz5s1zufqNN9548OBBALh06VJcXBz5Ac2aNcu5bAwAzJ8/3zkoddYdt12v15Noavbs2VKp1PmtmJiY9PT0nJwc4Q50a09Q18KoDCGEEOoHBlxgBgAjRowgCY06nW7Dhg0PPfRQey0LCwvJV1WtVltXV+d9KWcyw0dAvvi6VO+QSCTOL4Uxh0cffbS909bU1IwcOZIEZiEhIe4Th6KionwPzCiKevnll31sTJABRoFKperU4d7NmDHjp59+AoDs7OzFixfD5TzG8PBwYZTGuyVLlvzud78DAKvVWllZ+c0335BJd42NjS7VKXQ6HYklsrOzhelnLsisMJvNVl1dDU5BiEAmkwnjeKWlpQAQFhbm8mMFACEgrK6uvnTpEonw3deI85IK2B23XfhFQHR0tPu7ZGdjY6PVanUO27r1AUDXSSySqRRhGJUhhBBC/cBADMwAYPny5bm5ufX19fv37/c4kclsNr/22msFBQXOO9VqdUREBKnA7s792zkAeK8qrtPpOuyqXq8HAJLQ6DLKQZCSJN2EoiiXi3qsAn/N4uLikpOTS0pKSGDW2tqak5MDAFlZWT5eSCQSkZQ8uVweFBQ0ZMiQ11577dy5c6dPn/7ggw/+8pe/CC3JPfTOYDDwPN/Q0ECCcO9BCOmhx3xLqVTKMAzLskajUfgpuwyXtXcsdP9t93hdYejYaDQKV+/unqDrdMusVXKpWizqOOkXdYmctd/RIlwrogO2ZqOw7bBY9/7tHT92prdhLVflGlQeOFVz8ry/OtP7WQ1X1QY7uuZzisZ/gzzjrk68qtifoz1xzl+d6f3sRg+l13qDARqYyWSyBx54gFQV/+ijj9xT0d555x0SlWk0mvT09CFDhsTHx0dHR+fk5KxevRrcVjy7tm+rJLNRJBK9++677t/aCfK1ODY2trCwkOT4ufC4sw+ZMWNGSUlJdXV1WVlZSUkJqVfpkrHpO6lU+uijjz755JMGg+Hw4cNxcXFkIA6c8kgXLVq0cOHC9s5AUZTQkkTFLnieJz9uMkbqXDlTYDAYSKokCebJTveWQmZszxDGbz0+M0Lg2t6SbqgXUitdB3VR13L5x9s55EA+4cHS5OEvSUQ4LDaHBdPCfWXV9+0vPD0JH60+asAV/xAMHz6cxGM6nY7UhBCYTCZSFyQ1NfXVV1+98847J06cqNFoKIoSSiA6Tz+7ZiR5zOFwGAwG9dWsVuvRo0cvXLhAikOSWu0Gg8F9kK1TVRl7ocmTJ5P8zOPHj584cQIAhg4dej3l/tRqtbCA+KZNm0j5DQAIDg4mUW5VVZXazblz5/Ly8khyqVQqJUGXe45oeXn5HXfc8cgjj5w6dYr8+PR6vXv8RrIcASAkJETIYDx/3vXXos7LmvUAoSdC95yRhcIDAgI81tlHaGAy1Xec14AQQqhPs5ss/u5Cm4EbmAHAsmXL3CcRAUB1dTUZEEtKSnJOUDSZTMLcJPfiH9dAqEvuEhlyHPfee+99/PHHq1evJsUYhIodmzdvdm6Zk5Pj98BMGOuzWLw91iSr072NSqUidVOys7Pz8/Ph+pYvI8aOHUtqh/A8v3btWuGHRW74iRMnhGiNOH369FtvvfXee+/997//JXtIJHzy5ElhLTIiOzubZdmGhob4+HhyNp7nv//+e5cOCLUNx4wZI5PJMjIyAODAgQPOkZ7FYnEvgXg92rvDAolEkpiYCAC//faby2BdXl4eCcycy0sihGTBOICMEEL9XO+ZpjGgAzNSodF9vzBcc+DAAaFIXVVV1auvvkrK+gGAx3WBOys1NZXEJDk5OR988AFZZ7murm7jxo0kkTI2NnbkyJEAEB8fT77c79ix44cffiD5fvn5+Z1d55fneS/l8nft2rVnz57OfgphDtLx48eLiorISgDtNTMajfv37y8uLhaW2IbLBRhra2vtdrtEIvFl+bIO3XHHHWT23aVLl4Qi+MuXL6coiuf5119/PTc3l+d5h8ORl5e3du1a0mDBggVk47bbbiMtX3vtNVKhsampafPmzdu2bQOAESNGhIaGZmRkkAUSduzY8eWXX5LKImRVNDIRcfr06STyv/XWWwGA47gXXnhhx44dpaWlR44cee6552pra6//kwq83GHBnXfeCQB2u/1f//oXiU45jjt+/Pjbb78NAHK5/MYbb+zCLiHU10kDsdoNQgihHjLQc5aGDx8+f/78X3/91XmnSqWaNm3agQMHjEbjk08+GRoaSrINASA6OppkuwkF7q7TH/7wh7Kysvr6+n379u3bty8wMFBYIU2lUgnVGmmafuSRR1588cXy8vKvv/76+++/l0qlJJATiUQev4K3x8sC0wDAMAxZqst3Uqk0PDy8vr7+7NmzL7zwwpgxY8iqyi5iY2PJxvvvvw8Aq1atGjx4MNkzcuTIkJAQMscpMzNTWF/reqhUqj/+8Y8k3vjuu+8mTpwYFRWVlJS0ZMmSb7/9VqfTvfrqq3K5nOM4snQBAMydO1eICePi4khLrVb7zDPPBAQEtLa2knHUwMBAoZLnn/70p1WrVhkMhh9//HHr1q2BgYFCrumkSZOEsD8+Pv6BBx5Yv369yWT65JNPhE4qlUqj0QgdFYnxkZc7LBAe+Jqamueee06lUjkcDjLIJpPJnn32WZdl0xFCCCGEUM/o/yNmHU6Yuf32293rmN9zzz1z584lSXqNjY0Gg0GpVC5dunT16tUjRowAgOPHjzu3v+Yv1uHh4atXr547dy4Z7hCisokTJ7700kvCV20AkMlkTz311NixYwHAbre3trZKpdKlS5fOnDnz2i7tkcvt8vFzrVy5MigoiGyTQvPuh0+bNk1Yd9ulGU3TZEVm8DmP0Zd5UJMnTyaJeXa7/T//+Q/ZuXTp0ueffz4mJgYAzGYzicpCQkL+9Kc/3X333c6HL1269OmnnybPRktLC4nKJkyYsGrVKqGKRlxc3Jo1a6ZMmSIWizmO0+l0FEUlJSUtXrz4kUcecS7oMmPGjBdffHHKlCnR0dEikSg5OfmWW2559tlnybvCGtaE74+Tj3fY2d133/3Xv/6VFMFvbW21WCwBAQGZmZnPPfeckFt7DT1BCCGEEELXgyJfN2sbi37Y+3dh74QRy9KH/v6aT7o/z7jr5JUKp/fdFBIbLr6eXvqLyWSqra1tbW2Njo52WRSry/E8X19fX1NTQ+r4uXxTd6bX66urq+VyeUJCQnu1HHsez/MkMS80NFQsbvfHbTKZmpqaSL0N5/3r1q3bs2dPWFjY22+/3TMfymKxVFRU2Gy2iIiI0NBQLxdtbW2tqKgQiUQxMTHt/Vw4jtNqtU1NTcnJye5LltfV1QUEBLiPBObl5b3yyisA8OKLL5KsyOvX3h12Rz6XQqGIj4/vPdnVvvvsZ12Jtq3klEREPf+H66pP2LV/B/YhHMeu+36Z8DI5ZsK8SY9fzwnXbW2qrLeTbaWMfnpZuPf23uV9uqX6SD4ADLk5a/CN11is9XqU7DhS+N3unr8uQgihHjN91UOK8OAOm50ttXy91yC8XDJdPXrQdSV5lVQd23F4jfBy5viHBnoqo3cKhSIpKalnrkVRVEREhMdiJC6CgoKE4aneg6IoX0opKhQK99jGZDIdPnwYAGbMmNFjoaZMJnMfIPJIpVJ1GDXRNB0TE0MG4tyRIi5jx4596qmnhJ08z2/ZsoUc24UJhB7vsEe+fC6EEEIIIdQzMDBDftPc3FxaWspx3ObNm81ms0gkmjNnjr871S3i4uIqKipycnK2bt06ceLEsLCwS5cu7d+//+zZswCQnp7uYyiFEEJo4AgdmayIDgOAqt9yOJvrZPLYWeMoEQMAJm1jY36xy7uq+MjgoQkAYKyqbzp71RIp0uAAdbJGqQlTasLESrnV0Gptam46V6YvvOTeB3lkSNho1+nKBM9yDrPF3mpuLtPam03Obyk1YSEjkt2P4Oysw2w1aRtbymvc3kUIYWCG/KesrIwk8hFLly7thSOBXWLJkiWnTp0ym81ffPHFF198IZFISAlHAEhJSVmxYoV/u4cQQqgXSrpluiw4AABayrT6ogrnt+QRwYk3tc3NNjfo3QOzqInDoyaNAIBLvx69EphREDNzbMKCSbToyvxhVVwEAGiyxpjr9cXf/eYSnimjQhIWdFAqmef40i3Z1ftOXTkqJsz7US3lNRU7j7tEjAih3jJDCQ1AwrQ9kUg0b968RYsW+bc/3ScmJuaFF14ghVsAwGazURQVHx8/d+7cv/3tbzKZzL/dQwgh1AsZLrQFYwFJ0S5vkdEwQh4WJAsLdGkQOLiteJjucqAlVitGPrI06aapQlTGc7zdaCG1BgBAHh40/L6bNdPHdLafFE0lL5qWtCjL90MCEqLS7r0pYeGkzl4Lof4NR8yQ32g0mvfff7++vj4xMVFYDK2/SkpKeuqppywWS319vclkio+P75JVARBCCPVX+qKKyMw0AFAnaVzeCh6WcPXLRO2BPOGlWK2QhwcBgMNiFZIGBy2eEZjcdh79hYry7UeMVXWcnaUl4sjMYXHzMiUBCoqmkxdlmWp1+gLXNYGazpYWfblLeElRIA5QKDVhcXPHKyJDAEAzbdSlX46wFpvzUc0l1SU/HiDbjFgkUkhVcRFRk0eKlXIAiJ09rulsKaY1IiTAETPkTyEhIampqf0+KhPIZLK4uLjU1FSMyhBCCHknpC8GJESBU+1cWswEDooBAM7eNvHMJU4LTG6rRGW4UAkcDwBBKXHCVLGSH/adef+HljItZ2cBgLPZtdmnz677kbW21VMd8v9m0xLX6soOk8VhNAv/2VvNJm1j/cnC0/+3yaprAQCKpoNS4lyOMtY0tl6qJf8Ziqsa80vKtx85+crG1oo6ckjKHfNoCQ4SINQGAzOEEEIIoV7H3mIyahsBQCSTKDVX1uxRD4qlxSIAqN6fa2s2AkDgoFjKadoYCdsAQHd54Ct5cdsaoU1nS6v3XxlbExgr6ws3/sJzPABIA1Whowb52EmH2aq/nHKpdku59HyI0XLuk20OixUA5GFB4WNSfLwWQv0eBmYIIYQQQr2RMGjmHPMIE8x058vJFDJGIhKCMQBQX94mlTwkgSqSbcixbMnm/e1dq+lsad3JArIdPrYTwZIyui1otButPh5i07c25Fwg24roEN+vhVD/hoEZQgghhFBvpC9qK92hTr4yzYwkLrJWW3OpViiiKGQzipQyRVQIAJgb9JbGZgCQR7RVPDbX6iwNV5bHdSdM9wqIi/SlexRDJy+eTuo6AoCxqs6nTwUAAA15lwOzSAzMEGqDeb0IIYR6K66tXpyuuLJ019Gev37TBQ8rOyHUY5qLq3iWoxhaGDGThqgVEcEAoL9QyXOcvvASz/MURQUPSyzdfAAAApM1FEXB5eEyAJCHB5MNS6O3qAwAjJX1ZEOsklMMzbOc8FZAYvTg/5klvGRkYmmIWh4eRMp4AEBzmVbnVjLEC4uupa17UaG+H4VQ/4aBGUIIoV6K59u+FzacLWk4W+LfziDU81irvaW8Rp2skQYFSIMDrLqWK3mMBeUAYG81GyvrVXERiohg0kB9ZYJZW2AmUSvIhr3V7P1yxuoGYVusUtgMrcJLeXgQqfToUf2potIfs4HvzEczt+U9yoIDgKaE38IgNJBhYIYQQggh1EvpiypIHqM6Kbpe1yKkLOovx126wnKSTBiQGG3VtZDJZjzLGS5UkgYU3TZvhWIY8IpirsxwEUo+emesbrjw9e7WS7W+fyJCHNAWLrJWG0ZlCBE9EZj9dLhZKsbJbAihrlTdaPd3F1C3S543ydLUAgCMVMy41e/uAca6ptbq+p6/LkICfdGl+BsmAIA6SdOQdzFoSCwAmOv1Ql6iruBS3JzxAKBOjNKdL1NqwgGgubyGtbYtKea4PDYlCehgpRZhTIyzOxwmi/Nb9TlFF7/ZDUDRUpE6ISrxd1PkEcEAII8IZqTX8mdTFtq2KDaZCIcQgp4JzKoafPqlC0IIXRuex9+29k/q+KiJT/3Bjx0o2XGk8LvdfuwAQi3ltazVxkglAUnR6sRoRioBpzr4ANBSqm1rkBitToymaDLB7EoDoeCHIjoUKPCScKiMCScb1ssTwAQ8y5KFzlirrTG/pLmsZuTDixWRIbSIGXbXwtw3v/ZeVsSdUJKkw5lvCA0c3TKQZbJyHTdCCKEuglkwCKH+iuc4w8UqAFBGhQanJZKdQmEP0kB/oRIAlDFhgZeXeBYmmAGArvASa7MDgDQoIGrSyPYuRImYuLnjyXbjmQ6mdNpbTAWfbeccDgAQKWRp995EllbzES1moqeMItum2ibfD0Sof+uWwMzB4rckhFDPwb9xEEL9GFnBmWJoTdYYAOAcrP7y/LG2BoWXAIBmGM200QDgMFlaK65M+uJs9sb8tkArYeEkscpzQmPsrHGyEDXZrj9Z2GGvTDVNZdsOk21FZAjJt/RRzMy2a/EsV3PojO8HItS/dUtgplZ0MLsUIYS6EIOTWBFC/ZewzDQtYgCgubSas101yVbIbCQN9EUVLr+vKt920GGxAYBYKRvz19sDB8c6v0uLmUFLZyQsmEhe1h0/71ye0YvqfacMJdVkO2ZGujI2vMNDRApp0qKs+HmZ5GX9qSL3tEmEBiysyogQ6vMooPzdBYQQ6i4mbaOtxSS5XMZQX+C6vJ6lwWBpMMjC2spp6ApdG1j1rcXf/ZaybC5FUdIg1YiHbtEXXmqtrBMpZDTDBA6JFcbKLA2G4u/2+d63i1/vTn9yGS1iKJoectvs3De/dk4uDxmWKL3vZrItVsqlwQHCpwAAS1Nz+U+HfL8WQv0eBmYIIYQQQr2avqgiYlwq2fa4jrOu8FJ0WNv8Mb2nBvUnCliLLfWOeYxUQlFU8NAEYUk056sUbvxFKOfoC3OdrmLX8YQbJgKAKjYiZkZ61Z4c4V1pcIA0OMDzgQ36M+//YNW3enwXoYEJAzOEEEIIoV5NX3SJBGa2ZqPHPENdQXn0lJEAYKrTtRftNJ0pOfnq55qpoyMnDhcrZc5vGYqrag6fqc8pdMmBtLWYOuxb5a4T4WOGKKJCAUAzbUzVnhxbi4eVrHmet7eabYZWS2Nzw6mixjMlPIu14hC6CgZmCCGEEEK9Wt2x83XHzntp0HSmJPuxtzs8j03fWrbtYNlPh6SBSmmImpFJbPpWS1Mza/E8StZcUt3haXmWy3ntC+c9+oJyXzqDEHKBgRlCCCGE0EDC81Z9K6YRItTbYGCGrldEMDVIwwCA0cyfLmE9tlHJqZHJDAAUXGJ1LTwAhARQqfE+Ve/ML2FbzTwAhKqplDjPh3AcWGxgtvJVDazRcm2fAyGEEEIIIb/BwAxdr6hgeupICdlutVhKqj2kjI8fKspIFQNAnc6qa2EBIDTwylHelWktJDAL8+EQnud/y7WfKHR06iMghBBCCCHkX7j6D+pK88dLpWIP+6lrLWbOcbzV3onVgymKmpkumZXuqRMIIYQQQgj1VjhihrqSSk7NHifZfqQTlXZLtezBfHt771rtfFOLa2BWXM3+fNQqvKQAFDIqIoieOFwcqqYBIH2I6OAZu7XdsyKEkE8oGpfIQwihfo5iestIFQZmqIsNTxQVXmKLqz1PNnNntvLaps4VzLVYebP1qj0mK99gYIur2btukKmVNE1TCZFMUaWvfUAIIY+CkmL83QWEEELdSBqokgWp/d2LNhiYoa43b7zk05/N7ZTe7UZWO5TXciOTaQDQhNEYmCGErlPwoNhht80t3XnU1trxak4IIYT6EAooZXTY8Nvn957kCAzMUJfJK3YMi2ckYkolp2aPlfzUmYTGrhIe1DYYbbF1YmYaQgi1J3FWZuKsTH/3AiGEUP/XW1IqUT9gaOX25bXN60pLFA2O8akaflehaZg9ThwV0vZI1+o6lx6JEEIIIYSQH+GIGepKuRcdKXFMQiQDAPPGSyrrO05oTIlj4iPl7Z/Qfvisa+17TRg9L+NK3XyJGAKVVHAALZe2jURXNbClWgzMEEIIIYRQn4GBGepivxyz3X2DTCKmlDJqzjjJtsMdRGYihlK1G5eBROQh6zc4gA4OaHewt+CSY+8pLMiIEEIIIYT6EgzMUBcLf1d4AAAgAElEQVRrNvK/5drnjZcAwLAEUWEFe8FrEQ6zlTcY2x3dajF3YqpYvZ779ZitszUeEUIIIYQQ8jsMzFDXyyt2pMYxCVEMAMzNkFTWmb00LtWynS0Tcr7c8etxGwUgFoEmlMkaLQ5R0wAQEkCJcWVphBBCCCHUB2HxD9Qtfjlms9l5ACAJjV17co4DuwNsDjBa4EIV+9UeS2MzBwAMQ/1+ijRI1VtqniKEEEIIIeQjDMxQt2g28b/ltk30GpogSontxgqNRgtsOWh1sDwAyCTU4iypqEfrQSKEEEIIIXS9MDBD3SWv2FFW0za7LEDRvU9ag4E/cLotDgxV01NGYEYjQgghhBDqSzAwQ91ISGjsAScKHZX1bXFgRqooIhgTGhFCCCGEUJ+BxT9QN2ox8XtP2eZnSr20iY+kl2R5a1Bey54odF3KzKNfj9nuukHGMBRNUzdkSjfusPA9FBUihBBCCCH0/9u78/goyvsP4M/M7Jlszs19HyQhkBBCCIQbORRRoWorSqmCxw/r0frT2tpa24JHpeJPLfXXn9Zqa9UetlpbDxAV5ApHuZKQALnIfV+7yd478/tjkodhd7PZTTZsIJ/3iz9mZ2ZnnnnY7Ox3nuf5PmOCwAzGV0mNPTPRnho77KgvjZp1M48ZIcRg9jS66tYLh8utC3IVhJDoMLYwS3b0rEcRHQAAAACAf6ErI4zVgGmEHXYds5idOjQaTJ6GW3TPAQ/ecrjC1tk3OI/ZrEw8dwAAAACAKwN+ucJYVTfbX/iLwc0OeoPw6384TmXW1Mm7f5ezxo6R38Lz5K3PRooUAQAAAAAmGLSYAQAAAAAA+BkCMwAAAAAAAD9DYAYAAAAAAOBnCMwAAAAAAAD8bFwCMxbhHgBcRvjOAQAAgCvduPycSY5WjMdhAQBcSonBdw4AAABc2cYlXX5ilPwbC4MPlxsMZn48jg8AIGIZkhiluH6uxt8FAQAAABiT8ZrHbFamelamepwODgAAE5+dF2pbLP4uBQAAgA+099rG+xSYYBoAAMaFySK89VmPv0sBAABwZcCQeQAAAAAAAD9DYAYAAD6jlPu7BAAAAOMvUOX7MAqBGQAA+AzHMv4uAgAAwLhTK31/v0NgBgAAPmM0C/4uAgAAwLjr6rP7/JgIzAAAwGcQlgEAwGQwHvc7BGYAAAAAAAB+hsAMAAAAAADAzxCYAQAAAAAA+BkCMwAAAAAAAD+T+bsAAAAAAP4UqmHiI9ioMDYylOVY0tUndPTy7b18UyfvsGd8BJsUPfJD7d5+oaJuMGNbcjQbF8ESQs7W23v0rvMFZCdzoRpmwERKqm2EkPwpMpXSo5K3dvG1rby3pYoKY9LjOELIgFEoqXGdWU6jZnLTODfFDlQx01O4iBA2OJDhOKIbEHr1wrkGW3uv486jqDSAyQmBGQAAAExeBVmyJTPkHHdxSqKEyMGF8422Tw9brLaLO6+YrYgKHTnGqGmx0xjj+rmKoACWEJIeZ3/3C7PgFOMo5eTGeUpCSFs3X1JtiwlnV8xWeFj44+etta28t6WKCWMX5g6eot9kqml2jD8JIYVTZbOz5ISQ9h5zj/6SeEkhJysLFFOTOFYyb2GclhBCiqbLKxttnx+zGMwX9x9FpQFMTujKCAAAAJPUytnyZfkKGpXxvGCzX4ycMhNkG1aqNOqL4YeHE8qaJBP6MUPvidVyhVPH5YH4KEpFXVeoVMpdHXOYg4ZqmDuvVU1LkdGozGIVpBMYZiTIbrtGJT3mWIoHMKmgxQwAAAAmIxlHpqcM/hA6W2crLrd29gmEkAAlyZsiK5oml3FMRAibm8YVn7E5vPejA2a9YdhAolPnog2KELIgR17dZO/SuYtAuvr4dz43SdckRrNL8hSEkNoW+8FSq3TTgOmSQ42iVBo1s7xA8elhi5siUSxDbpqvDAtiCSE8L5yssh0/Z+sbEAghgSoyN1tekCUnhESGsqvmKj464HjM0VUawOSBwAwAAAAmo+RoTi5jCCEXWu3/Lr4YRRjMpPiMzWAi1xYqCCEZCTLnwKy9l+/t97qFR8Yx189VuOzQSFntpKX7khCFNtmZLILDJp+UanqK7Fy9vbp55G6EhVNlMeEsIcTOC/8+aKlsuviWARP56qR1wCQszlMQQjLiubAgxmFw2uiKBzB5oCsjAAAATEaRoUMBj6tOdCU1NrNVIIREh7EBnqXicE8QBEJIrJabMz4dGsfi2kKFyoNxbblpgyU/fs4mjcqoIxW2bh1PCGEYJidlwl0mwASHvxkAAACYjFqHWp+mJHDxEaxDDkZBIB/sM3MsMZoFk0cd/dyx24XTNbZZGXJCyIIcedVIHRovj9PVtuwkTiFnNGpm+SzFJ247NEaHsWInRkEQjp21DrfblycssVq2qZNvccppCQDuocUMAAAAJqOGdt5qEwghMo5Zv0K1frmyaJosJpyleS8aO/i6Nr69V+B9EUPtO2Xt7ecJIRzHrC5SDpdd43Lq6+e/Pj0YYk1LkU2J59zsHBEyWGK9QZAmXXRwoZUvPmOrb+OtyLAI4CW0mAEAAMBkZOfJRwfNa+YrFXKGEBIfycVHcotmEItVaOzga5rt5xpsw0Ug316hchOt/e5jo80pLLHayc6jlnXXKBmGiQln52bLDpc7Dl0bo1GU6lSVLTORS47mCCHXFioaO4zDNQ/SoW6do23rG0XxACYVBGYAAAAwSdW28H/+ynT9XKV0oi2FnEmL49LiuCUz5UcqrIfLbc65OgJU7hq8htvW0M6frLTNypQTQuZPl1c12cU8kL4yulLtPGrZtEqlkDOBKmZFgeLjYteRmVo5eADdwCj7KI6ueACTBwIzAAAAmLzae4Q/7jRpg5m0OC41houPZGVD05rJZczCXEWohv3siGOs0tHL24dv/XETbO07bU2L40I1LMcxq+cq/7TbNPy+XhtdqXQDwt5TVjEFZXay7FyDvbLRRdOVxTp4gEC38ZXPiwcweSAwAwAAgMmuSyd06WzHzto4lsRFsJkJXF66TJx4OidVdqjMKs7WRf3zgHl0md+tdvLZEcvty5QMw0SHs0XTZCfO+6xD46hLdbralpXIJcdwhJCVsxWN7UbnfQaGQsiIkFFmKBh18QAmCV8GZh0dHXq93v0+arU6NjbW2yNbLJbGxkZxOSoqSqPRDLdyjGw2W319vbgcEhKi1WoddjAajS0tLeJyQkKCQuFBcll/a2trGxgYIITI5fLExMTRHcRsNot5fjmOk8vlviwfwKXG408bAMABw5DcVE6jZgZM5HT1xdDIzpOGdr6hnT9dbfvGwsHJlNNiuZNVPgufGjv4E5W2gkw5IWTedHlD+4TIXrjzqGXT9Rc7NA44TSEgZi4hhIQEMhxL7MOUOlbLLs2T9/QLtS32cw0YNAbgBV8GZlu3bq2pqXG/z4wZM375y196e+SDBw9u375dXP7BD35wzTXXDLdyjE6cOLFlyxZxOTIy8v/+7/9UKpV0h08++eStt94Sl3fs2JGWljb2k463J598UgwmY2Nj33jjjVEc4dy5c48++qi4vGjRoieeeMKX5YPJraWl5c033/zRj34kkw1+HR04cODFF18Ul331pw0A4CBAyVw3R0kIsdqE8gs25xSCnX1CSbVtyUwFISQ+kj1Z5cuz7zttTYvlwoJYjmVWz50QD3l1hosdGqcmy/QGx8CrsYO3WAWFnGFZJimarW1xHZnlpHIJUVxCFAkPYhCYAXjFl+nyBTfz2I8Nz7v443e5coykl9DR0fHee+/5/BSX39j/X6zWYacrARg1o9H4hz/84f777z906JD0Uzp+3yQAANSASbDZBUKIXMZkDzMVskoxNAO1xcffSzY72XnUIn7dhWgmytxFp6ttF1oHQ6mgAMdS2XlS0zK4dUmegnNV6ogQZtpQZZbW+jjnJMBVb6J8F7jHuJrsw+VK3/rnP/9ZV1c33mcBmJxefPHF999/32bDnRsA/IOmuLh2trxommNsNj2Fy88YXNnS5ftnwY0dvA9Hl/nKzqMWmuTD2aEyK88LhJDIUPa2pcoA5SVbI0OYmxcpFTKGEGK2CBV1aC4D8M54Jf946aWXgoODnddfEYOyKLvd/uqrr27btu0yBIEAk81wIVl+fv7WrVvF5SlTplzGEgHA5HKozJoczQWoGIZhFs1Q5GfIWrv5bp2gVjJRoWx0+ODD6x49X1HvGGOsmqOwuo2qdh41D4yUcHFfiTUtjhOHsfnE2EulNwh7TlrETp7OunTC0bO2omlyQkhCFLd5jfpsvb2tm+c4EhPGZiVx4u8lQRA+OWxxnpTMJ5UGcBUbr8AsMjIyLCzMzQ56vZ4OSEtLSwsKCqKbysvLxb5zYWFhSUlJnp/0/PnzRqOREMIwzIwZM6Sb+vv7q6urxWU3h3UOwM6cOfPFF1+sXLnSkwK0tLRUVlbW1dUFBwenpaWlp6cHBARId6iqqhLzcAQEBGRkZND1XV1dNNvB1KlTlUolIaS3t1dsr2NZNjc3t6Ki4tSpUxEREQUFBeHh4eLObW1tpaWl3d3d/f39Go0mNDQ0Ly8vOjp6xKLa7fYzZ86InSiio6NjYmI8uUDicTczu91+8uTJlpaW7u5ulmWDg4MTExNzc3OliUMMBkNlZaW4PH36dJZl6+rqysvLe3p6UlNTp02b5vIjVF9ff+7cuZaWlpSUlJycnPDw8JaWlvb2dnJprXpV1SLPK9NgMFRUVFRXV3McN336dPH45eXlYvfa1NRUh6cSI34wxl6ZXtXP6GqeENLX1/ef//ynvb3dbrcnJyenpKQMl06mvLy8sbGxo6PDarVqNJpp06ZlZ2fTvy+r1VpRUSGWSlRaWspxXGJiYnh4uFqtpuPNnHssi3/LFy5c6Onp0Wq1CQkJeXl5LHtlNP4DwITSrRf+tNt0yyJlZChLCNGo2SnxLIm/ZJ+GdvtHB8zOgycSozj3B5dxzIgZ4G128tlRyx3LlL56/uuTUpXU2DMT7amxrg+1v8TKMmROtlw8Wk6qLCf1kh14XvjyhLW62UVzmU+KB3AV82Vg5tXXyldfffX666+Ly1u2bJk9e7a4rNfrH3/8cXF5yZIlP/zhDx3e6DIwEFfu2LGDBnsvvfRSZmYm3WHXrl1vvvmmuLxx40av4r0333yzqKhIGjo6l8Rqtb755pv/+te/pDtoNJrvf//78+fPp2uefPLJ/v5+QkhmZuZLL71E17///vv//ve/xeXXX389Pj6eEPLxxx//+c9/JoTIZLJ169a9++67dP+33347ODj4lVde2bt3r3OFbNiw4Y477nC+EOmeNTU1P/7xj8XldevW3XnnnSNVgxdOnjz58ssvd3Z2OqyPi4vbunUrTct54MCBV155RVx+9dVXd+zYcfbsWbqzWq1+6KGHli5dSteYzebXXntt165ddA3DMPfff/+JEyeOHDlCCElLS9uxY4e4yauqtlqtnldmaWnpCy+80NXVRdekpaXdeeedv/jFL8SXTz31VFFRkbjs4QfDDQ8r06v68bbmCSGCILz22muffvqp3X7JvTY/P//73/9+ZGQkXVNdXf3qq6+eO3fOocARERH333//vHnzCCGlpaVPPfWUdKv48r//+79XrFhRXFxMk3889thjy5Yto7vt3r379ddfNxgMDlXx0EMP5eXlOVUeAMAIdAPCu1+YFs+QJ0RyESEMyw7+krHzQmefUNtiP1hqHX7mrWHZ7IJ5+A6BUk0d/PHzttlZlyPdMS3ViK1Su45ZNl2vUspd/677+rT1Qqu9IFOeFsdKf/vxvFDZZN9fYu3Rjya48rzSAK5WV9U8ZitXrnzttdfE5X379kkDs4MHD4oLDMN4m+RNp9O99dZb3/ve94bbgef5H//4xxUVFQ7r+/v7n3322bvvvvvWW2/16owObDabNCrLzMzUarX/8z//s2fPHpf7v/POOxzH3XbbbR4ef8RGMK9C7rq6uqefftpsNjtvam5ufvTRR3//+987txc98cQTDnMtGI3G7du3Z2RkiLETIWTr1q2nTp1yKPlvf/tbz8s2nB07dnhYmWVlZT/+8Y8daqympoZGZVJj/2B4VZmjqx9Pal4QhN/85jc7d+50fvvJkye/+93vPv3009nZ2YSQvr6+n//85z09Pc57dnZ2Pvfcc9u2bZs2bZr7Ig3njTfe+PDDD53XNzc3b9my5Ze//GVWVtbojgwAk5nVRr48YSXEyrEkIoTVqJkBk9DRy7tMB/+HnV73tPvtRyO8Zc9J656T7pJsVTbZX/iLwc0O3paqunmEA+oNwq//4WIqM6quja9rM8s4EhTABAUwHEN6B4S+fsFlEDuKSgOYnMar/8/9999/u5M//vGPozuah8k/li5dKs24TX89d3R00Of3eXl5ERERnpz0xhtvpMu7du1y/nlNffHFF3RrWFjYt7/97fnz59O+VX/+8591Op0nZxyR2O9u6dKlLS0tX331lbgyKCjoG9/4xubNm6UtMDQQJZclS4rU3//+dxpI5OXl3XPPPRs2bAgNDRXX6HS6srIy53fp9fqwsLAbb7zx5ptvVqvV4kpBEHbv3i0uHz16VBp1LF++fNOmTQ4dVkfH88oUBOF3v/sd/VzFxsZu2LDh1ltvpQWmu4kLY/9geF6Zo66fEWueEPK73/2ORmUsyxYUFCxZsoQWw2g0vvTSSxaLhRCyf/9+GpVdd911jz/++OOPPy62khFCeJ7/y1/+QggJDAzMzs6WTlCWlZWVnZ0dEhJChvnE1tbWfvTRR/TlggUL1qxZQ7vgms1m2iQOADA6dp609fDVzfbWbtdRGTiw2UmPXqhv42tb+R6966gMADw3Xi1mYi8yBybT+D4yCQ4Onjt3rvgzuqOj4+zZs+JTfGmUIu0W5V52drbNZqO/R1999VXa+8vB22+/TZe3bdsmtjMcPHjwueeeI4QYjcYPPvhg48aNbs41YuzEsuyLL76Ynp5eVlaWlpbW0dGxatWq2trapqam733ve2IUsXr16m9/+9tizXd3d7s/YEREBC1Sbm6u+529kpycPG/evNra2rCwsKeffprjOEKISqWiU6i5LJtarf7Vr34VFxdHCElJSaGdD2mPwQ8++IDu/F//9V9r164lhNx6663bt2/fu3ev58Vzrmqj0ehhZZaVlVVVDU5kExUV9corrwQGBhJCli9f/vDDDzv08SO++GB4Xpmjrp8Ra76jo4N2xZTJZFu3bhU7DYqNY+JYtaampg8//HDdunUNDQ30yIWFhUVFRQzDLFq06IUXXlCpVKmpqeIgt6ysrO3bt//iF784duyYuPPzzz/vPjPQe++9R8ebbd68ec2aNYSQTZs23X333WIoWFFR0dHRIe1UCQAAAHAFmRBdGX04bdG1115Lw7D9+/eLgdmBAwfENUqlcsGCBZ4fbePGjcXFxX19fYSQ2tpah5FCop6eHtpEkJ6eTnt/zZkzJzAwUMw/4dza5u0lr1ixQuyZKf4mDgoKeuihh+hWk8lUXV196tQp2hojJkFxIyws7Fvf+pZXZfDQN7/5TenL1tZWMW0JXUPLJo2RVq1aJcYGhJDCwkK6nrYp0YwdwcHBN9xwAz3Cd77zHfeBx4hVnZaW5mFl0jIQQtauXStGZYSQ5OTkJUuW0GY3kecfjL6+vk8++cShVBEREddee63nlelV/XhV8wcPHqR1uHr1ajqUKyQk5MEHH3zkkUfEl2VlZevWrZOO3nzmmWdCQ0Nzc3Nnzpx57733OrdUe9WWW1tbKy4EBQWtXr1aXFYoFI899lh3d3daWlpCQoLLbCgAAAAAV4TxCszuuusu53T5nowAGfFntJvkH4SQ/Pz88PBwsRnhwIED9913X3d3N42LFixYoFKpRiwDFRQUdO+999I8BO+88861117rsE9zczNdrqmpueuuu+hL8cc3IcQ5c4MDl5NlS3+2Tp061XmH6urqPXv2lJSU1NbWjsd02y55ElIajcYDBw4cPny4oqJCDGtHRGMDQggNeAghYjOUyWSiQU58fDztsEoIiYmJUavVIwai1HAV5UlltrS00OXk5GTpprS0NIfAzPMPRn19vXQMoSgrK0v8sHlSmWOpH/c173Ahs2bNkr43IyNDo9GI7YoXLlwghBQWFtI1hJDe3t79+/fv37+fEDJlypT169fPnTt3uJK4JH7ebDZbW1ubuCY2NlZ6gfn5+V4dEAAAAGBiGq/AbMWKFTSl+4ikfcDERPmiUbSkcRy3fPny999/nxDS1dVVXl5O8zQSb/oxSt+ye/fukpISQojJZHJuNJNm5xMEwWUMJt1H5NDtbcSr1mq1Dms+/PBD2p+NYllWDCp8O67Mq6N1dnY+9dRT9fX10pUymYxOWuXyaNKAWfqzW6wNGsm4fLtCoXATeHhS1R5WprSDrkMxnLvhje6D4cDDyhxL/biveXJpjTlnbQkKChKrpbe3l+f5qKioLVu2PPfcc86XVlVVtXXr1ltuueWee+5xLob7P3a9Xk+jZTSLAQAAwFXJb10ZpT8fpfPMjn0c2sqVK8XAjBCyf/9+2gNKq9WOLqH2Qw899MADDww3Ga40/kxMTFy4cKHL3Ww2m/RXr8PRRrxqhx+jx44do4GERqNZtmzZzJkzs7Ozt23bJvZz8+O0Ts888wwNJHJzc+fPn5+Tk2MwGH70ox+JK10GZtLKcRYaGspxnBhiOQxRMxgM7hvlRqxqzytTOn7JIfCQNqaJPP9guCm8h5U5lvpxX/OEEDEhh8gh3aIgCLQe4uLixIqaOnXq73//+xMnThw4cOD06dMOFfXBBx+sWbPG25FgoaGhCoVCzC/iUIa+vr7u7m70Y5w41MrLmm0IAADAL1QK3//Y9ltgJk1kJ/3h6NA4IPIwK6MoPj4+Oztb7L4onXZp6dKlowtX4uPjv/Wtb4lTijmTTs1sMBjWr18vnkUQhK+//joiIiI5OZnOgaZWq8XmBYffyi6vWso5MKPLjz76KO0e5vIn+OXMytjX10dnLk5PT//lL38pnr24uHgs5eE4LjIysrW1lRDS2tpaWlpKE5Z8/PHHdDdpq4vnVe15ZUonm969e/fy5cvFZYPB8OWXXzrs7PkHIz09/YUXXnB4e1BQkOeVOYr68RwdHUcI+eKLL6QR5v79+8VgiRCSkpJCCNHpdI2NjU1NTRaL5bHHHiOEtLS0HDt27IMPPujo6BD3rK2tFQOzS2e/udh91PkTwjBMXFyc2Fuyubm5qamJlurtt9/euXMny7JxcXH3338/ejb63axMdWWjxd+lAAAAGEfhQVxqrLukZaPjt8AsISGBLn/55ZerVq3iOK6vr4/OOj0WK1euFAMzaTc2+jN6FNatW/f1119LB9tQWq02OTm5rq6OENLV1XXgwIHFixcTQnbv3k2zOM6ePXvLli2EkISEBPHnaV9f39GjR+fMmUMI+fvf/06b9YbjEFJKS0K7ohUXF9PjuG+HEYv6yiuviL/UFy9evHLlSvf7U93d3YcPH3a5SavVSs+rVCrFX9g2m+2vf/0rXT9i2QghDMM4RBFLliyhB9m2bduDDz6YkJBQXFz8zjvvuDyC51XteWUWFhaqVCqxza20tPSVV15Zu3atXq9/4403nBPfe/7BCAgIcDm1lzRnzIiV6W39DMe55ufNm/eb3/xGPNGxY8fefffd22+/neO4srIy6V/r4sWLeZ7fvHkzrYq4uLj8/PzY2Ng1a9ZUV1d/8cUX4nra7VNMMinq6OiIioqy2WzSHPpSOTk5YmBGCNmxY8dPfvKT4ODg8vJyMSTmeb65uVkMDsG/pqeo7r2BrWqy2OzInA0AAFchjZrNz1ArZL5v+fBlYOZVS4g0e9u5c+fuvffekJCQ2tpaT361j2jRokWvvfaadFretLQ0h2wNLg13CXK5/IEHHvjpT3/q8i233XYbbfHYtm3bF198YbVapbN10ZQhSUlJJ0+eFJefffbZlJQUvV5Psxp4Ljk5mR7n+eefX7hwYXNzszgQTmQymcxmszjvGSX9wd3b23v8+HFxOT093fNTV1RUPP300y43LVq06OGHH6Yvy8vLn3jiicTExMOHD0v713mYDsTBTTfd9M9//lP8P+3p6XnmmWfc7+95VXtemWI+QJqY/vPPP//888+HK4BXH4zhLoEuj1iZ3taP5zQazX333Ucnqn7vvff+8Y9/BAQESLsUFhUViflOV61a9be//U1c+Ytf/GL69OlxcXHnz5+nQz01Gk1OTg5dpkd45JFH7Hb7xo0bb775ZpfFWL9+/d69e8VW0NLS0g0bNshkMunf+Lx588LCwnx11TAWSdGKpGjfP0cEAAC4uvltJFJgYOD1119PX7a3t1dWVtpstoSEBPpzbdRp9AMCAhyG9Iyiuczh7Pn5+UuWLHG5w+LFi2+99Va6/vjx4yUlJbRr1nXXXUdnK161ahW9OpvNVlVVJYYKYlp/l+d16YYbbqBBl06n+/TTT0+dOsXzvLTH45kzZzy6Tp8KDAxctWoVfVlaWvrpp592d3dzHEeDXpcTTI941WFhYc8++6xzc0pRUZFzRgriTVV7VZkbN2685pprHM6lUqmkE1JTnn8wXPKqMr2tH8qTz9uNN974yCOP0JOazWZpVJadnU3nG7j99ttnzpwpLttsttOnT3/22WfV1dXiWRiG+cEPfkBHtdE9xWPabDY3+UvF7Pz0P8Vut0ujsri4OOlDAQAAAIArzngFZtJOSsN54IEHVq9eTQebib9ut2/fTuc7cpmWwOWRnVdKEzCyLLt06VIPS+7mmPfdd580nzgtHsuyd9999w9/+MPExERpn8PIyMjNmzc//PDD9BdtUlLS1q1bpS0h8fHxjz/++C233OJ8WDeFiYuL27Jli7Q7qEqluv3223/961/TNYcOHRrxityv95ZY8vvuu2/NmjXSepgyZcpLL71E/wvOnj3rPMf0cIIeteQAAB9kSURBVCkopOuzs7NfeOGF66+/PikpSaFQ5OTk3HXXXT/5yU/oPtIWQs+r2qvK5Djuscce27x5c0FBQUBAQGRk5LJly7Zt2ybNK0OL4fkHYzheVaZX9eNQCSOuX7ly5ZNPPjllyhTpyvDw8E2bNv3qV7+iTVVKpfLnP//5pk2bnPOIFhQUvPzyy9Kp0ubPn79ixQr6UhpwSlfS5cWLF+/YsSMnJ0daITKZbM2aNS+88AIdyQkAAABwJRocT9LWdf7DPU/RtXNz1udPXXt5SmC328WZo9LT030VIRBCPvnkk//93/8VlwsKCrZu3eqrI7tnNpvr6uqMRmNUVFRUVNRwV9TX11dbW5ucnDyWzlc8z7e3t7e0tGi12oSEBD9mYnRmMBgaGxvNZnNqaupwo4a8curUqf7+frFWQ0ND6Xq73b527VrxY5yfn+/chc/DqvakMvv7+4uLiyMiIqKioiIjI6Up8t9999333ntPXN6+fbu0XU7k4QfDJU8qc9T1463u7u7W1labzZacnCxN2OiA5/menp62tjaz2azVaqOjo12GhYQQnU534cKFwMDApKQkDzMrWq3WhoaGvr4+8Xp9ko/Rj9+B/sXz9tc/WE9fpsXPvXbeo34sDwAAwCRR03T08+IX6ctrCh/wW/IPiuM4h8fwY3fmzBk60IWMLe2Ht5RKZWZm5oi7hYSESPtxjQ7LsjExMdLsfxNHQECAJ/XguT179tDsETk5Odu2bROXd+3aRTvjSdvHKA+r2pPKHBgYePnll+nLZ599VjzywMDAvn376PrExETn93r4wXDJk8ocdf14Kzw83JMpClmW1Wq1zu1mzoKDg2fMmOFVGeRyeVpamldvAQAAAJjg/B+Y+ZBOp/v+979PCGlvb6cro6Ojh5tCCq4gWVlZNPAoKyvbsGFDYmJiQ0ODdLDTKDqseiU6OjosLIye8Wc/+1l6errNZqurq6P5PwsLC33SQuitiVA/AAAAADBqE6jz29gFBAR0dHRIozJCyMaNG33YQxL8ZeXKlVlZWfRlT09PSUmJNOq47rrrfNtG59KDDz5Il+12u5hvkEZlcrl88+bN410GlyZI/QAAAADA6FxVgZlMJpOOrtFqtY888og4eRRc6eRy+datWzdt2uTc2zAmJub+++//7ne/exmKMW/evOeee855FmOFQjF//vyXX345Njb2MhTD2QSpHwAAAAAYnauqKyMh5NVXX+3o6DCZTBEREZGRkWgru5poNJpvfvObt956a1dXV19fn8FgCAsLi4qKkibhuAzy8vLy8vKsVmt3d7fYJCV2cbycZXBpgtQPAAAAAIzC1RaYhYSEuMkUB1cBhmEiIiLonAr+IpfLo6Ojo6Oj/VsMZxOkfgAAAADAK1dVV0YAAAAAAIArEQIzAAAAAAAAP0NgBgAAAAAA4GcIzAAAAAAAAPwMgRkAAAAAAICfITADAAAAAADwMwRmAAAAAAAAfobADAAAAAAAwM8QmAEAAAAAAPgZAjMAAAAAAAA/Q2AGAAAAAADgZwjMAAAAAAAA/AyBGQAAAAAAgJ8hMAMAAAAAAPAzBGYAAAAAAAB+JnO59nz9/vae6stcFAAAfzFb+v1dBAAAAJjUXAdmPbqGHl3DZS4KAAAAAADA5DQYmDEM+jQCAAyatF+JNU1HX//Hen+XAgAA4OonEMFhzWBgplFrL3thAAAmKBmn8HcR/EXgBbu/ywAAADDpGEy9g0+FB0w9/i0KAMDEYeet/i7CZeL8uA4AAAAuP/1Ax2BgxvM2/xYFAGDi4PnJ0mrEEMbfRQAAAAASoAqdpOMoAAAAAAAAJoigwEgEZgAAAAAAAH6GwAwAAAAAAMDPEJgBAAAAAAD4GQIzAAAAAAAAP0NgBgAAAAAA4GcIzAAAAAAAAPwMgRkAAAAAAICfITADAAAAAADwMwRmAAAAAAAAfobADAAAAAAAwM8QmAEAAAAAAPgZAjMAAAAAAAA/k/m7AFc5luGy065zuUkQBJvdbLObDaaetq5zgmB32CEqLCMyPGO4IwsCb7WZrDZjj66hr795xJIoZAHa0NSw4MTQoITQoHiBCAOGrgFjZ1NHaWtnuYeXExqUkBw7WxMQFajWyjilwdTTb2jv0TXUNh/meZvz/tPTV3t4ZEKIfqC9vvU/DitZVhYRmhYWlCiWXCB8r66xR9/Yo2vo0dXb7GY3B9SoI7ShqaFBCWHBSYHq8H5DR6++sUfX2KOr1xvaRyzP6GrM/SXb7GaLZcBs7e/srbVYB8av8AAAk5Cbe67NbrbaTFarsUdX32/s9PCA/r11NradcnN/VymC0xLmMwxLCDlT/am4Ui5TZyZfQ/dxeWOVYgiTnbaKYRjxZVN7Sa++UVyODJsSFZ7p4TUSQqobDpgsOkIIx8qnpq4UV3b0VLV3nx/uLRp1RHLcHEKIIPDlNTsJIXGRuWHBiZ6flBDS2VPd1n3Oq7cATFgIzMYXy8pmZt0y4m4ms/5C8+EzNTtN5j66MiYiOzdjjSdnMZp6T577oLbp0HA7pMTNLZz+bYU8QLoyPDiJEDI1daWuv7Ws+pPapmI3p4gKz5w19Vva0FTpyrDgBHFhRuY3zlR/er7uK4d35WXeTL/uR9TUXuJw/wgNSliYvzlEEytdGRGaJi6YLf2nz39YWf+186EYhp2RsXZ6+vXiHWvoaPEJ0TPpuY6deW9g+HvzqGvMk/9uQoggCA2tJ/5T8RejqcfnhQcAmJw8uecKgtDQery06mMagQzHX7dOegkDxi43gVm0dmr+1G+Ky+XVnwlEIIQo5YHSGjBb+hvaTjo/+b30ILfSlyazjlZLtDY7L3Otm6tz0NJ5RgzMZJySlsFk0X+872dmi97lW4ICo8U97XarGJglxRSkJy70/KSEkDPVnyEwg6sGArMJQaUMmpq6Mio86/Pi5+28xdu3q1Wh8/PuVsjV5y586bBJIQ+ck/Od5NjZbt4erImZn3dPZFj6sTN/dvn1PS3t+rysm1lm2I6vAarQwunrgwOj/1P+Z28LP5y0+Plzcr7DcfLhdlAqNHNyvhOgCj99/kPpeoU8cOns70WGpbs5eHzUjLDgpM8PPTdg6nbY5JMaGxHDMEmxBWHBiTsPPSttOhtj4QEAwD2GYZJiZyfGFNQ0HTpc8gdCBOd9rtxbpwOlQhOjzW7pLBtuB7HBavyoFEFzcjbsP/HbcT0LwFUDgdnl09lb091XR18yDMtxipDAGPosLTwkqWjGXQdP/c7hjSazvrTq39I1DGGUisBAtTY+eqZSHiiunDX1tobWEwZJCwzDsCvmPk4fzhFCGtpOtnef79U38bw9RBOTnrhIG5IibspIWqqUa/af/D+Hs2enXid9nNaja6hq2Kfrb7XZzYFqbWr8vPioGeKmrJTlJkt/2aVFFbV2VugGWt3Xz4XmI3RZqdAU5mygUVlb9/m65iMGU48gCIFqbUrcHNq/ImfKDa1dFW1dZ+l7p6evpoGNxWqoatjX3Vdntg4o5ZrwkKSMxCVyuZoQEqAKnT/z3t2Hf3VJxfqixkQ1jYe6+i5I13CsLEAVHh6SRAsfFBg1M+uWo2V/8knhAQCAkt5zWYaTyVRqVag2JFnGKQkhDMOkJyzgeevRsncc3jhxbp0+kRw7e7jAjGG4xJhZIx7BajO5bxgkhJgt+h5dg8tNSTEFybFz6lqOjngiQkhr11k7b3VYmRA9M0AVJi6fr9vjsLXKVccZgCsUArPL50z1p41tp5zXpyUsmD3tDrlMRQhJii08XPpHu/2SRjOrzeDc1UEkl6nnzdgkfrGyLDclcXFJ5Ud0a2byMnprGTB2HSn9k/Tbub37XGX910kxs+fl3S3jFISQpNjZKW1zpQFSWHBiXtbN4jLP2w6X/KG2+TDd2tlbU9dyLCFq5qJZ32VZjhCSk766qv5rsTODVE3ToRG/1i+pk/gFYpEIIUdK/1TVcMnXbmX93imJi+bm3iW+nJZ2nSQwYzKSlohLffrmz4uft9gM9I11LUfPVH+2suiHoUHxhJCo8ExtSGpXX60Pa4xq6Tzjcj0hJCZi2tKCh8WwMzV+3vGKvw79j4+p8AAAQLm853KsPDfjpuzU68R7VkbS0vrWEw6jxSbOrdMnEmLymbI/uWzTi4ucTp/tumG26I+deXcsZSicvr6t66wnF3ih+fAFSV2JggNjxMCspvHgGEsCMMEhK6P/1TQepMN2WYbVhqS631/KajMeOv1781BfuFDJEz6VIjgvY7B3uNHc9+n+LS6fmdW3/ufLI9vp+OPZ09dzrIJunTX1No4djN4PnHy91unrkhDS2H7qeMVfxWWOk2emLPO8/MMRYw9CSGdvjUNUJqpq2H+hefDxW2TYxRQpgWqtGOISQo5X/E0a2Igs1oH9Jy4+2oySpFfxSY15orWzvKzqY3FZximCA6LHXngAABiRnbeeOvfB8Yq/0DUzM2+W7nBF3zpdUsoDYyOyXW5Kjh3ffowXy6DQzMn5zuU5F8AVDYHZhNDUXkKXtSHJXr3XZjcbjIPdF9WKYLp+RuZasdsbIeTk2X84/8qnOntrymt2ictKeWBCdN7g0ZQh0dosWsKGthPDHaGy/mvahTIuYrpX5XeJHbql2e2OXRqohtbB8shlKqUiSFym90JCiHN3CJFuoKVPPzicWhMQSdePvcY819ffQpdVyuCxFx4AADx0vm4PbUzThqYGBUbTTVf0rdNBr75JXEiKLXTeyrFyMaeUnbdZrMNe5hjZh2LXxJj8lLi543QWgKsGujJOCNL0D3ZXyXPdkMvUNG/hgGSAWWTYFHGhs7fGTcJG0ZnqT7NTrxU71yXHzalrOUYISYotpIkBK2o/d/N2QbAfLvljoDq8vadSJwk5Rq29+3xK3BxCSLQ2KyNpaWX9187js5vaT396YIvFMmC2DtC8+bqBVqO5T60MIYQUZN+27/irLjNk7D2+g2VkZmu/tObHXmOei5Ck96AlHEvhAQDAc5X1e2mq29iIafqBNnH5ir51OqhrPhqadTMhJCF6JsNwDr0Z46JmiH00WjrKQoMSHJJP+krx6Tfn5d0tPnacPe2O1s6KceqxCXB1QIvZhCAdfds39IjLE3KZen7ePWIndUJI78Wht0xQQJS41NxeOuJxbHZzy1Ane3pbov0JCSHDDeqlWjrLqhr2+erW0tJxsevInJwNNy7ekjPlJm1IKiEXk+/beWuPrmHA1O0wmxm9kPCQ5JuWPjc/796UuLlKhUa6T7+hQzfQYrboBYEfWueDGvNQQtTMjMTFg1dht9IfBGMoPAAAeKGl4wwdBRA+lMnjSr91OmhsPy32OlHKA2MjpjlsTRnqxzjccGif6NU3llUO5jVRKjRzc+8cv3MBXAXQYuZ3THJs4cyswdxNdt7W4zSzSqA6Ilo7VbqGZWQKuTpEE5sSPy9oqD+b2TpQ1bB/6C1amtLQw5k0O3oqxZ4YKkUQy3C8YFcrQ8VNRnPfGBtnpiQuig7PcrODzW6W5gvuN3aWVX2cM+VG8WWIJi4vc21e5lqzdaCju7Kt+1xzR9lwd7Kyyn9Hhk0Rq4VjZanxRanxRYIg9Oob27vPt3ZVtHSWO6RXIT6qMenWqPBMo2RWOoYwMk6pUgZHa7OSY+fQ6d0qaj+XxlejKzwAAHhFIILB2C2mvlANdYafaLfOMbLajM0dpeKT36TY2c0dF0NNGacU00LabObGttP0R4hLSkVQUe5G9+eqbT4sTY8sdabms4SYfDGPZUL0zJS4Iuf0HgAgQmB2+aQnLIwKy6QvZTKFWhkWGhSvCYigKytqdjp/j7Mst2LuD9wfnOftx8reoT0EgiU95vsNHZ4UTxpFqFWhA8auANXg3UXXP0Km+xFFhWfSHPEumSx6h4lcTp//Z7+xa870DbQ9kAz245+ZED2zIHudrr+1vHZX9VAsSukN7bsOPbd09sN0KmpCCMMwYcGJYcGJWSnL7XZrQ9uJU+c+lM7R7JMak27NSFpCUywOp6u31mEihNEVHgAAvGUyD94xaa+EiXbrHLu6lmNiYJYYnX+UeZs+QEyIzhdD0Mb2UyPOniqXqUac9LlbVzdcYCYI/OGSt1YteGqwQ+P0O1q7KkySegMACoHZ5UO7sw+nu6+udChZn1fauytPnv17Z281XcNIZrS02kyeHEQQLg7iGprmZfAg/KjmUPaKy1551Q37O7qrpiQtio+cEayJcdgarIkpyr0rPWHh3mOvOIzPNlv0uw//Kjl2TnLs7Ghtlng5FMfJU+LmJkbPOlr2p5qhIQQ+qTHPmS39VQ37Syo/4p2GFI6i8AAA4C36tc8MdZK/4m6dI2psP22zm2WcUiEPiImYRhvNUuJoP0aPphcbEc+761rfq28qrfz3zKybCSFKeeDcnO98ffw3PjkvwFUGgdmEYLb0l1R+VFm3V3BKcSFq6ThDCGEYVi5ThwbF074WhJCvjr7snMxX2sqkkKk9KYNGraXL4nNEk0UvvgwOdAyKvFXbdLizt8bNDtKpt6V0Ay0nKv52ouJvGnVEbGROjHZqlDaLdjshhESGpS8t/N7nxc87vJHnbbVNh2qbDrGsLDo8KyZiWnR4VnhIEr1lcpy8aMZGk0XX3FFGfFRjUnbe1t51jhDCcYoAVZi0XbSx7dSBk68Nl3dxFIUHAABv0a/lAeNgmqWJduuUDqt2sY1xt1Vkt1ua2kuSYwsJIclDvRkVQ0POzNaBFg9uImZLf0nlv9zsIAh8TdNB9wcpr/ksUdKhMTV+nlezmwJMEgjMLp+uvguX/IwWeKO5b8DY1W/o6jd2OLecUPqBtq+OvURfKhWaWdnr0uLniS/n59392cFnDJem7zNI0jMGaWLaeypHLF5Q4OCIZ7vdarb2E0KMpl5xTaA6XC5Tefj40KWWzjNj/AruN3ZW1u+trN9LCBMRmjo9/QaamzgybEpC9EyXk3cTQnje1tJ5pqXzDCFEKdckxxXOyPyGOK6AYdi8rFvE/xSf1JjU4ZK3pCOq4yJz5ufdK3aYSYiemZtx06lzH4x4Cg8LDwAAXmEYLmAopuo3DvZanCC3Tp63iyGi+74YdJ4YQeCHe6pLCKlrPiYGZgnR+SzzNi/YE2NmiXPSNLSe8KRZz2oznq/7yqtLcCYIfPHpN69f+DNJhsbyEd8FMNkgMLt8yqo+Hi548IrZ0l98+vcCbxf7fKuUwUtmP/R58fPSnBD9hk5B4MUGlrCghGGPJREanCgu0LFSekM73Rqsiety2+QVG5EzM+tm3UBbW9fZC81HHDIleiVAFRYbmaNSBNtspnN1XzptFzp7a74+viM1ft78vHvo2cW6jY/K0wREqhSa2uYjztlBzNb+83V76luOLy54QMygFR6cpFIEmyw6n9SYG80dZV8efXHF3MfFlMTT01f36psccmGNuvCelBYAACiNWssO9UGgw8kmyK3TYjOIHUPEdPbDoYPZLDajm92aOkqsNpNcpqK9GS9PPkZnff3NpZX/mpl1CyFEIQ+Ym3vXuQvOt3iASQ3p8q9UR8r+1NVbKy6HByfNn3GPdKvFOtDWdU5cTk9cqFaFuT9aQnR+eHCSuNzQdlJcaGo/TXeIGikjfHrigvCQ5JS4OXNz75R2NRyF+KgZRbl3zcy6eVb2bUq5ZrjdapuKe3SDGSwDhx58zs29c/a023Om3JiROGziDZNFV1FzcW4Z8b0+qTH3enQNxSVv0pdFuRvDL51MfNSFBwAAr2SlLKfLuqE5SybIrZNO9+w8uFqKpn+0up0emudt9KFwcuxslSJYnP/aaO6jF3vZlNfs7Oq9IC7HR81IS1hwmQsAMMEhMLtSCYL94Ok3bEOtZEmxBSlxRdId6JMwGacsyL7NzaFYhps19Vv0Je1z2N1XR/t1TEu/Xj58h3tNQFRC1GBqk7bu8x5mGR4OPSnLctIZ3pzRlCH2oQY6+t6k2AI3b5R23qCNe2OvsRE1tp2qbjggLnOcfH7ePSxzcUjDWAoPAAAeCtHEZSQtFZd1A23S+GQi3Dr1A4NtbjHaqWKfQ2cyThkXmSMu942U/lGc+ZoQkhCdnxw3R2wSrGs5RobvADlOBIEvLnlTnF2NSHKQAIAIgdkVTD/QVnL+n/RlwbR10valC81HaK7e5NjCnCk3Mq6GEctl6vkz76O95Js7yvr6m+nWs7W7xQWVImjBzPs4TuF8BBmnXFLwIM1HUlm3d0xXRUhnby391s7LvNlhDjcqKiwjPGTwUWXfwOCVtnefFxcCVGHz8+7hWBcFZlkZTWTP8zba7cQnNTai4xV/pffsEE3c9Ck30E1jKTwAAHgiQBVWlHsXzfNRUbNTGp9MhFtnW1eFuKAJiKQ99h1kJi+jWf7pvWM4LR1lYiucQh4we9rtQ1fqm3yM3urrb3afSgRgMkNgdmU7W7ub9gpQKYIKpq2jm+y8tbjkLdqmlJf5jRVFPwwOjKU7MISJ1k5dvfDnybGzxTVmS//hkrcuOf6FL+nNJj5qxrXznoiNyJHuEBeZu2rBk6FB8eLLXn1TQ+tx53Iq5AFymdr9PxqHmC16mghepQxaPufRGRlrQ4MSaE5ClSI4d8pNy4seF1/yAl/TeHCoQr7g+cEGpdT4easWPBkXmUNHSLMMFxGavmr+T8WJNQkhF5qP0LQrPqmxEVltxqNl79CX09NXB2tix154AACQUsgu3neUco1GHRGtnToz69abljwbEZYu7tNv7Kq5tMvDRLh1Nradot/tybGFRbkbI0LTaPcKlTJkbs6d4kgtQojdbq0fahAbDi/YHbrc9xs63A9+k5JxqhHv4HKZ2n0OSamKmp10LAYASCH5x5VNIMKR0j+uWvBT8eFfavy82qbDYhI/Qkhnb/WxM+/NnnaHuDUqPOOmJU+brQO9+iYZKw8JipdJHuPZbOZDp98wXjrnoyDYD51+c9mc/xYzAYYHJy2b88iAsVvX38IwbFBgdKA6nO5sNPXuOfayyxRPs6fdMXvaHe6vxWI1fLzvKbEAp89/GK2dKs71yTBsbsZNuRk32e3WfmOnShFEHxOKztZ+ToduG0zdJ87+jZ4rNCj+msJHCCEGU6/dbg5UR0izIZvMeofndmOvMU80tZ+ubzku9lfkWFlR7l1iuv8xFh4AAKh5eXfPc7uDwdj95ZEXnR9v+f3WqTe0V9R+Pj19tfgyPXFheuJCu906YOxSKoPEY1Lltbs8GT5Q13wsXTKgy6vmMpUy6LZrd4y4W3nNrpNn3/fkgAIRDpW8uXrBz6Rz/wAAQYvZVaBH31BRezEbxJyc70h7TVTW791z7GWz5WIyd6U8MDo8UxuaKr219PU3f3boGZe517v7Luwu3mYwXkzHH6gOj42cHhORLb216Afa9xx7RZpr2FsKeQBtHTJb+vccfalH1yDdgePkIZpYh6jsfN2ek2f/Ll1z7sKXJ8/+w37pvTZAFRoUGC0NbAzG7j3HXnZOqDj2GvPEsfL36PDuyLApdLTDGAsPAACe6NE17j7yQv8wvcH9fussqfxXVf0+6RqOkwdrYhyjsppdJec/GvlqCWntqpBeTl2L7/sxBgVEeb6zrr+lpNKjkgNMKmgxG1923maxGsQM6c5zELtnHNrfONIbSyv/lRRTIHZ21wREJEbnS3PgtnZVfLT3ibSEhVnJy6QzrohPqtq7K6sa9tW1HHPTKa6vv/nf+55KjZ+XlbIsRBPncIQBY/eZ6k+rGvYLTm1lJotOrQzx6qqpfmPnZwe2TklaHBeZGx6cFKAOJ4TYeZs4BYqdt7V2lpfX7GrvdpFUqrzms4a2E1NTVmpDkkODEsRy0gL3GzouNB85U/3ZcJkzxlJjJrNOpQwmI/13m8x9J8/+fW7uneLLqakrK+v3+qTwAACTlvSe68BmMxtMPQZzr66/9ULz4Y6eKveH8uOtkxDC87YjZW83dZRmJi2NjsgWM/vT9/IC39xecq7uK+epwCw2o7ib3W61Wi+m0RcEe33riYykxYSQPn1zr77JZZml8694+6OFstnNYoJ+nrdLo0EHFTW7EmNmRYSmOZzXGW2QHPHnEMCVjhEEgRDS1nX+wz1P+bswMO6UiiCNOoLjFIQIVptpwNhlsQ54dwS5JkAVFqAON5i6WUamH2iz2Nwl6vUVpUITFpxksRrUyhCTWacbaPFw1k6GYUM0ccGBMXpDu0IeYDD16IcyI3t23rHW2FiMsfAwanNz1udPXevvUlwOPG9//YP1/i4FwITm31unXKbWBEQEqMKN5l6VIshg6h0wdlndzl0GAFeiawofQIvZ5GK26M0W/ZiOYO03W/t79A0j7+pTZku/86NBTwgC36tv7NU3jva8Y62xsRhj4QEAYOz8e+u02ow9ugaHvv0AcFXCGDMAAAAAAAA/Q2AGAAAAAADgZwjMAAAAAAAA/AyBGQAAAAAAgJ8hMAMAAAAAAPAzBGYAAAAAAAB+hsAMAAAAAADAzxCYAQAAAAAA+BkCMwAAAAAAAD9DYAYAAAAAAOBnCMwAAAAAAAD8bDAwY1mZf8sBADBxsCzn7yJcJgzDMAye0AEAAPgZx8oH78dhwQkqRZB/SwMAMEHERmT7uwiXCcOwcZHT/V0KAACASY1j5THaTEYQBPF1e3fV4dL39APtAhH8WzIAAH9RKYJmZKzOTF7s74JcPgZT7+GSdzt6awWB93dZAAAAJp0AVeisqd9IiJ5xMTADAAAAAAAAv8DQAgAAAAAAAD9DYAYAAAAAAOBn/w8Ixc8/ThNQJAAAAABJRU5ErkJggg==)"
      ],
      "metadata": {
        "id": "9wcbuUhTnU5h"
      }
    },
    {
      "cell_type": "markdown",
      "source": [
        "# Load"
      ],
      "metadata": {
        "id": "dYbG-9hWXyrd"
      }
    },
    {
      "cell_type": "code",
      "execution_count": 27,
      "metadata": {
        "colab": {
          "base_uri": "https://localhost:8080/"
        },
        "id": "wdcnz0AnxchM",
        "outputId": "45c779e1-91c7-49f8-a7a0-a645f2cdf2d1"
      },
      "outputs": [
        {
          "output_type": "stream",
          "name": "stdout",
          "text": [
            "Looking in indexes: https://pypi.org/simple, https://us-python.pkg.dev/colab-wheels/public/simple/\n",
            "Requirement already satisfied: stanza in /usr/local/lib/python3.7/dist-packages (1.4.0)\n",
            "Requirement already satisfied: transformers in /usr/local/lib/python3.7/dist-packages (from stanza) (4.20.1)\n",
            "Requirement already satisfied: torch>=1.3.0 in /usr/local/lib/python3.7/dist-packages (from stanza) (1.11.0+cu113)\n",
            "Requirement already satisfied: requests in /usr/local/lib/python3.7/dist-packages (from stanza) (2.23.0)\n",
            "Requirement already satisfied: six in /usr/local/lib/python3.7/dist-packages (from stanza) (1.15.0)\n",
            "Requirement already satisfied: emoji in /usr/local/lib/python3.7/dist-packages (from stanza) (1.7.0)\n",
            "Requirement already satisfied: protobuf in /usr/local/lib/python3.7/dist-packages (from stanza) (3.17.3)\n",
            "Requirement already satisfied: tqdm in /usr/local/lib/python3.7/dist-packages (from stanza) (4.64.0)\n",
            "Requirement already satisfied: numpy in /usr/local/lib/python3.7/dist-packages (from stanza) (1.21.6)\n",
            "Requirement already satisfied: typing-extensions in /usr/local/lib/python3.7/dist-packages (from torch>=1.3.0->stanza) (4.1.1)\n",
            "Requirement already satisfied: certifi>=2017.4.17 in /usr/local/lib/python3.7/dist-packages (from requests->stanza) (2022.6.15)\n",
            "Requirement already satisfied: chardet<4,>=3.0.2 in /usr/local/lib/python3.7/dist-packages (from requests->stanza) (3.0.4)\n",
            "Requirement already satisfied: urllib3!=1.25.0,!=1.25.1,<1.26,>=1.21.1 in /usr/local/lib/python3.7/dist-packages (from requests->stanza) (1.24.3)\n",
            "Requirement already satisfied: idna<3,>=2.5 in /usr/local/lib/python3.7/dist-packages (from requests->stanza) (2.10)\n",
            "Requirement already satisfied: tokenizers!=0.11.3,<0.13,>=0.11.1 in /usr/local/lib/python3.7/dist-packages (from transformers->stanza) (0.12.1)\n",
            "Requirement already satisfied: regex!=2019.12.17 in /usr/local/lib/python3.7/dist-packages (from transformers->stanza) (2022.6.2)\n",
            "Requirement already satisfied: huggingface-hub<1.0,>=0.1.0 in /usr/local/lib/python3.7/dist-packages (from transformers->stanza) (0.8.1)\n",
            "Requirement already satisfied: packaging>=20.0 in /usr/local/lib/python3.7/dist-packages (from transformers->stanza) (21.3)\n",
            "Requirement already satisfied: importlib-metadata in /usr/local/lib/python3.7/dist-packages (from transformers->stanza) (4.11.4)\n",
            "Requirement already satisfied: pyyaml>=5.1 in /usr/local/lib/python3.7/dist-packages (from transformers->stanza) (6.0)\n",
            "Requirement already satisfied: filelock in /usr/local/lib/python3.7/dist-packages (from transformers->stanza) (3.7.1)\n",
            "Requirement already satisfied: pyparsing!=3.0.5,>=2.0.2 in /usr/local/lib/python3.7/dist-packages (from packaging>=20.0->transformers->stanza) (3.0.9)\n",
            "Requirement already satisfied: zipp>=0.5 in /usr/local/lib/python3.7/dist-packages (from importlib-metadata->transformers->stanza) (3.8.0)\n"
          ]
        }
      ],
      "source": [
        "pip install stanza"
      ]
    },
    {
      "cell_type": "markdown",
      "source": [
        "# Imports"
      ],
      "metadata": {
        "id": "9DrXzW7YX1-c"
      }
    },
    {
      "cell_type": "code",
      "source": [
        "import stanza\n",
        "from tabulate import tabulate"
      ],
      "metadata": {
        "id": "IRpKXCnnx-z5"
      },
      "execution_count": 28,
      "outputs": []
    },
    {
      "cell_type": "markdown",
      "source": [
        "# Global functions"
      ],
      "metadata": {
        "id": "PVUxkpXhUPDb"
      }
    },
    {
      "cell_type": "code",
      "source": [
        "def print_word(doc):\n",
        "    wordtext, wordlemma, wordpos = [[],[],[]]\n",
        "    headers = ['word.text', 'word.lemma', 'word.pos'] \n",
        "\n",
        "    for sentence in doc.sentences:\n",
        "        for word in sentence.words:\n",
        "            wordtext.append(word.text)\n",
        "            wordlemma.append(word.lemma)\n",
        "            wordpos.append(word.pos)\n",
        "\n",
        "    tbl = zip(wordtext, wordlemma, wordpos)\n",
        "\n",
        "    return (tbl, headers)"
      ],
      "metadata": {
        "id": "9olvGcofzEot"
      },
      "execution_count": 29,
      "outputs": []
    },
    {
      "cell_type": "markdown",
      "source": [
        "# Define model language"
      ],
      "metadata": {
        "id": "cFhCYgGRQWXW"
      }
    },
    {
      "cell_type": "code",
      "source": [
        "stanza.download('en') # english model"
      ],
      "metadata": {
        "colab": {
          "base_uri": "https://localhost:8080/",
          "height": 101,
          "referenced_widgets": [
            "ceb0016297094644918c57d1b65cc3ca",
            "791e682c51f24ef7822745edbc1f74e4",
            "a5f45eb30f024c3d9328aacc2c04b2cd",
            "9911ad321efb4fb59539d3a75f860028",
            "a0f91a81c81244d4b35c97e15399df82",
            "795ec8b24d1548ad9acd2028e4c8b401",
            "a8392fc8d98144a8bf4a289bb04460bb",
            "de1ffd2831654126a17c27beb2e1f22d",
            "0cf2422339b645519cc93ab6af82966d",
            "ee3ba54d07b3458aa1ca8c29da1171d4",
            "4d4bd773fa6c4675b10610e21100647c"
          ]
        },
        "id": "W2KC43nfyQol",
        "outputId": "7942c8ac-6e5b-4006-8f2a-0da7ba4f2e96"
      },
      "execution_count": 23,
      "outputs": [
        {
          "output_type": "display_data",
          "data": {
            "text/plain": [
              "Downloading https://raw.githubusercontent.com/stanfordnlp/stanza-resources/main/resources_1.4.0.json:   0%|   …"
            ],
            "application/vnd.jupyter.widget-view+json": {
              "version_major": 2,
              "version_minor": 0,
              "model_id": "ceb0016297094644918c57d1b65cc3ca"
            }
          },
          "metadata": {}
        },
        {
          "output_type": "stream",
          "name": "stderr",
          "text": [
            "2022-06-21 19:44:15 INFO: Downloading default packages for language: en (English)...\n",
            "2022-06-21 19:44:17 INFO: File exists: /root/stanza_resources/en/default.zip\n",
            "2022-06-21 19:44:25 INFO: Finished downloading models and saved to /root/stanza_resources.\n"
          ]
        }
      ]
    },
    {
      "cell_type": "markdown",
      "source": [
        "# Using pipeline default"
      ],
      "metadata": {
        "id": "joakqRweX6K3"
      }
    },
    {
      "cell_type": "markdown",
      "source": [
        "Stanza provides simple, flexible, and unified interfaces for downloading and running various NLP models. At a high level, to start annotating text, you need to first initialize a Pipeline, which pre-loads and chains up a series of Processors, with each processor performing a specific NLP task (e.g., tokenization, dependency parsing, or named entity recognition)."
      ],
      "metadata": {
        "id": "nH-xrwrkINnw"
      }
    },
    {
      "cell_type": "code",
      "source": [
        "nlp = stanza.Pipeline('en') # init english neural pipeline"
      ],
      "metadata": {
        "colab": {
          "base_uri": "https://localhost:8080/",
          "height": 431,
          "referenced_widgets": [
            "8d3ecd893d2e473cb901eda707ebb1c9",
            "f3284a594ba342f0b287a06bd01e0743",
            "0002c7ddcdaa488d9e0037413e32bfa7",
            "3b892bf9bf204b6396128e3518d7dd65",
            "0cd09b119d4447d7ad1059d89ebebc08",
            "aae6ec2eff7e4e09a3b33c26ca4502c3",
            "06bdbd9f42104663a24cc2c27e77cab3",
            "a4978e6165384715b13b16b9037a9ee0",
            "0a4282d5249641998fb00a2f32e848f5",
            "adb53f4f892347fc8b1940fbeeb74011",
            "36bf44246b1e4762a39fffbe44778e4e"
          ]
        },
        "id": "ZNKEnWXGyTHX",
        "outputId": "adc59791-cdb0-4441-a7b8-d29fc99dcb7a"
      },
      "execution_count": 4,
      "outputs": [
        {
          "output_type": "display_data",
          "data": {
            "text/plain": [
              "Downloading https://raw.githubusercontent.com/stanfordnlp/stanza-resources/main/resources_1.4.0.json:   0%|   …"
            ],
            "application/vnd.jupyter.widget-view+json": {
              "version_major": 2,
              "version_minor": 0,
              "model_id": "8d3ecd893d2e473cb901eda707ebb1c9"
            }
          },
          "metadata": {}
        },
        {
          "output_type": "stream",
          "name": "stderr",
          "text": [
            "2022-06-21 16:37:21 INFO: Loading these models for language: en (English):\n",
            "============================\n",
            "| Processor    | Package   |\n",
            "----------------------------\n",
            "| tokenize     | combined  |\n",
            "| pos          | combined  |\n",
            "| lemma        | combined  |\n",
            "| depparse     | combined  |\n",
            "| sentiment    | sstplus   |\n",
            "| constituency | wsj       |\n",
            "| ner          | ontonotes |\n",
            "============================\n",
            "\n",
            "2022-06-21 16:37:21 INFO: Use device: cpu\n",
            "2022-06-21 16:37:21 INFO: Loading: tokenize\n",
            "2022-06-21 16:37:21 INFO: Loading: pos\n",
            "2022-06-21 16:37:21 INFO: Loading: lemma\n",
            "2022-06-21 16:37:22 INFO: Loading: depparse\n",
            "2022-06-21 16:37:22 INFO: Loading: sentiment\n",
            "2022-06-21 16:37:22 INFO: Loading: constituency\n",
            "2022-06-21 16:37:23 INFO: Loading: ner\n",
            "2022-06-21 16:37:24 INFO: Done loading processors!\n"
          ]
        }
      ]
    },
    {
      "cell_type": "markdown",
      "source": [
        "## Using a document annotation"
      ],
      "metadata": {
        "id": "43WwrPq5X_mb"
      }
    },
    {
      "cell_type": "code",
      "source": [
        "doc = nlp(\"Gabriel Castro was born in Brazil and study at University Unisinos.\") # run annotation over a sentence"
      ],
      "metadata": {
        "id": "Kj7b9dqoyof7"
      },
      "execution_count": 28,
      "outputs": []
    },
    {
      "cell_type": "markdown",
      "source": [
        "Within a `Document`, annotations are further stored in **Sentences, Tokens, Words** in a top-down fashion. An additional Span object may be used to store annotations such as named entity mentions. Here we provide some simple examples to manipulate the returned annotations.\n",
        "\n",
        "A `Document` object holds the annotation of an entire document, and is automatically generated when a string is annotated by the **Pipeline**. It contains a collection of `Sentences` and entities (which are represented as Spans), and can be seamlessly translated into a native Python object.\n",
        "\n",
        "![Screenshot_419.png](data:image/png;base64,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)"
      ],
      "metadata": {
        "id": "ncQTE4ysJCjY"
      }
    },
    {
      "cell_type": "markdown",
      "source": [
        "Access the named entities in each sentence of the document"
      ],
      "metadata": {
        "id": "nO6ta8XczEH6"
      }
    },
    {
      "cell_type": "code",
      "source": [
        "print(*[f'entity: {ent.text}\\ttype: {ent.type}' for ent in doc.ents], sep='\\n')"
      ],
      "metadata": {
        "colab": {
          "base_uri": "https://localhost:8080/"
        },
        "id": "WLAmDIYJKQUF",
        "outputId": "59136d05-789f-4e2d-8045-4ae0e220e2e4"
      },
      "execution_count": 30,
      "outputs": [
        {
          "output_type": "stream",
          "name": "stdout",
          "text": [
            "entity: Gabriel Castro\ttype: PERSON\n",
            "entity: Brazil\ttype: GPE\n",
            "entity: University Unisinos\ttype: ORG\n"
          ]
        }
      ]
    },
    {
      "cell_type": "markdown",
      "source": [
        "## Representation of NER for Tokens, using Inside–outside–beginning (tagging) - *BIOES*.\n",
        "\n",
        "*The IOB format (short for inside, outside, beginning) is a common tagging format for tagging tokens in a chunking task*\n",
        "\n",
        "- An O tag indicates that a token belongs to no chunk.\n",
        "\n",
        "- Related tagging schemes sometimes include \"START/END: This consists of the tags B, E, I, S or O where S is used to represent a chunk containing a single token. Chunks of length greater than or equal to two always start with the B tag and end with the E tag.\"\n",
        "\n",
        "- Other Tagging Scheme's include BIOES/BILOU, where 'E' and 'L' denotes Last or Ending character is such a sequence and 'S' denotes Single element or 'U' Unit element."
      ],
      "metadata": {
        "id": "-vty4wy_OAs3"
      }
    },
    {
      "cell_type": "code",
      "source": [
        "print(*[f'token: {token.text}\\tner: {token.ner}' for sent in doc.sentences for token in sent.tokens], sep='\\n')"
      ],
      "metadata": {
        "colab": {
          "base_uri": "https://localhost:8080/"
        },
        "id": "ZIlFqx9YzbWC",
        "outputId": "f1c7a345-9822-453d-d7ee-3f2a00725681"
      },
      "execution_count": 31,
      "outputs": [
        {
          "output_type": "stream",
          "name": "stdout",
          "text": [
            "token: Gabriel\tner: B-PERSON\n",
            "token: Castro\tner: E-PERSON\n",
            "token: was\tner: O\n",
            "token: born\tner: O\n",
            "token: in\tner: O\n",
            "token: Brazil\tner: S-GPE\n",
            "token: and\tner: O\n",
            "token: study\tner: O\n",
            "token: at\tner: O\n",
            "token: University\tner: B-ORG\n",
            "token: Unisinos\tner: E-ORG\n",
            "token: .\tner: O\n"
          ]
        }
      ]
    },
    {
      "cell_type": "markdown",
      "source": [
        "# Using biomedical pipeline"
      ],
      "metadata": {
        "id": "7SKfjJtBQiV9"
      }
    },
    {
      "cell_type": "code",
      "source": [
        "# download and initialize a mimic pipeline with an i2b2 NER model\n",
        "stanza.download('en', package='mimic', processors={'ner': 'i2b2'})"
      ],
      "metadata": {
        "colab": {
          "base_uri": "https://localhost:8080/",
          "height": 448,
          "referenced_widgets": [
            "c387ee19fecc4197910c01c3053564ce",
            "475e541c6efd4344aced736d46294ea0",
            "8c82a20140b14d11b0f44e1a324b679b",
            "050a6c636f0b4c6ca423ecfe106dfcb2",
            "942145c0b18f4bcdb85455c3cee31ea7",
            "e0f35c38b6054fbaa8417a9ab0f18f39",
            "d39a692e5863436aad70832fa3fcbdc0",
            "766054a556fd4e7aa52529c8009ce226",
            "35800c4144c14e049bb75bb846b33d48",
            "47e2cc7f376b4cb8b53e6b15178dd84b",
            "b268b248d5a34b03990626895c8bed2d"
          ]
        },
        "id": "vq-47uQezv5f",
        "outputId": "b5e228bc-d814-48ee-94ed-5a56dd1c4aeb"
      },
      "execution_count": 30,
      "outputs": [
        {
          "output_type": "display_data",
          "data": {
            "text/plain": [
              "Downloading https://raw.githubusercontent.com/stanfordnlp/stanza-resources/main/resources_1.4.0.json:   0%|   …"
            ],
            "application/vnd.jupyter.widget-view+json": {
              "version_major": 2,
              "version_minor": 0,
              "model_id": "c387ee19fecc4197910c01c3053564ce"
            }
          },
          "metadata": {}
        },
        {
          "output_type": "stream",
          "name": "stderr",
          "text": [
            "2022-06-21 23:31:49 INFO: Downloading these customized packages for language: en (English)...\n",
            "=============================\n",
            "| Processor       | Package |\n",
            "-----------------------------\n",
            "| tokenize        | mimic   |\n",
            "| pos             | mimic   |\n",
            "| lemma           | mimic   |\n",
            "| depparse        | mimic   |\n",
            "| ner             | i2b2    |\n",
            "| backward_charlm | mimic   |\n",
            "| pretrain        | mimic   |\n",
            "| forward_charlm  | mimic   |\n",
            "=============================\n",
            "\n",
            "2022-06-21 23:31:49 INFO: File exists: /root/stanza_resources/en/tokenize/mimic.pt\n",
            "2022-06-21 23:31:49 INFO: File exists: /root/stanza_resources/en/pos/mimic.pt\n",
            "2022-06-21 23:31:49 INFO: File exists: /root/stanza_resources/en/lemma/mimic.pt\n",
            "2022-06-21 23:31:49 INFO: File exists: /root/stanza_resources/en/depparse/mimic.pt\n",
            "2022-06-21 23:31:49 INFO: File exists: /root/stanza_resources/en/ner/i2b2.pt\n",
            "2022-06-21 23:31:49 INFO: File exists: /root/stanza_resources/en/backward_charlm/mimic.pt\n",
            "2022-06-21 23:31:49 INFO: File exists: /root/stanza_resources/en/pretrain/mimic.pt\n",
            "2022-06-21 23:31:49 INFO: File exists: /root/stanza_resources/en/forward_charlm/mimic.pt\n",
            "2022-06-21 23:31:49 INFO: Finished downloading models and saved to /root/stanza_resources.\n"
          ]
        }
      ]
    },
    {
      "cell_type": "code",
      "source": [
        "nlp = stanza.Pipeline('en', package='mimic', processors={'ner': 'i2b2'})"
      ],
      "metadata": {
        "colab": {
          "base_uri": "https://localhost:8080/",
          "height": 361,
          "referenced_widgets": [
            "4dbf55709f4b4310afed3da304c87422",
            "6ba9b0c214f6472193595782f3ee0792",
            "dc270a7adf2043ccb0344d3095dba7a6",
            "3c4122189d0f4c379ffa4927b4bf7ce1",
            "73082a4ab4ac46a99fa4ecca610c00e4",
            "47efaadd5173486b8650d9faf741fbcf",
            "57e7a6dcafa84bbf8d85c219f0786935",
            "0b3acbaacc1f43ae9014723a48a39088",
            "e0b3e04f4d38417b926418888078140d",
            "ebd015c01d9c4547b243ae89dd7aa106",
            "0c1aee4214194e28bffb3df96f4b7a3a"
          ]
        },
        "id": "trCUATUaRODV",
        "outputId": "679d6041-c766-4459-e018-0d3c68301af6"
      },
      "execution_count": 31,
      "outputs": [
        {
          "output_type": "display_data",
          "data": {
            "text/plain": [
              "Downloading https://raw.githubusercontent.com/stanfordnlp/stanza-resources/main/resources_1.4.0.json:   0%|   …"
            ],
            "application/vnd.jupyter.widget-view+json": {
              "version_major": 2,
              "version_minor": 0,
              "model_id": "4dbf55709f4b4310afed3da304c87422"
            }
          },
          "metadata": {}
        },
        {
          "output_type": "stream",
          "name": "stderr",
          "text": [
            "2022-06-21 23:31:54 INFO: Loading these models for language: en (English):\n",
            "=======================\n",
            "| Processor | Package |\n",
            "-----------------------\n",
            "| tokenize  | mimic   |\n",
            "| pos       | mimic   |\n",
            "| lemma     | mimic   |\n",
            "| depparse  | mimic   |\n",
            "| ner       | i2b2    |\n",
            "=======================\n",
            "\n",
            "2022-06-21 23:31:54 INFO: Use device: gpu\n",
            "2022-06-21 23:31:54 INFO: Loading: tokenize\n",
            "2022-06-21 23:31:54 INFO: Loading: pos\n",
            "2022-06-21 23:31:54 INFO: Loading: lemma\n",
            "2022-06-21 23:31:54 INFO: Loading: depparse\n",
            "2022-06-21 23:31:54 INFO: Loading: ner\n",
            "2022-06-21 23:31:55 INFO: Done loading processors!\n"
          ]
        }
      ]
    },
    {
      "cell_type": "code",
      "source": [
        "doc = nlp('A single-cell transcriptomic atlas characterizes ageing tissues in the mouse.')\n",
        "# print out dependency tree\n",
        "doc.sentences[0].print_dependencies()"
      ],
      "metadata": {
        "colab": {
          "base_uri": "https://localhost:8080/"
        },
        "id": "mRIemfqfRYqo",
        "outputId": "839b9220-0a3d-4d6a-f5d7-5b2537392b8a"
      },
      "execution_count": 15,
      "outputs": [
        {
          "output_type": "stream",
          "name": "stdout",
          "text": [
            "('A', 6, 'det')\n",
            "('single', 4, 'amod')\n",
            "('-', 4, 'punct')\n",
            "('cell', 6, 'compound')\n",
            "('transcriptomic', 6, 'amod')\n",
            "('atlas', 7, 'nsubj')\n",
            "('characterizes', 0, 'root')\n",
            "('ageing', 9, 'compound')\n",
            "('tissues', 7, 'obj')\n",
            "('in', 12, 'case')\n",
            "('the', 12, 'det')\n",
            "('mouse', 7, 'obl')\n",
            "('.', 7, 'punct')\n"
          ]
        }
      ]
    },
    {
      "cell_type": "code",
      "source": [
        "print(*[f'entity: {ent.text}\\ttype: {ent.type}' for ent in doc.ents], sep='\\n')"
      ],
      "metadata": {
        "colab": {
          "base_uri": "https://localhost:8080/"
        },
        "id": "qHFE6ZAqR_SK",
        "outputId": "1b75661e-ac80-40c9-bcc9-233db4d548f9"
      },
      "execution_count": 16,
      "outputs": [
        {
          "output_type": "stream",
          "name": "stdout",
          "text": [
            "entity: A single-cell transcriptomic atlas\ttype: TREATMENT\n"
          ]
        }
      ]
    },
    {
      "cell_type": "code",
      "source": [
        "tbl, headers = print_word(doc)\n",
        "print(tabulate(tbl, headers=headers, floatfmt=\".4f\"))"
      ],
      "metadata": {
        "colab": {
          "base_uri": "https://localhost:8080/"
        },
        "id": "rAT5ULpPUvR4",
        "outputId": "7bf56425-c2f6-45d1-d6d4-aa9de2d32a2a"
      },
      "execution_count": 20,
      "outputs": [
        {
          "output_type": "stream",
          "name": "stdout",
          "text": [
            "word.text       word.lemma      word.pos\n",
            "--------------  --------------  ----------\n",
            "A               a               DET\n",
            "single          single          ADJ\n",
            "-               -               PUNCT\n",
            "cell            cell            NOUN\n",
            "transcriptomic  transcriptomic  ADJ\n",
            "atlas           atla            NOUN\n",
            "characterizes   characterize    VERB\n",
            "ageing          ageing          NOUN\n",
            "tissues         tissue          NOUN\n",
            "in              in              ADP\n",
            "the             the             DET\n",
            "mouse           mouse           NOUN\n",
            ".               .               PUNCT\n"
          ]
        }
      ]
    },
    {
      "cell_type": "code",
      "source": [
        "mimic_context = []\n",
        "\n",
        "mimic_context.append('Probable sinus tachycardia')\n",
        "mimic_context.append('Left axis deviation')\n",
        "mimic_context.append('Left bundle branch block')\n",
        "mimic_context.append('Since previous tracing, no significant change except for increased heart rate')\n",
        "mimic_context.append('respiratory-> pt remains intubated and vented on psv8/peep5 and o2 35%. srr 20''s w/tv ~700-800cc. most current abg on above settings: 7.41/35/121/23/-1. pt continues to require frequent suctioning for thick, white secretions. plan for trach in the or sometime later today.')\n",
        "mimic_context.append('cardiac-> pt is hemodynamically stable. he did receive a single dose of iv hydralazine for a sbp >160 earlier in the shift w/good results. sbp ranging 150-160''s, but he was bolused several times for sbp >180 during his am bath as well. hr 90-100''s, sr/st with no noted ectopy.')\n",
        "mimic_context.append('MEDICAL CONDITION: 57F s/p donor R hepatic lobectomy, with known bile leak & now w fevers, s/p PTC')\n",
        "mimic_context.append('PROCEDURE: CT of the abdomen and pelvis with contrast.')\n",
        "mimic_context.append('INDICATION: Fevers.  Status post right hepatic lobectomy and percutaneous transhepatic catheter placement.')"
      ],
      "metadata": {
        "id": "bjqq2mCWVYPT"
      },
      "execution_count": 32,
      "outputs": []
    },
    {
      "cell_type": "code",
      "source": [
        "for mimic in mimic_context:\n",
        "    doc = nlp(mimic)\n",
        "    print('*****\\n')\n",
        "    print(*[f'> entity: {ent.text}\\ttype: {ent.type}' for ent in doc.ents], sep='\\n')\n",
        "    print('*****\\n')"
      ],
      "metadata": {
        "colab": {
          "base_uri": "https://localhost:8080/"
        },
        "id": "NieaDnxQWjFk",
        "outputId": "4a7c881e-d445-43cd-bff6-4a0196df62e5"
      },
      "execution_count": 33,
      "outputs": [
        {
          "output_type": "stream",
          "name": "stdout",
          "text": [
            "*****\n",
            "\n",
            "> entity: sinus tachycardia\ttype: PROBLEM\n",
            "*****\n",
            "\n",
            "*****\n",
            "\n",
            "> entity: Left axis deviation\ttype: PROBLEM\n",
            "*****\n",
            "\n",
            "*****\n",
            "\n",
            "> entity: Left bundle branch block\ttype: PROBLEM\n",
            "*****\n",
            "\n",
            "*****\n",
            "\n",
            "> entity: previous tracing\ttype: TEST\n",
            "> entity: significant change\ttype: PROBLEM\n",
            "> entity: increased heart rate\ttype: PROBLEM\n",
            "*****\n",
            "\n",
            "*****\n",
            "\n",
            "> entity: intubated\ttype: TREATMENT\n",
            "> entity: vented\ttype: TREATMENT\n",
            "> entity: psv8\ttype: TREATMENT\n",
            "> entity: peep5\ttype: TREATMENT\n",
            "> entity: o2\ttype: TREATMENT\n",
            "> entity: abg\ttype: TEST\n",
            "> entity: frequent suctioning\ttype: TREATMENT\n",
            "> entity: thick, white secretions\ttype: PROBLEM\n",
            "> entity: trach\ttype: TREATMENT\n",
            "*****\n",
            "\n",
            "*****\n",
            "\n",
            "> entity: iv hydralazine\ttype: TREATMENT\n",
            "> entity: a sbp\ttype: TEST\n",
            "> entity: sbp\ttype: TEST\n",
            "> entity: sbp\ttype: TEST\n",
            "> entity: his am bath\ttype: TREATMENT\n",
            "> entity: hr\ttype: TEST\n",
            "> entity: noted ectopy\ttype: PROBLEM\n",
            "*****\n",
            "\n",
            "*****\n",
            "\n",
            "> entity: donor R hepatic lobectomy\ttype: TREATMENT\n",
            "> entity: known bile leak\ttype: PROBLEM\n",
            "> entity: fevers\ttype: PROBLEM\n",
            "> entity: PTC\ttype: TREATMENT\n",
            "*****\n",
            "\n",
            "*****\n",
            "\n",
            "> entity: CT of the abdomen and pelvis with contrast\ttype: TEST\n",
            "*****\n",
            "\n",
            "*****\n",
            "\n",
            "> entity: Fevers\ttype: PROBLEM\n",
            "> entity: right hepatic lobectomy\ttype: TREATMENT\n",
            "> entity: percutaneous transhepatic catheter placement\ttype: TREATMENT\n",
            "*****\n",
            "\n"
          ]
        }
      ]
    },
    {
      "cell_type": "code",
      "source": [
        "for mimic in mimic_context:\n",
        "    doc = nlp(mimic)\n",
        "    print('*****\\n')\n",
        "    print(*[f'> token: {token.text}\\tner: {token.ner}' for sent in doc.sentences for token in sent.tokens], sep='\\n')\n",
        "    print('*****\\n')"
      ],
      "metadata": {
        "colab": {
          "base_uri": "https://localhost:8080/"
        },
        "id": "9Htedw-7XApL",
        "outputId": "37a82070-309a-4c39-b226-6eb016c5ce69"
      },
      "execution_count": 26,
      "outputs": [
        {
          "output_type": "stream",
          "name": "stdout",
          "text": [
            "*****\n",
            "\n",
            "> token: Probable\tner: O\n",
            "> token: sinus\tner: B-PROBLEM\n",
            "> token: tachycardia\tner: E-PROBLEM\n",
            "*****\n",
            "\n",
            "*****\n",
            "\n",
            "> token: Left\tner: B-PROBLEM\n",
            "> token: axis\tner: I-PROBLEM\n",
            "> token: deviation\tner: E-PROBLEM\n",
            "*****\n",
            "\n",
            "*****\n",
            "\n",
            "> token: Left\tner: B-PROBLEM\n",
            "> token: bundle\tner: I-PROBLEM\n",
            "> token: branch\tner: I-PROBLEM\n",
            "> token: block\tner: E-PROBLEM\n",
            "*****\n",
            "\n",
            "*****\n",
            "\n",
            "> token: Since\tner: O\n",
            "> token: previous\tner: B-TEST\n",
            "> token: tracing\tner: E-TEST\n",
            "> token: ,\tner: O\n",
            "> token: no\tner: O\n",
            "> token: significant\tner: B-PROBLEM\n",
            "> token: change\tner: E-PROBLEM\n",
            "> token: except\tner: O\n",
            "> token: for\tner: O\n",
            "> token: increased\tner: B-PROBLEM\n",
            "> token: heart\tner: I-PROBLEM\n",
            "> token: rate\tner: E-PROBLEM\n",
            "*****\n",
            "\n",
            "*****\n",
            "\n",
            "> token: respiratory\tner: O\n",
            "> token: ->\tner: O\n",
            "> token: pt\tner: O\n",
            "> token: remains\tner: O\n",
            "> token: intubated\tner: S-TREATMENT\n",
            "> token: and\tner: O\n",
            "> token: vented\tner: S-TREATMENT\n",
            "> token: on\tner: O\n",
            "> token: psv8\tner: S-TREATMENT\n",
            "> token: /\tner: O\n",
            "> token: peep5\tner: S-TREATMENT\n",
            "> token: and\tner: O\n",
            "> token: o2\tner: S-TREATMENT\n",
            "> token: 35\tner: O\n",
            "> token: %.\tner: O\n",
            "> token: srr\tner: O\n",
            "> token: 20s\tner: O\n",
            "> token: w/tv\tner: O\n",
            "> token: ~700-800cc.\tner: O\n",
            "> token: most\tner: O\n",
            "> token: current\tner: O\n",
            "> token: abg\tner: S-TEST\n",
            "> token: on\tner: O\n",
            "> token: above\tner: O\n",
            "> token: settings\tner: O\n",
            "> token: :\tner: O\n",
            "> token: 7.41/35/121/23/-1\tner: O\n",
            "> token: .\tner: O\n",
            "> token: pt\tner: O\n",
            "> token: continues\tner: O\n",
            "> token: to\tner: O\n",
            "> token: require\tner: O\n",
            "> token: frequent\tner: B-TREATMENT\n",
            "> token: suctioning\tner: E-TREATMENT\n",
            "> token: for\tner: O\n",
            "> token: thick\tner: B-PROBLEM\n",
            "> token: ,\tner: I-PROBLEM\n",
            "> token: white\tner: I-PROBLEM\n",
            "> token: secretions\tner: E-PROBLEM\n",
            "> token: .\tner: O\n",
            "> token: plan\tner: O\n",
            "> token: for\tner: O\n",
            "> token: trach\tner: S-TREATMENT\n",
            "> token: in\tner: O\n",
            "> token: the\tner: O\n",
            "> token: or\tner: O\n",
            "> token: sometime\tner: O\n",
            "> token: later\tner: O\n",
            "> token: today\tner: O\n",
            "> token: .\tner: O\n",
            "*****\n",
            "\n",
            "*****\n",
            "\n",
            "> token: cardiac\tner: O\n",
            "> token: ->\tner: O\n",
            "> token: pt\tner: O\n",
            "> token: is\tner: O\n",
            "> token: hemodynamically\tner: O\n",
            "> token: stable\tner: O\n",
            "> token: .\tner: O\n",
            "> token: he\tner: O\n",
            "> token: did\tner: O\n",
            "> token: receive\tner: O\n",
            "> token: a\tner: O\n",
            "> token: single\tner: O\n",
            "> token: dose\tner: O\n",
            "> token: of\tner: O\n",
            "> token: iv\tner: B-TREATMENT\n",
            "> token: hydralazine\tner: E-TREATMENT\n",
            "> token: for\tner: O\n",
            "> token: a\tner: B-TEST\n",
            "> token: sbp\tner: E-TEST\n",
            "> token: >\tner: O\n",
            "> token: 160\tner: O\n",
            "> token: earlier\tner: O\n",
            "> token: in\tner: O\n",
            "> token: the\tner: O\n",
            "> token: shift\tner: O\n",
            "> token: w/\tner: O\n",
            "> token: good\tner: O\n",
            "> token: results\tner: O\n",
            "> token: .\tner: O\n",
            "> token: sbp\tner: S-TEST\n",
            "> token: ranging\tner: O\n",
            "> token: 150-160s\tner: O\n",
            "> token: ,\tner: O\n",
            "> token: but\tner: O\n",
            "> token: he\tner: O\n",
            "> token: was\tner: O\n",
            "> token: bolused\tner: O\n",
            "> token: several\tner: O\n",
            "> token: times\tner: O\n",
            "> token: for\tner: O\n",
            "> token: sbp\tner: S-TEST\n",
            "> token: >\tner: O\n",
            "> token: 180\tner: O\n",
            "> token: during\tner: O\n",
            "> token: his\tner: B-TREATMENT\n",
            "> token: am\tner: I-TREATMENT\n",
            "> token: bath\tner: E-TREATMENT\n",
            "> token: as\tner: O\n",
            "> token: well\tner: O\n",
            "> token: .\tner: O\n",
            "> token: hr\tner: S-TEST\n",
            "> token: 90-100s\tner: O\n",
            "> token: ,\tner: O\n",
            "> token: sr/st\tner: O\n",
            "> token: with\tner: O\n",
            "> token: no\tner: O\n",
            "> token: noted\tner: B-PROBLEM\n",
            "> token: ectopy\tner: E-PROBLEM\n",
            "> token: .\tner: O\n",
            "*****\n",
            "\n",
            "*****\n",
            "\n",
            "> token: MEDICAL\tner: O\n",
            "> token: CONDITION\tner: O\n",
            "> token: :\tner: O\n",
            "> token: 57F\tner: O\n",
            "> token: s/p\tner: O\n",
            "> token: donor\tner: B-TREATMENT\n",
            "> token: R\tner: I-TREATMENT\n",
            "> token: hepatic\tner: I-TREATMENT\n",
            "> token: lobectomy\tner: E-TREATMENT\n",
            "> token: ,\tner: O\n",
            "> token: with\tner: O\n",
            "> token: known\tner: B-PROBLEM\n",
            "> token: bile\tner: I-PROBLEM\n",
            "> token: leak\tner: E-PROBLEM\n",
            "> token: &\tner: O\n",
            "> token: now\tner: O\n",
            "> token: w\tner: O\n",
            "> token: fevers\tner: S-PROBLEM\n",
            "> token: ,\tner: O\n",
            "> token: s/p\tner: O\n",
            "> token: PTC\tner: S-TREATMENT\n",
            "*****\n",
            "\n",
            "*****\n",
            "\n",
            "> token: PROCEDURE\tner: O\n",
            "> token: :\tner: O\n",
            "> token: CT\tner: B-TEST\n",
            "> token: of\tner: I-TEST\n",
            "> token: the\tner: I-TEST\n",
            "> token: abdomen\tner: I-TEST\n",
            "> token: and\tner: I-TEST\n",
            "> token: pelvis\tner: I-TEST\n",
            "> token: with\tner: I-TEST\n",
            "> token: contrast\tner: E-TEST\n",
            "> token: .\tner: O\n",
            "*****\n",
            "\n",
            "*****\n",
            "\n",
            "> token: INDICATION\tner: O\n",
            "> token: :\tner: O\n",
            "> token: Fevers\tner: S-PROBLEM\n",
            "> token: .\tner: O\n",
            "> token: Status\tner: O\n",
            "> token: post\tner: O\n",
            "> token: right\tner: B-TREATMENT\n",
            "> token: hepatic\tner: I-TREATMENT\n",
            "> token: lobectomy\tner: E-TREATMENT\n",
            "> token: and\tner: O\n",
            "> token: percutaneous\tner: B-TREATMENT\n",
            "> token: transhepatic\tner: I-TREATMENT\n",
            "> token: catheter\tner: I-TREATMENT\n",
            "> token: placement\tner: E-TREATMENT\n",
            "> token: .\tner: O\n",
            "*****\n",
            "\n"
          ]
        }
      ]
    },
    {
      "cell_type": "code",
      "source": [
        "doc = nlp(mimic_context[4])\n",
        "\n",
        "tbl, headers = print_word(doc)\n",
        "print(tabulate(tbl, headers=headers, floatfmt=\".4f\"))"
      ],
      "metadata": {
        "colab": {
          "base_uri": "https://localhost:8080/"
        },
        "id": "Zjm8JsPPrKHI",
        "outputId": "778df8b4-689b-49f5-b1e1-adbb785ed2ce"
      },
      "execution_count": 35,
      "outputs": [
        {
          "output_type": "stream",
          "name": "stdout",
          "text": [
            "word.text          word.lemma         word.pos\n",
            "-----------------  -----------------  ----------\n",
            "respiratory        respiratory        ADJ\n",
            "->                 ->                 PUNCT\n",
            "pt                 pt                 NOUN\n",
            "remains            remain             VERB\n",
            "intubated          intubate           VERB\n",
            "and                and                CCONJ\n",
            "vented             vent               VERB\n",
            "on                 on                 ADP\n",
            "psv8               psv8               NOUN\n",
            "/                  /                  PUNCT\n",
            "peep5              peep5              NOUN\n",
            "and                and                CCONJ\n",
            "o2                 o2                 NOUN\n",
            "35                 35                 NUM\n",
            "%.                 %.                 PUNCT\n",
            "srr                srr                NOUN\n",
            "20s                20                 NOUN\n",
            "w/tv               w/tv               NOUN\n",
            "~700-800cc.        ~700-800cc.        NUM\n",
            "most               most               ADV\n",
            "current            current            ADJ\n",
            "abg                abg                NOUN\n",
            "on                 on                 ADP\n",
            "above              above              ADP\n",
            "settings           setting            NOUN\n",
            ":                  :                  PUNCT\n",
            "7.41/35/121/23/-1  7.41/35/121/23/-1  NUM\n",
            ".                  .                  PUNCT\n",
            "pt                 pt                 PROPN\n",
            "continues          continue           VERB\n",
            "to                 to                 PART\n",
            "require            require            VERB\n",
            "frequent           frequent           ADJ\n",
            "suctioning         suctioning         NOUN\n",
            "for                for                ADP\n",
            "thick              thick              ADJ\n",
            ",                  ,                  PUNCT\n",
            "white              white              ADJ\n",
            "secretions         secretion          NOUN\n",
            ".                  .                  PUNCT\n",
            "plan               plan               VERB\n",
            "for                for                ADP\n",
            "trach              trach              NOUN\n",
            "in                 in                 ADP\n",
            "the                the                DET\n",
            "or                 or                 CCONJ\n",
            "sometime           sometime           ADV\n",
            "later              later              ADV\n",
            "today              today              NOUN\n",
            ".                  .                  PUNCT\n"
          ]
        }
      ]
    },
    {
      "cell_type": "code",
      "source": [
        ""
      ],
      "metadata": {
        "id": "dewwMEP4rX6q"
      },
      "execution_count": null,
      "outputs": []
    }
  ]
}